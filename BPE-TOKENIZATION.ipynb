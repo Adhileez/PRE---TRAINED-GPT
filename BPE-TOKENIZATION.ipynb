{
  "nbformat": 4,
  "nbformat_minor": 0,
  "metadata": {
    "colab": {
      "provenance": [],
      "machine_shape": "hm",
      "gpuType": "T4"
    },
    "kernelspec": {
      "name": "python3",
      "display_name": "Python 3"
    },
    "language_info": {
      "name": "python"
    },
    "accelerator": "GPU"
  },
  "cells": [
    {
      "cell_type": "code",
      "execution_count": null,
      "metadata": {
        "id": "zkLGAsYLhE4Q"
      },
      "outputs": [],
      "source": [
        "# IMPORT 8 LIBRARIES:\n",
        "import urllib.request\n",
        "import torch\n",
        "import torch.nn as nn\n",
        "from collections import Counter, defaultdict\n",
        "import math\n",
        "import re\n",
        "import numpy as np\n",
        "import matplotlib.pyplot as plt"
      ]
    },
    {
      "cell_type": "code",
      "source": [
        "corpus = \"The Wonderful Wizard of Oz is a children's novel written by L. Frank Baum.\""
      ],
      "metadata": {
        "id": "vdPelqCyie1D"
      },
      "execution_count": null,
      "outputs": []
    },
    {
      "cell_type": "code",
      "source": [
        "words = corpus.split()\n",
        "print(words)"
      ],
      "metadata": {
        "colab": {
          "base_uri": "https://localhost:8080/"
        },
        "id": "m6o1TWtZjBmh",
        "outputId": "e8601c76-47af-49d3-f2cb-33c473ef6cbe"
      },
      "execution_count": null,
      "outputs": [
        {
          "output_type": "stream",
          "name": "stdout",
          "text": [
            "['The', 'Wonderful', 'Wizard', 'of', 'Oz', 'is', 'a', \"children's\", 'novel', 'written', 'by', 'L.', 'Frank', 'Baum.']\n"
          ]
        }
      ]
    },
    {
      "cell_type": "code",
      "source": [
        "tokens = []\n",
        "for word in words:\n",
        "    tokens.append(list(word) + ['</w>'])\n",
        "print(tokens)"
      ],
      "metadata": {
        "colab": {
          "base_uri": "https://localhost:8080/"
        },
        "id": "TKeWdpfDjIj6",
        "outputId": "33c72387-1c9e-4a11-a75b-f06408318c77"
      },
      "execution_count": null,
      "outputs": [
        {
          "output_type": "stream",
          "name": "stdout",
          "text": [
            "[['T', 'h', 'e', '</w>'], ['W', 'o', 'n', 'd', 'e', 'r', 'f', 'u', 'l', '</w>'], ['W', 'i', 'z', 'a', 'r', 'd', '</w>'], ['o', 'f', '</w>'], ['O', 'z', '</w>'], ['i', 's', '</w>'], ['a', '</w>'], ['c', 'h', 'i', 'l', 'd', 'r', 'e', 'n', \"'\", 's', '</w>'], ['n', 'o', 'v', 'e', 'l', '</w>'], ['w', 'r', 'i', 't', 't', 'e', 'n', '</w>'], ['b', 'y', '</w>'], ['L', '.', '</w>'], ['F', 'r', 'a', 'n', 'k', '</w>'], ['B', 'a', 'u', 'm', '.', '</w>']]\n"
          ]
        }
      ]
    },
    {
      "cell_type": "code",
      "source": [
        "token_string = []\n",
        "for token in tokens:\n",
        "    token_string.append(' '.join(token))\n",
        "print(token_string)"
      ],
      "metadata": {
        "colab": {
          "base_uri": "https://localhost:8080/"
        },
        "id": "apZiWU8GjrLC",
        "outputId": "bc97bbdb-48d5-495b-be21-b65e4f126b8e"
      },
      "execution_count": null,
      "outputs": [
        {
          "output_type": "stream",
          "name": "stdout",
          "text": [
            "['T h e </w>', 'W o n d e r f u l </w>', 'W i z a r d </w>', 'o f </w>', 'O z </w>', 'i s </w>', 'a </w>', \"c h i l d r e n ' s </w>\", 'n o v e l </w>', 'w r i t t e n </w>', 'b y </w>', 'L . </w>', 'F r a n k </w>', 'B a u m . </w>']\n"
          ]
        }
      ]
    },
    {
      "cell_type": "code",
      "source": [
        "token_count = Counter(token_string)\n",
        "print(token_count)"
      ],
      "metadata": {
        "colab": {
          "base_uri": "https://localhost:8080/"
        },
        "id": "hZubKws3kaDP",
        "outputId": "d0bf5afb-39a3-4a78-d9a7-3ad967cda6a2"
      },
      "execution_count": null,
      "outputs": [
        {
          "output_type": "stream",
          "name": "stdout",
          "text": [
            "Counter({'T h e </w>': 1, 'W o n d e r f u l </w>': 1, 'W i z a r d </w>': 1, 'o f </w>': 1, 'O z </w>': 1, 'i s </w>': 1, 'a </w>': 1, \"c h i l d r e n ' s </w>\": 1, 'n o v e l </w>': 1, 'w r i t t e n </w>': 1, 'b y </w>': 1, 'L . </w>': 1, 'F r a n k </w>': 1, 'B a u m . </w>': 1})\n"
          ]
        }
      ]
    },
    {
      "cell_type": "code",
      "source": [
        "pairs = defaultdict(int)\n",
        "for word,freq in token_count.items():\n",
        "    unique = word.split()\n",
        "    for i in range(len(unique)-1):\n",
        "        pairs[unique[i],unique[i+1]] += freq\n",
        "print(pairs)"
      ],
      "metadata": {
        "colab": {
          "base_uri": "https://localhost:8080/"
        },
        "id": "kHDgHCNgkyQ-",
        "outputId": "416e7970-e731-41e8-e35e-36aa983cfe83"
      },
      "execution_count": null,
      "outputs": [
        {
          "output_type": "stream",
          "name": "stdout",
          "text": [
            "defaultdict(<class 'int'>, {('T', 'h'): 1, ('h', 'e'): 1, ('e', '</w>'): 1, ('W', 'o'): 1, ('o', 'n'): 1, ('n', 'd'): 1, ('d', 'e'): 1, ('e', 'r'): 1, ('r', 'f'): 1, ('f', 'u'): 1, ('u', 'l'): 1, ('l', '</w>'): 2, ('W', 'i'): 1, ('i', 'z'): 1, ('z', 'a'): 1, ('a', 'r'): 1, ('r', 'd'): 1, ('d', '</w>'): 1, ('o', 'f'): 1, ('f', '</w>'): 1, ('O', 'z'): 1, ('z', '</w>'): 1, ('i', 's'): 1, ('s', '</w>'): 2, ('a', '</w>'): 1, ('c', 'h'): 1, ('h', 'i'): 1, ('i', 'l'): 1, ('l', 'd'): 1, ('d', 'r'): 1, ('r', 'e'): 1, ('e', 'n'): 2, ('n', \"'\"): 1, (\"'\", 's'): 1, ('n', 'o'): 1, ('o', 'v'): 1, ('v', 'e'): 1, ('e', 'l'): 1, ('w', 'r'): 1, ('r', 'i'): 1, ('i', 't'): 1, ('t', 't'): 1, ('t', 'e'): 1, ('n', '</w>'): 1, ('b', 'y'): 1, ('y', '</w>'): 1, ('L', '.'): 1, ('.', '</w>'): 2, ('F', 'r'): 1, ('r', 'a'): 1, ('a', 'n'): 1, ('n', 'k'): 1, ('k', '</w>'): 1, ('B', 'a'): 1, ('a', 'u'): 1, ('u', 'm'): 1, ('m', '.'): 1})\n"
          ]
        }
      ]
    },
    {
      "cell_type": "code",
      "source": [
        "vocab_size = 50\n",
        "vocab_len = len(token_count)\n",
        "print(vocab_len)"
      ],
      "metadata": {
        "colab": {
          "base_uri": "https://localhost:8080/"
        },
        "id": "QdNP9gG_oCJK",
        "outputId": "151736cc-74e5-47a1-cea9-c4447a9d9d8e"
      },
      "execution_count": null,
      "outputs": [
        {
          "output_type": "stream",
          "name": "stdout",
          "text": [
            "14\n"
          ]
        }
      ]
    },
    {
      "cell_type": "code",
      "source": [
        "requiredmerges = vocab_size - vocab_len\n",
        "print(requiredmerges)"
      ],
      "metadata": {
        "colab": {
          "base_uri": "https://localhost:8080/"
        },
        "id": "yEGHqC8Jpumq",
        "outputId": "999b1a53-dec9-4895-8278-32ec1a56cda6"
      },
      "execution_count": null,
      "outputs": [
        {
          "output_type": "stream",
          "name": "stdout",
          "text": [
            "36\n"
          ]
        }
      ]
    },
    {
      "cell_type": "code",
      "source": [
        "pair = ('l','</w>')\n",
        "joined_pair = ' '.join(pair)\n",
        "print(joined_pair)"
      ],
      "metadata": {
        "colab": {
          "base_uri": "https://localhost:8080/"
        },
        "id": "jOfLvflht6e1",
        "outputId": "5e1f32f6-c2d1-42ff-84aa-8a00b82495d3"
      },
      "execution_count": null,
      "outputs": [
        {
          "output_type": "stream",
          "name": "stdout",
          "text": [
            "l </w>\n"
          ]
        }
      ]
    },
    {
      "cell_type": "code",
      "source": [
        "bigram = re.escape(joined_pair)\n",
        "print(bigram)"
      ],
      "metadata": {
        "colab": {
          "base_uri": "https://localhost:8080/"
        },
        "id": "fARKLJF3wLK4",
        "outputId": "08a5e184-9653-484e-f776-64aecaa74628"
      },
      "execution_count": null,
      "outputs": [
        {
          "output_type": "stream",
          "name": "stdout",
          "text": [
            "l\\ </w>\n"
          ]
        }
      ]
    },
    {
      "cell_type": "code",
      "source": [
        "p = re.compile(r'(?<!\\S)' + bigram + r'(?!\\S)')\n",
        "print(p)"
      ],
      "metadata": {
        "id": "9pzv7l_Kwdvs",
        "outputId": "3de0bba8-0f66-4ef1-99ac-e8cfd4f49d51",
        "colab": {
          "base_uri": "https://localhost:8080/"
        }
      },
      "execution_count": null,
      "outputs": [
        {
          "output_type": "stream",
          "name": "stdout",
          "text": [
            "re.compile('(?<!\\\\S)l\\\\ </w>(?!\\\\S)')\n"
          ]
        }
      ]
    },
    {
      "cell_type": "code",
      "source": [
        "new_vocab = {}"
      ],
      "metadata": {
        "id": "dKTYh2jNnkVf"
      },
      "execution_count": null,
      "outputs": []
    },
    {
      "cell_type": "code",
      "source": [
        "for word in token_count:\n",
        "    wout = p.sub(''.join(pair),word)\n",
        "    new_vocab[wout] = token_count[word]\n",
        "    print(wout)\n",
        "print(new_vocab)"
      ],
      "metadata": {
        "colab": {
          "base_uri": "https://localhost:8080/"
        },
        "id": "R7Xu5iqqpMCW",
        "outputId": "8e25eba0-a4c5-4831-d98a-391a2add8c89"
      },
      "execution_count": null,
      "outputs": [
        {
          "output_type": "stream",
          "name": "stdout",
          "text": [
            "T h e </w>\n",
            "W o n d e r f u l</w>\n",
            "W i z a r d </w>\n",
            "o f </w>\n",
            "O z </w>\n",
            "i s </w>\n",
            "a </w>\n",
            "c h i l d r e n ' s </w>\n",
            "n o v e l</w>\n",
            "w r i t t e n </w>\n",
            "b y </w>\n",
            "L . </w>\n",
            "F r a n k </w>\n",
            "B a u m . </w>\n",
            "{'T h e </w>': 1, 'W o n d e r f u l</w>': 1, 'W i z a r d </w>': 1, 'o f </w>': 1, 'O z </w>': 1, 'i s </w>': 1, 'a </w>': 1, \"c h i l d r e n ' s </w>\": 1, 'n o v e l</w>': 1, 'w r i t t e n </w>': 1, 'b y </w>': 1, 'L . </w>': 1, 'F r a n k </w>': 1, 'B a u m . </w>': 1}\n"
          ]
        }
      ]
    },
    {
      "cell_type": "code",
      "source": [
        "for i in range(3):\n",
        "    if not pairs:\n",
        "       break\n",
        "    best = max(pairs,key=pairs.get)\n"
      ],
      "metadata": {
        "colab": {
          "base_uri": "https://localhost:8080/"
        },
        "id": "5tWv_fYQp5hP",
        "outputId": "db89c307-907f-463e-9594-84766a8e1403"
      },
      "execution_count": null,
      "outputs": [
        {
          "output_type": "stream",
          "name": "stdout",
          "text": [
            "('l', '</w>')\n",
            "('l', '</w>')\n",
            "('l', '</w>')\n",
            "('l', '</w>')\n",
            "('l', '</w>')\n",
            "('l', '</w>')\n",
            "('l', '</w>')\n",
            "('l', '</w>')\n",
            "('l', '</w>')\n",
            "('l', '</w>')\n",
            "('l', '</w>')\n",
            "('l', '</w>')\n",
            "('l', '</w>')\n",
            "('l', '</w>')\n",
            "('l', '</w>')\n",
            "('l', '</w>')\n",
            "('l', '</w>')\n",
            "('l', '</w>')\n",
            "('l', '</w>')\n",
            "('l', '</w>')\n",
            "('l', '</w>')\n",
            "('l', '</w>')\n",
            "('l', '</w>')\n",
            "('l', '</w>')\n",
            "('l', '</w>')\n",
            "('l', '</w>')\n",
            "('l', '</w>')\n",
            "('l', '</w>')\n",
            "('l', '</w>')\n",
            "('l', '</w>')\n",
            "('l', '</w>')\n",
            "('l', '</w>')\n",
            "('l', '</w>')\n",
            "('l', '</w>')\n",
            "('l', '</w>')\n",
            "('l', '</w>')\n"
          ]
        }
      ]
    },
    {
      "cell_type": "code",
      "source": [
        "# function for creating pairs:\n",
        "def create_pairs(token_count):\n",
        "    pairs1 = defaultdict(int)\n",
        "    for word,freq in token_count.items():\n",
        "        symbol = word.split()\n",
        "        for i in range(len(symbol)-1):\n",
        "            pairs1[symbol[i],symbol[i+1]] += freq\n",
        "    return pairs1"
      ],
      "metadata": {
        "id": "KRxcj7RJoZrn"
      },
      "execution_count": null,
      "outputs": []
    },
    {
      "cell_type": "code",
      "source": [
        "# function to merge pairs and update new_vocabulary:\n",
        "def merge_pairs(pair1,token_count):\n",
        "    bigram = re.escape(' '.join(pair1))\n",
        "    p = re.compile(r'(?<!\\S)' + bigram + r'(?!\\S)')\n",
        "    new_vocab = {}\n",
        "    for word in token_count:\n",
        "        wout = p.sub(''.join(pair1),word)\n",
        "        new_vocab[wout] = token_count[word]\n",
        "    return new_vocab"
      ],
      "metadata": {
        "id": "5EKAsgxtHpoo"
      },
      "execution_count": null,
      "outputs": []
    },
    {
      "cell_type": "code",
      "source": [
        "# now fill the byte pair encoding and bpe reverse dictionaries for reference to encode corpus:\n",
        "bpe_codes = {}\n",
        "bpe_codes_reverse = {}\n",
        "def fit_bpe(token_count):\n",
        "    for i in range(36):\n",
        "        pairing = create_pairs(token_count)\n",
        "        if not pairing:\n",
        "           break\n",
        "        best1 = max(pairing,key=pairing.get)\n",
        "        token_count = merge_pairs(best1,token_count)\n",
        "        bpe_codes[best1] = i\n",
        "        bpe_codes_reverse[''.join(best1)] = best1\n",
        "        print(\"pairing:\",pairing)\n",
        "        print(\"best1:\",best1)\n",
        "        print(\"token_count:\",token_count)\n",
        "        print(\"bpe_codes:\",bpe_codes)\n",
        "        print(\"bpe_codes_reverse:\",bpe_codes_reverse)\n",
        "    return token_count, bpe_codes, bpe_codes_reverse"
      ],
      "metadata": {
        "id": "sKDJmwv2IEhh"
      },
      "execution_count": null,
      "outputs": []
    },
    {
      "cell_type": "code",
      "source": [
        "bpe_fit = fit_bpe(token_count)"
      ],
      "metadata": {
        "colab": {
          "base_uri": "https://localhost:8080/"
        },
        "id": "uU2iqnHGK9LB",
        "outputId": "e41b2952-1ace-46c2-940d-97403f785ad0"
      },
      "execution_count": null,
      "outputs": [
        {
          "output_type": "stream",
          "name": "stdout",
          "text": [
            "pairing: defaultdict(<class 'int'>, {('T', 'h'): 1, ('h', 'e'): 1, ('e', '</w>'): 1, ('W', 'o'): 1, ('o', 'n'): 1, ('n', 'd'): 1, ('d', 'e'): 1, ('e', 'r'): 1, ('r', 'f'): 1, ('f', 'u'): 1, ('u', 'l'): 1, ('l', '</w>'): 2, ('W', 'i'): 1, ('i', 'z'): 1, ('z', 'a'): 1, ('a', 'r'): 1, ('r', 'd'): 1, ('d', '</w>'): 1, ('o', 'f'): 1, ('f', '</w>'): 1, ('O', 'z'): 1, ('z', '</w>'): 1, ('i', 's'): 1, ('s', '</w>'): 2, ('a', '</w>'): 1, ('c', 'h'): 1, ('h', 'i'): 1, ('i', 'l'): 1, ('l', 'd'): 1, ('d', 'r'): 1, ('r', 'e'): 1, ('e', 'n'): 2, ('n', \"'\"): 1, (\"'\", 's'): 1, ('n', 'o'): 1, ('o', 'v'): 1, ('v', 'e'): 1, ('e', 'l'): 1, ('w', 'r'): 1, ('r', 'i'): 1, ('i', 't'): 1, ('t', 't'): 1, ('t', 'e'): 1, ('n', '</w>'): 1, ('b', 'y'): 1, ('y', '</w>'): 1, ('L', '.'): 1, ('.', '</w>'): 2, ('F', 'r'): 1, ('r', 'a'): 1, ('a', 'n'): 1, ('n', 'k'): 1, ('k', '</w>'): 1, ('B', 'a'): 1, ('a', 'u'): 1, ('u', 'm'): 1, ('m', '.'): 1})\n",
            "best1: ('l', '</w>')\n",
            "token_count: {'T h e </w>': 1, 'W o n d e r f u l</w>': 1, 'W i z a r d </w>': 1, 'o f </w>': 1, 'O z </w>': 1, 'i s </w>': 1, 'a </w>': 1, \"c h i l d r e n ' s </w>\": 1, 'n o v e l</w>': 1, 'w r i t t e n </w>': 1, 'b y </w>': 1, 'L . </w>': 1, 'F r a n k </w>': 1, 'B a u m . </w>': 1}\n",
            "bpe_codes: {('l', '</w>'): 0}\n",
            "bpe_codes_reverse: {'l</w>': ('l', '</w>')}\n",
            "pairing: defaultdict(<class 'int'>, {('T', 'h'): 1, ('h', 'e'): 1, ('e', '</w>'): 1, ('W', 'o'): 1, ('o', 'n'): 1, ('n', 'd'): 1, ('d', 'e'): 1, ('e', 'r'): 1, ('r', 'f'): 1, ('f', 'u'): 1, ('u', 'l</w>'): 1, ('W', 'i'): 1, ('i', 'z'): 1, ('z', 'a'): 1, ('a', 'r'): 1, ('r', 'd'): 1, ('d', '</w>'): 1, ('o', 'f'): 1, ('f', '</w>'): 1, ('O', 'z'): 1, ('z', '</w>'): 1, ('i', 's'): 1, ('s', '</w>'): 2, ('a', '</w>'): 1, ('c', 'h'): 1, ('h', 'i'): 1, ('i', 'l'): 1, ('l', 'd'): 1, ('d', 'r'): 1, ('r', 'e'): 1, ('e', 'n'): 2, ('n', \"'\"): 1, (\"'\", 's'): 1, ('n', 'o'): 1, ('o', 'v'): 1, ('v', 'e'): 1, ('e', 'l</w>'): 1, ('w', 'r'): 1, ('r', 'i'): 1, ('i', 't'): 1, ('t', 't'): 1, ('t', 'e'): 1, ('n', '</w>'): 1, ('b', 'y'): 1, ('y', '</w>'): 1, ('L', '.'): 1, ('.', '</w>'): 2, ('F', 'r'): 1, ('r', 'a'): 1, ('a', 'n'): 1, ('n', 'k'): 1, ('k', '</w>'): 1, ('B', 'a'): 1, ('a', 'u'): 1, ('u', 'm'): 1, ('m', '.'): 1})\n",
            "best1: ('s', '</w>')\n",
            "token_count: {'T h e </w>': 1, 'W o n d e r f u l</w>': 1, 'W i z a r d </w>': 1, 'o f </w>': 1, 'O z </w>': 1, 'i s</w>': 1, 'a </w>': 1, \"c h i l d r e n ' s</w>\": 1, 'n o v e l</w>': 1, 'w r i t t e n </w>': 1, 'b y </w>': 1, 'L . </w>': 1, 'F r a n k </w>': 1, 'B a u m . </w>': 1}\n",
            "bpe_codes: {('l', '</w>'): 0, ('s', '</w>'): 1}\n",
            "bpe_codes_reverse: {'l</w>': ('l', '</w>'), 's</w>': ('s', '</w>')}\n",
            "pairing: defaultdict(<class 'int'>, {('T', 'h'): 1, ('h', 'e'): 1, ('e', '</w>'): 1, ('W', 'o'): 1, ('o', 'n'): 1, ('n', 'd'): 1, ('d', 'e'): 1, ('e', 'r'): 1, ('r', 'f'): 1, ('f', 'u'): 1, ('u', 'l</w>'): 1, ('W', 'i'): 1, ('i', 'z'): 1, ('z', 'a'): 1, ('a', 'r'): 1, ('r', 'd'): 1, ('d', '</w>'): 1, ('o', 'f'): 1, ('f', '</w>'): 1, ('O', 'z'): 1, ('z', '</w>'): 1, ('i', 's</w>'): 1, ('a', '</w>'): 1, ('c', 'h'): 1, ('h', 'i'): 1, ('i', 'l'): 1, ('l', 'd'): 1, ('d', 'r'): 1, ('r', 'e'): 1, ('e', 'n'): 2, ('n', \"'\"): 1, (\"'\", 's</w>'): 1, ('n', 'o'): 1, ('o', 'v'): 1, ('v', 'e'): 1, ('e', 'l</w>'): 1, ('w', 'r'): 1, ('r', 'i'): 1, ('i', 't'): 1, ('t', 't'): 1, ('t', 'e'): 1, ('n', '</w>'): 1, ('b', 'y'): 1, ('y', '</w>'): 1, ('L', '.'): 1, ('.', '</w>'): 2, ('F', 'r'): 1, ('r', 'a'): 1, ('a', 'n'): 1, ('n', 'k'): 1, ('k', '</w>'): 1, ('B', 'a'): 1, ('a', 'u'): 1, ('u', 'm'): 1, ('m', '.'): 1})\n",
            "best1: ('e', 'n')\n",
            "token_count: {'T h e </w>': 1, 'W o n d e r f u l</w>': 1, 'W i z a r d </w>': 1, 'o f </w>': 1, 'O z </w>': 1, 'i s</w>': 1, 'a </w>': 1, \"c h i l d r en ' s</w>\": 1, 'n o v e l</w>': 1, 'w r i t t en </w>': 1, 'b y </w>': 1, 'L . </w>': 1, 'F r a n k </w>': 1, 'B a u m . </w>': 1}\n",
            "bpe_codes: {('l', '</w>'): 0, ('s', '</w>'): 1, ('e', 'n'): 2}\n",
            "bpe_codes_reverse: {'l</w>': ('l', '</w>'), 's</w>': ('s', '</w>'), 'en': ('e', 'n')}\n",
            "pairing: defaultdict(<class 'int'>, {('T', 'h'): 1, ('h', 'e'): 1, ('e', '</w>'): 1, ('W', 'o'): 1, ('o', 'n'): 1, ('n', 'd'): 1, ('d', 'e'): 1, ('e', 'r'): 1, ('r', 'f'): 1, ('f', 'u'): 1, ('u', 'l</w>'): 1, ('W', 'i'): 1, ('i', 'z'): 1, ('z', 'a'): 1, ('a', 'r'): 1, ('r', 'd'): 1, ('d', '</w>'): 1, ('o', 'f'): 1, ('f', '</w>'): 1, ('O', 'z'): 1, ('z', '</w>'): 1, ('i', 's</w>'): 1, ('a', '</w>'): 1, ('c', 'h'): 1, ('h', 'i'): 1, ('i', 'l'): 1, ('l', 'd'): 1, ('d', 'r'): 1, ('r', 'en'): 1, ('en', \"'\"): 1, (\"'\", 's</w>'): 1, ('n', 'o'): 1, ('o', 'v'): 1, ('v', 'e'): 1, ('e', 'l</w>'): 1, ('w', 'r'): 1, ('r', 'i'): 1, ('i', 't'): 1, ('t', 't'): 1, ('t', 'en'): 1, ('en', '</w>'): 1, ('b', 'y'): 1, ('y', '</w>'): 1, ('L', '.'): 1, ('.', '</w>'): 2, ('F', 'r'): 1, ('r', 'a'): 1, ('a', 'n'): 1, ('n', 'k'): 1, ('k', '</w>'): 1, ('B', 'a'): 1, ('a', 'u'): 1, ('u', 'm'): 1, ('m', '.'): 1})\n",
            "best1: ('.', '</w>')\n",
            "token_count: {'T h e </w>': 1, 'W o n d e r f u l</w>': 1, 'W i z a r d </w>': 1, 'o f </w>': 1, 'O z </w>': 1, 'i s</w>': 1, 'a </w>': 1, \"c h i l d r en ' s</w>\": 1, 'n o v e l</w>': 1, 'w r i t t en </w>': 1, 'b y </w>': 1, 'L .</w>': 1, 'F r a n k </w>': 1, 'B a u m .</w>': 1}\n",
            "bpe_codes: {('l', '</w>'): 0, ('s', '</w>'): 1, ('e', 'n'): 2, ('.', '</w>'): 3}\n",
            "bpe_codes_reverse: {'l</w>': ('l', '</w>'), 's</w>': ('s', '</w>'), 'en': ('e', 'n'), '.</w>': ('.', '</w>')}\n",
            "pairing: defaultdict(<class 'int'>, {('T', 'h'): 1, ('h', 'e'): 1, ('e', '</w>'): 1, ('W', 'o'): 1, ('o', 'n'): 1, ('n', 'd'): 1, ('d', 'e'): 1, ('e', 'r'): 1, ('r', 'f'): 1, ('f', 'u'): 1, ('u', 'l</w>'): 1, ('W', 'i'): 1, ('i', 'z'): 1, ('z', 'a'): 1, ('a', 'r'): 1, ('r', 'd'): 1, ('d', '</w>'): 1, ('o', 'f'): 1, ('f', '</w>'): 1, ('O', 'z'): 1, ('z', '</w>'): 1, ('i', 's</w>'): 1, ('a', '</w>'): 1, ('c', 'h'): 1, ('h', 'i'): 1, ('i', 'l'): 1, ('l', 'd'): 1, ('d', 'r'): 1, ('r', 'en'): 1, ('en', \"'\"): 1, (\"'\", 's</w>'): 1, ('n', 'o'): 1, ('o', 'v'): 1, ('v', 'e'): 1, ('e', 'l</w>'): 1, ('w', 'r'): 1, ('r', 'i'): 1, ('i', 't'): 1, ('t', 't'): 1, ('t', 'en'): 1, ('en', '</w>'): 1, ('b', 'y'): 1, ('y', '</w>'): 1, ('L', '.</w>'): 1, ('F', 'r'): 1, ('r', 'a'): 1, ('a', 'n'): 1, ('n', 'k'): 1, ('k', '</w>'): 1, ('B', 'a'): 1, ('a', 'u'): 1, ('u', 'm'): 1, ('m', '.</w>'): 1})\n",
            "best1: ('T', 'h')\n",
            "token_count: {'Th e </w>': 1, 'W o n d e r f u l</w>': 1, 'W i z a r d </w>': 1, 'o f </w>': 1, 'O z </w>': 1, 'i s</w>': 1, 'a </w>': 1, \"c h i l d r en ' s</w>\": 1, 'n o v e l</w>': 1, 'w r i t t en </w>': 1, 'b y </w>': 1, 'L .</w>': 1, 'F r a n k </w>': 1, 'B a u m .</w>': 1}\n",
            "bpe_codes: {('l', '</w>'): 0, ('s', '</w>'): 1, ('e', 'n'): 2, ('.', '</w>'): 3, ('T', 'h'): 4}\n",
            "bpe_codes_reverse: {'l</w>': ('l', '</w>'), 's</w>': ('s', '</w>'), 'en': ('e', 'n'), '.</w>': ('.', '</w>'), 'Th': ('T', 'h')}\n",
            "pairing: defaultdict(<class 'int'>, {('Th', 'e'): 1, ('e', '</w>'): 1, ('W', 'o'): 1, ('o', 'n'): 1, ('n', 'd'): 1, ('d', 'e'): 1, ('e', 'r'): 1, ('r', 'f'): 1, ('f', 'u'): 1, ('u', 'l</w>'): 1, ('W', 'i'): 1, ('i', 'z'): 1, ('z', 'a'): 1, ('a', 'r'): 1, ('r', 'd'): 1, ('d', '</w>'): 1, ('o', 'f'): 1, ('f', '</w>'): 1, ('O', 'z'): 1, ('z', '</w>'): 1, ('i', 's</w>'): 1, ('a', '</w>'): 1, ('c', 'h'): 1, ('h', 'i'): 1, ('i', 'l'): 1, ('l', 'd'): 1, ('d', 'r'): 1, ('r', 'en'): 1, ('en', \"'\"): 1, (\"'\", 's</w>'): 1, ('n', 'o'): 1, ('o', 'v'): 1, ('v', 'e'): 1, ('e', 'l</w>'): 1, ('w', 'r'): 1, ('r', 'i'): 1, ('i', 't'): 1, ('t', 't'): 1, ('t', 'en'): 1, ('en', '</w>'): 1, ('b', 'y'): 1, ('y', '</w>'): 1, ('L', '.</w>'): 1, ('F', 'r'): 1, ('r', 'a'): 1, ('a', 'n'): 1, ('n', 'k'): 1, ('k', '</w>'): 1, ('B', 'a'): 1, ('a', 'u'): 1, ('u', 'm'): 1, ('m', '.</w>'): 1})\n",
            "best1: ('Th', 'e')\n",
            "token_count: {'The </w>': 1, 'W o n d e r f u l</w>': 1, 'W i z a r d </w>': 1, 'o f </w>': 1, 'O z </w>': 1, 'i s</w>': 1, 'a </w>': 1, \"c h i l d r en ' s</w>\": 1, 'n o v e l</w>': 1, 'w r i t t en </w>': 1, 'b y </w>': 1, 'L .</w>': 1, 'F r a n k </w>': 1, 'B a u m .</w>': 1}\n",
            "bpe_codes: {('l', '</w>'): 0, ('s', '</w>'): 1, ('e', 'n'): 2, ('.', '</w>'): 3, ('T', 'h'): 4, ('Th', 'e'): 5}\n",
            "bpe_codes_reverse: {'l</w>': ('l', '</w>'), 's</w>': ('s', '</w>'), 'en': ('e', 'n'), '.</w>': ('.', '</w>'), 'Th': ('T', 'h'), 'The': ('Th', 'e')}\n",
            "pairing: defaultdict(<class 'int'>, {('The', '</w>'): 1, ('W', 'o'): 1, ('o', 'n'): 1, ('n', 'd'): 1, ('d', 'e'): 1, ('e', 'r'): 1, ('r', 'f'): 1, ('f', 'u'): 1, ('u', 'l</w>'): 1, ('W', 'i'): 1, ('i', 'z'): 1, ('z', 'a'): 1, ('a', 'r'): 1, ('r', 'd'): 1, ('d', '</w>'): 1, ('o', 'f'): 1, ('f', '</w>'): 1, ('O', 'z'): 1, ('z', '</w>'): 1, ('i', 's</w>'): 1, ('a', '</w>'): 1, ('c', 'h'): 1, ('h', 'i'): 1, ('i', 'l'): 1, ('l', 'd'): 1, ('d', 'r'): 1, ('r', 'en'): 1, ('en', \"'\"): 1, (\"'\", 's</w>'): 1, ('n', 'o'): 1, ('o', 'v'): 1, ('v', 'e'): 1, ('e', 'l</w>'): 1, ('w', 'r'): 1, ('r', 'i'): 1, ('i', 't'): 1, ('t', 't'): 1, ('t', 'en'): 1, ('en', '</w>'): 1, ('b', 'y'): 1, ('y', '</w>'): 1, ('L', '.</w>'): 1, ('F', 'r'): 1, ('r', 'a'): 1, ('a', 'n'): 1, ('n', 'k'): 1, ('k', '</w>'): 1, ('B', 'a'): 1, ('a', 'u'): 1, ('u', 'm'): 1, ('m', '.</w>'): 1})\n",
            "best1: ('The', '</w>')\n",
            "token_count: {'The</w>': 1, 'W o n d e r f u l</w>': 1, 'W i z a r d </w>': 1, 'o f </w>': 1, 'O z </w>': 1, 'i s</w>': 1, 'a </w>': 1, \"c h i l d r en ' s</w>\": 1, 'n o v e l</w>': 1, 'w r i t t en </w>': 1, 'b y </w>': 1, 'L .</w>': 1, 'F r a n k </w>': 1, 'B a u m .</w>': 1}\n",
            "bpe_codes: {('l', '</w>'): 0, ('s', '</w>'): 1, ('e', 'n'): 2, ('.', '</w>'): 3, ('T', 'h'): 4, ('Th', 'e'): 5, ('The', '</w>'): 6}\n",
            "bpe_codes_reverse: {'l</w>': ('l', '</w>'), 's</w>': ('s', '</w>'), 'en': ('e', 'n'), '.</w>': ('.', '</w>'), 'Th': ('T', 'h'), 'The': ('Th', 'e'), 'The</w>': ('The', '</w>')}\n",
            "pairing: defaultdict(<class 'int'>, {('W', 'o'): 1, ('o', 'n'): 1, ('n', 'd'): 1, ('d', 'e'): 1, ('e', 'r'): 1, ('r', 'f'): 1, ('f', 'u'): 1, ('u', 'l</w>'): 1, ('W', 'i'): 1, ('i', 'z'): 1, ('z', 'a'): 1, ('a', 'r'): 1, ('r', 'd'): 1, ('d', '</w>'): 1, ('o', 'f'): 1, ('f', '</w>'): 1, ('O', 'z'): 1, ('z', '</w>'): 1, ('i', 's</w>'): 1, ('a', '</w>'): 1, ('c', 'h'): 1, ('h', 'i'): 1, ('i', 'l'): 1, ('l', 'd'): 1, ('d', 'r'): 1, ('r', 'en'): 1, ('en', \"'\"): 1, (\"'\", 's</w>'): 1, ('n', 'o'): 1, ('o', 'v'): 1, ('v', 'e'): 1, ('e', 'l</w>'): 1, ('w', 'r'): 1, ('r', 'i'): 1, ('i', 't'): 1, ('t', 't'): 1, ('t', 'en'): 1, ('en', '</w>'): 1, ('b', 'y'): 1, ('y', '</w>'): 1, ('L', '.</w>'): 1, ('F', 'r'): 1, ('r', 'a'): 1, ('a', 'n'): 1, ('n', 'k'): 1, ('k', '</w>'): 1, ('B', 'a'): 1, ('a', 'u'): 1, ('u', 'm'): 1, ('m', '.</w>'): 1})\n",
            "best1: ('W', 'o')\n",
            "token_count: {'The</w>': 1, 'Wo n d e r f u l</w>': 1, 'W i z a r d </w>': 1, 'o f </w>': 1, 'O z </w>': 1, 'i s</w>': 1, 'a </w>': 1, \"c h i l d r en ' s</w>\": 1, 'n o v e l</w>': 1, 'w r i t t en </w>': 1, 'b y </w>': 1, 'L .</w>': 1, 'F r a n k </w>': 1, 'B a u m .</w>': 1}\n",
            "bpe_codes: {('l', '</w>'): 0, ('s', '</w>'): 1, ('e', 'n'): 2, ('.', '</w>'): 3, ('T', 'h'): 4, ('Th', 'e'): 5, ('The', '</w>'): 6, ('W', 'o'): 7}\n",
            "bpe_codes_reverse: {'l</w>': ('l', '</w>'), 's</w>': ('s', '</w>'), 'en': ('e', 'n'), '.</w>': ('.', '</w>'), 'Th': ('T', 'h'), 'The': ('Th', 'e'), 'The</w>': ('The', '</w>'), 'Wo': ('W', 'o')}\n",
            "pairing: defaultdict(<class 'int'>, {('Wo', 'n'): 1, ('n', 'd'): 1, ('d', 'e'): 1, ('e', 'r'): 1, ('r', 'f'): 1, ('f', 'u'): 1, ('u', 'l</w>'): 1, ('W', 'i'): 1, ('i', 'z'): 1, ('z', 'a'): 1, ('a', 'r'): 1, ('r', 'd'): 1, ('d', '</w>'): 1, ('o', 'f'): 1, ('f', '</w>'): 1, ('O', 'z'): 1, ('z', '</w>'): 1, ('i', 's</w>'): 1, ('a', '</w>'): 1, ('c', 'h'): 1, ('h', 'i'): 1, ('i', 'l'): 1, ('l', 'd'): 1, ('d', 'r'): 1, ('r', 'en'): 1, ('en', \"'\"): 1, (\"'\", 's</w>'): 1, ('n', 'o'): 1, ('o', 'v'): 1, ('v', 'e'): 1, ('e', 'l</w>'): 1, ('w', 'r'): 1, ('r', 'i'): 1, ('i', 't'): 1, ('t', 't'): 1, ('t', 'en'): 1, ('en', '</w>'): 1, ('b', 'y'): 1, ('y', '</w>'): 1, ('L', '.</w>'): 1, ('F', 'r'): 1, ('r', 'a'): 1, ('a', 'n'): 1, ('n', 'k'): 1, ('k', '</w>'): 1, ('B', 'a'): 1, ('a', 'u'): 1, ('u', 'm'): 1, ('m', '.</w>'): 1})\n",
            "best1: ('Wo', 'n')\n",
            "token_count: {'The</w>': 1, 'Won d e r f u l</w>': 1, 'W i z a r d </w>': 1, 'o f </w>': 1, 'O z </w>': 1, 'i s</w>': 1, 'a </w>': 1, \"c h i l d r en ' s</w>\": 1, 'n o v e l</w>': 1, 'w r i t t en </w>': 1, 'b y </w>': 1, 'L .</w>': 1, 'F r a n k </w>': 1, 'B a u m .</w>': 1}\n",
            "bpe_codes: {('l', '</w>'): 0, ('s', '</w>'): 1, ('e', 'n'): 2, ('.', '</w>'): 3, ('T', 'h'): 4, ('Th', 'e'): 5, ('The', '</w>'): 6, ('W', 'o'): 7, ('Wo', 'n'): 8}\n",
            "bpe_codes_reverse: {'l</w>': ('l', '</w>'), 's</w>': ('s', '</w>'), 'en': ('e', 'n'), '.</w>': ('.', '</w>'), 'Th': ('T', 'h'), 'The': ('Th', 'e'), 'The</w>': ('The', '</w>'), 'Wo': ('W', 'o'), 'Won': ('Wo', 'n')}\n",
            "pairing: defaultdict(<class 'int'>, {('Won', 'd'): 1, ('d', 'e'): 1, ('e', 'r'): 1, ('r', 'f'): 1, ('f', 'u'): 1, ('u', 'l</w>'): 1, ('W', 'i'): 1, ('i', 'z'): 1, ('z', 'a'): 1, ('a', 'r'): 1, ('r', 'd'): 1, ('d', '</w>'): 1, ('o', 'f'): 1, ('f', '</w>'): 1, ('O', 'z'): 1, ('z', '</w>'): 1, ('i', 's</w>'): 1, ('a', '</w>'): 1, ('c', 'h'): 1, ('h', 'i'): 1, ('i', 'l'): 1, ('l', 'd'): 1, ('d', 'r'): 1, ('r', 'en'): 1, ('en', \"'\"): 1, (\"'\", 's</w>'): 1, ('n', 'o'): 1, ('o', 'v'): 1, ('v', 'e'): 1, ('e', 'l</w>'): 1, ('w', 'r'): 1, ('r', 'i'): 1, ('i', 't'): 1, ('t', 't'): 1, ('t', 'en'): 1, ('en', '</w>'): 1, ('b', 'y'): 1, ('y', '</w>'): 1, ('L', '.</w>'): 1, ('F', 'r'): 1, ('r', 'a'): 1, ('a', 'n'): 1, ('n', 'k'): 1, ('k', '</w>'): 1, ('B', 'a'): 1, ('a', 'u'): 1, ('u', 'm'): 1, ('m', '.</w>'): 1})\n",
            "best1: ('Won', 'd')\n",
            "token_count: {'The</w>': 1, 'Wond e r f u l</w>': 1, 'W i z a r d </w>': 1, 'o f </w>': 1, 'O z </w>': 1, 'i s</w>': 1, 'a </w>': 1, \"c h i l d r en ' s</w>\": 1, 'n o v e l</w>': 1, 'w r i t t en </w>': 1, 'b y </w>': 1, 'L .</w>': 1, 'F r a n k </w>': 1, 'B a u m .</w>': 1}\n",
            "bpe_codes: {('l', '</w>'): 0, ('s', '</w>'): 1, ('e', 'n'): 2, ('.', '</w>'): 3, ('T', 'h'): 4, ('Th', 'e'): 5, ('The', '</w>'): 6, ('W', 'o'): 7, ('Wo', 'n'): 8, ('Won', 'd'): 9}\n",
            "bpe_codes_reverse: {'l</w>': ('l', '</w>'), 's</w>': ('s', '</w>'), 'en': ('e', 'n'), '.</w>': ('.', '</w>'), 'Th': ('T', 'h'), 'The': ('Th', 'e'), 'The</w>': ('The', '</w>'), 'Wo': ('W', 'o'), 'Won': ('Wo', 'n'), 'Wond': ('Won', 'd')}\n",
            "pairing: defaultdict(<class 'int'>, {('Wond', 'e'): 1, ('e', 'r'): 1, ('r', 'f'): 1, ('f', 'u'): 1, ('u', 'l</w>'): 1, ('W', 'i'): 1, ('i', 'z'): 1, ('z', 'a'): 1, ('a', 'r'): 1, ('r', 'd'): 1, ('d', '</w>'): 1, ('o', 'f'): 1, ('f', '</w>'): 1, ('O', 'z'): 1, ('z', '</w>'): 1, ('i', 's</w>'): 1, ('a', '</w>'): 1, ('c', 'h'): 1, ('h', 'i'): 1, ('i', 'l'): 1, ('l', 'd'): 1, ('d', 'r'): 1, ('r', 'en'): 1, ('en', \"'\"): 1, (\"'\", 's</w>'): 1, ('n', 'o'): 1, ('o', 'v'): 1, ('v', 'e'): 1, ('e', 'l</w>'): 1, ('w', 'r'): 1, ('r', 'i'): 1, ('i', 't'): 1, ('t', 't'): 1, ('t', 'en'): 1, ('en', '</w>'): 1, ('b', 'y'): 1, ('y', '</w>'): 1, ('L', '.</w>'): 1, ('F', 'r'): 1, ('r', 'a'): 1, ('a', 'n'): 1, ('n', 'k'): 1, ('k', '</w>'): 1, ('B', 'a'): 1, ('a', 'u'): 1, ('u', 'm'): 1, ('m', '.</w>'): 1})\n",
            "best1: ('Wond', 'e')\n",
            "token_count: {'The</w>': 1, 'Wonde r f u l</w>': 1, 'W i z a r d </w>': 1, 'o f </w>': 1, 'O z </w>': 1, 'i s</w>': 1, 'a </w>': 1, \"c h i l d r en ' s</w>\": 1, 'n o v e l</w>': 1, 'w r i t t en </w>': 1, 'b y </w>': 1, 'L .</w>': 1, 'F r a n k </w>': 1, 'B a u m .</w>': 1}\n",
            "bpe_codes: {('l', '</w>'): 0, ('s', '</w>'): 1, ('e', 'n'): 2, ('.', '</w>'): 3, ('T', 'h'): 4, ('Th', 'e'): 5, ('The', '</w>'): 6, ('W', 'o'): 7, ('Wo', 'n'): 8, ('Won', 'd'): 9, ('Wond', 'e'): 10}\n",
            "bpe_codes_reverse: {'l</w>': ('l', '</w>'), 's</w>': ('s', '</w>'), 'en': ('e', 'n'), '.</w>': ('.', '</w>'), 'Th': ('T', 'h'), 'The': ('Th', 'e'), 'The</w>': ('The', '</w>'), 'Wo': ('W', 'o'), 'Won': ('Wo', 'n'), 'Wond': ('Won', 'd'), 'Wonde': ('Wond', 'e')}\n",
            "pairing: defaultdict(<class 'int'>, {('Wonde', 'r'): 1, ('r', 'f'): 1, ('f', 'u'): 1, ('u', 'l</w>'): 1, ('W', 'i'): 1, ('i', 'z'): 1, ('z', 'a'): 1, ('a', 'r'): 1, ('r', 'd'): 1, ('d', '</w>'): 1, ('o', 'f'): 1, ('f', '</w>'): 1, ('O', 'z'): 1, ('z', '</w>'): 1, ('i', 's</w>'): 1, ('a', '</w>'): 1, ('c', 'h'): 1, ('h', 'i'): 1, ('i', 'l'): 1, ('l', 'd'): 1, ('d', 'r'): 1, ('r', 'en'): 1, ('en', \"'\"): 1, (\"'\", 's</w>'): 1, ('n', 'o'): 1, ('o', 'v'): 1, ('v', 'e'): 1, ('e', 'l</w>'): 1, ('w', 'r'): 1, ('r', 'i'): 1, ('i', 't'): 1, ('t', 't'): 1, ('t', 'en'): 1, ('en', '</w>'): 1, ('b', 'y'): 1, ('y', '</w>'): 1, ('L', '.</w>'): 1, ('F', 'r'): 1, ('r', 'a'): 1, ('a', 'n'): 1, ('n', 'k'): 1, ('k', '</w>'): 1, ('B', 'a'): 1, ('a', 'u'): 1, ('u', 'm'): 1, ('m', '.</w>'): 1})\n",
            "best1: ('Wonde', 'r')\n",
            "token_count: {'The</w>': 1, 'Wonder f u l</w>': 1, 'W i z a r d </w>': 1, 'o f </w>': 1, 'O z </w>': 1, 'i s</w>': 1, 'a </w>': 1, \"c h i l d r en ' s</w>\": 1, 'n o v e l</w>': 1, 'w r i t t en </w>': 1, 'b y </w>': 1, 'L .</w>': 1, 'F r a n k </w>': 1, 'B a u m .</w>': 1}\n",
            "bpe_codes: {('l', '</w>'): 0, ('s', '</w>'): 1, ('e', 'n'): 2, ('.', '</w>'): 3, ('T', 'h'): 4, ('Th', 'e'): 5, ('The', '</w>'): 6, ('W', 'o'): 7, ('Wo', 'n'): 8, ('Won', 'd'): 9, ('Wond', 'e'): 10, ('Wonde', 'r'): 11}\n",
            "bpe_codes_reverse: {'l</w>': ('l', '</w>'), 's</w>': ('s', '</w>'), 'en': ('e', 'n'), '.</w>': ('.', '</w>'), 'Th': ('T', 'h'), 'The': ('Th', 'e'), 'The</w>': ('The', '</w>'), 'Wo': ('W', 'o'), 'Won': ('Wo', 'n'), 'Wond': ('Won', 'd'), 'Wonde': ('Wond', 'e'), 'Wonder': ('Wonde', 'r')}\n",
            "pairing: defaultdict(<class 'int'>, {('Wonder', 'f'): 1, ('f', 'u'): 1, ('u', 'l</w>'): 1, ('W', 'i'): 1, ('i', 'z'): 1, ('z', 'a'): 1, ('a', 'r'): 1, ('r', 'd'): 1, ('d', '</w>'): 1, ('o', 'f'): 1, ('f', '</w>'): 1, ('O', 'z'): 1, ('z', '</w>'): 1, ('i', 's</w>'): 1, ('a', '</w>'): 1, ('c', 'h'): 1, ('h', 'i'): 1, ('i', 'l'): 1, ('l', 'd'): 1, ('d', 'r'): 1, ('r', 'en'): 1, ('en', \"'\"): 1, (\"'\", 's</w>'): 1, ('n', 'o'): 1, ('o', 'v'): 1, ('v', 'e'): 1, ('e', 'l</w>'): 1, ('w', 'r'): 1, ('r', 'i'): 1, ('i', 't'): 1, ('t', 't'): 1, ('t', 'en'): 1, ('en', '</w>'): 1, ('b', 'y'): 1, ('y', '</w>'): 1, ('L', '.</w>'): 1, ('F', 'r'): 1, ('r', 'a'): 1, ('a', 'n'): 1, ('n', 'k'): 1, ('k', '</w>'): 1, ('B', 'a'): 1, ('a', 'u'): 1, ('u', 'm'): 1, ('m', '.</w>'): 1})\n",
            "best1: ('Wonder', 'f')\n",
            "token_count: {'The</w>': 1, 'Wonderf u l</w>': 1, 'W i z a r d </w>': 1, 'o f </w>': 1, 'O z </w>': 1, 'i s</w>': 1, 'a </w>': 1, \"c h i l d r en ' s</w>\": 1, 'n o v e l</w>': 1, 'w r i t t en </w>': 1, 'b y </w>': 1, 'L .</w>': 1, 'F r a n k </w>': 1, 'B a u m .</w>': 1}\n",
            "bpe_codes: {('l', '</w>'): 0, ('s', '</w>'): 1, ('e', 'n'): 2, ('.', '</w>'): 3, ('T', 'h'): 4, ('Th', 'e'): 5, ('The', '</w>'): 6, ('W', 'o'): 7, ('Wo', 'n'): 8, ('Won', 'd'): 9, ('Wond', 'e'): 10, ('Wonde', 'r'): 11, ('Wonder', 'f'): 12}\n",
            "bpe_codes_reverse: {'l</w>': ('l', '</w>'), 's</w>': ('s', '</w>'), 'en': ('e', 'n'), '.</w>': ('.', '</w>'), 'Th': ('T', 'h'), 'The': ('Th', 'e'), 'The</w>': ('The', '</w>'), 'Wo': ('W', 'o'), 'Won': ('Wo', 'n'), 'Wond': ('Won', 'd'), 'Wonde': ('Wond', 'e'), 'Wonder': ('Wonde', 'r'), 'Wonderf': ('Wonder', 'f')}\n",
            "pairing: defaultdict(<class 'int'>, {('Wonderf', 'u'): 1, ('u', 'l</w>'): 1, ('W', 'i'): 1, ('i', 'z'): 1, ('z', 'a'): 1, ('a', 'r'): 1, ('r', 'd'): 1, ('d', '</w>'): 1, ('o', 'f'): 1, ('f', '</w>'): 1, ('O', 'z'): 1, ('z', '</w>'): 1, ('i', 's</w>'): 1, ('a', '</w>'): 1, ('c', 'h'): 1, ('h', 'i'): 1, ('i', 'l'): 1, ('l', 'd'): 1, ('d', 'r'): 1, ('r', 'en'): 1, ('en', \"'\"): 1, (\"'\", 's</w>'): 1, ('n', 'o'): 1, ('o', 'v'): 1, ('v', 'e'): 1, ('e', 'l</w>'): 1, ('w', 'r'): 1, ('r', 'i'): 1, ('i', 't'): 1, ('t', 't'): 1, ('t', 'en'): 1, ('en', '</w>'): 1, ('b', 'y'): 1, ('y', '</w>'): 1, ('L', '.</w>'): 1, ('F', 'r'): 1, ('r', 'a'): 1, ('a', 'n'): 1, ('n', 'k'): 1, ('k', '</w>'): 1, ('B', 'a'): 1, ('a', 'u'): 1, ('u', 'm'): 1, ('m', '.</w>'): 1})\n",
            "best1: ('Wonderf', 'u')\n",
            "token_count: {'The</w>': 1, 'Wonderfu l</w>': 1, 'W i z a r d </w>': 1, 'o f </w>': 1, 'O z </w>': 1, 'i s</w>': 1, 'a </w>': 1, \"c h i l d r en ' s</w>\": 1, 'n o v e l</w>': 1, 'w r i t t en </w>': 1, 'b y </w>': 1, 'L .</w>': 1, 'F r a n k </w>': 1, 'B a u m .</w>': 1}\n",
            "bpe_codes: {('l', '</w>'): 0, ('s', '</w>'): 1, ('e', 'n'): 2, ('.', '</w>'): 3, ('T', 'h'): 4, ('Th', 'e'): 5, ('The', '</w>'): 6, ('W', 'o'): 7, ('Wo', 'n'): 8, ('Won', 'd'): 9, ('Wond', 'e'): 10, ('Wonde', 'r'): 11, ('Wonder', 'f'): 12, ('Wonderf', 'u'): 13}\n",
            "bpe_codes_reverse: {'l</w>': ('l', '</w>'), 's</w>': ('s', '</w>'), 'en': ('e', 'n'), '.</w>': ('.', '</w>'), 'Th': ('T', 'h'), 'The': ('Th', 'e'), 'The</w>': ('The', '</w>'), 'Wo': ('W', 'o'), 'Won': ('Wo', 'n'), 'Wond': ('Won', 'd'), 'Wonde': ('Wond', 'e'), 'Wonder': ('Wonde', 'r'), 'Wonderf': ('Wonder', 'f'), 'Wonderfu': ('Wonderf', 'u')}\n",
            "pairing: defaultdict(<class 'int'>, {('Wonderfu', 'l</w>'): 1, ('W', 'i'): 1, ('i', 'z'): 1, ('z', 'a'): 1, ('a', 'r'): 1, ('r', 'd'): 1, ('d', '</w>'): 1, ('o', 'f'): 1, ('f', '</w>'): 1, ('O', 'z'): 1, ('z', '</w>'): 1, ('i', 's</w>'): 1, ('a', '</w>'): 1, ('c', 'h'): 1, ('h', 'i'): 1, ('i', 'l'): 1, ('l', 'd'): 1, ('d', 'r'): 1, ('r', 'en'): 1, ('en', \"'\"): 1, (\"'\", 's</w>'): 1, ('n', 'o'): 1, ('o', 'v'): 1, ('v', 'e'): 1, ('e', 'l</w>'): 1, ('w', 'r'): 1, ('r', 'i'): 1, ('i', 't'): 1, ('t', 't'): 1, ('t', 'en'): 1, ('en', '</w>'): 1, ('b', 'y'): 1, ('y', '</w>'): 1, ('L', '.</w>'): 1, ('F', 'r'): 1, ('r', 'a'): 1, ('a', 'n'): 1, ('n', 'k'): 1, ('k', '</w>'): 1, ('B', 'a'): 1, ('a', 'u'): 1, ('u', 'm'): 1, ('m', '.</w>'): 1})\n",
            "best1: ('Wonderfu', 'l</w>')\n",
            "token_count: {'The</w>': 1, 'Wonderful</w>': 1, 'W i z a r d </w>': 1, 'o f </w>': 1, 'O z </w>': 1, 'i s</w>': 1, 'a </w>': 1, \"c h i l d r en ' s</w>\": 1, 'n o v e l</w>': 1, 'w r i t t en </w>': 1, 'b y </w>': 1, 'L .</w>': 1, 'F r a n k </w>': 1, 'B a u m .</w>': 1}\n",
            "bpe_codes: {('l', '</w>'): 0, ('s', '</w>'): 1, ('e', 'n'): 2, ('.', '</w>'): 3, ('T', 'h'): 4, ('Th', 'e'): 5, ('The', '</w>'): 6, ('W', 'o'): 7, ('Wo', 'n'): 8, ('Won', 'd'): 9, ('Wond', 'e'): 10, ('Wonde', 'r'): 11, ('Wonder', 'f'): 12, ('Wonderf', 'u'): 13, ('Wonderfu', 'l</w>'): 14}\n",
            "bpe_codes_reverse: {'l</w>': ('l', '</w>'), 's</w>': ('s', '</w>'), 'en': ('e', 'n'), '.</w>': ('.', '</w>'), 'Th': ('T', 'h'), 'The': ('Th', 'e'), 'The</w>': ('The', '</w>'), 'Wo': ('W', 'o'), 'Won': ('Wo', 'n'), 'Wond': ('Won', 'd'), 'Wonde': ('Wond', 'e'), 'Wonder': ('Wonde', 'r'), 'Wonderf': ('Wonder', 'f'), 'Wonderfu': ('Wonderf', 'u'), 'Wonderful</w>': ('Wonderfu', 'l</w>')}\n",
            "pairing: defaultdict(<class 'int'>, {('W', 'i'): 1, ('i', 'z'): 1, ('z', 'a'): 1, ('a', 'r'): 1, ('r', 'd'): 1, ('d', '</w>'): 1, ('o', 'f'): 1, ('f', '</w>'): 1, ('O', 'z'): 1, ('z', '</w>'): 1, ('i', 's</w>'): 1, ('a', '</w>'): 1, ('c', 'h'): 1, ('h', 'i'): 1, ('i', 'l'): 1, ('l', 'd'): 1, ('d', 'r'): 1, ('r', 'en'): 1, ('en', \"'\"): 1, (\"'\", 's</w>'): 1, ('n', 'o'): 1, ('o', 'v'): 1, ('v', 'e'): 1, ('e', 'l</w>'): 1, ('w', 'r'): 1, ('r', 'i'): 1, ('i', 't'): 1, ('t', 't'): 1, ('t', 'en'): 1, ('en', '</w>'): 1, ('b', 'y'): 1, ('y', '</w>'): 1, ('L', '.</w>'): 1, ('F', 'r'): 1, ('r', 'a'): 1, ('a', 'n'): 1, ('n', 'k'): 1, ('k', '</w>'): 1, ('B', 'a'): 1, ('a', 'u'): 1, ('u', 'm'): 1, ('m', '.</w>'): 1})\n",
            "best1: ('W', 'i')\n",
            "token_count: {'The</w>': 1, 'Wonderful</w>': 1, 'Wi z a r d </w>': 1, 'o f </w>': 1, 'O z </w>': 1, 'i s</w>': 1, 'a </w>': 1, \"c h i l d r en ' s</w>\": 1, 'n o v e l</w>': 1, 'w r i t t en </w>': 1, 'b y </w>': 1, 'L .</w>': 1, 'F r a n k </w>': 1, 'B a u m .</w>': 1}\n",
            "bpe_codes: {('l', '</w>'): 0, ('s', '</w>'): 1, ('e', 'n'): 2, ('.', '</w>'): 3, ('T', 'h'): 4, ('Th', 'e'): 5, ('The', '</w>'): 6, ('W', 'o'): 7, ('Wo', 'n'): 8, ('Won', 'd'): 9, ('Wond', 'e'): 10, ('Wonde', 'r'): 11, ('Wonder', 'f'): 12, ('Wonderf', 'u'): 13, ('Wonderfu', 'l</w>'): 14, ('W', 'i'): 15}\n",
            "bpe_codes_reverse: {'l</w>': ('l', '</w>'), 's</w>': ('s', '</w>'), 'en': ('e', 'n'), '.</w>': ('.', '</w>'), 'Th': ('T', 'h'), 'The': ('Th', 'e'), 'The</w>': ('The', '</w>'), 'Wo': ('W', 'o'), 'Won': ('Wo', 'n'), 'Wond': ('Won', 'd'), 'Wonde': ('Wond', 'e'), 'Wonder': ('Wonde', 'r'), 'Wonderf': ('Wonder', 'f'), 'Wonderfu': ('Wonderf', 'u'), 'Wonderful</w>': ('Wonderfu', 'l</w>'), 'Wi': ('W', 'i')}\n",
            "pairing: defaultdict(<class 'int'>, {('Wi', 'z'): 1, ('z', 'a'): 1, ('a', 'r'): 1, ('r', 'd'): 1, ('d', '</w>'): 1, ('o', 'f'): 1, ('f', '</w>'): 1, ('O', 'z'): 1, ('z', '</w>'): 1, ('i', 's</w>'): 1, ('a', '</w>'): 1, ('c', 'h'): 1, ('h', 'i'): 1, ('i', 'l'): 1, ('l', 'd'): 1, ('d', 'r'): 1, ('r', 'en'): 1, ('en', \"'\"): 1, (\"'\", 's</w>'): 1, ('n', 'o'): 1, ('o', 'v'): 1, ('v', 'e'): 1, ('e', 'l</w>'): 1, ('w', 'r'): 1, ('r', 'i'): 1, ('i', 't'): 1, ('t', 't'): 1, ('t', 'en'): 1, ('en', '</w>'): 1, ('b', 'y'): 1, ('y', '</w>'): 1, ('L', '.</w>'): 1, ('F', 'r'): 1, ('r', 'a'): 1, ('a', 'n'): 1, ('n', 'k'): 1, ('k', '</w>'): 1, ('B', 'a'): 1, ('a', 'u'): 1, ('u', 'm'): 1, ('m', '.</w>'): 1})\n",
            "best1: ('Wi', 'z')\n",
            "token_count: {'The</w>': 1, 'Wonderful</w>': 1, 'Wiz a r d </w>': 1, 'o f </w>': 1, 'O z </w>': 1, 'i s</w>': 1, 'a </w>': 1, \"c h i l d r en ' s</w>\": 1, 'n o v e l</w>': 1, 'w r i t t en </w>': 1, 'b y </w>': 1, 'L .</w>': 1, 'F r a n k </w>': 1, 'B a u m .</w>': 1}\n",
            "bpe_codes: {('l', '</w>'): 0, ('s', '</w>'): 1, ('e', 'n'): 2, ('.', '</w>'): 3, ('T', 'h'): 4, ('Th', 'e'): 5, ('The', '</w>'): 6, ('W', 'o'): 7, ('Wo', 'n'): 8, ('Won', 'd'): 9, ('Wond', 'e'): 10, ('Wonde', 'r'): 11, ('Wonder', 'f'): 12, ('Wonderf', 'u'): 13, ('Wonderfu', 'l</w>'): 14, ('W', 'i'): 15, ('Wi', 'z'): 16}\n",
            "bpe_codes_reverse: {'l</w>': ('l', '</w>'), 's</w>': ('s', '</w>'), 'en': ('e', 'n'), '.</w>': ('.', '</w>'), 'Th': ('T', 'h'), 'The': ('Th', 'e'), 'The</w>': ('The', '</w>'), 'Wo': ('W', 'o'), 'Won': ('Wo', 'n'), 'Wond': ('Won', 'd'), 'Wonde': ('Wond', 'e'), 'Wonder': ('Wonde', 'r'), 'Wonderf': ('Wonder', 'f'), 'Wonderfu': ('Wonderf', 'u'), 'Wonderful</w>': ('Wonderfu', 'l</w>'), 'Wi': ('W', 'i'), 'Wiz': ('Wi', 'z')}\n",
            "pairing: defaultdict(<class 'int'>, {('Wiz', 'a'): 1, ('a', 'r'): 1, ('r', 'd'): 1, ('d', '</w>'): 1, ('o', 'f'): 1, ('f', '</w>'): 1, ('O', 'z'): 1, ('z', '</w>'): 1, ('i', 's</w>'): 1, ('a', '</w>'): 1, ('c', 'h'): 1, ('h', 'i'): 1, ('i', 'l'): 1, ('l', 'd'): 1, ('d', 'r'): 1, ('r', 'en'): 1, ('en', \"'\"): 1, (\"'\", 's</w>'): 1, ('n', 'o'): 1, ('o', 'v'): 1, ('v', 'e'): 1, ('e', 'l</w>'): 1, ('w', 'r'): 1, ('r', 'i'): 1, ('i', 't'): 1, ('t', 't'): 1, ('t', 'en'): 1, ('en', '</w>'): 1, ('b', 'y'): 1, ('y', '</w>'): 1, ('L', '.</w>'): 1, ('F', 'r'): 1, ('r', 'a'): 1, ('a', 'n'): 1, ('n', 'k'): 1, ('k', '</w>'): 1, ('B', 'a'): 1, ('a', 'u'): 1, ('u', 'm'): 1, ('m', '.</w>'): 1})\n",
            "best1: ('Wiz', 'a')\n",
            "token_count: {'The</w>': 1, 'Wonderful</w>': 1, 'Wiza r d </w>': 1, 'o f </w>': 1, 'O z </w>': 1, 'i s</w>': 1, 'a </w>': 1, \"c h i l d r en ' s</w>\": 1, 'n o v e l</w>': 1, 'w r i t t en </w>': 1, 'b y </w>': 1, 'L .</w>': 1, 'F r a n k </w>': 1, 'B a u m .</w>': 1}\n",
            "bpe_codes: {('l', '</w>'): 0, ('s', '</w>'): 1, ('e', 'n'): 2, ('.', '</w>'): 3, ('T', 'h'): 4, ('Th', 'e'): 5, ('The', '</w>'): 6, ('W', 'o'): 7, ('Wo', 'n'): 8, ('Won', 'd'): 9, ('Wond', 'e'): 10, ('Wonde', 'r'): 11, ('Wonder', 'f'): 12, ('Wonderf', 'u'): 13, ('Wonderfu', 'l</w>'): 14, ('W', 'i'): 15, ('Wi', 'z'): 16, ('Wiz', 'a'): 17}\n",
            "bpe_codes_reverse: {'l</w>': ('l', '</w>'), 's</w>': ('s', '</w>'), 'en': ('e', 'n'), '.</w>': ('.', '</w>'), 'Th': ('T', 'h'), 'The': ('Th', 'e'), 'The</w>': ('The', '</w>'), 'Wo': ('W', 'o'), 'Won': ('Wo', 'n'), 'Wond': ('Won', 'd'), 'Wonde': ('Wond', 'e'), 'Wonder': ('Wonde', 'r'), 'Wonderf': ('Wonder', 'f'), 'Wonderfu': ('Wonderf', 'u'), 'Wonderful</w>': ('Wonderfu', 'l</w>'), 'Wi': ('W', 'i'), 'Wiz': ('Wi', 'z'), 'Wiza': ('Wiz', 'a')}\n",
            "pairing: defaultdict(<class 'int'>, {('Wiza', 'r'): 1, ('r', 'd'): 1, ('d', '</w>'): 1, ('o', 'f'): 1, ('f', '</w>'): 1, ('O', 'z'): 1, ('z', '</w>'): 1, ('i', 's</w>'): 1, ('a', '</w>'): 1, ('c', 'h'): 1, ('h', 'i'): 1, ('i', 'l'): 1, ('l', 'd'): 1, ('d', 'r'): 1, ('r', 'en'): 1, ('en', \"'\"): 1, (\"'\", 's</w>'): 1, ('n', 'o'): 1, ('o', 'v'): 1, ('v', 'e'): 1, ('e', 'l</w>'): 1, ('w', 'r'): 1, ('r', 'i'): 1, ('i', 't'): 1, ('t', 't'): 1, ('t', 'en'): 1, ('en', '</w>'): 1, ('b', 'y'): 1, ('y', '</w>'): 1, ('L', '.</w>'): 1, ('F', 'r'): 1, ('r', 'a'): 1, ('a', 'n'): 1, ('n', 'k'): 1, ('k', '</w>'): 1, ('B', 'a'): 1, ('a', 'u'): 1, ('u', 'm'): 1, ('m', '.</w>'): 1})\n",
            "best1: ('Wiza', 'r')\n",
            "token_count: {'The</w>': 1, 'Wonderful</w>': 1, 'Wizar d </w>': 1, 'o f </w>': 1, 'O z </w>': 1, 'i s</w>': 1, 'a </w>': 1, \"c h i l d r en ' s</w>\": 1, 'n o v e l</w>': 1, 'w r i t t en </w>': 1, 'b y </w>': 1, 'L .</w>': 1, 'F r a n k </w>': 1, 'B a u m .</w>': 1}\n",
            "bpe_codes: {('l', '</w>'): 0, ('s', '</w>'): 1, ('e', 'n'): 2, ('.', '</w>'): 3, ('T', 'h'): 4, ('Th', 'e'): 5, ('The', '</w>'): 6, ('W', 'o'): 7, ('Wo', 'n'): 8, ('Won', 'd'): 9, ('Wond', 'e'): 10, ('Wonde', 'r'): 11, ('Wonder', 'f'): 12, ('Wonderf', 'u'): 13, ('Wonderfu', 'l</w>'): 14, ('W', 'i'): 15, ('Wi', 'z'): 16, ('Wiz', 'a'): 17, ('Wiza', 'r'): 18}\n",
            "bpe_codes_reverse: {'l</w>': ('l', '</w>'), 's</w>': ('s', '</w>'), 'en': ('e', 'n'), '.</w>': ('.', '</w>'), 'Th': ('T', 'h'), 'The': ('Th', 'e'), 'The</w>': ('The', '</w>'), 'Wo': ('W', 'o'), 'Won': ('Wo', 'n'), 'Wond': ('Won', 'd'), 'Wonde': ('Wond', 'e'), 'Wonder': ('Wonde', 'r'), 'Wonderf': ('Wonder', 'f'), 'Wonderfu': ('Wonderf', 'u'), 'Wonderful</w>': ('Wonderfu', 'l</w>'), 'Wi': ('W', 'i'), 'Wiz': ('Wi', 'z'), 'Wiza': ('Wiz', 'a'), 'Wizar': ('Wiza', 'r')}\n",
            "pairing: defaultdict(<class 'int'>, {('Wizar', 'd'): 1, ('d', '</w>'): 1, ('o', 'f'): 1, ('f', '</w>'): 1, ('O', 'z'): 1, ('z', '</w>'): 1, ('i', 's</w>'): 1, ('a', '</w>'): 1, ('c', 'h'): 1, ('h', 'i'): 1, ('i', 'l'): 1, ('l', 'd'): 1, ('d', 'r'): 1, ('r', 'en'): 1, ('en', \"'\"): 1, (\"'\", 's</w>'): 1, ('n', 'o'): 1, ('o', 'v'): 1, ('v', 'e'): 1, ('e', 'l</w>'): 1, ('w', 'r'): 1, ('r', 'i'): 1, ('i', 't'): 1, ('t', 't'): 1, ('t', 'en'): 1, ('en', '</w>'): 1, ('b', 'y'): 1, ('y', '</w>'): 1, ('L', '.</w>'): 1, ('F', 'r'): 1, ('r', 'a'): 1, ('a', 'n'): 1, ('n', 'k'): 1, ('k', '</w>'): 1, ('B', 'a'): 1, ('a', 'u'): 1, ('u', 'm'): 1, ('m', '.</w>'): 1})\n",
            "best1: ('Wizar', 'd')\n",
            "token_count: {'The</w>': 1, 'Wonderful</w>': 1, 'Wizard </w>': 1, 'o f </w>': 1, 'O z </w>': 1, 'i s</w>': 1, 'a </w>': 1, \"c h i l d r en ' s</w>\": 1, 'n o v e l</w>': 1, 'w r i t t en </w>': 1, 'b y </w>': 1, 'L .</w>': 1, 'F r a n k </w>': 1, 'B a u m .</w>': 1}\n",
            "bpe_codes: {('l', '</w>'): 0, ('s', '</w>'): 1, ('e', 'n'): 2, ('.', '</w>'): 3, ('T', 'h'): 4, ('Th', 'e'): 5, ('The', '</w>'): 6, ('W', 'o'): 7, ('Wo', 'n'): 8, ('Won', 'd'): 9, ('Wond', 'e'): 10, ('Wonde', 'r'): 11, ('Wonder', 'f'): 12, ('Wonderf', 'u'): 13, ('Wonderfu', 'l</w>'): 14, ('W', 'i'): 15, ('Wi', 'z'): 16, ('Wiz', 'a'): 17, ('Wiza', 'r'): 18, ('Wizar', 'd'): 19}\n",
            "bpe_codes_reverse: {'l</w>': ('l', '</w>'), 's</w>': ('s', '</w>'), 'en': ('e', 'n'), '.</w>': ('.', '</w>'), 'Th': ('T', 'h'), 'The': ('Th', 'e'), 'The</w>': ('The', '</w>'), 'Wo': ('W', 'o'), 'Won': ('Wo', 'n'), 'Wond': ('Won', 'd'), 'Wonde': ('Wond', 'e'), 'Wonder': ('Wonde', 'r'), 'Wonderf': ('Wonder', 'f'), 'Wonderfu': ('Wonderf', 'u'), 'Wonderful</w>': ('Wonderfu', 'l</w>'), 'Wi': ('W', 'i'), 'Wiz': ('Wi', 'z'), 'Wiza': ('Wiz', 'a'), 'Wizar': ('Wiza', 'r'), 'Wizard': ('Wizar', 'd')}\n",
            "pairing: defaultdict(<class 'int'>, {('Wizard', '</w>'): 1, ('o', 'f'): 1, ('f', '</w>'): 1, ('O', 'z'): 1, ('z', '</w>'): 1, ('i', 's</w>'): 1, ('a', '</w>'): 1, ('c', 'h'): 1, ('h', 'i'): 1, ('i', 'l'): 1, ('l', 'd'): 1, ('d', 'r'): 1, ('r', 'en'): 1, ('en', \"'\"): 1, (\"'\", 's</w>'): 1, ('n', 'o'): 1, ('o', 'v'): 1, ('v', 'e'): 1, ('e', 'l</w>'): 1, ('w', 'r'): 1, ('r', 'i'): 1, ('i', 't'): 1, ('t', 't'): 1, ('t', 'en'): 1, ('en', '</w>'): 1, ('b', 'y'): 1, ('y', '</w>'): 1, ('L', '.</w>'): 1, ('F', 'r'): 1, ('r', 'a'): 1, ('a', 'n'): 1, ('n', 'k'): 1, ('k', '</w>'): 1, ('B', 'a'): 1, ('a', 'u'): 1, ('u', 'm'): 1, ('m', '.</w>'): 1})\n",
            "best1: ('Wizard', '</w>')\n",
            "token_count: {'The</w>': 1, 'Wonderful</w>': 1, 'Wizard</w>': 1, 'o f </w>': 1, 'O z </w>': 1, 'i s</w>': 1, 'a </w>': 1, \"c h i l d r en ' s</w>\": 1, 'n o v e l</w>': 1, 'w r i t t en </w>': 1, 'b y </w>': 1, 'L .</w>': 1, 'F r a n k </w>': 1, 'B a u m .</w>': 1}\n",
            "bpe_codes: {('l', '</w>'): 0, ('s', '</w>'): 1, ('e', 'n'): 2, ('.', '</w>'): 3, ('T', 'h'): 4, ('Th', 'e'): 5, ('The', '</w>'): 6, ('W', 'o'): 7, ('Wo', 'n'): 8, ('Won', 'd'): 9, ('Wond', 'e'): 10, ('Wonde', 'r'): 11, ('Wonder', 'f'): 12, ('Wonderf', 'u'): 13, ('Wonderfu', 'l</w>'): 14, ('W', 'i'): 15, ('Wi', 'z'): 16, ('Wiz', 'a'): 17, ('Wiza', 'r'): 18, ('Wizar', 'd'): 19, ('Wizard', '</w>'): 20}\n",
            "bpe_codes_reverse: {'l</w>': ('l', '</w>'), 's</w>': ('s', '</w>'), 'en': ('e', 'n'), '.</w>': ('.', '</w>'), 'Th': ('T', 'h'), 'The': ('Th', 'e'), 'The</w>': ('The', '</w>'), 'Wo': ('W', 'o'), 'Won': ('Wo', 'n'), 'Wond': ('Won', 'd'), 'Wonde': ('Wond', 'e'), 'Wonder': ('Wonde', 'r'), 'Wonderf': ('Wonder', 'f'), 'Wonderfu': ('Wonderf', 'u'), 'Wonderful</w>': ('Wonderfu', 'l</w>'), 'Wi': ('W', 'i'), 'Wiz': ('Wi', 'z'), 'Wiza': ('Wiz', 'a'), 'Wizar': ('Wiza', 'r'), 'Wizard': ('Wizar', 'd'), 'Wizard</w>': ('Wizard', '</w>')}\n",
            "pairing: defaultdict(<class 'int'>, {('o', 'f'): 1, ('f', '</w>'): 1, ('O', 'z'): 1, ('z', '</w>'): 1, ('i', 's</w>'): 1, ('a', '</w>'): 1, ('c', 'h'): 1, ('h', 'i'): 1, ('i', 'l'): 1, ('l', 'd'): 1, ('d', 'r'): 1, ('r', 'en'): 1, ('en', \"'\"): 1, (\"'\", 's</w>'): 1, ('n', 'o'): 1, ('o', 'v'): 1, ('v', 'e'): 1, ('e', 'l</w>'): 1, ('w', 'r'): 1, ('r', 'i'): 1, ('i', 't'): 1, ('t', 't'): 1, ('t', 'en'): 1, ('en', '</w>'): 1, ('b', 'y'): 1, ('y', '</w>'): 1, ('L', '.</w>'): 1, ('F', 'r'): 1, ('r', 'a'): 1, ('a', 'n'): 1, ('n', 'k'): 1, ('k', '</w>'): 1, ('B', 'a'): 1, ('a', 'u'): 1, ('u', 'm'): 1, ('m', '.</w>'): 1})\n",
            "best1: ('o', 'f')\n",
            "token_count: {'The</w>': 1, 'Wonderful</w>': 1, 'Wizard</w>': 1, 'of </w>': 1, 'O z </w>': 1, 'i s</w>': 1, 'a </w>': 1, \"c h i l d r en ' s</w>\": 1, 'n o v e l</w>': 1, 'w r i t t en </w>': 1, 'b y </w>': 1, 'L .</w>': 1, 'F r a n k </w>': 1, 'B a u m .</w>': 1}\n",
            "bpe_codes: {('l', '</w>'): 0, ('s', '</w>'): 1, ('e', 'n'): 2, ('.', '</w>'): 3, ('T', 'h'): 4, ('Th', 'e'): 5, ('The', '</w>'): 6, ('W', 'o'): 7, ('Wo', 'n'): 8, ('Won', 'd'): 9, ('Wond', 'e'): 10, ('Wonde', 'r'): 11, ('Wonder', 'f'): 12, ('Wonderf', 'u'): 13, ('Wonderfu', 'l</w>'): 14, ('W', 'i'): 15, ('Wi', 'z'): 16, ('Wiz', 'a'): 17, ('Wiza', 'r'): 18, ('Wizar', 'd'): 19, ('Wizard', '</w>'): 20, ('o', 'f'): 21}\n",
            "bpe_codes_reverse: {'l</w>': ('l', '</w>'), 's</w>': ('s', '</w>'), 'en': ('e', 'n'), '.</w>': ('.', '</w>'), 'Th': ('T', 'h'), 'The': ('Th', 'e'), 'The</w>': ('The', '</w>'), 'Wo': ('W', 'o'), 'Won': ('Wo', 'n'), 'Wond': ('Won', 'd'), 'Wonde': ('Wond', 'e'), 'Wonder': ('Wonde', 'r'), 'Wonderf': ('Wonder', 'f'), 'Wonderfu': ('Wonderf', 'u'), 'Wonderful</w>': ('Wonderfu', 'l</w>'), 'Wi': ('W', 'i'), 'Wiz': ('Wi', 'z'), 'Wiza': ('Wiz', 'a'), 'Wizar': ('Wiza', 'r'), 'Wizard': ('Wizar', 'd'), 'Wizard</w>': ('Wizard', '</w>'), 'of': ('o', 'f')}\n",
            "pairing: defaultdict(<class 'int'>, {('of', '</w>'): 1, ('O', 'z'): 1, ('z', '</w>'): 1, ('i', 's</w>'): 1, ('a', '</w>'): 1, ('c', 'h'): 1, ('h', 'i'): 1, ('i', 'l'): 1, ('l', 'd'): 1, ('d', 'r'): 1, ('r', 'en'): 1, ('en', \"'\"): 1, (\"'\", 's</w>'): 1, ('n', 'o'): 1, ('o', 'v'): 1, ('v', 'e'): 1, ('e', 'l</w>'): 1, ('w', 'r'): 1, ('r', 'i'): 1, ('i', 't'): 1, ('t', 't'): 1, ('t', 'en'): 1, ('en', '</w>'): 1, ('b', 'y'): 1, ('y', '</w>'): 1, ('L', '.</w>'): 1, ('F', 'r'): 1, ('r', 'a'): 1, ('a', 'n'): 1, ('n', 'k'): 1, ('k', '</w>'): 1, ('B', 'a'): 1, ('a', 'u'): 1, ('u', 'm'): 1, ('m', '.</w>'): 1})\n",
            "best1: ('of', '</w>')\n",
            "token_count: {'The</w>': 1, 'Wonderful</w>': 1, 'Wizard</w>': 1, 'of</w>': 1, 'O z </w>': 1, 'i s</w>': 1, 'a </w>': 1, \"c h i l d r en ' s</w>\": 1, 'n o v e l</w>': 1, 'w r i t t en </w>': 1, 'b y </w>': 1, 'L .</w>': 1, 'F r a n k </w>': 1, 'B a u m .</w>': 1}\n",
            "bpe_codes: {('l', '</w>'): 0, ('s', '</w>'): 1, ('e', 'n'): 2, ('.', '</w>'): 3, ('T', 'h'): 4, ('Th', 'e'): 5, ('The', '</w>'): 6, ('W', 'o'): 7, ('Wo', 'n'): 8, ('Won', 'd'): 9, ('Wond', 'e'): 10, ('Wonde', 'r'): 11, ('Wonder', 'f'): 12, ('Wonderf', 'u'): 13, ('Wonderfu', 'l</w>'): 14, ('W', 'i'): 15, ('Wi', 'z'): 16, ('Wiz', 'a'): 17, ('Wiza', 'r'): 18, ('Wizar', 'd'): 19, ('Wizard', '</w>'): 20, ('o', 'f'): 21, ('of', '</w>'): 22}\n",
            "bpe_codes_reverse: {'l</w>': ('l', '</w>'), 's</w>': ('s', '</w>'), 'en': ('e', 'n'), '.</w>': ('.', '</w>'), 'Th': ('T', 'h'), 'The': ('Th', 'e'), 'The</w>': ('The', '</w>'), 'Wo': ('W', 'o'), 'Won': ('Wo', 'n'), 'Wond': ('Won', 'd'), 'Wonde': ('Wond', 'e'), 'Wonder': ('Wonde', 'r'), 'Wonderf': ('Wonder', 'f'), 'Wonderfu': ('Wonderf', 'u'), 'Wonderful</w>': ('Wonderfu', 'l</w>'), 'Wi': ('W', 'i'), 'Wiz': ('Wi', 'z'), 'Wiza': ('Wiz', 'a'), 'Wizar': ('Wiza', 'r'), 'Wizard': ('Wizar', 'd'), 'Wizard</w>': ('Wizard', '</w>'), 'of': ('o', 'f'), 'of</w>': ('of', '</w>')}\n",
            "pairing: defaultdict(<class 'int'>, {('O', 'z'): 1, ('z', '</w>'): 1, ('i', 's</w>'): 1, ('a', '</w>'): 1, ('c', 'h'): 1, ('h', 'i'): 1, ('i', 'l'): 1, ('l', 'd'): 1, ('d', 'r'): 1, ('r', 'en'): 1, ('en', \"'\"): 1, (\"'\", 's</w>'): 1, ('n', 'o'): 1, ('o', 'v'): 1, ('v', 'e'): 1, ('e', 'l</w>'): 1, ('w', 'r'): 1, ('r', 'i'): 1, ('i', 't'): 1, ('t', 't'): 1, ('t', 'en'): 1, ('en', '</w>'): 1, ('b', 'y'): 1, ('y', '</w>'): 1, ('L', '.</w>'): 1, ('F', 'r'): 1, ('r', 'a'): 1, ('a', 'n'): 1, ('n', 'k'): 1, ('k', '</w>'): 1, ('B', 'a'): 1, ('a', 'u'): 1, ('u', 'm'): 1, ('m', '.</w>'): 1})\n",
            "best1: ('O', 'z')\n",
            "token_count: {'The</w>': 1, 'Wonderful</w>': 1, 'Wizard</w>': 1, 'of</w>': 1, 'Oz </w>': 1, 'i s</w>': 1, 'a </w>': 1, \"c h i l d r en ' s</w>\": 1, 'n o v e l</w>': 1, 'w r i t t en </w>': 1, 'b y </w>': 1, 'L .</w>': 1, 'F r a n k </w>': 1, 'B a u m .</w>': 1}\n",
            "bpe_codes: {('l', '</w>'): 0, ('s', '</w>'): 1, ('e', 'n'): 2, ('.', '</w>'): 3, ('T', 'h'): 4, ('Th', 'e'): 5, ('The', '</w>'): 6, ('W', 'o'): 7, ('Wo', 'n'): 8, ('Won', 'd'): 9, ('Wond', 'e'): 10, ('Wonde', 'r'): 11, ('Wonder', 'f'): 12, ('Wonderf', 'u'): 13, ('Wonderfu', 'l</w>'): 14, ('W', 'i'): 15, ('Wi', 'z'): 16, ('Wiz', 'a'): 17, ('Wiza', 'r'): 18, ('Wizar', 'd'): 19, ('Wizard', '</w>'): 20, ('o', 'f'): 21, ('of', '</w>'): 22, ('O', 'z'): 23}\n",
            "bpe_codes_reverse: {'l</w>': ('l', '</w>'), 's</w>': ('s', '</w>'), 'en': ('e', 'n'), '.</w>': ('.', '</w>'), 'Th': ('T', 'h'), 'The': ('Th', 'e'), 'The</w>': ('The', '</w>'), 'Wo': ('W', 'o'), 'Won': ('Wo', 'n'), 'Wond': ('Won', 'd'), 'Wonde': ('Wond', 'e'), 'Wonder': ('Wonde', 'r'), 'Wonderf': ('Wonder', 'f'), 'Wonderfu': ('Wonderf', 'u'), 'Wonderful</w>': ('Wonderfu', 'l</w>'), 'Wi': ('W', 'i'), 'Wiz': ('Wi', 'z'), 'Wiza': ('Wiz', 'a'), 'Wizar': ('Wiza', 'r'), 'Wizard': ('Wizar', 'd'), 'Wizard</w>': ('Wizard', '</w>'), 'of': ('o', 'f'), 'of</w>': ('of', '</w>'), 'Oz': ('O', 'z')}\n",
            "pairing: defaultdict(<class 'int'>, {('Oz', '</w>'): 1, ('i', 's</w>'): 1, ('a', '</w>'): 1, ('c', 'h'): 1, ('h', 'i'): 1, ('i', 'l'): 1, ('l', 'd'): 1, ('d', 'r'): 1, ('r', 'en'): 1, ('en', \"'\"): 1, (\"'\", 's</w>'): 1, ('n', 'o'): 1, ('o', 'v'): 1, ('v', 'e'): 1, ('e', 'l</w>'): 1, ('w', 'r'): 1, ('r', 'i'): 1, ('i', 't'): 1, ('t', 't'): 1, ('t', 'en'): 1, ('en', '</w>'): 1, ('b', 'y'): 1, ('y', '</w>'): 1, ('L', '.</w>'): 1, ('F', 'r'): 1, ('r', 'a'): 1, ('a', 'n'): 1, ('n', 'k'): 1, ('k', '</w>'): 1, ('B', 'a'): 1, ('a', 'u'): 1, ('u', 'm'): 1, ('m', '.</w>'): 1})\n",
            "best1: ('Oz', '</w>')\n",
            "token_count: {'The</w>': 1, 'Wonderful</w>': 1, 'Wizard</w>': 1, 'of</w>': 1, 'Oz</w>': 1, 'i s</w>': 1, 'a </w>': 1, \"c h i l d r en ' s</w>\": 1, 'n o v e l</w>': 1, 'w r i t t en </w>': 1, 'b y </w>': 1, 'L .</w>': 1, 'F r a n k </w>': 1, 'B a u m .</w>': 1}\n",
            "bpe_codes: {('l', '</w>'): 0, ('s', '</w>'): 1, ('e', 'n'): 2, ('.', '</w>'): 3, ('T', 'h'): 4, ('Th', 'e'): 5, ('The', '</w>'): 6, ('W', 'o'): 7, ('Wo', 'n'): 8, ('Won', 'd'): 9, ('Wond', 'e'): 10, ('Wonde', 'r'): 11, ('Wonder', 'f'): 12, ('Wonderf', 'u'): 13, ('Wonderfu', 'l</w>'): 14, ('W', 'i'): 15, ('Wi', 'z'): 16, ('Wiz', 'a'): 17, ('Wiza', 'r'): 18, ('Wizar', 'd'): 19, ('Wizard', '</w>'): 20, ('o', 'f'): 21, ('of', '</w>'): 22, ('O', 'z'): 23, ('Oz', '</w>'): 24}\n",
            "bpe_codes_reverse: {'l</w>': ('l', '</w>'), 's</w>': ('s', '</w>'), 'en': ('e', 'n'), '.</w>': ('.', '</w>'), 'Th': ('T', 'h'), 'The': ('Th', 'e'), 'The</w>': ('The', '</w>'), 'Wo': ('W', 'o'), 'Won': ('Wo', 'n'), 'Wond': ('Won', 'd'), 'Wonde': ('Wond', 'e'), 'Wonder': ('Wonde', 'r'), 'Wonderf': ('Wonder', 'f'), 'Wonderfu': ('Wonderf', 'u'), 'Wonderful</w>': ('Wonderfu', 'l</w>'), 'Wi': ('W', 'i'), 'Wiz': ('Wi', 'z'), 'Wiza': ('Wiz', 'a'), 'Wizar': ('Wiza', 'r'), 'Wizard': ('Wizar', 'd'), 'Wizard</w>': ('Wizard', '</w>'), 'of': ('o', 'f'), 'of</w>': ('of', '</w>'), 'Oz': ('O', 'z'), 'Oz</w>': ('Oz', '</w>')}\n",
            "pairing: defaultdict(<class 'int'>, {('i', 's</w>'): 1, ('a', '</w>'): 1, ('c', 'h'): 1, ('h', 'i'): 1, ('i', 'l'): 1, ('l', 'd'): 1, ('d', 'r'): 1, ('r', 'en'): 1, ('en', \"'\"): 1, (\"'\", 's</w>'): 1, ('n', 'o'): 1, ('o', 'v'): 1, ('v', 'e'): 1, ('e', 'l</w>'): 1, ('w', 'r'): 1, ('r', 'i'): 1, ('i', 't'): 1, ('t', 't'): 1, ('t', 'en'): 1, ('en', '</w>'): 1, ('b', 'y'): 1, ('y', '</w>'): 1, ('L', '.</w>'): 1, ('F', 'r'): 1, ('r', 'a'): 1, ('a', 'n'): 1, ('n', 'k'): 1, ('k', '</w>'): 1, ('B', 'a'): 1, ('a', 'u'): 1, ('u', 'm'): 1, ('m', '.</w>'): 1})\n",
            "best1: ('i', 's</w>')\n",
            "token_count: {'The</w>': 1, 'Wonderful</w>': 1, 'Wizard</w>': 1, 'of</w>': 1, 'Oz</w>': 1, 'is</w>': 1, 'a </w>': 1, \"c h i l d r en ' s</w>\": 1, 'n o v e l</w>': 1, 'w r i t t en </w>': 1, 'b y </w>': 1, 'L .</w>': 1, 'F r a n k </w>': 1, 'B a u m .</w>': 1}\n",
            "bpe_codes: {('l', '</w>'): 0, ('s', '</w>'): 1, ('e', 'n'): 2, ('.', '</w>'): 3, ('T', 'h'): 4, ('Th', 'e'): 5, ('The', '</w>'): 6, ('W', 'o'): 7, ('Wo', 'n'): 8, ('Won', 'd'): 9, ('Wond', 'e'): 10, ('Wonde', 'r'): 11, ('Wonder', 'f'): 12, ('Wonderf', 'u'): 13, ('Wonderfu', 'l</w>'): 14, ('W', 'i'): 15, ('Wi', 'z'): 16, ('Wiz', 'a'): 17, ('Wiza', 'r'): 18, ('Wizar', 'd'): 19, ('Wizard', '</w>'): 20, ('o', 'f'): 21, ('of', '</w>'): 22, ('O', 'z'): 23, ('Oz', '</w>'): 24, ('i', 's</w>'): 25}\n",
            "bpe_codes_reverse: {'l</w>': ('l', '</w>'), 's</w>': ('s', '</w>'), 'en': ('e', 'n'), '.</w>': ('.', '</w>'), 'Th': ('T', 'h'), 'The': ('Th', 'e'), 'The</w>': ('The', '</w>'), 'Wo': ('W', 'o'), 'Won': ('Wo', 'n'), 'Wond': ('Won', 'd'), 'Wonde': ('Wond', 'e'), 'Wonder': ('Wonde', 'r'), 'Wonderf': ('Wonder', 'f'), 'Wonderfu': ('Wonderf', 'u'), 'Wonderful</w>': ('Wonderfu', 'l</w>'), 'Wi': ('W', 'i'), 'Wiz': ('Wi', 'z'), 'Wiza': ('Wiz', 'a'), 'Wizar': ('Wiza', 'r'), 'Wizard': ('Wizar', 'd'), 'Wizard</w>': ('Wizard', '</w>'), 'of': ('o', 'f'), 'of</w>': ('of', '</w>'), 'Oz': ('O', 'z'), 'Oz</w>': ('Oz', '</w>'), 'is</w>': ('i', 's</w>')}\n",
            "pairing: defaultdict(<class 'int'>, {('a', '</w>'): 1, ('c', 'h'): 1, ('h', 'i'): 1, ('i', 'l'): 1, ('l', 'd'): 1, ('d', 'r'): 1, ('r', 'en'): 1, ('en', \"'\"): 1, (\"'\", 's</w>'): 1, ('n', 'o'): 1, ('o', 'v'): 1, ('v', 'e'): 1, ('e', 'l</w>'): 1, ('w', 'r'): 1, ('r', 'i'): 1, ('i', 't'): 1, ('t', 't'): 1, ('t', 'en'): 1, ('en', '</w>'): 1, ('b', 'y'): 1, ('y', '</w>'): 1, ('L', '.</w>'): 1, ('F', 'r'): 1, ('r', 'a'): 1, ('a', 'n'): 1, ('n', 'k'): 1, ('k', '</w>'): 1, ('B', 'a'): 1, ('a', 'u'): 1, ('u', 'm'): 1, ('m', '.</w>'): 1})\n",
            "best1: ('a', '</w>')\n",
            "token_count: {'The</w>': 1, 'Wonderful</w>': 1, 'Wizard</w>': 1, 'of</w>': 1, 'Oz</w>': 1, 'is</w>': 1, 'a</w>': 1, \"c h i l d r en ' s</w>\": 1, 'n o v e l</w>': 1, 'w r i t t en </w>': 1, 'b y </w>': 1, 'L .</w>': 1, 'F r a n k </w>': 1, 'B a u m .</w>': 1}\n",
            "bpe_codes: {('l', '</w>'): 0, ('s', '</w>'): 1, ('e', 'n'): 2, ('.', '</w>'): 3, ('T', 'h'): 4, ('Th', 'e'): 5, ('The', '</w>'): 6, ('W', 'o'): 7, ('Wo', 'n'): 8, ('Won', 'd'): 9, ('Wond', 'e'): 10, ('Wonde', 'r'): 11, ('Wonder', 'f'): 12, ('Wonderf', 'u'): 13, ('Wonderfu', 'l</w>'): 14, ('W', 'i'): 15, ('Wi', 'z'): 16, ('Wiz', 'a'): 17, ('Wiza', 'r'): 18, ('Wizar', 'd'): 19, ('Wizard', '</w>'): 20, ('o', 'f'): 21, ('of', '</w>'): 22, ('O', 'z'): 23, ('Oz', '</w>'): 24, ('i', 's</w>'): 25, ('a', '</w>'): 26}\n",
            "bpe_codes_reverse: {'l</w>': ('l', '</w>'), 's</w>': ('s', '</w>'), 'en': ('e', 'n'), '.</w>': ('.', '</w>'), 'Th': ('T', 'h'), 'The': ('Th', 'e'), 'The</w>': ('The', '</w>'), 'Wo': ('W', 'o'), 'Won': ('Wo', 'n'), 'Wond': ('Won', 'd'), 'Wonde': ('Wond', 'e'), 'Wonder': ('Wonde', 'r'), 'Wonderf': ('Wonder', 'f'), 'Wonderfu': ('Wonderf', 'u'), 'Wonderful</w>': ('Wonderfu', 'l</w>'), 'Wi': ('W', 'i'), 'Wiz': ('Wi', 'z'), 'Wiza': ('Wiz', 'a'), 'Wizar': ('Wiza', 'r'), 'Wizard': ('Wizar', 'd'), 'Wizard</w>': ('Wizard', '</w>'), 'of': ('o', 'f'), 'of</w>': ('of', '</w>'), 'Oz': ('O', 'z'), 'Oz</w>': ('Oz', '</w>'), 'is</w>': ('i', 's</w>'), 'a</w>': ('a', '</w>')}\n",
            "pairing: defaultdict(<class 'int'>, {('c', 'h'): 1, ('h', 'i'): 1, ('i', 'l'): 1, ('l', 'd'): 1, ('d', 'r'): 1, ('r', 'en'): 1, ('en', \"'\"): 1, (\"'\", 's</w>'): 1, ('n', 'o'): 1, ('o', 'v'): 1, ('v', 'e'): 1, ('e', 'l</w>'): 1, ('w', 'r'): 1, ('r', 'i'): 1, ('i', 't'): 1, ('t', 't'): 1, ('t', 'en'): 1, ('en', '</w>'): 1, ('b', 'y'): 1, ('y', '</w>'): 1, ('L', '.</w>'): 1, ('F', 'r'): 1, ('r', 'a'): 1, ('a', 'n'): 1, ('n', 'k'): 1, ('k', '</w>'): 1, ('B', 'a'): 1, ('a', 'u'): 1, ('u', 'm'): 1, ('m', '.</w>'): 1})\n",
            "best1: ('c', 'h')\n",
            "token_count: {'The</w>': 1, 'Wonderful</w>': 1, 'Wizard</w>': 1, 'of</w>': 1, 'Oz</w>': 1, 'is</w>': 1, 'a</w>': 1, \"ch i l d r en ' s</w>\": 1, 'n o v e l</w>': 1, 'w r i t t en </w>': 1, 'b y </w>': 1, 'L .</w>': 1, 'F r a n k </w>': 1, 'B a u m .</w>': 1}\n",
            "bpe_codes: {('l', '</w>'): 0, ('s', '</w>'): 1, ('e', 'n'): 2, ('.', '</w>'): 3, ('T', 'h'): 4, ('Th', 'e'): 5, ('The', '</w>'): 6, ('W', 'o'): 7, ('Wo', 'n'): 8, ('Won', 'd'): 9, ('Wond', 'e'): 10, ('Wonde', 'r'): 11, ('Wonder', 'f'): 12, ('Wonderf', 'u'): 13, ('Wonderfu', 'l</w>'): 14, ('W', 'i'): 15, ('Wi', 'z'): 16, ('Wiz', 'a'): 17, ('Wiza', 'r'): 18, ('Wizar', 'd'): 19, ('Wizard', '</w>'): 20, ('o', 'f'): 21, ('of', '</w>'): 22, ('O', 'z'): 23, ('Oz', '</w>'): 24, ('i', 's</w>'): 25, ('a', '</w>'): 26, ('c', 'h'): 27}\n",
            "bpe_codes_reverse: {'l</w>': ('l', '</w>'), 's</w>': ('s', '</w>'), 'en': ('e', 'n'), '.</w>': ('.', '</w>'), 'Th': ('T', 'h'), 'The': ('Th', 'e'), 'The</w>': ('The', '</w>'), 'Wo': ('W', 'o'), 'Won': ('Wo', 'n'), 'Wond': ('Won', 'd'), 'Wonde': ('Wond', 'e'), 'Wonder': ('Wonde', 'r'), 'Wonderf': ('Wonder', 'f'), 'Wonderfu': ('Wonderf', 'u'), 'Wonderful</w>': ('Wonderfu', 'l</w>'), 'Wi': ('W', 'i'), 'Wiz': ('Wi', 'z'), 'Wiza': ('Wiz', 'a'), 'Wizar': ('Wiza', 'r'), 'Wizard': ('Wizar', 'd'), 'Wizard</w>': ('Wizard', '</w>'), 'of': ('o', 'f'), 'of</w>': ('of', '</w>'), 'Oz': ('O', 'z'), 'Oz</w>': ('Oz', '</w>'), 'is</w>': ('i', 's</w>'), 'a</w>': ('a', '</w>'), 'ch': ('c', 'h')}\n",
            "pairing: defaultdict(<class 'int'>, {('ch', 'i'): 1, ('i', 'l'): 1, ('l', 'd'): 1, ('d', 'r'): 1, ('r', 'en'): 1, ('en', \"'\"): 1, (\"'\", 's</w>'): 1, ('n', 'o'): 1, ('o', 'v'): 1, ('v', 'e'): 1, ('e', 'l</w>'): 1, ('w', 'r'): 1, ('r', 'i'): 1, ('i', 't'): 1, ('t', 't'): 1, ('t', 'en'): 1, ('en', '</w>'): 1, ('b', 'y'): 1, ('y', '</w>'): 1, ('L', '.</w>'): 1, ('F', 'r'): 1, ('r', 'a'): 1, ('a', 'n'): 1, ('n', 'k'): 1, ('k', '</w>'): 1, ('B', 'a'): 1, ('a', 'u'): 1, ('u', 'm'): 1, ('m', '.</w>'): 1})\n",
            "best1: ('ch', 'i')\n",
            "token_count: {'The</w>': 1, 'Wonderful</w>': 1, 'Wizard</w>': 1, 'of</w>': 1, 'Oz</w>': 1, 'is</w>': 1, 'a</w>': 1, \"chi l d r en ' s</w>\": 1, 'n o v e l</w>': 1, 'w r i t t en </w>': 1, 'b y </w>': 1, 'L .</w>': 1, 'F r a n k </w>': 1, 'B a u m .</w>': 1}\n",
            "bpe_codes: {('l', '</w>'): 0, ('s', '</w>'): 1, ('e', 'n'): 2, ('.', '</w>'): 3, ('T', 'h'): 4, ('Th', 'e'): 5, ('The', '</w>'): 6, ('W', 'o'): 7, ('Wo', 'n'): 8, ('Won', 'd'): 9, ('Wond', 'e'): 10, ('Wonde', 'r'): 11, ('Wonder', 'f'): 12, ('Wonderf', 'u'): 13, ('Wonderfu', 'l</w>'): 14, ('W', 'i'): 15, ('Wi', 'z'): 16, ('Wiz', 'a'): 17, ('Wiza', 'r'): 18, ('Wizar', 'd'): 19, ('Wizard', '</w>'): 20, ('o', 'f'): 21, ('of', '</w>'): 22, ('O', 'z'): 23, ('Oz', '</w>'): 24, ('i', 's</w>'): 25, ('a', '</w>'): 26, ('c', 'h'): 27, ('ch', 'i'): 28}\n",
            "bpe_codes_reverse: {'l</w>': ('l', '</w>'), 's</w>': ('s', '</w>'), 'en': ('e', 'n'), '.</w>': ('.', '</w>'), 'Th': ('T', 'h'), 'The': ('Th', 'e'), 'The</w>': ('The', '</w>'), 'Wo': ('W', 'o'), 'Won': ('Wo', 'n'), 'Wond': ('Won', 'd'), 'Wonde': ('Wond', 'e'), 'Wonder': ('Wonde', 'r'), 'Wonderf': ('Wonder', 'f'), 'Wonderfu': ('Wonderf', 'u'), 'Wonderful</w>': ('Wonderfu', 'l</w>'), 'Wi': ('W', 'i'), 'Wiz': ('Wi', 'z'), 'Wiza': ('Wiz', 'a'), 'Wizar': ('Wiza', 'r'), 'Wizard': ('Wizar', 'd'), 'Wizard</w>': ('Wizard', '</w>'), 'of': ('o', 'f'), 'of</w>': ('of', '</w>'), 'Oz': ('O', 'z'), 'Oz</w>': ('Oz', '</w>'), 'is</w>': ('i', 's</w>'), 'a</w>': ('a', '</w>'), 'ch': ('c', 'h'), 'chi': ('ch', 'i')}\n",
            "pairing: defaultdict(<class 'int'>, {('chi', 'l'): 1, ('l', 'd'): 1, ('d', 'r'): 1, ('r', 'en'): 1, ('en', \"'\"): 1, (\"'\", 's</w>'): 1, ('n', 'o'): 1, ('o', 'v'): 1, ('v', 'e'): 1, ('e', 'l</w>'): 1, ('w', 'r'): 1, ('r', 'i'): 1, ('i', 't'): 1, ('t', 't'): 1, ('t', 'en'): 1, ('en', '</w>'): 1, ('b', 'y'): 1, ('y', '</w>'): 1, ('L', '.</w>'): 1, ('F', 'r'): 1, ('r', 'a'): 1, ('a', 'n'): 1, ('n', 'k'): 1, ('k', '</w>'): 1, ('B', 'a'): 1, ('a', 'u'): 1, ('u', 'm'): 1, ('m', '.</w>'): 1})\n",
            "best1: ('chi', 'l')\n",
            "token_count: {'The</w>': 1, 'Wonderful</w>': 1, 'Wizard</w>': 1, 'of</w>': 1, 'Oz</w>': 1, 'is</w>': 1, 'a</w>': 1, \"chil d r en ' s</w>\": 1, 'n o v e l</w>': 1, 'w r i t t en </w>': 1, 'b y </w>': 1, 'L .</w>': 1, 'F r a n k </w>': 1, 'B a u m .</w>': 1}\n",
            "bpe_codes: {('l', '</w>'): 0, ('s', '</w>'): 1, ('e', 'n'): 2, ('.', '</w>'): 3, ('T', 'h'): 4, ('Th', 'e'): 5, ('The', '</w>'): 6, ('W', 'o'): 7, ('Wo', 'n'): 8, ('Won', 'd'): 9, ('Wond', 'e'): 10, ('Wonde', 'r'): 11, ('Wonder', 'f'): 12, ('Wonderf', 'u'): 13, ('Wonderfu', 'l</w>'): 14, ('W', 'i'): 15, ('Wi', 'z'): 16, ('Wiz', 'a'): 17, ('Wiza', 'r'): 18, ('Wizar', 'd'): 19, ('Wizard', '</w>'): 20, ('o', 'f'): 21, ('of', '</w>'): 22, ('O', 'z'): 23, ('Oz', '</w>'): 24, ('i', 's</w>'): 25, ('a', '</w>'): 26, ('c', 'h'): 27, ('ch', 'i'): 28, ('chi', 'l'): 29}\n",
            "bpe_codes_reverse: {'l</w>': ('l', '</w>'), 's</w>': ('s', '</w>'), 'en': ('e', 'n'), '.</w>': ('.', '</w>'), 'Th': ('T', 'h'), 'The': ('Th', 'e'), 'The</w>': ('The', '</w>'), 'Wo': ('W', 'o'), 'Won': ('Wo', 'n'), 'Wond': ('Won', 'd'), 'Wonde': ('Wond', 'e'), 'Wonder': ('Wonde', 'r'), 'Wonderf': ('Wonder', 'f'), 'Wonderfu': ('Wonderf', 'u'), 'Wonderful</w>': ('Wonderfu', 'l</w>'), 'Wi': ('W', 'i'), 'Wiz': ('Wi', 'z'), 'Wiza': ('Wiz', 'a'), 'Wizar': ('Wiza', 'r'), 'Wizard': ('Wizar', 'd'), 'Wizard</w>': ('Wizard', '</w>'), 'of': ('o', 'f'), 'of</w>': ('of', '</w>'), 'Oz': ('O', 'z'), 'Oz</w>': ('Oz', '</w>'), 'is</w>': ('i', 's</w>'), 'a</w>': ('a', '</w>'), 'ch': ('c', 'h'), 'chi': ('ch', 'i'), 'chil': ('chi', 'l')}\n",
            "pairing: defaultdict(<class 'int'>, {('chil', 'd'): 1, ('d', 'r'): 1, ('r', 'en'): 1, ('en', \"'\"): 1, (\"'\", 's</w>'): 1, ('n', 'o'): 1, ('o', 'v'): 1, ('v', 'e'): 1, ('e', 'l</w>'): 1, ('w', 'r'): 1, ('r', 'i'): 1, ('i', 't'): 1, ('t', 't'): 1, ('t', 'en'): 1, ('en', '</w>'): 1, ('b', 'y'): 1, ('y', '</w>'): 1, ('L', '.</w>'): 1, ('F', 'r'): 1, ('r', 'a'): 1, ('a', 'n'): 1, ('n', 'k'): 1, ('k', '</w>'): 1, ('B', 'a'): 1, ('a', 'u'): 1, ('u', 'm'): 1, ('m', '.</w>'): 1})\n",
            "best1: ('chil', 'd')\n",
            "token_count: {'The</w>': 1, 'Wonderful</w>': 1, 'Wizard</w>': 1, 'of</w>': 1, 'Oz</w>': 1, 'is</w>': 1, 'a</w>': 1, \"child r en ' s</w>\": 1, 'n o v e l</w>': 1, 'w r i t t en </w>': 1, 'b y </w>': 1, 'L .</w>': 1, 'F r a n k </w>': 1, 'B a u m .</w>': 1}\n",
            "bpe_codes: {('l', '</w>'): 0, ('s', '</w>'): 1, ('e', 'n'): 2, ('.', '</w>'): 3, ('T', 'h'): 4, ('Th', 'e'): 5, ('The', '</w>'): 6, ('W', 'o'): 7, ('Wo', 'n'): 8, ('Won', 'd'): 9, ('Wond', 'e'): 10, ('Wonde', 'r'): 11, ('Wonder', 'f'): 12, ('Wonderf', 'u'): 13, ('Wonderfu', 'l</w>'): 14, ('W', 'i'): 15, ('Wi', 'z'): 16, ('Wiz', 'a'): 17, ('Wiza', 'r'): 18, ('Wizar', 'd'): 19, ('Wizard', '</w>'): 20, ('o', 'f'): 21, ('of', '</w>'): 22, ('O', 'z'): 23, ('Oz', '</w>'): 24, ('i', 's</w>'): 25, ('a', '</w>'): 26, ('c', 'h'): 27, ('ch', 'i'): 28, ('chi', 'l'): 29, ('chil', 'd'): 30}\n",
            "bpe_codes_reverse: {'l</w>': ('l', '</w>'), 's</w>': ('s', '</w>'), 'en': ('e', 'n'), '.</w>': ('.', '</w>'), 'Th': ('T', 'h'), 'The': ('Th', 'e'), 'The</w>': ('The', '</w>'), 'Wo': ('W', 'o'), 'Won': ('Wo', 'n'), 'Wond': ('Won', 'd'), 'Wonde': ('Wond', 'e'), 'Wonder': ('Wonde', 'r'), 'Wonderf': ('Wonder', 'f'), 'Wonderfu': ('Wonderf', 'u'), 'Wonderful</w>': ('Wonderfu', 'l</w>'), 'Wi': ('W', 'i'), 'Wiz': ('Wi', 'z'), 'Wiza': ('Wiz', 'a'), 'Wizar': ('Wiza', 'r'), 'Wizard': ('Wizar', 'd'), 'Wizard</w>': ('Wizard', '</w>'), 'of': ('o', 'f'), 'of</w>': ('of', '</w>'), 'Oz': ('O', 'z'), 'Oz</w>': ('Oz', '</w>'), 'is</w>': ('i', 's</w>'), 'a</w>': ('a', '</w>'), 'ch': ('c', 'h'), 'chi': ('ch', 'i'), 'chil': ('chi', 'l'), 'child': ('chil', 'd')}\n",
            "pairing: defaultdict(<class 'int'>, {('child', 'r'): 1, ('r', 'en'): 1, ('en', \"'\"): 1, (\"'\", 's</w>'): 1, ('n', 'o'): 1, ('o', 'v'): 1, ('v', 'e'): 1, ('e', 'l</w>'): 1, ('w', 'r'): 1, ('r', 'i'): 1, ('i', 't'): 1, ('t', 't'): 1, ('t', 'en'): 1, ('en', '</w>'): 1, ('b', 'y'): 1, ('y', '</w>'): 1, ('L', '.</w>'): 1, ('F', 'r'): 1, ('r', 'a'): 1, ('a', 'n'): 1, ('n', 'k'): 1, ('k', '</w>'): 1, ('B', 'a'): 1, ('a', 'u'): 1, ('u', 'm'): 1, ('m', '.</w>'): 1})\n",
            "best1: ('child', 'r')\n",
            "token_count: {'The</w>': 1, 'Wonderful</w>': 1, 'Wizard</w>': 1, 'of</w>': 1, 'Oz</w>': 1, 'is</w>': 1, 'a</w>': 1, \"childr en ' s</w>\": 1, 'n o v e l</w>': 1, 'w r i t t en </w>': 1, 'b y </w>': 1, 'L .</w>': 1, 'F r a n k </w>': 1, 'B a u m .</w>': 1}\n",
            "bpe_codes: {('l', '</w>'): 0, ('s', '</w>'): 1, ('e', 'n'): 2, ('.', '</w>'): 3, ('T', 'h'): 4, ('Th', 'e'): 5, ('The', '</w>'): 6, ('W', 'o'): 7, ('Wo', 'n'): 8, ('Won', 'd'): 9, ('Wond', 'e'): 10, ('Wonde', 'r'): 11, ('Wonder', 'f'): 12, ('Wonderf', 'u'): 13, ('Wonderfu', 'l</w>'): 14, ('W', 'i'): 15, ('Wi', 'z'): 16, ('Wiz', 'a'): 17, ('Wiza', 'r'): 18, ('Wizar', 'd'): 19, ('Wizard', '</w>'): 20, ('o', 'f'): 21, ('of', '</w>'): 22, ('O', 'z'): 23, ('Oz', '</w>'): 24, ('i', 's</w>'): 25, ('a', '</w>'): 26, ('c', 'h'): 27, ('ch', 'i'): 28, ('chi', 'l'): 29, ('chil', 'd'): 30, ('child', 'r'): 31}\n",
            "bpe_codes_reverse: {'l</w>': ('l', '</w>'), 's</w>': ('s', '</w>'), 'en': ('e', 'n'), '.</w>': ('.', '</w>'), 'Th': ('T', 'h'), 'The': ('Th', 'e'), 'The</w>': ('The', '</w>'), 'Wo': ('W', 'o'), 'Won': ('Wo', 'n'), 'Wond': ('Won', 'd'), 'Wonde': ('Wond', 'e'), 'Wonder': ('Wonde', 'r'), 'Wonderf': ('Wonder', 'f'), 'Wonderfu': ('Wonderf', 'u'), 'Wonderful</w>': ('Wonderfu', 'l</w>'), 'Wi': ('W', 'i'), 'Wiz': ('Wi', 'z'), 'Wiza': ('Wiz', 'a'), 'Wizar': ('Wiza', 'r'), 'Wizard': ('Wizar', 'd'), 'Wizard</w>': ('Wizard', '</w>'), 'of': ('o', 'f'), 'of</w>': ('of', '</w>'), 'Oz': ('O', 'z'), 'Oz</w>': ('Oz', '</w>'), 'is</w>': ('i', 's</w>'), 'a</w>': ('a', '</w>'), 'ch': ('c', 'h'), 'chi': ('ch', 'i'), 'chil': ('chi', 'l'), 'child': ('chil', 'd'), 'childr': ('child', 'r')}\n",
            "pairing: defaultdict(<class 'int'>, {('childr', 'en'): 1, ('en', \"'\"): 1, (\"'\", 's</w>'): 1, ('n', 'o'): 1, ('o', 'v'): 1, ('v', 'e'): 1, ('e', 'l</w>'): 1, ('w', 'r'): 1, ('r', 'i'): 1, ('i', 't'): 1, ('t', 't'): 1, ('t', 'en'): 1, ('en', '</w>'): 1, ('b', 'y'): 1, ('y', '</w>'): 1, ('L', '.</w>'): 1, ('F', 'r'): 1, ('r', 'a'): 1, ('a', 'n'): 1, ('n', 'k'): 1, ('k', '</w>'): 1, ('B', 'a'): 1, ('a', 'u'): 1, ('u', 'm'): 1, ('m', '.</w>'): 1})\n",
            "best1: ('childr', 'en')\n",
            "token_count: {'The</w>': 1, 'Wonderful</w>': 1, 'Wizard</w>': 1, 'of</w>': 1, 'Oz</w>': 1, 'is</w>': 1, 'a</w>': 1, \"children ' s</w>\": 1, 'n o v e l</w>': 1, 'w r i t t en </w>': 1, 'b y </w>': 1, 'L .</w>': 1, 'F r a n k </w>': 1, 'B a u m .</w>': 1}\n",
            "bpe_codes: {('l', '</w>'): 0, ('s', '</w>'): 1, ('e', 'n'): 2, ('.', '</w>'): 3, ('T', 'h'): 4, ('Th', 'e'): 5, ('The', '</w>'): 6, ('W', 'o'): 7, ('Wo', 'n'): 8, ('Won', 'd'): 9, ('Wond', 'e'): 10, ('Wonde', 'r'): 11, ('Wonder', 'f'): 12, ('Wonderf', 'u'): 13, ('Wonderfu', 'l</w>'): 14, ('W', 'i'): 15, ('Wi', 'z'): 16, ('Wiz', 'a'): 17, ('Wiza', 'r'): 18, ('Wizar', 'd'): 19, ('Wizard', '</w>'): 20, ('o', 'f'): 21, ('of', '</w>'): 22, ('O', 'z'): 23, ('Oz', '</w>'): 24, ('i', 's</w>'): 25, ('a', '</w>'): 26, ('c', 'h'): 27, ('ch', 'i'): 28, ('chi', 'l'): 29, ('chil', 'd'): 30, ('child', 'r'): 31, ('childr', 'en'): 32}\n",
            "bpe_codes_reverse: {'l</w>': ('l', '</w>'), 's</w>': ('s', '</w>'), 'en': ('e', 'n'), '.</w>': ('.', '</w>'), 'Th': ('T', 'h'), 'The': ('Th', 'e'), 'The</w>': ('The', '</w>'), 'Wo': ('W', 'o'), 'Won': ('Wo', 'n'), 'Wond': ('Won', 'd'), 'Wonde': ('Wond', 'e'), 'Wonder': ('Wonde', 'r'), 'Wonderf': ('Wonder', 'f'), 'Wonderfu': ('Wonderf', 'u'), 'Wonderful</w>': ('Wonderfu', 'l</w>'), 'Wi': ('W', 'i'), 'Wiz': ('Wi', 'z'), 'Wiza': ('Wiz', 'a'), 'Wizar': ('Wiza', 'r'), 'Wizard': ('Wizar', 'd'), 'Wizard</w>': ('Wizard', '</w>'), 'of': ('o', 'f'), 'of</w>': ('of', '</w>'), 'Oz': ('O', 'z'), 'Oz</w>': ('Oz', '</w>'), 'is</w>': ('i', 's</w>'), 'a</w>': ('a', '</w>'), 'ch': ('c', 'h'), 'chi': ('ch', 'i'), 'chil': ('chi', 'l'), 'child': ('chil', 'd'), 'childr': ('child', 'r'), 'children': ('childr', 'en')}\n",
            "pairing: defaultdict(<class 'int'>, {('children', \"'\"): 1, (\"'\", 's</w>'): 1, ('n', 'o'): 1, ('o', 'v'): 1, ('v', 'e'): 1, ('e', 'l</w>'): 1, ('w', 'r'): 1, ('r', 'i'): 1, ('i', 't'): 1, ('t', 't'): 1, ('t', 'en'): 1, ('en', '</w>'): 1, ('b', 'y'): 1, ('y', '</w>'): 1, ('L', '.</w>'): 1, ('F', 'r'): 1, ('r', 'a'): 1, ('a', 'n'): 1, ('n', 'k'): 1, ('k', '</w>'): 1, ('B', 'a'): 1, ('a', 'u'): 1, ('u', 'm'): 1, ('m', '.</w>'): 1})\n",
            "best1: ('children', \"'\")\n",
            "token_count: {'The</w>': 1, 'Wonderful</w>': 1, 'Wizard</w>': 1, 'of</w>': 1, 'Oz</w>': 1, 'is</w>': 1, 'a</w>': 1, \"children' s</w>\": 1, 'n o v e l</w>': 1, 'w r i t t en </w>': 1, 'b y </w>': 1, 'L .</w>': 1, 'F r a n k </w>': 1, 'B a u m .</w>': 1}\n",
            "bpe_codes: {('l', '</w>'): 0, ('s', '</w>'): 1, ('e', 'n'): 2, ('.', '</w>'): 3, ('T', 'h'): 4, ('Th', 'e'): 5, ('The', '</w>'): 6, ('W', 'o'): 7, ('Wo', 'n'): 8, ('Won', 'd'): 9, ('Wond', 'e'): 10, ('Wonde', 'r'): 11, ('Wonder', 'f'): 12, ('Wonderf', 'u'): 13, ('Wonderfu', 'l</w>'): 14, ('W', 'i'): 15, ('Wi', 'z'): 16, ('Wiz', 'a'): 17, ('Wiza', 'r'): 18, ('Wizar', 'd'): 19, ('Wizard', '</w>'): 20, ('o', 'f'): 21, ('of', '</w>'): 22, ('O', 'z'): 23, ('Oz', '</w>'): 24, ('i', 's</w>'): 25, ('a', '</w>'): 26, ('c', 'h'): 27, ('ch', 'i'): 28, ('chi', 'l'): 29, ('chil', 'd'): 30, ('child', 'r'): 31, ('childr', 'en'): 32, ('children', \"'\"): 33}\n",
            "bpe_codes_reverse: {'l</w>': ('l', '</w>'), 's</w>': ('s', '</w>'), 'en': ('e', 'n'), '.</w>': ('.', '</w>'), 'Th': ('T', 'h'), 'The': ('Th', 'e'), 'The</w>': ('The', '</w>'), 'Wo': ('W', 'o'), 'Won': ('Wo', 'n'), 'Wond': ('Won', 'd'), 'Wonde': ('Wond', 'e'), 'Wonder': ('Wonde', 'r'), 'Wonderf': ('Wonder', 'f'), 'Wonderfu': ('Wonderf', 'u'), 'Wonderful</w>': ('Wonderfu', 'l</w>'), 'Wi': ('W', 'i'), 'Wiz': ('Wi', 'z'), 'Wiza': ('Wiz', 'a'), 'Wizar': ('Wiza', 'r'), 'Wizard': ('Wizar', 'd'), 'Wizard</w>': ('Wizard', '</w>'), 'of': ('o', 'f'), 'of</w>': ('of', '</w>'), 'Oz': ('O', 'z'), 'Oz</w>': ('Oz', '</w>'), 'is</w>': ('i', 's</w>'), 'a</w>': ('a', '</w>'), 'ch': ('c', 'h'), 'chi': ('ch', 'i'), 'chil': ('chi', 'l'), 'child': ('chil', 'd'), 'childr': ('child', 'r'), 'children': ('childr', 'en'), \"children'\": ('children', \"'\")}\n",
            "pairing: defaultdict(<class 'int'>, {(\"children'\", 's</w>'): 1, ('n', 'o'): 1, ('o', 'v'): 1, ('v', 'e'): 1, ('e', 'l</w>'): 1, ('w', 'r'): 1, ('r', 'i'): 1, ('i', 't'): 1, ('t', 't'): 1, ('t', 'en'): 1, ('en', '</w>'): 1, ('b', 'y'): 1, ('y', '</w>'): 1, ('L', '.</w>'): 1, ('F', 'r'): 1, ('r', 'a'): 1, ('a', 'n'): 1, ('n', 'k'): 1, ('k', '</w>'): 1, ('B', 'a'): 1, ('a', 'u'): 1, ('u', 'm'): 1, ('m', '.</w>'): 1})\n",
            "best1: (\"children'\", 's</w>')\n",
            "token_count: {'The</w>': 1, 'Wonderful</w>': 1, 'Wizard</w>': 1, 'of</w>': 1, 'Oz</w>': 1, 'is</w>': 1, 'a</w>': 1, \"children's</w>\": 1, 'n o v e l</w>': 1, 'w r i t t en </w>': 1, 'b y </w>': 1, 'L .</w>': 1, 'F r a n k </w>': 1, 'B a u m .</w>': 1}\n",
            "bpe_codes: {('l', '</w>'): 0, ('s', '</w>'): 1, ('e', 'n'): 2, ('.', '</w>'): 3, ('T', 'h'): 4, ('Th', 'e'): 5, ('The', '</w>'): 6, ('W', 'o'): 7, ('Wo', 'n'): 8, ('Won', 'd'): 9, ('Wond', 'e'): 10, ('Wonde', 'r'): 11, ('Wonder', 'f'): 12, ('Wonderf', 'u'): 13, ('Wonderfu', 'l</w>'): 14, ('W', 'i'): 15, ('Wi', 'z'): 16, ('Wiz', 'a'): 17, ('Wiza', 'r'): 18, ('Wizar', 'd'): 19, ('Wizard', '</w>'): 20, ('o', 'f'): 21, ('of', '</w>'): 22, ('O', 'z'): 23, ('Oz', '</w>'): 24, ('i', 's</w>'): 25, ('a', '</w>'): 26, ('c', 'h'): 27, ('ch', 'i'): 28, ('chi', 'l'): 29, ('chil', 'd'): 30, ('child', 'r'): 31, ('childr', 'en'): 32, ('children', \"'\"): 33, (\"children'\", 's</w>'): 34}\n",
            "bpe_codes_reverse: {'l</w>': ('l', '</w>'), 's</w>': ('s', '</w>'), 'en': ('e', 'n'), '.</w>': ('.', '</w>'), 'Th': ('T', 'h'), 'The': ('Th', 'e'), 'The</w>': ('The', '</w>'), 'Wo': ('W', 'o'), 'Won': ('Wo', 'n'), 'Wond': ('Won', 'd'), 'Wonde': ('Wond', 'e'), 'Wonder': ('Wonde', 'r'), 'Wonderf': ('Wonder', 'f'), 'Wonderfu': ('Wonderf', 'u'), 'Wonderful</w>': ('Wonderfu', 'l</w>'), 'Wi': ('W', 'i'), 'Wiz': ('Wi', 'z'), 'Wiza': ('Wiz', 'a'), 'Wizar': ('Wiza', 'r'), 'Wizard': ('Wizar', 'd'), 'Wizard</w>': ('Wizard', '</w>'), 'of': ('o', 'f'), 'of</w>': ('of', '</w>'), 'Oz': ('O', 'z'), 'Oz</w>': ('Oz', '</w>'), 'is</w>': ('i', 's</w>'), 'a</w>': ('a', '</w>'), 'ch': ('c', 'h'), 'chi': ('ch', 'i'), 'chil': ('chi', 'l'), 'child': ('chil', 'd'), 'childr': ('child', 'r'), 'children': ('childr', 'en'), \"children'\": ('children', \"'\"), \"children's</w>\": (\"children'\", 's</w>')}\n",
            "pairing: defaultdict(<class 'int'>, {('n', 'o'): 1, ('o', 'v'): 1, ('v', 'e'): 1, ('e', 'l</w>'): 1, ('w', 'r'): 1, ('r', 'i'): 1, ('i', 't'): 1, ('t', 't'): 1, ('t', 'en'): 1, ('en', '</w>'): 1, ('b', 'y'): 1, ('y', '</w>'): 1, ('L', '.</w>'): 1, ('F', 'r'): 1, ('r', 'a'): 1, ('a', 'n'): 1, ('n', 'k'): 1, ('k', '</w>'): 1, ('B', 'a'): 1, ('a', 'u'): 1, ('u', 'm'): 1, ('m', '.</w>'): 1})\n",
            "best1: ('n', 'o')\n",
            "token_count: {'The</w>': 1, 'Wonderful</w>': 1, 'Wizard</w>': 1, 'of</w>': 1, 'Oz</w>': 1, 'is</w>': 1, 'a</w>': 1, \"children's</w>\": 1, 'no v e l</w>': 1, 'w r i t t en </w>': 1, 'b y </w>': 1, 'L .</w>': 1, 'F r a n k </w>': 1, 'B a u m .</w>': 1}\n",
            "bpe_codes: {('l', '</w>'): 0, ('s', '</w>'): 1, ('e', 'n'): 2, ('.', '</w>'): 3, ('T', 'h'): 4, ('Th', 'e'): 5, ('The', '</w>'): 6, ('W', 'o'): 7, ('Wo', 'n'): 8, ('Won', 'd'): 9, ('Wond', 'e'): 10, ('Wonde', 'r'): 11, ('Wonder', 'f'): 12, ('Wonderf', 'u'): 13, ('Wonderfu', 'l</w>'): 14, ('W', 'i'): 15, ('Wi', 'z'): 16, ('Wiz', 'a'): 17, ('Wiza', 'r'): 18, ('Wizar', 'd'): 19, ('Wizard', '</w>'): 20, ('o', 'f'): 21, ('of', '</w>'): 22, ('O', 'z'): 23, ('Oz', '</w>'): 24, ('i', 's</w>'): 25, ('a', '</w>'): 26, ('c', 'h'): 27, ('ch', 'i'): 28, ('chi', 'l'): 29, ('chil', 'd'): 30, ('child', 'r'): 31, ('childr', 'en'): 32, ('children', \"'\"): 33, (\"children'\", 's</w>'): 34, ('n', 'o'): 35}\n",
            "bpe_codes_reverse: {'l</w>': ('l', '</w>'), 's</w>': ('s', '</w>'), 'en': ('e', 'n'), '.</w>': ('.', '</w>'), 'Th': ('T', 'h'), 'The': ('Th', 'e'), 'The</w>': ('The', '</w>'), 'Wo': ('W', 'o'), 'Won': ('Wo', 'n'), 'Wond': ('Won', 'd'), 'Wonde': ('Wond', 'e'), 'Wonder': ('Wonde', 'r'), 'Wonderf': ('Wonder', 'f'), 'Wonderfu': ('Wonderf', 'u'), 'Wonderful</w>': ('Wonderfu', 'l</w>'), 'Wi': ('W', 'i'), 'Wiz': ('Wi', 'z'), 'Wiza': ('Wiz', 'a'), 'Wizar': ('Wiza', 'r'), 'Wizard': ('Wizar', 'd'), 'Wizard</w>': ('Wizard', '</w>'), 'of': ('o', 'f'), 'of</w>': ('of', '</w>'), 'Oz': ('O', 'z'), 'Oz</w>': ('Oz', '</w>'), 'is</w>': ('i', 's</w>'), 'a</w>': ('a', '</w>'), 'ch': ('c', 'h'), 'chi': ('ch', 'i'), 'chil': ('chi', 'l'), 'child': ('chil', 'd'), 'childr': ('child', 'r'), 'children': ('childr', 'en'), \"children'\": ('children', \"'\"), \"children's</w>\": (\"children'\", 's</w>'), 'no': ('n', 'o')}\n"
          ]
        }
      ]
    },
    {
      "cell_type": "code",
      "source": [
        "# bpe_codes: {('l', '</w>'): 0, ('s', '</w>'): 1, ('e', 'n'): 2, ('.', '</w>'): 3, ('T', 'h'): 4, ('Th', 'e'): 5, ('The', '</w>'): 6, ('W', 'o'): 7, ('Wo', 'n'): 8, ('Won', 'd'): 9, ('Wond', 'e'): 10, ('Wonde', 'r'): 11, ('Wonder', 'f'): 12, ('Wonderf', 'u'): 13, ('Wonderfu', 'l</w>'): 14, ('W', 'i'): 15, ('Wi', 'z'): 16, ('Wiz', 'a'): 17, ('Wiza', 'r'): 18, ('Wizar', 'd'): 19, ('Wizard', '</w>'): 20, ('o', 'f'): 21, ('of', '</w>'): 22, ('O', 'z'): 23, ('Oz', '</w>'): 24, ('i', 's</w>'): 25, ('a', '</w>'): 26, ('c', 'h'): 27, ('ch', 'i'): 28, ('chi', 'l'): 29, ('chil', 'd'): 30, ('child', 'r'): 31, ('childr', 'en'): 32, ('children', \"'\"): 33, (\"children'\", 's</w>'): 34, ('n', 'o'): 35}\n",
        "# bpe_codes_reverse: {'l</w>': ('l', '</w>'), 's</w>': ('s', '</w>'), 'en': ('e', 'n'), '.</w>': ('.', '</w>'), 'Th': ('T', 'h'), 'The': ('Th', 'e'), 'The</w>': ('The', '</w>'), 'Wo': ('W', 'o'), 'Won': ('Wo', 'n'), 'Wond': ('Won', 'd'), 'Wonde': ('Wond', 'e'), 'Wonder': ('Wonde', 'r'), 'Wonderf': ('Wonder', 'f'), 'Wonderfu': ('Wonderf', 'u'), 'Wonderful</w>': ('Wonderfu', 'l</w>'), 'Wi': ('W', 'i'), 'Wiz': ('Wi', 'z'), 'Wiza': ('Wiz', 'a'), 'Wizar': ('Wiza', 'r'), 'Wizard': ('Wizar', 'd'), 'Wizard</w>': ('Wizard', '</w>'), 'of': ('o', 'f'), 'of</w>': ('of', '</w>'), 'Oz': ('O', 'z'), 'Oz</w>': ('Oz', '</w>'), 'is</w>': ('i', 's</w>'), 'a</w>': ('a', '</w>'), 'ch': ('c', 'h'), 'chi': ('ch', 'i'), 'chil': ('chi', 'l'), 'child': ('chil', 'd'), 'childr': ('child', 'r'), 'children': ('childr', 'en'), \"children'\": ('children', \"'\"), \"children's</w>\": (\"children'\", 's</w>'), 'no': ('n', 'o')}"
      ],
      "metadata": {
        "id": "4bnQVrUyN3pM"
      },
      "execution_count": null,
      "outputs": []
    },
    {
      "cell_type": "code",
      "source": [
        "bpe_ready = fit_bpe(token_count)"
      ],
      "metadata": {
        "colab": {
          "base_uri": "https://localhost:8080/"
        },
        "id": "n3sUum-eOZxJ",
        "outputId": "b1407414-ad5c-4a3f-e23b-d13c1738f78c"
      },
      "execution_count": null,
      "outputs": [
        {
          "output_type": "stream",
          "name": "stdout",
          "text": [
            "pairing: defaultdict(<class 'int'>, {('T', 'h'): 1, ('h', 'e'): 1, ('e', '</w>'): 1, ('W', 'o'): 1, ('o', 'n'): 1, ('n', 'd'): 1, ('d', 'e'): 1, ('e', 'r'): 1, ('r', 'f'): 1, ('f', 'u'): 1, ('u', 'l'): 1, ('l', '</w>'): 2, ('W', 'i'): 1, ('i', 'z'): 1, ('z', 'a'): 1, ('a', 'r'): 1, ('r', 'd'): 1, ('d', '</w>'): 1, ('o', 'f'): 1, ('f', '</w>'): 1, ('O', 'z'): 1, ('z', '</w>'): 1, ('i', 's'): 1, ('s', '</w>'): 2, ('a', '</w>'): 1, ('c', 'h'): 1, ('h', 'i'): 1, ('i', 'l'): 1, ('l', 'd'): 1, ('d', 'r'): 1, ('r', 'e'): 1, ('e', 'n'): 2, ('n', \"'\"): 1, (\"'\", 's'): 1, ('n', 'o'): 1, ('o', 'v'): 1, ('v', 'e'): 1, ('e', 'l'): 1, ('w', 'r'): 1, ('r', 'i'): 1, ('i', 't'): 1, ('t', 't'): 1, ('t', 'e'): 1, ('n', '</w>'): 1, ('b', 'y'): 1, ('y', '</w>'): 1, ('L', '.'): 1, ('.', '</w>'): 2, ('F', 'r'): 1, ('r', 'a'): 1, ('a', 'n'): 1, ('n', 'k'): 1, ('k', '</w>'): 1, ('B', 'a'): 1, ('a', 'u'): 1, ('u', 'm'): 1, ('m', '.'): 1})\n",
            "best1: ('l', '</w>')\n",
            "token_count: {'T h e </w>': 1, 'W o n d e r f u l</w>': 1, 'W i z a r d </w>': 1, 'o f </w>': 1, 'O z </w>': 1, 'i s </w>': 1, 'a </w>': 1, \"c h i l d r e n ' s </w>\": 1, 'n o v e l</w>': 1, 'w r i t t e n </w>': 1, 'b y </w>': 1, 'L . </w>': 1, 'F r a n k </w>': 1, 'B a u m . </w>': 1}\n",
            "bpe_codes: {('l', '</w>'): 0, ('s', '</w>'): 1, ('e', 'n'): 2, ('.', '</w>'): 3, ('T', 'h'): 4, ('Th', 'e'): 5, ('The', '</w>'): 6, ('W', 'o'): 7, ('Wo', 'n'): 8, ('Won', 'd'): 9, ('Wond', 'e'): 10, ('Wonde', 'r'): 11, ('Wonder', 'f'): 12, ('Wonderf', 'u'): 13, ('Wonderfu', 'l</w>'): 14, ('W', 'i'): 15, ('Wi', 'z'): 16, ('Wiz', 'a'): 17, ('Wiza', 'r'): 18, ('Wizar', 'd'): 19, ('Wizard', '</w>'): 20, ('o', 'f'): 21, ('of', '</w>'): 22, ('O', 'z'): 23, ('Oz', '</w>'): 24, ('i', 's</w>'): 25, ('a', '</w>'): 26, ('c', 'h'): 27, ('ch', 'i'): 28, ('chi', 'l'): 29, ('chil', 'd'): 30, ('child', 'r'): 31, ('childr', 'en'): 32, ('children', \"'\"): 33, (\"children'\", 's</w>'): 34, ('n', 'o'): 35}\n",
            "bpe_codes_reverse: {'l</w>': ('l', '</w>'), 's</w>': ('s', '</w>'), 'en': ('e', 'n'), '.</w>': ('.', '</w>'), 'Th': ('T', 'h'), 'The': ('Th', 'e'), 'The</w>': ('The', '</w>'), 'Wo': ('W', 'o'), 'Won': ('Wo', 'n'), 'Wond': ('Won', 'd'), 'Wonde': ('Wond', 'e'), 'Wonder': ('Wonde', 'r'), 'Wonderf': ('Wonder', 'f'), 'Wonderfu': ('Wonderf', 'u'), 'Wonderful</w>': ('Wonderfu', 'l</w>'), 'Wi': ('W', 'i'), 'Wiz': ('Wi', 'z'), 'Wiza': ('Wiz', 'a'), 'Wizar': ('Wiza', 'r'), 'Wizard': ('Wizar', 'd'), 'Wizard</w>': ('Wizard', '</w>'), 'of': ('o', 'f'), 'of</w>': ('of', '</w>'), 'Oz': ('O', 'z'), 'Oz</w>': ('Oz', '</w>'), 'is</w>': ('i', 's</w>'), 'a</w>': ('a', '</w>'), 'ch': ('c', 'h'), 'chi': ('ch', 'i'), 'chil': ('chi', 'l'), 'child': ('chil', 'd'), 'childr': ('child', 'r'), 'children': ('childr', 'en'), \"children'\": ('children', \"'\"), \"children's</w>\": (\"children'\", 's</w>'), 'no': ('n', 'o')}\n",
            "pairing: defaultdict(<class 'int'>, {('T', 'h'): 1, ('h', 'e'): 1, ('e', '</w>'): 1, ('W', 'o'): 1, ('o', 'n'): 1, ('n', 'd'): 1, ('d', 'e'): 1, ('e', 'r'): 1, ('r', 'f'): 1, ('f', 'u'): 1, ('u', 'l</w>'): 1, ('W', 'i'): 1, ('i', 'z'): 1, ('z', 'a'): 1, ('a', 'r'): 1, ('r', 'd'): 1, ('d', '</w>'): 1, ('o', 'f'): 1, ('f', '</w>'): 1, ('O', 'z'): 1, ('z', '</w>'): 1, ('i', 's'): 1, ('s', '</w>'): 2, ('a', '</w>'): 1, ('c', 'h'): 1, ('h', 'i'): 1, ('i', 'l'): 1, ('l', 'd'): 1, ('d', 'r'): 1, ('r', 'e'): 1, ('e', 'n'): 2, ('n', \"'\"): 1, (\"'\", 's'): 1, ('n', 'o'): 1, ('o', 'v'): 1, ('v', 'e'): 1, ('e', 'l</w>'): 1, ('w', 'r'): 1, ('r', 'i'): 1, ('i', 't'): 1, ('t', 't'): 1, ('t', 'e'): 1, ('n', '</w>'): 1, ('b', 'y'): 1, ('y', '</w>'): 1, ('L', '.'): 1, ('.', '</w>'): 2, ('F', 'r'): 1, ('r', 'a'): 1, ('a', 'n'): 1, ('n', 'k'): 1, ('k', '</w>'): 1, ('B', 'a'): 1, ('a', 'u'): 1, ('u', 'm'): 1, ('m', '.'): 1})\n",
            "best1: ('s', '</w>')\n",
            "token_count: {'T h e </w>': 1, 'W o n d e r f u l</w>': 1, 'W i z a r d </w>': 1, 'o f </w>': 1, 'O z </w>': 1, 'i s</w>': 1, 'a </w>': 1, \"c h i l d r e n ' s</w>\": 1, 'n o v e l</w>': 1, 'w r i t t e n </w>': 1, 'b y </w>': 1, 'L . </w>': 1, 'F r a n k </w>': 1, 'B a u m . </w>': 1}\n",
            "bpe_codes: {('l', '</w>'): 0, ('s', '</w>'): 1, ('e', 'n'): 2, ('.', '</w>'): 3, ('T', 'h'): 4, ('Th', 'e'): 5, ('The', '</w>'): 6, ('W', 'o'): 7, ('Wo', 'n'): 8, ('Won', 'd'): 9, ('Wond', 'e'): 10, ('Wonde', 'r'): 11, ('Wonder', 'f'): 12, ('Wonderf', 'u'): 13, ('Wonderfu', 'l</w>'): 14, ('W', 'i'): 15, ('Wi', 'z'): 16, ('Wiz', 'a'): 17, ('Wiza', 'r'): 18, ('Wizar', 'd'): 19, ('Wizard', '</w>'): 20, ('o', 'f'): 21, ('of', '</w>'): 22, ('O', 'z'): 23, ('Oz', '</w>'): 24, ('i', 's</w>'): 25, ('a', '</w>'): 26, ('c', 'h'): 27, ('ch', 'i'): 28, ('chi', 'l'): 29, ('chil', 'd'): 30, ('child', 'r'): 31, ('childr', 'en'): 32, ('children', \"'\"): 33, (\"children'\", 's</w>'): 34, ('n', 'o'): 35}\n",
            "bpe_codes_reverse: {'l</w>': ('l', '</w>'), 's</w>': ('s', '</w>'), 'en': ('e', 'n'), '.</w>': ('.', '</w>'), 'Th': ('T', 'h'), 'The': ('Th', 'e'), 'The</w>': ('The', '</w>'), 'Wo': ('W', 'o'), 'Won': ('Wo', 'n'), 'Wond': ('Won', 'd'), 'Wonde': ('Wond', 'e'), 'Wonder': ('Wonde', 'r'), 'Wonderf': ('Wonder', 'f'), 'Wonderfu': ('Wonderf', 'u'), 'Wonderful</w>': ('Wonderfu', 'l</w>'), 'Wi': ('W', 'i'), 'Wiz': ('Wi', 'z'), 'Wiza': ('Wiz', 'a'), 'Wizar': ('Wiza', 'r'), 'Wizard': ('Wizar', 'd'), 'Wizard</w>': ('Wizard', '</w>'), 'of': ('o', 'f'), 'of</w>': ('of', '</w>'), 'Oz': ('O', 'z'), 'Oz</w>': ('Oz', '</w>'), 'is</w>': ('i', 's</w>'), 'a</w>': ('a', '</w>'), 'ch': ('c', 'h'), 'chi': ('ch', 'i'), 'chil': ('chi', 'l'), 'child': ('chil', 'd'), 'childr': ('child', 'r'), 'children': ('childr', 'en'), \"children'\": ('children', \"'\"), \"children's</w>\": (\"children'\", 's</w>'), 'no': ('n', 'o')}\n",
            "pairing: defaultdict(<class 'int'>, {('T', 'h'): 1, ('h', 'e'): 1, ('e', '</w>'): 1, ('W', 'o'): 1, ('o', 'n'): 1, ('n', 'd'): 1, ('d', 'e'): 1, ('e', 'r'): 1, ('r', 'f'): 1, ('f', 'u'): 1, ('u', 'l</w>'): 1, ('W', 'i'): 1, ('i', 'z'): 1, ('z', 'a'): 1, ('a', 'r'): 1, ('r', 'd'): 1, ('d', '</w>'): 1, ('o', 'f'): 1, ('f', '</w>'): 1, ('O', 'z'): 1, ('z', '</w>'): 1, ('i', 's</w>'): 1, ('a', '</w>'): 1, ('c', 'h'): 1, ('h', 'i'): 1, ('i', 'l'): 1, ('l', 'd'): 1, ('d', 'r'): 1, ('r', 'e'): 1, ('e', 'n'): 2, ('n', \"'\"): 1, (\"'\", 's</w>'): 1, ('n', 'o'): 1, ('o', 'v'): 1, ('v', 'e'): 1, ('e', 'l</w>'): 1, ('w', 'r'): 1, ('r', 'i'): 1, ('i', 't'): 1, ('t', 't'): 1, ('t', 'e'): 1, ('n', '</w>'): 1, ('b', 'y'): 1, ('y', '</w>'): 1, ('L', '.'): 1, ('.', '</w>'): 2, ('F', 'r'): 1, ('r', 'a'): 1, ('a', 'n'): 1, ('n', 'k'): 1, ('k', '</w>'): 1, ('B', 'a'): 1, ('a', 'u'): 1, ('u', 'm'): 1, ('m', '.'): 1})\n",
            "best1: ('e', 'n')\n",
            "token_count: {'T h e </w>': 1, 'W o n d e r f u l</w>': 1, 'W i z a r d </w>': 1, 'o f </w>': 1, 'O z </w>': 1, 'i s</w>': 1, 'a </w>': 1, \"c h i l d r en ' s</w>\": 1, 'n o v e l</w>': 1, 'w r i t t en </w>': 1, 'b y </w>': 1, 'L . </w>': 1, 'F r a n k </w>': 1, 'B a u m . </w>': 1}\n",
            "bpe_codes: {('l', '</w>'): 0, ('s', '</w>'): 1, ('e', 'n'): 2, ('.', '</w>'): 3, ('T', 'h'): 4, ('Th', 'e'): 5, ('The', '</w>'): 6, ('W', 'o'): 7, ('Wo', 'n'): 8, ('Won', 'd'): 9, ('Wond', 'e'): 10, ('Wonde', 'r'): 11, ('Wonder', 'f'): 12, ('Wonderf', 'u'): 13, ('Wonderfu', 'l</w>'): 14, ('W', 'i'): 15, ('Wi', 'z'): 16, ('Wiz', 'a'): 17, ('Wiza', 'r'): 18, ('Wizar', 'd'): 19, ('Wizard', '</w>'): 20, ('o', 'f'): 21, ('of', '</w>'): 22, ('O', 'z'): 23, ('Oz', '</w>'): 24, ('i', 's</w>'): 25, ('a', '</w>'): 26, ('c', 'h'): 27, ('ch', 'i'): 28, ('chi', 'l'): 29, ('chil', 'd'): 30, ('child', 'r'): 31, ('childr', 'en'): 32, ('children', \"'\"): 33, (\"children'\", 's</w>'): 34, ('n', 'o'): 35}\n",
            "bpe_codes_reverse: {'l</w>': ('l', '</w>'), 's</w>': ('s', '</w>'), 'en': ('e', 'n'), '.</w>': ('.', '</w>'), 'Th': ('T', 'h'), 'The': ('Th', 'e'), 'The</w>': ('The', '</w>'), 'Wo': ('W', 'o'), 'Won': ('Wo', 'n'), 'Wond': ('Won', 'd'), 'Wonde': ('Wond', 'e'), 'Wonder': ('Wonde', 'r'), 'Wonderf': ('Wonder', 'f'), 'Wonderfu': ('Wonderf', 'u'), 'Wonderful</w>': ('Wonderfu', 'l</w>'), 'Wi': ('W', 'i'), 'Wiz': ('Wi', 'z'), 'Wiza': ('Wiz', 'a'), 'Wizar': ('Wiza', 'r'), 'Wizard': ('Wizar', 'd'), 'Wizard</w>': ('Wizard', '</w>'), 'of': ('o', 'f'), 'of</w>': ('of', '</w>'), 'Oz': ('O', 'z'), 'Oz</w>': ('Oz', '</w>'), 'is</w>': ('i', 's</w>'), 'a</w>': ('a', '</w>'), 'ch': ('c', 'h'), 'chi': ('ch', 'i'), 'chil': ('chi', 'l'), 'child': ('chil', 'd'), 'childr': ('child', 'r'), 'children': ('childr', 'en'), \"children'\": ('children', \"'\"), \"children's</w>\": (\"children'\", 's</w>'), 'no': ('n', 'o')}\n",
            "pairing: defaultdict(<class 'int'>, {('T', 'h'): 1, ('h', 'e'): 1, ('e', '</w>'): 1, ('W', 'o'): 1, ('o', 'n'): 1, ('n', 'd'): 1, ('d', 'e'): 1, ('e', 'r'): 1, ('r', 'f'): 1, ('f', 'u'): 1, ('u', 'l</w>'): 1, ('W', 'i'): 1, ('i', 'z'): 1, ('z', 'a'): 1, ('a', 'r'): 1, ('r', 'd'): 1, ('d', '</w>'): 1, ('o', 'f'): 1, ('f', '</w>'): 1, ('O', 'z'): 1, ('z', '</w>'): 1, ('i', 's</w>'): 1, ('a', '</w>'): 1, ('c', 'h'): 1, ('h', 'i'): 1, ('i', 'l'): 1, ('l', 'd'): 1, ('d', 'r'): 1, ('r', 'en'): 1, ('en', \"'\"): 1, (\"'\", 's</w>'): 1, ('n', 'o'): 1, ('o', 'v'): 1, ('v', 'e'): 1, ('e', 'l</w>'): 1, ('w', 'r'): 1, ('r', 'i'): 1, ('i', 't'): 1, ('t', 't'): 1, ('t', 'en'): 1, ('en', '</w>'): 1, ('b', 'y'): 1, ('y', '</w>'): 1, ('L', '.'): 1, ('.', '</w>'): 2, ('F', 'r'): 1, ('r', 'a'): 1, ('a', 'n'): 1, ('n', 'k'): 1, ('k', '</w>'): 1, ('B', 'a'): 1, ('a', 'u'): 1, ('u', 'm'): 1, ('m', '.'): 1})\n",
            "best1: ('.', '</w>')\n",
            "token_count: {'T h e </w>': 1, 'W o n d e r f u l</w>': 1, 'W i z a r d </w>': 1, 'o f </w>': 1, 'O z </w>': 1, 'i s</w>': 1, 'a </w>': 1, \"c h i l d r en ' s</w>\": 1, 'n o v e l</w>': 1, 'w r i t t en </w>': 1, 'b y </w>': 1, 'L .</w>': 1, 'F r a n k </w>': 1, 'B a u m .</w>': 1}\n",
            "bpe_codes: {('l', '</w>'): 0, ('s', '</w>'): 1, ('e', 'n'): 2, ('.', '</w>'): 3, ('T', 'h'): 4, ('Th', 'e'): 5, ('The', '</w>'): 6, ('W', 'o'): 7, ('Wo', 'n'): 8, ('Won', 'd'): 9, ('Wond', 'e'): 10, ('Wonde', 'r'): 11, ('Wonder', 'f'): 12, ('Wonderf', 'u'): 13, ('Wonderfu', 'l</w>'): 14, ('W', 'i'): 15, ('Wi', 'z'): 16, ('Wiz', 'a'): 17, ('Wiza', 'r'): 18, ('Wizar', 'd'): 19, ('Wizard', '</w>'): 20, ('o', 'f'): 21, ('of', '</w>'): 22, ('O', 'z'): 23, ('Oz', '</w>'): 24, ('i', 's</w>'): 25, ('a', '</w>'): 26, ('c', 'h'): 27, ('ch', 'i'): 28, ('chi', 'l'): 29, ('chil', 'd'): 30, ('child', 'r'): 31, ('childr', 'en'): 32, ('children', \"'\"): 33, (\"children'\", 's</w>'): 34, ('n', 'o'): 35}\n",
            "bpe_codes_reverse: {'l</w>': ('l', '</w>'), 's</w>': ('s', '</w>'), 'en': ('e', 'n'), '.</w>': ('.', '</w>'), 'Th': ('T', 'h'), 'The': ('Th', 'e'), 'The</w>': ('The', '</w>'), 'Wo': ('W', 'o'), 'Won': ('Wo', 'n'), 'Wond': ('Won', 'd'), 'Wonde': ('Wond', 'e'), 'Wonder': ('Wonde', 'r'), 'Wonderf': ('Wonder', 'f'), 'Wonderfu': ('Wonderf', 'u'), 'Wonderful</w>': ('Wonderfu', 'l</w>'), 'Wi': ('W', 'i'), 'Wiz': ('Wi', 'z'), 'Wiza': ('Wiz', 'a'), 'Wizar': ('Wiza', 'r'), 'Wizard': ('Wizar', 'd'), 'Wizard</w>': ('Wizard', '</w>'), 'of': ('o', 'f'), 'of</w>': ('of', '</w>'), 'Oz': ('O', 'z'), 'Oz</w>': ('Oz', '</w>'), 'is</w>': ('i', 's</w>'), 'a</w>': ('a', '</w>'), 'ch': ('c', 'h'), 'chi': ('ch', 'i'), 'chil': ('chi', 'l'), 'child': ('chil', 'd'), 'childr': ('child', 'r'), 'children': ('childr', 'en'), \"children'\": ('children', \"'\"), \"children's</w>\": (\"children'\", 's</w>'), 'no': ('n', 'o')}\n",
            "pairing: defaultdict(<class 'int'>, {('T', 'h'): 1, ('h', 'e'): 1, ('e', '</w>'): 1, ('W', 'o'): 1, ('o', 'n'): 1, ('n', 'd'): 1, ('d', 'e'): 1, ('e', 'r'): 1, ('r', 'f'): 1, ('f', 'u'): 1, ('u', 'l</w>'): 1, ('W', 'i'): 1, ('i', 'z'): 1, ('z', 'a'): 1, ('a', 'r'): 1, ('r', 'd'): 1, ('d', '</w>'): 1, ('o', 'f'): 1, ('f', '</w>'): 1, ('O', 'z'): 1, ('z', '</w>'): 1, ('i', 's</w>'): 1, ('a', '</w>'): 1, ('c', 'h'): 1, ('h', 'i'): 1, ('i', 'l'): 1, ('l', 'd'): 1, ('d', 'r'): 1, ('r', 'en'): 1, ('en', \"'\"): 1, (\"'\", 's</w>'): 1, ('n', 'o'): 1, ('o', 'v'): 1, ('v', 'e'): 1, ('e', 'l</w>'): 1, ('w', 'r'): 1, ('r', 'i'): 1, ('i', 't'): 1, ('t', 't'): 1, ('t', 'en'): 1, ('en', '</w>'): 1, ('b', 'y'): 1, ('y', '</w>'): 1, ('L', '.</w>'): 1, ('F', 'r'): 1, ('r', 'a'): 1, ('a', 'n'): 1, ('n', 'k'): 1, ('k', '</w>'): 1, ('B', 'a'): 1, ('a', 'u'): 1, ('u', 'm'): 1, ('m', '.</w>'): 1})\n",
            "best1: ('T', 'h')\n",
            "token_count: {'Th e </w>': 1, 'W o n d e r f u l</w>': 1, 'W i z a r d </w>': 1, 'o f </w>': 1, 'O z </w>': 1, 'i s</w>': 1, 'a </w>': 1, \"c h i l d r en ' s</w>\": 1, 'n o v e l</w>': 1, 'w r i t t en </w>': 1, 'b y </w>': 1, 'L .</w>': 1, 'F r a n k </w>': 1, 'B a u m .</w>': 1}\n",
            "bpe_codes: {('l', '</w>'): 0, ('s', '</w>'): 1, ('e', 'n'): 2, ('.', '</w>'): 3, ('T', 'h'): 4, ('Th', 'e'): 5, ('The', '</w>'): 6, ('W', 'o'): 7, ('Wo', 'n'): 8, ('Won', 'd'): 9, ('Wond', 'e'): 10, ('Wonde', 'r'): 11, ('Wonder', 'f'): 12, ('Wonderf', 'u'): 13, ('Wonderfu', 'l</w>'): 14, ('W', 'i'): 15, ('Wi', 'z'): 16, ('Wiz', 'a'): 17, ('Wiza', 'r'): 18, ('Wizar', 'd'): 19, ('Wizard', '</w>'): 20, ('o', 'f'): 21, ('of', '</w>'): 22, ('O', 'z'): 23, ('Oz', '</w>'): 24, ('i', 's</w>'): 25, ('a', '</w>'): 26, ('c', 'h'): 27, ('ch', 'i'): 28, ('chi', 'l'): 29, ('chil', 'd'): 30, ('child', 'r'): 31, ('childr', 'en'): 32, ('children', \"'\"): 33, (\"children'\", 's</w>'): 34, ('n', 'o'): 35}\n",
            "bpe_codes_reverse: {'l</w>': ('l', '</w>'), 's</w>': ('s', '</w>'), 'en': ('e', 'n'), '.</w>': ('.', '</w>'), 'Th': ('T', 'h'), 'The': ('Th', 'e'), 'The</w>': ('The', '</w>'), 'Wo': ('W', 'o'), 'Won': ('Wo', 'n'), 'Wond': ('Won', 'd'), 'Wonde': ('Wond', 'e'), 'Wonder': ('Wonde', 'r'), 'Wonderf': ('Wonder', 'f'), 'Wonderfu': ('Wonderf', 'u'), 'Wonderful</w>': ('Wonderfu', 'l</w>'), 'Wi': ('W', 'i'), 'Wiz': ('Wi', 'z'), 'Wiza': ('Wiz', 'a'), 'Wizar': ('Wiza', 'r'), 'Wizard': ('Wizar', 'd'), 'Wizard</w>': ('Wizard', '</w>'), 'of': ('o', 'f'), 'of</w>': ('of', '</w>'), 'Oz': ('O', 'z'), 'Oz</w>': ('Oz', '</w>'), 'is</w>': ('i', 's</w>'), 'a</w>': ('a', '</w>'), 'ch': ('c', 'h'), 'chi': ('ch', 'i'), 'chil': ('chi', 'l'), 'child': ('chil', 'd'), 'childr': ('child', 'r'), 'children': ('childr', 'en'), \"children'\": ('children', \"'\"), \"children's</w>\": (\"children'\", 's</w>'), 'no': ('n', 'o')}\n",
            "pairing: defaultdict(<class 'int'>, {('Th', 'e'): 1, ('e', '</w>'): 1, ('W', 'o'): 1, ('o', 'n'): 1, ('n', 'd'): 1, ('d', 'e'): 1, ('e', 'r'): 1, ('r', 'f'): 1, ('f', 'u'): 1, ('u', 'l</w>'): 1, ('W', 'i'): 1, ('i', 'z'): 1, ('z', 'a'): 1, ('a', 'r'): 1, ('r', 'd'): 1, ('d', '</w>'): 1, ('o', 'f'): 1, ('f', '</w>'): 1, ('O', 'z'): 1, ('z', '</w>'): 1, ('i', 's</w>'): 1, ('a', '</w>'): 1, ('c', 'h'): 1, ('h', 'i'): 1, ('i', 'l'): 1, ('l', 'd'): 1, ('d', 'r'): 1, ('r', 'en'): 1, ('en', \"'\"): 1, (\"'\", 's</w>'): 1, ('n', 'o'): 1, ('o', 'v'): 1, ('v', 'e'): 1, ('e', 'l</w>'): 1, ('w', 'r'): 1, ('r', 'i'): 1, ('i', 't'): 1, ('t', 't'): 1, ('t', 'en'): 1, ('en', '</w>'): 1, ('b', 'y'): 1, ('y', '</w>'): 1, ('L', '.</w>'): 1, ('F', 'r'): 1, ('r', 'a'): 1, ('a', 'n'): 1, ('n', 'k'): 1, ('k', '</w>'): 1, ('B', 'a'): 1, ('a', 'u'): 1, ('u', 'm'): 1, ('m', '.</w>'): 1})\n",
            "best1: ('Th', 'e')\n",
            "token_count: {'The </w>': 1, 'W o n d e r f u l</w>': 1, 'W i z a r d </w>': 1, 'o f </w>': 1, 'O z </w>': 1, 'i s</w>': 1, 'a </w>': 1, \"c h i l d r en ' s</w>\": 1, 'n o v e l</w>': 1, 'w r i t t en </w>': 1, 'b y </w>': 1, 'L .</w>': 1, 'F r a n k </w>': 1, 'B a u m .</w>': 1}\n",
            "bpe_codes: {('l', '</w>'): 0, ('s', '</w>'): 1, ('e', 'n'): 2, ('.', '</w>'): 3, ('T', 'h'): 4, ('Th', 'e'): 5, ('The', '</w>'): 6, ('W', 'o'): 7, ('Wo', 'n'): 8, ('Won', 'd'): 9, ('Wond', 'e'): 10, ('Wonde', 'r'): 11, ('Wonder', 'f'): 12, ('Wonderf', 'u'): 13, ('Wonderfu', 'l</w>'): 14, ('W', 'i'): 15, ('Wi', 'z'): 16, ('Wiz', 'a'): 17, ('Wiza', 'r'): 18, ('Wizar', 'd'): 19, ('Wizard', '</w>'): 20, ('o', 'f'): 21, ('of', '</w>'): 22, ('O', 'z'): 23, ('Oz', '</w>'): 24, ('i', 's</w>'): 25, ('a', '</w>'): 26, ('c', 'h'): 27, ('ch', 'i'): 28, ('chi', 'l'): 29, ('chil', 'd'): 30, ('child', 'r'): 31, ('childr', 'en'): 32, ('children', \"'\"): 33, (\"children'\", 's</w>'): 34, ('n', 'o'): 35}\n",
            "bpe_codes_reverse: {'l</w>': ('l', '</w>'), 's</w>': ('s', '</w>'), 'en': ('e', 'n'), '.</w>': ('.', '</w>'), 'Th': ('T', 'h'), 'The': ('Th', 'e'), 'The</w>': ('The', '</w>'), 'Wo': ('W', 'o'), 'Won': ('Wo', 'n'), 'Wond': ('Won', 'd'), 'Wonde': ('Wond', 'e'), 'Wonder': ('Wonde', 'r'), 'Wonderf': ('Wonder', 'f'), 'Wonderfu': ('Wonderf', 'u'), 'Wonderful</w>': ('Wonderfu', 'l</w>'), 'Wi': ('W', 'i'), 'Wiz': ('Wi', 'z'), 'Wiza': ('Wiz', 'a'), 'Wizar': ('Wiza', 'r'), 'Wizard': ('Wizar', 'd'), 'Wizard</w>': ('Wizard', '</w>'), 'of': ('o', 'f'), 'of</w>': ('of', '</w>'), 'Oz': ('O', 'z'), 'Oz</w>': ('Oz', '</w>'), 'is</w>': ('i', 's</w>'), 'a</w>': ('a', '</w>'), 'ch': ('c', 'h'), 'chi': ('ch', 'i'), 'chil': ('chi', 'l'), 'child': ('chil', 'd'), 'childr': ('child', 'r'), 'children': ('childr', 'en'), \"children'\": ('children', \"'\"), \"children's</w>\": (\"children'\", 's</w>'), 'no': ('n', 'o')}\n",
            "pairing: defaultdict(<class 'int'>, {('The', '</w>'): 1, ('W', 'o'): 1, ('o', 'n'): 1, ('n', 'd'): 1, ('d', 'e'): 1, ('e', 'r'): 1, ('r', 'f'): 1, ('f', 'u'): 1, ('u', 'l</w>'): 1, ('W', 'i'): 1, ('i', 'z'): 1, ('z', 'a'): 1, ('a', 'r'): 1, ('r', 'd'): 1, ('d', '</w>'): 1, ('o', 'f'): 1, ('f', '</w>'): 1, ('O', 'z'): 1, ('z', '</w>'): 1, ('i', 's</w>'): 1, ('a', '</w>'): 1, ('c', 'h'): 1, ('h', 'i'): 1, ('i', 'l'): 1, ('l', 'd'): 1, ('d', 'r'): 1, ('r', 'en'): 1, ('en', \"'\"): 1, (\"'\", 's</w>'): 1, ('n', 'o'): 1, ('o', 'v'): 1, ('v', 'e'): 1, ('e', 'l</w>'): 1, ('w', 'r'): 1, ('r', 'i'): 1, ('i', 't'): 1, ('t', 't'): 1, ('t', 'en'): 1, ('en', '</w>'): 1, ('b', 'y'): 1, ('y', '</w>'): 1, ('L', '.</w>'): 1, ('F', 'r'): 1, ('r', 'a'): 1, ('a', 'n'): 1, ('n', 'k'): 1, ('k', '</w>'): 1, ('B', 'a'): 1, ('a', 'u'): 1, ('u', 'm'): 1, ('m', '.</w>'): 1})\n",
            "best1: ('The', '</w>')\n",
            "token_count: {'The</w>': 1, 'W o n d e r f u l</w>': 1, 'W i z a r d </w>': 1, 'o f </w>': 1, 'O z </w>': 1, 'i s</w>': 1, 'a </w>': 1, \"c h i l d r en ' s</w>\": 1, 'n o v e l</w>': 1, 'w r i t t en </w>': 1, 'b y </w>': 1, 'L .</w>': 1, 'F r a n k </w>': 1, 'B a u m .</w>': 1}\n",
            "bpe_codes: {('l', '</w>'): 0, ('s', '</w>'): 1, ('e', 'n'): 2, ('.', '</w>'): 3, ('T', 'h'): 4, ('Th', 'e'): 5, ('The', '</w>'): 6, ('W', 'o'): 7, ('Wo', 'n'): 8, ('Won', 'd'): 9, ('Wond', 'e'): 10, ('Wonde', 'r'): 11, ('Wonder', 'f'): 12, ('Wonderf', 'u'): 13, ('Wonderfu', 'l</w>'): 14, ('W', 'i'): 15, ('Wi', 'z'): 16, ('Wiz', 'a'): 17, ('Wiza', 'r'): 18, ('Wizar', 'd'): 19, ('Wizard', '</w>'): 20, ('o', 'f'): 21, ('of', '</w>'): 22, ('O', 'z'): 23, ('Oz', '</w>'): 24, ('i', 's</w>'): 25, ('a', '</w>'): 26, ('c', 'h'): 27, ('ch', 'i'): 28, ('chi', 'l'): 29, ('chil', 'd'): 30, ('child', 'r'): 31, ('childr', 'en'): 32, ('children', \"'\"): 33, (\"children'\", 's</w>'): 34, ('n', 'o'): 35}\n",
            "bpe_codes_reverse: {'l</w>': ('l', '</w>'), 's</w>': ('s', '</w>'), 'en': ('e', 'n'), '.</w>': ('.', '</w>'), 'Th': ('T', 'h'), 'The': ('Th', 'e'), 'The</w>': ('The', '</w>'), 'Wo': ('W', 'o'), 'Won': ('Wo', 'n'), 'Wond': ('Won', 'd'), 'Wonde': ('Wond', 'e'), 'Wonder': ('Wonde', 'r'), 'Wonderf': ('Wonder', 'f'), 'Wonderfu': ('Wonderf', 'u'), 'Wonderful</w>': ('Wonderfu', 'l</w>'), 'Wi': ('W', 'i'), 'Wiz': ('Wi', 'z'), 'Wiza': ('Wiz', 'a'), 'Wizar': ('Wiza', 'r'), 'Wizard': ('Wizar', 'd'), 'Wizard</w>': ('Wizard', '</w>'), 'of': ('o', 'f'), 'of</w>': ('of', '</w>'), 'Oz': ('O', 'z'), 'Oz</w>': ('Oz', '</w>'), 'is</w>': ('i', 's</w>'), 'a</w>': ('a', '</w>'), 'ch': ('c', 'h'), 'chi': ('ch', 'i'), 'chil': ('chi', 'l'), 'child': ('chil', 'd'), 'childr': ('child', 'r'), 'children': ('childr', 'en'), \"children'\": ('children', \"'\"), \"children's</w>\": (\"children'\", 's</w>'), 'no': ('n', 'o')}\n",
            "pairing: defaultdict(<class 'int'>, {('W', 'o'): 1, ('o', 'n'): 1, ('n', 'd'): 1, ('d', 'e'): 1, ('e', 'r'): 1, ('r', 'f'): 1, ('f', 'u'): 1, ('u', 'l</w>'): 1, ('W', 'i'): 1, ('i', 'z'): 1, ('z', 'a'): 1, ('a', 'r'): 1, ('r', 'd'): 1, ('d', '</w>'): 1, ('o', 'f'): 1, ('f', '</w>'): 1, ('O', 'z'): 1, ('z', '</w>'): 1, ('i', 's</w>'): 1, ('a', '</w>'): 1, ('c', 'h'): 1, ('h', 'i'): 1, ('i', 'l'): 1, ('l', 'd'): 1, ('d', 'r'): 1, ('r', 'en'): 1, ('en', \"'\"): 1, (\"'\", 's</w>'): 1, ('n', 'o'): 1, ('o', 'v'): 1, ('v', 'e'): 1, ('e', 'l</w>'): 1, ('w', 'r'): 1, ('r', 'i'): 1, ('i', 't'): 1, ('t', 't'): 1, ('t', 'en'): 1, ('en', '</w>'): 1, ('b', 'y'): 1, ('y', '</w>'): 1, ('L', '.</w>'): 1, ('F', 'r'): 1, ('r', 'a'): 1, ('a', 'n'): 1, ('n', 'k'): 1, ('k', '</w>'): 1, ('B', 'a'): 1, ('a', 'u'): 1, ('u', 'm'): 1, ('m', '.</w>'): 1})\n",
            "best1: ('W', 'o')\n",
            "token_count: {'The</w>': 1, 'Wo n d e r f u l</w>': 1, 'W i z a r d </w>': 1, 'o f </w>': 1, 'O z </w>': 1, 'i s</w>': 1, 'a </w>': 1, \"c h i l d r en ' s</w>\": 1, 'n o v e l</w>': 1, 'w r i t t en </w>': 1, 'b y </w>': 1, 'L .</w>': 1, 'F r a n k </w>': 1, 'B a u m .</w>': 1}\n",
            "bpe_codes: {('l', '</w>'): 0, ('s', '</w>'): 1, ('e', 'n'): 2, ('.', '</w>'): 3, ('T', 'h'): 4, ('Th', 'e'): 5, ('The', '</w>'): 6, ('W', 'o'): 7, ('Wo', 'n'): 8, ('Won', 'd'): 9, ('Wond', 'e'): 10, ('Wonde', 'r'): 11, ('Wonder', 'f'): 12, ('Wonderf', 'u'): 13, ('Wonderfu', 'l</w>'): 14, ('W', 'i'): 15, ('Wi', 'z'): 16, ('Wiz', 'a'): 17, ('Wiza', 'r'): 18, ('Wizar', 'd'): 19, ('Wizard', '</w>'): 20, ('o', 'f'): 21, ('of', '</w>'): 22, ('O', 'z'): 23, ('Oz', '</w>'): 24, ('i', 's</w>'): 25, ('a', '</w>'): 26, ('c', 'h'): 27, ('ch', 'i'): 28, ('chi', 'l'): 29, ('chil', 'd'): 30, ('child', 'r'): 31, ('childr', 'en'): 32, ('children', \"'\"): 33, (\"children'\", 's</w>'): 34, ('n', 'o'): 35}\n",
            "bpe_codes_reverse: {'l</w>': ('l', '</w>'), 's</w>': ('s', '</w>'), 'en': ('e', 'n'), '.</w>': ('.', '</w>'), 'Th': ('T', 'h'), 'The': ('Th', 'e'), 'The</w>': ('The', '</w>'), 'Wo': ('W', 'o'), 'Won': ('Wo', 'n'), 'Wond': ('Won', 'd'), 'Wonde': ('Wond', 'e'), 'Wonder': ('Wonde', 'r'), 'Wonderf': ('Wonder', 'f'), 'Wonderfu': ('Wonderf', 'u'), 'Wonderful</w>': ('Wonderfu', 'l</w>'), 'Wi': ('W', 'i'), 'Wiz': ('Wi', 'z'), 'Wiza': ('Wiz', 'a'), 'Wizar': ('Wiza', 'r'), 'Wizard': ('Wizar', 'd'), 'Wizard</w>': ('Wizard', '</w>'), 'of': ('o', 'f'), 'of</w>': ('of', '</w>'), 'Oz': ('O', 'z'), 'Oz</w>': ('Oz', '</w>'), 'is</w>': ('i', 's</w>'), 'a</w>': ('a', '</w>'), 'ch': ('c', 'h'), 'chi': ('ch', 'i'), 'chil': ('chi', 'l'), 'child': ('chil', 'd'), 'childr': ('child', 'r'), 'children': ('childr', 'en'), \"children'\": ('children', \"'\"), \"children's</w>\": (\"children'\", 's</w>'), 'no': ('n', 'o')}\n",
            "pairing: defaultdict(<class 'int'>, {('Wo', 'n'): 1, ('n', 'd'): 1, ('d', 'e'): 1, ('e', 'r'): 1, ('r', 'f'): 1, ('f', 'u'): 1, ('u', 'l</w>'): 1, ('W', 'i'): 1, ('i', 'z'): 1, ('z', 'a'): 1, ('a', 'r'): 1, ('r', 'd'): 1, ('d', '</w>'): 1, ('o', 'f'): 1, ('f', '</w>'): 1, ('O', 'z'): 1, ('z', '</w>'): 1, ('i', 's</w>'): 1, ('a', '</w>'): 1, ('c', 'h'): 1, ('h', 'i'): 1, ('i', 'l'): 1, ('l', 'd'): 1, ('d', 'r'): 1, ('r', 'en'): 1, ('en', \"'\"): 1, (\"'\", 's</w>'): 1, ('n', 'o'): 1, ('o', 'v'): 1, ('v', 'e'): 1, ('e', 'l</w>'): 1, ('w', 'r'): 1, ('r', 'i'): 1, ('i', 't'): 1, ('t', 't'): 1, ('t', 'en'): 1, ('en', '</w>'): 1, ('b', 'y'): 1, ('y', '</w>'): 1, ('L', '.</w>'): 1, ('F', 'r'): 1, ('r', 'a'): 1, ('a', 'n'): 1, ('n', 'k'): 1, ('k', '</w>'): 1, ('B', 'a'): 1, ('a', 'u'): 1, ('u', 'm'): 1, ('m', '.</w>'): 1})\n",
            "best1: ('Wo', 'n')\n",
            "token_count: {'The</w>': 1, 'Won d e r f u l</w>': 1, 'W i z a r d </w>': 1, 'o f </w>': 1, 'O z </w>': 1, 'i s</w>': 1, 'a </w>': 1, \"c h i l d r en ' s</w>\": 1, 'n o v e l</w>': 1, 'w r i t t en </w>': 1, 'b y </w>': 1, 'L .</w>': 1, 'F r a n k </w>': 1, 'B a u m .</w>': 1}\n",
            "bpe_codes: {('l', '</w>'): 0, ('s', '</w>'): 1, ('e', 'n'): 2, ('.', '</w>'): 3, ('T', 'h'): 4, ('Th', 'e'): 5, ('The', '</w>'): 6, ('W', 'o'): 7, ('Wo', 'n'): 8, ('Won', 'd'): 9, ('Wond', 'e'): 10, ('Wonde', 'r'): 11, ('Wonder', 'f'): 12, ('Wonderf', 'u'): 13, ('Wonderfu', 'l</w>'): 14, ('W', 'i'): 15, ('Wi', 'z'): 16, ('Wiz', 'a'): 17, ('Wiza', 'r'): 18, ('Wizar', 'd'): 19, ('Wizard', '</w>'): 20, ('o', 'f'): 21, ('of', '</w>'): 22, ('O', 'z'): 23, ('Oz', '</w>'): 24, ('i', 's</w>'): 25, ('a', '</w>'): 26, ('c', 'h'): 27, ('ch', 'i'): 28, ('chi', 'l'): 29, ('chil', 'd'): 30, ('child', 'r'): 31, ('childr', 'en'): 32, ('children', \"'\"): 33, (\"children'\", 's</w>'): 34, ('n', 'o'): 35}\n",
            "bpe_codes_reverse: {'l</w>': ('l', '</w>'), 's</w>': ('s', '</w>'), 'en': ('e', 'n'), '.</w>': ('.', '</w>'), 'Th': ('T', 'h'), 'The': ('Th', 'e'), 'The</w>': ('The', '</w>'), 'Wo': ('W', 'o'), 'Won': ('Wo', 'n'), 'Wond': ('Won', 'd'), 'Wonde': ('Wond', 'e'), 'Wonder': ('Wonde', 'r'), 'Wonderf': ('Wonder', 'f'), 'Wonderfu': ('Wonderf', 'u'), 'Wonderful</w>': ('Wonderfu', 'l</w>'), 'Wi': ('W', 'i'), 'Wiz': ('Wi', 'z'), 'Wiza': ('Wiz', 'a'), 'Wizar': ('Wiza', 'r'), 'Wizard': ('Wizar', 'd'), 'Wizard</w>': ('Wizard', '</w>'), 'of': ('o', 'f'), 'of</w>': ('of', '</w>'), 'Oz': ('O', 'z'), 'Oz</w>': ('Oz', '</w>'), 'is</w>': ('i', 's</w>'), 'a</w>': ('a', '</w>'), 'ch': ('c', 'h'), 'chi': ('ch', 'i'), 'chil': ('chi', 'l'), 'child': ('chil', 'd'), 'childr': ('child', 'r'), 'children': ('childr', 'en'), \"children'\": ('children', \"'\"), \"children's</w>\": (\"children'\", 's</w>'), 'no': ('n', 'o')}\n",
            "pairing: defaultdict(<class 'int'>, {('Won', 'd'): 1, ('d', 'e'): 1, ('e', 'r'): 1, ('r', 'f'): 1, ('f', 'u'): 1, ('u', 'l</w>'): 1, ('W', 'i'): 1, ('i', 'z'): 1, ('z', 'a'): 1, ('a', 'r'): 1, ('r', 'd'): 1, ('d', '</w>'): 1, ('o', 'f'): 1, ('f', '</w>'): 1, ('O', 'z'): 1, ('z', '</w>'): 1, ('i', 's</w>'): 1, ('a', '</w>'): 1, ('c', 'h'): 1, ('h', 'i'): 1, ('i', 'l'): 1, ('l', 'd'): 1, ('d', 'r'): 1, ('r', 'en'): 1, ('en', \"'\"): 1, (\"'\", 's</w>'): 1, ('n', 'o'): 1, ('o', 'v'): 1, ('v', 'e'): 1, ('e', 'l</w>'): 1, ('w', 'r'): 1, ('r', 'i'): 1, ('i', 't'): 1, ('t', 't'): 1, ('t', 'en'): 1, ('en', '</w>'): 1, ('b', 'y'): 1, ('y', '</w>'): 1, ('L', '.</w>'): 1, ('F', 'r'): 1, ('r', 'a'): 1, ('a', 'n'): 1, ('n', 'k'): 1, ('k', '</w>'): 1, ('B', 'a'): 1, ('a', 'u'): 1, ('u', 'm'): 1, ('m', '.</w>'): 1})\n",
            "best1: ('Won', 'd')\n",
            "token_count: {'The</w>': 1, 'Wond e r f u l</w>': 1, 'W i z a r d </w>': 1, 'o f </w>': 1, 'O z </w>': 1, 'i s</w>': 1, 'a </w>': 1, \"c h i l d r en ' s</w>\": 1, 'n o v e l</w>': 1, 'w r i t t en </w>': 1, 'b y </w>': 1, 'L .</w>': 1, 'F r a n k </w>': 1, 'B a u m .</w>': 1}\n",
            "bpe_codes: {('l', '</w>'): 0, ('s', '</w>'): 1, ('e', 'n'): 2, ('.', '</w>'): 3, ('T', 'h'): 4, ('Th', 'e'): 5, ('The', '</w>'): 6, ('W', 'o'): 7, ('Wo', 'n'): 8, ('Won', 'd'): 9, ('Wond', 'e'): 10, ('Wonde', 'r'): 11, ('Wonder', 'f'): 12, ('Wonderf', 'u'): 13, ('Wonderfu', 'l</w>'): 14, ('W', 'i'): 15, ('Wi', 'z'): 16, ('Wiz', 'a'): 17, ('Wiza', 'r'): 18, ('Wizar', 'd'): 19, ('Wizard', '</w>'): 20, ('o', 'f'): 21, ('of', '</w>'): 22, ('O', 'z'): 23, ('Oz', '</w>'): 24, ('i', 's</w>'): 25, ('a', '</w>'): 26, ('c', 'h'): 27, ('ch', 'i'): 28, ('chi', 'l'): 29, ('chil', 'd'): 30, ('child', 'r'): 31, ('childr', 'en'): 32, ('children', \"'\"): 33, (\"children'\", 's</w>'): 34, ('n', 'o'): 35}\n",
            "bpe_codes_reverse: {'l</w>': ('l', '</w>'), 's</w>': ('s', '</w>'), 'en': ('e', 'n'), '.</w>': ('.', '</w>'), 'Th': ('T', 'h'), 'The': ('Th', 'e'), 'The</w>': ('The', '</w>'), 'Wo': ('W', 'o'), 'Won': ('Wo', 'n'), 'Wond': ('Won', 'd'), 'Wonde': ('Wond', 'e'), 'Wonder': ('Wonde', 'r'), 'Wonderf': ('Wonder', 'f'), 'Wonderfu': ('Wonderf', 'u'), 'Wonderful</w>': ('Wonderfu', 'l</w>'), 'Wi': ('W', 'i'), 'Wiz': ('Wi', 'z'), 'Wiza': ('Wiz', 'a'), 'Wizar': ('Wiza', 'r'), 'Wizard': ('Wizar', 'd'), 'Wizard</w>': ('Wizard', '</w>'), 'of': ('o', 'f'), 'of</w>': ('of', '</w>'), 'Oz': ('O', 'z'), 'Oz</w>': ('Oz', '</w>'), 'is</w>': ('i', 's</w>'), 'a</w>': ('a', '</w>'), 'ch': ('c', 'h'), 'chi': ('ch', 'i'), 'chil': ('chi', 'l'), 'child': ('chil', 'd'), 'childr': ('child', 'r'), 'children': ('childr', 'en'), \"children'\": ('children', \"'\"), \"children's</w>\": (\"children'\", 's</w>'), 'no': ('n', 'o')}\n",
            "pairing: defaultdict(<class 'int'>, {('Wond', 'e'): 1, ('e', 'r'): 1, ('r', 'f'): 1, ('f', 'u'): 1, ('u', 'l</w>'): 1, ('W', 'i'): 1, ('i', 'z'): 1, ('z', 'a'): 1, ('a', 'r'): 1, ('r', 'd'): 1, ('d', '</w>'): 1, ('o', 'f'): 1, ('f', '</w>'): 1, ('O', 'z'): 1, ('z', '</w>'): 1, ('i', 's</w>'): 1, ('a', '</w>'): 1, ('c', 'h'): 1, ('h', 'i'): 1, ('i', 'l'): 1, ('l', 'd'): 1, ('d', 'r'): 1, ('r', 'en'): 1, ('en', \"'\"): 1, (\"'\", 's</w>'): 1, ('n', 'o'): 1, ('o', 'v'): 1, ('v', 'e'): 1, ('e', 'l</w>'): 1, ('w', 'r'): 1, ('r', 'i'): 1, ('i', 't'): 1, ('t', 't'): 1, ('t', 'en'): 1, ('en', '</w>'): 1, ('b', 'y'): 1, ('y', '</w>'): 1, ('L', '.</w>'): 1, ('F', 'r'): 1, ('r', 'a'): 1, ('a', 'n'): 1, ('n', 'k'): 1, ('k', '</w>'): 1, ('B', 'a'): 1, ('a', 'u'): 1, ('u', 'm'): 1, ('m', '.</w>'): 1})\n",
            "best1: ('Wond', 'e')\n",
            "token_count: {'The</w>': 1, 'Wonde r f u l</w>': 1, 'W i z a r d </w>': 1, 'o f </w>': 1, 'O z </w>': 1, 'i s</w>': 1, 'a </w>': 1, \"c h i l d r en ' s</w>\": 1, 'n o v e l</w>': 1, 'w r i t t en </w>': 1, 'b y </w>': 1, 'L .</w>': 1, 'F r a n k </w>': 1, 'B a u m .</w>': 1}\n",
            "bpe_codes: {('l', '</w>'): 0, ('s', '</w>'): 1, ('e', 'n'): 2, ('.', '</w>'): 3, ('T', 'h'): 4, ('Th', 'e'): 5, ('The', '</w>'): 6, ('W', 'o'): 7, ('Wo', 'n'): 8, ('Won', 'd'): 9, ('Wond', 'e'): 10, ('Wonde', 'r'): 11, ('Wonder', 'f'): 12, ('Wonderf', 'u'): 13, ('Wonderfu', 'l</w>'): 14, ('W', 'i'): 15, ('Wi', 'z'): 16, ('Wiz', 'a'): 17, ('Wiza', 'r'): 18, ('Wizar', 'd'): 19, ('Wizard', '</w>'): 20, ('o', 'f'): 21, ('of', '</w>'): 22, ('O', 'z'): 23, ('Oz', '</w>'): 24, ('i', 's</w>'): 25, ('a', '</w>'): 26, ('c', 'h'): 27, ('ch', 'i'): 28, ('chi', 'l'): 29, ('chil', 'd'): 30, ('child', 'r'): 31, ('childr', 'en'): 32, ('children', \"'\"): 33, (\"children'\", 's</w>'): 34, ('n', 'o'): 35}\n",
            "bpe_codes_reverse: {'l</w>': ('l', '</w>'), 's</w>': ('s', '</w>'), 'en': ('e', 'n'), '.</w>': ('.', '</w>'), 'Th': ('T', 'h'), 'The': ('Th', 'e'), 'The</w>': ('The', '</w>'), 'Wo': ('W', 'o'), 'Won': ('Wo', 'n'), 'Wond': ('Won', 'd'), 'Wonde': ('Wond', 'e'), 'Wonder': ('Wonde', 'r'), 'Wonderf': ('Wonder', 'f'), 'Wonderfu': ('Wonderf', 'u'), 'Wonderful</w>': ('Wonderfu', 'l</w>'), 'Wi': ('W', 'i'), 'Wiz': ('Wi', 'z'), 'Wiza': ('Wiz', 'a'), 'Wizar': ('Wiza', 'r'), 'Wizard': ('Wizar', 'd'), 'Wizard</w>': ('Wizard', '</w>'), 'of': ('o', 'f'), 'of</w>': ('of', '</w>'), 'Oz': ('O', 'z'), 'Oz</w>': ('Oz', '</w>'), 'is</w>': ('i', 's</w>'), 'a</w>': ('a', '</w>'), 'ch': ('c', 'h'), 'chi': ('ch', 'i'), 'chil': ('chi', 'l'), 'child': ('chil', 'd'), 'childr': ('child', 'r'), 'children': ('childr', 'en'), \"children'\": ('children', \"'\"), \"children's</w>\": (\"children'\", 's</w>'), 'no': ('n', 'o')}\n",
            "pairing: defaultdict(<class 'int'>, {('Wonde', 'r'): 1, ('r', 'f'): 1, ('f', 'u'): 1, ('u', 'l</w>'): 1, ('W', 'i'): 1, ('i', 'z'): 1, ('z', 'a'): 1, ('a', 'r'): 1, ('r', 'd'): 1, ('d', '</w>'): 1, ('o', 'f'): 1, ('f', '</w>'): 1, ('O', 'z'): 1, ('z', '</w>'): 1, ('i', 's</w>'): 1, ('a', '</w>'): 1, ('c', 'h'): 1, ('h', 'i'): 1, ('i', 'l'): 1, ('l', 'd'): 1, ('d', 'r'): 1, ('r', 'en'): 1, ('en', \"'\"): 1, (\"'\", 's</w>'): 1, ('n', 'o'): 1, ('o', 'v'): 1, ('v', 'e'): 1, ('e', 'l</w>'): 1, ('w', 'r'): 1, ('r', 'i'): 1, ('i', 't'): 1, ('t', 't'): 1, ('t', 'en'): 1, ('en', '</w>'): 1, ('b', 'y'): 1, ('y', '</w>'): 1, ('L', '.</w>'): 1, ('F', 'r'): 1, ('r', 'a'): 1, ('a', 'n'): 1, ('n', 'k'): 1, ('k', '</w>'): 1, ('B', 'a'): 1, ('a', 'u'): 1, ('u', 'm'): 1, ('m', '.</w>'): 1})\n",
            "best1: ('Wonde', 'r')\n",
            "token_count: {'The</w>': 1, 'Wonder f u l</w>': 1, 'W i z a r d </w>': 1, 'o f </w>': 1, 'O z </w>': 1, 'i s</w>': 1, 'a </w>': 1, \"c h i l d r en ' s</w>\": 1, 'n o v e l</w>': 1, 'w r i t t en </w>': 1, 'b y </w>': 1, 'L .</w>': 1, 'F r a n k </w>': 1, 'B a u m .</w>': 1}\n",
            "bpe_codes: {('l', '</w>'): 0, ('s', '</w>'): 1, ('e', 'n'): 2, ('.', '</w>'): 3, ('T', 'h'): 4, ('Th', 'e'): 5, ('The', '</w>'): 6, ('W', 'o'): 7, ('Wo', 'n'): 8, ('Won', 'd'): 9, ('Wond', 'e'): 10, ('Wonde', 'r'): 11, ('Wonder', 'f'): 12, ('Wonderf', 'u'): 13, ('Wonderfu', 'l</w>'): 14, ('W', 'i'): 15, ('Wi', 'z'): 16, ('Wiz', 'a'): 17, ('Wiza', 'r'): 18, ('Wizar', 'd'): 19, ('Wizard', '</w>'): 20, ('o', 'f'): 21, ('of', '</w>'): 22, ('O', 'z'): 23, ('Oz', '</w>'): 24, ('i', 's</w>'): 25, ('a', '</w>'): 26, ('c', 'h'): 27, ('ch', 'i'): 28, ('chi', 'l'): 29, ('chil', 'd'): 30, ('child', 'r'): 31, ('childr', 'en'): 32, ('children', \"'\"): 33, (\"children'\", 's</w>'): 34, ('n', 'o'): 35}\n",
            "bpe_codes_reverse: {'l</w>': ('l', '</w>'), 's</w>': ('s', '</w>'), 'en': ('e', 'n'), '.</w>': ('.', '</w>'), 'Th': ('T', 'h'), 'The': ('Th', 'e'), 'The</w>': ('The', '</w>'), 'Wo': ('W', 'o'), 'Won': ('Wo', 'n'), 'Wond': ('Won', 'd'), 'Wonde': ('Wond', 'e'), 'Wonder': ('Wonde', 'r'), 'Wonderf': ('Wonder', 'f'), 'Wonderfu': ('Wonderf', 'u'), 'Wonderful</w>': ('Wonderfu', 'l</w>'), 'Wi': ('W', 'i'), 'Wiz': ('Wi', 'z'), 'Wiza': ('Wiz', 'a'), 'Wizar': ('Wiza', 'r'), 'Wizard': ('Wizar', 'd'), 'Wizard</w>': ('Wizard', '</w>'), 'of': ('o', 'f'), 'of</w>': ('of', '</w>'), 'Oz': ('O', 'z'), 'Oz</w>': ('Oz', '</w>'), 'is</w>': ('i', 's</w>'), 'a</w>': ('a', '</w>'), 'ch': ('c', 'h'), 'chi': ('ch', 'i'), 'chil': ('chi', 'l'), 'child': ('chil', 'd'), 'childr': ('child', 'r'), 'children': ('childr', 'en'), \"children'\": ('children', \"'\"), \"children's</w>\": (\"children'\", 's</w>'), 'no': ('n', 'o')}\n",
            "pairing: defaultdict(<class 'int'>, {('Wonder', 'f'): 1, ('f', 'u'): 1, ('u', 'l</w>'): 1, ('W', 'i'): 1, ('i', 'z'): 1, ('z', 'a'): 1, ('a', 'r'): 1, ('r', 'd'): 1, ('d', '</w>'): 1, ('o', 'f'): 1, ('f', '</w>'): 1, ('O', 'z'): 1, ('z', '</w>'): 1, ('i', 's</w>'): 1, ('a', '</w>'): 1, ('c', 'h'): 1, ('h', 'i'): 1, ('i', 'l'): 1, ('l', 'd'): 1, ('d', 'r'): 1, ('r', 'en'): 1, ('en', \"'\"): 1, (\"'\", 's</w>'): 1, ('n', 'o'): 1, ('o', 'v'): 1, ('v', 'e'): 1, ('e', 'l</w>'): 1, ('w', 'r'): 1, ('r', 'i'): 1, ('i', 't'): 1, ('t', 't'): 1, ('t', 'en'): 1, ('en', '</w>'): 1, ('b', 'y'): 1, ('y', '</w>'): 1, ('L', '.</w>'): 1, ('F', 'r'): 1, ('r', 'a'): 1, ('a', 'n'): 1, ('n', 'k'): 1, ('k', '</w>'): 1, ('B', 'a'): 1, ('a', 'u'): 1, ('u', 'm'): 1, ('m', '.</w>'): 1})\n",
            "best1: ('Wonder', 'f')\n",
            "token_count: {'The</w>': 1, 'Wonderf u l</w>': 1, 'W i z a r d </w>': 1, 'o f </w>': 1, 'O z </w>': 1, 'i s</w>': 1, 'a </w>': 1, \"c h i l d r en ' s</w>\": 1, 'n o v e l</w>': 1, 'w r i t t en </w>': 1, 'b y </w>': 1, 'L .</w>': 1, 'F r a n k </w>': 1, 'B a u m .</w>': 1}\n",
            "bpe_codes: {('l', '</w>'): 0, ('s', '</w>'): 1, ('e', 'n'): 2, ('.', '</w>'): 3, ('T', 'h'): 4, ('Th', 'e'): 5, ('The', '</w>'): 6, ('W', 'o'): 7, ('Wo', 'n'): 8, ('Won', 'd'): 9, ('Wond', 'e'): 10, ('Wonde', 'r'): 11, ('Wonder', 'f'): 12, ('Wonderf', 'u'): 13, ('Wonderfu', 'l</w>'): 14, ('W', 'i'): 15, ('Wi', 'z'): 16, ('Wiz', 'a'): 17, ('Wiza', 'r'): 18, ('Wizar', 'd'): 19, ('Wizard', '</w>'): 20, ('o', 'f'): 21, ('of', '</w>'): 22, ('O', 'z'): 23, ('Oz', '</w>'): 24, ('i', 's</w>'): 25, ('a', '</w>'): 26, ('c', 'h'): 27, ('ch', 'i'): 28, ('chi', 'l'): 29, ('chil', 'd'): 30, ('child', 'r'): 31, ('childr', 'en'): 32, ('children', \"'\"): 33, (\"children'\", 's</w>'): 34, ('n', 'o'): 35}\n",
            "bpe_codes_reverse: {'l</w>': ('l', '</w>'), 's</w>': ('s', '</w>'), 'en': ('e', 'n'), '.</w>': ('.', '</w>'), 'Th': ('T', 'h'), 'The': ('Th', 'e'), 'The</w>': ('The', '</w>'), 'Wo': ('W', 'o'), 'Won': ('Wo', 'n'), 'Wond': ('Won', 'd'), 'Wonde': ('Wond', 'e'), 'Wonder': ('Wonde', 'r'), 'Wonderf': ('Wonder', 'f'), 'Wonderfu': ('Wonderf', 'u'), 'Wonderful</w>': ('Wonderfu', 'l</w>'), 'Wi': ('W', 'i'), 'Wiz': ('Wi', 'z'), 'Wiza': ('Wiz', 'a'), 'Wizar': ('Wiza', 'r'), 'Wizard': ('Wizar', 'd'), 'Wizard</w>': ('Wizard', '</w>'), 'of': ('o', 'f'), 'of</w>': ('of', '</w>'), 'Oz': ('O', 'z'), 'Oz</w>': ('Oz', '</w>'), 'is</w>': ('i', 's</w>'), 'a</w>': ('a', '</w>'), 'ch': ('c', 'h'), 'chi': ('ch', 'i'), 'chil': ('chi', 'l'), 'child': ('chil', 'd'), 'childr': ('child', 'r'), 'children': ('childr', 'en'), \"children'\": ('children', \"'\"), \"children's</w>\": (\"children'\", 's</w>'), 'no': ('n', 'o')}\n",
            "pairing: defaultdict(<class 'int'>, {('Wonderf', 'u'): 1, ('u', 'l</w>'): 1, ('W', 'i'): 1, ('i', 'z'): 1, ('z', 'a'): 1, ('a', 'r'): 1, ('r', 'd'): 1, ('d', '</w>'): 1, ('o', 'f'): 1, ('f', '</w>'): 1, ('O', 'z'): 1, ('z', '</w>'): 1, ('i', 's</w>'): 1, ('a', '</w>'): 1, ('c', 'h'): 1, ('h', 'i'): 1, ('i', 'l'): 1, ('l', 'd'): 1, ('d', 'r'): 1, ('r', 'en'): 1, ('en', \"'\"): 1, (\"'\", 's</w>'): 1, ('n', 'o'): 1, ('o', 'v'): 1, ('v', 'e'): 1, ('e', 'l</w>'): 1, ('w', 'r'): 1, ('r', 'i'): 1, ('i', 't'): 1, ('t', 't'): 1, ('t', 'en'): 1, ('en', '</w>'): 1, ('b', 'y'): 1, ('y', '</w>'): 1, ('L', '.</w>'): 1, ('F', 'r'): 1, ('r', 'a'): 1, ('a', 'n'): 1, ('n', 'k'): 1, ('k', '</w>'): 1, ('B', 'a'): 1, ('a', 'u'): 1, ('u', 'm'): 1, ('m', '.</w>'): 1})\n",
            "best1: ('Wonderf', 'u')\n",
            "token_count: {'The</w>': 1, 'Wonderfu l</w>': 1, 'W i z a r d </w>': 1, 'o f </w>': 1, 'O z </w>': 1, 'i s</w>': 1, 'a </w>': 1, \"c h i l d r en ' s</w>\": 1, 'n o v e l</w>': 1, 'w r i t t en </w>': 1, 'b y </w>': 1, 'L .</w>': 1, 'F r a n k </w>': 1, 'B a u m .</w>': 1}\n",
            "bpe_codes: {('l', '</w>'): 0, ('s', '</w>'): 1, ('e', 'n'): 2, ('.', '</w>'): 3, ('T', 'h'): 4, ('Th', 'e'): 5, ('The', '</w>'): 6, ('W', 'o'): 7, ('Wo', 'n'): 8, ('Won', 'd'): 9, ('Wond', 'e'): 10, ('Wonde', 'r'): 11, ('Wonder', 'f'): 12, ('Wonderf', 'u'): 13, ('Wonderfu', 'l</w>'): 14, ('W', 'i'): 15, ('Wi', 'z'): 16, ('Wiz', 'a'): 17, ('Wiza', 'r'): 18, ('Wizar', 'd'): 19, ('Wizard', '</w>'): 20, ('o', 'f'): 21, ('of', '</w>'): 22, ('O', 'z'): 23, ('Oz', '</w>'): 24, ('i', 's</w>'): 25, ('a', '</w>'): 26, ('c', 'h'): 27, ('ch', 'i'): 28, ('chi', 'l'): 29, ('chil', 'd'): 30, ('child', 'r'): 31, ('childr', 'en'): 32, ('children', \"'\"): 33, (\"children'\", 's</w>'): 34, ('n', 'o'): 35}\n",
            "bpe_codes_reverse: {'l</w>': ('l', '</w>'), 's</w>': ('s', '</w>'), 'en': ('e', 'n'), '.</w>': ('.', '</w>'), 'Th': ('T', 'h'), 'The': ('Th', 'e'), 'The</w>': ('The', '</w>'), 'Wo': ('W', 'o'), 'Won': ('Wo', 'n'), 'Wond': ('Won', 'd'), 'Wonde': ('Wond', 'e'), 'Wonder': ('Wonde', 'r'), 'Wonderf': ('Wonder', 'f'), 'Wonderfu': ('Wonderf', 'u'), 'Wonderful</w>': ('Wonderfu', 'l</w>'), 'Wi': ('W', 'i'), 'Wiz': ('Wi', 'z'), 'Wiza': ('Wiz', 'a'), 'Wizar': ('Wiza', 'r'), 'Wizard': ('Wizar', 'd'), 'Wizard</w>': ('Wizard', '</w>'), 'of': ('o', 'f'), 'of</w>': ('of', '</w>'), 'Oz': ('O', 'z'), 'Oz</w>': ('Oz', '</w>'), 'is</w>': ('i', 's</w>'), 'a</w>': ('a', '</w>'), 'ch': ('c', 'h'), 'chi': ('ch', 'i'), 'chil': ('chi', 'l'), 'child': ('chil', 'd'), 'childr': ('child', 'r'), 'children': ('childr', 'en'), \"children'\": ('children', \"'\"), \"children's</w>\": (\"children'\", 's</w>'), 'no': ('n', 'o')}\n",
            "pairing: defaultdict(<class 'int'>, {('Wonderfu', 'l</w>'): 1, ('W', 'i'): 1, ('i', 'z'): 1, ('z', 'a'): 1, ('a', 'r'): 1, ('r', 'd'): 1, ('d', '</w>'): 1, ('o', 'f'): 1, ('f', '</w>'): 1, ('O', 'z'): 1, ('z', '</w>'): 1, ('i', 's</w>'): 1, ('a', '</w>'): 1, ('c', 'h'): 1, ('h', 'i'): 1, ('i', 'l'): 1, ('l', 'd'): 1, ('d', 'r'): 1, ('r', 'en'): 1, ('en', \"'\"): 1, (\"'\", 's</w>'): 1, ('n', 'o'): 1, ('o', 'v'): 1, ('v', 'e'): 1, ('e', 'l</w>'): 1, ('w', 'r'): 1, ('r', 'i'): 1, ('i', 't'): 1, ('t', 't'): 1, ('t', 'en'): 1, ('en', '</w>'): 1, ('b', 'y'): 1, ('y', '</w>'): 1, ('L', '.</w>'): 1, ('F', 'r'): 1, ('r', 'a'): 1, ('a', 'n'): 1, ('n', 'k'): 1, ('k', '</w>'): 1, ('B', 'a'): 1, ('a', 'u'): 1, ('u', 'm'): 1, ('m', '.</w>'): 1})\n",
            "best1: ('Wonderfu', 'l</w>')\n",
            "token_count: {'The</w>': 1, 'Wonderful</w>': 1, 'W i z a r d </w>': 1, 'o f </w>': 1, 'O z </w>': 1, 'i s</w>': 1, 'a </w>': 1, \"c h i l d r en ' s</w>\": 1, 'n o v e l</w>': 1, 'w r i t t en </w>': 1, 'b y </w>': 1, 'L .</w>': 1, 'F r a n k </w>': 1, 'B a u m .</w>': 1}\n",
            "bpe_codes: {('l', '</w>'): 0, ('s', '</w>'): 1, ('e', 'n'): 2, ('.', '</w>'): 3, ('T', 'h'): 4, ('Th', 'e'): 5, ('The', '</w>'): 6, ('W', 'o'): 7, ('Wo', 'n'): 8, ('Won', 'd'): 9, ('Wond', 'e'): 10, ('Wonde', 'r'): 11, ('Wonder', 'f'): 12, ('Wonderf', 'u'): 13, ('Wonderfu', 'l</w>'): 14, ('W', 'i'): 15, ('Wi', 'z'): 16, ('Wiz', 'a'): 17, ('Wiza', 'r'): 18, ('Wizar', 'd'): 19, ('Wizard', '</w>'): 20, ('o', 'f'): 21, ('of', '</w>'): 22, ('O', 'z'): 23, ('Oz', '</w>'): 24, ('i', 's</w>'): 25, ('a', '</w>'): 26, ('c', 'h'): 27, ('ch', 'i'): 28, ('chi', 'l'): 29, ('chil', 'd'): 30, ('child', 'r'): 31, ('childr', 'en'): 32, ('children', \"'\"): 33, (\"children'\", 's</w>'): 34, ('n', 'o'): 35}\n",
            "bpe_codes_reverse: {'l</w>': ('l', '</w>'), 's</w>': ('s', '</w>'), 'en': ('e', 'n'), '.</w>': ('.', '</w>'), 'Th': ('T', 'h'), 'The': ('Th', 'e'), 'The</w>': ('The', '</w>'), 'Wo': ('W', 'o'), 'Won': ('Wo', 'n'), 'Wond': ('Won', 'd'), 'Wonde': ('Wond', 'e'), 'Wonder': ('Wonde', 'r'), 'Wonderf': ('Wonder', 'f'), 'Wonderfu': ('Wonderf', 'u'), 'Wonderful</w>': ('Wonderfu', 'l</w>'), 'Wi': ('W', 'i'), 'Wiz': ('Wi', 'z'), 'Wiza': ('Wiz', 'a'), 'Wizar': ('Wiza', 'r'), 'Wizard': ('Wizar', 'd'), 'Wizard</w>': ('Wizard', '</w>'), 'of': ('o', 'f'), 'of</w>': ('of', '</w>'), 'Oz': ('O', 'z'), 'Oz</w>': ('Oz', '</w>'), 'is</w>': ('i', 's</w>'), 'a</w>': ('a', '</w>'), 'ch': ('c', 'h'), 'chi': ('ch', 'i'), 'chil': ('chi', 'l'), 'child': ('chil', 'd'), 'childr': ('child', 'r'), 'children': ('childr', 'en'), \"children'\": ('children', \"'\"), \"children's</w>\": (\"children'\", 's</w>'), 'no': ('n', 'o')}\n",
            "pairing: defaultdict(<class 'int'>, {('W', 'i'): 1, ('i', 'z'): 1, ('z', 'a'): 1, ('a', 'r'): 1, ('r', 'd'): 1, ('d', '</w>'): 1, ('o', 'f'): 1, ('f', '</w>'): 1, ('O', 'z'): 1, ('z', '</w>'): 1, ('i', 's</w>'): 1, ('a', '</w>'): 1, ('c', 'h'): 1, ('h', 'i'): 1, ('i', 'l'): 1, ('l', 'd'): 1, ('d', 'r'): 1, ('r', 'en'): 1, ('en', \"'\"): 1, (\"'\", 's</w>'): 1, ('n', 'o'): 1, ('o', 'v'): 1, ('v', 'e'): 1, ('e', 'l</w>'): 1, ('w', 'r'): 1, ('r', 'i'): 1, ('i', 't'): 1, ('t', 't'): 1, ('t', 'en'): 1, ('en', '</w>'): 1, ('b', 'y'): 1, ('y', '</w>'): 1, ('L', '.</w>'): 1, ('F', 'r'): 1, ('r', 'a'): 1, ('a', 'n'): 1, ('n', 'k'): 1, ('k', '</w>'): 1, ('B', 'a'): 1, ('a', 'u'): 1, ('u', 'm'): 1, ('m', '.</w>'): 1})\n",
            "best1: ('W', 'i')\n",
            "token_count: {'The</w>': 1, 'Wonderful</w>': 1, 'Wi z a r d </w>': 1, 'o f </w>': 1, 'O z </w>': 1, 'i s</w>': 1, 'a </w>': 1, \"c h i l d r en ' s</w>\": 1, 'n o v e l</w>': 1, 'w r i t t en </w>': 1, 'b y </w>': 1, 'L .</w>': 1, 'F r a n k </w>': 1, 'B a u m .</w>': 1}\n",
            "bpe_codes: {('l', '</w>'): 0, ('s', '</w>'): 1, ('e', 'n'): 2, ('.', '</w>'): 3, ('T', 'h'): 4, ('Th', 'e'): 5, ('The', '</w>'): 6, ('W', 'o'): 7, ('Wo', 'n'): 8, ('Won', 'd'): 9, ('Wond', 'e'): 10, ('Wonde', 'r'): 11, ('Wonder', 'f'): 12, ('Wonderf', 'u'): 13, ('Wonderfu', 'l</w>'): 14, ('W', 'i'): 15, ('Wi', 'z'): 16, ('Wiz', 'a'): 17, ('Wiza', 'r'): 18, ('Wizar', 'd'): 19, ('Wizard', '</w>'): 20, ('o', 'f'): 21, ('of', '</w>'): 22, ('O', 'z'): 23, ('Oz', '</w>'): 24, ('i', 's</w>'): 25, ('a', '</w>'): 26, ('c', 'h'): 27, ('ch', 'i'): 28, ('chi', 'l'): 29, ('chil', 'd'): 30, ('child', 'r'): 31, ('childr', 'en'): 32, ('children', \"'\"): 33, (\"children'\", 's</w>'): 34, ('n', 'o'): 35}\n",
            "bpe_codes_reverse: {'l</w>': ('l', '</w>'), 's</w>': ('s', '</w>'), 'en': ('e', 'n'), '.</w>': ('.', '</w>'), 'Th': ('T', 'h'), 'The': ('Th', 'e'), 'The</w>': ('The', '</w>'), 'Wo': ('W', 'o'), 'Won': ('Wo', 'n'), 'Wond': ('Won', 'd'), 'Wonde': ('Wond', 'e'), 'Wonder': ('Wonde', 'r'), 'Wonderf': ('Wonder', 'f'), 'Wonderfu': ('Wonderf', 'u'), 'Wonderful</w>': ('Wonderfu', 'l</w>'), 'Wi': ('W', 'i'), 'Wiz': ('Wi', 'z'), 'Wiza': ('Wiz', 'a'), 'Wizar': ('Wiza', 'r'), 'Wizard': ('Wizar', 'd'), 'Wizard</w>': ('Wizard', '</w>'), 'of': ('o', 'f'), 'of</w>': ('of', '</w>'), 'Oz': ('O', 'z'), 'Oz</w>': ('Oz', '</w>'), 'is</w>': ('i', 's</w>'), 'a</w>': ('a', '</w>'), 'ch': ('c', 'h'), 'chi': ('ch', 'i'), 'chil': ('chi', 'l'), 'child': ('chil', 'd'), 'childr': ('child', 'r'), 'children': ('childr', 'en'), \"children'\": ('children', \"'\"), \"children's</w>\": (\"children'\", 's</w>'), 'no': ('n', 'o')}\n",
            "pairing: defaultdict(<class 'int'>, {('Wi', 'z'): 1, ('z', 'a'): 1, ('a', 'r'): 1, ('r', 'd'): 1, ('d', '</w>'): 1, ('o', 'f'): 1, ('f', '</w>'): 1, ('O', 'z'): 1, ('z', '</w>'): 1, ('i', 's</w>'): 1, ('a', '</w>'): 1, ('c', 'h'): 1, ('h', 'i'): 1, ('i', 'l'): 1, ('l', 'd'): 1, ('d', 'r'): 1, ('r', 'en'): 1, ('en', \"'\"): 1, (\"'\", 's</w>'): 1, ('n', 'o'): 1, ('o', 'v'): 1, ('v', 'e'): 1, ('e', 'l</w>'): 1, ('w', 'r'): 1, ('r', 'i'): 1, ('i', 't'): 1, ('t', 't'): 1, ('t', 'en'): 1, ('en', '</w>'): 1, ('b', 'y'): 1, ('y', '</w>'): 1, ('L', '.</w>'): 1, ('F', 'r'): 1, ('r', 'a'): 1, ('a', 'n'): 1, ('n', 'k'): 1, ('k', '</w>'): 1, ('B', 'a'): 1, ('a', 'u'): 1, ('u', 'm'): 1, ('m', '.</w>'): 1})\n",
            "best1: ('Wi', 'z')\n",
            "token_count: {'The</w>': 1, 'Wonderful</w>': 1, 'Wiz a r d </w>': 1, 'o f </w>': 1, 'O z </w>': 1, 'i s</w>': 1, 'a </w>': 1, \"c h i l d r en ' s</w>\": 1, 'n o v e l</w>': 1, 'w r i t t en </w>': 1, 'b y </w>': 1, 'L .</w>': 1, 'F r a n k </w>': 1, 'B a u m .</w>': 1}\n",
            "bpe_codes: {('l', '</w>'): 0, ('s', '</w>'): 1, ('e', 'n'): 2, ('.', '</w>'): 3, ('T', 'h'): 4, ('Th', 'e'): 5, ('The', '</w>'): 6, ('W', 'o'): 7, ('Wo', 'n'): 8, ('Won', 'd'): 9, ('Wond', 'e'): 10, ('Wonde', 'r'): 11, ('Wonder', 'f'): 12, ('Wonderf', 'u'): 13, ('Wonderfu', 'l</w>'): 14, ('W', 'i'): 15, ('Wi', 'z'): 16, ('Wiz', 'a'): 17, ('Wiza', 'r'): 18, ('Wizar', 'd'): 19, ('Wizard', '</w>'): 20, ('o', 'f'): 21, ('of', '</w>'): 22, ('O', 'z'): 23, ('Oz', '</w>'): 24, ('i', 's</w>'): 25, ('a', '</w>'): 26, ('c', 'h'): 27, ('ch', 'i'): 28, ('chi', 'l'): 29, ('chil', 'd'): 30, ('child', 'r'): 31, ('childr', 'en'): 32, ('children', \"'\"): 33, (\"children'\", 's</w>'): 34, ('n', 'o'): 35}\n",
            "bpe_codes_reverse: {'l</w>': ('l', '</w>'), 's</w>': ('s', '</w>'), 'en': ('e', 'n'), '.</w>': ('.', '</w>'), 'Th': ('T', 'h'), 'The': ('Th', 'e'), 'The</w>': ('The', '</w>'), 'Wo': ('W', 'o'), 'Won': ('Wo', 'n'), 'Wond': ('Won', 'd'), 'Wonde': ('Wond', 'e'), 'Wonder': ('Wonde', 'r'), 'Wonderf': ('Wonder', 'f'), 'Wonderfu': ('Wonderf', 'u'), 'Wonderful</w>': ('Wonderfu', 'l</w>'), 'Wi': ('W', 'i'), 'Wiz': ('Wi', 'z'), 'Wiza': ('Wiz', 'a'), 'Wizar': ('Wiza', 'r'), 'Wizard': ('Wizar', 'd'), 'Wizard</w>': ('Wizard', '</w>'), 'of': ('o', 'f'), 'of</w>': ('of', '</w>'), 'Oz': ('O', 'z'), 'Oz</w>': ('Oz', '</w>'), 'is</w>': ('i', 's</w>'), 'a</w>': ('a', '</w>'), 'ch': ('c', 'h'), 'chi': ('ch', 'i'), 'chil': ('chi', 'l'), 'child': ('chil', 'd'), 'childr': ('child', 'r'), 'children': ('childr', 'en'), \"children'\": ('children', \"'\"), \"children's</w>\": (\"children'\", 's</w>'), 'no': ('n', 'o')}\n",
            "pairing: defaultdict(<class 'int'>, {('Wiz', 'a'): 1, ('a', 'r'): 1, ('r', 'd'): 1, ('d', '</w>'): 1, ('o', 'f'): 1, ('f', '</w>'): 1, ('O', 'z'): 1, ('z', '</w>'): 1, ('i', 's</w>'): 1, ('a', '</w>'): 1, ('c', 'h'): 1, ('h', 'i'): 1, ('i', 'l'): 1, ('l', 'd'): 1, ('d', 'r'): 1, ('r', 'en'): 1, ('en', \"'\"): 1, (\"'\", 's</w>'): 1, ('n', 'o'): 1, ('o', 'v'): 1, ('v', 'e'): 1, ('e', 'l</w>'): 1, ('w', 'r'): 1, ('r', 'i'): 1, ('i', 't'): 1, ('t', 't'): 1, ('t', 'en'): 1, ('en', '</w>'): 1, ('b', 'y'): 1, ('y', '</w>'): 1, ('L', '.</w>'): 1, ('F', 'r'): 1, ('r', 'a'): 1, ('a', 'n'): 1, ('n', 'k'): 1, ('k', '</w>'): 1, ('B', 'a'): 1, ('a', 'u'): 1, ('u', 'm'): 1, ('m', '.</w>'): 1})\n",
            "best1: ('Wiz', 'a')\n",
            "token_count: {'The</w>': 1, 'Wonderful</w>': 1, 'Wiza r d </w>': 1, 'o f </w>': 1, 'O z </w>': 1, 'i s</w>': 1, 'a </w>': 1, \"c h i l d r en ' s</w>\": 1, 'n o v e l</w>': 1, 'w r i t t en </w>': 1, 'b y </w>': 1, 'L .</w>': 1, 'F r a n k </w>': 1, 'B a u m .</w>': 1}\n",
            "bpe_codes: {('l', '</w>'): 0, ('s', '</w>'): 1, ('e', 'n'): 2, ('.', '</w>'): 3, ('T', 'h'): 4, ('Th', 'e'): 5, ('The', '</w>'): 6, ('W', 'o'): 7, ('Wo', 'n'): 8, ('Won', 'd'): 9, ('Wond', 'e'): 10, ('Wonde', 'r'): 11, ('Wonder', 'f'): 12, ('Wonderf', 'u'): 13, ('Wonderfu', 'l</w>'): 14, ('W', 'i'): 15, ('Wi', 'z'): 16, ('Wiz', 'a'): 17, ('Wiza', 'r'): 18, ('Wizar', 'd'): 19, ('Wizard', '</w>'): 20, ('o', 'f'): 21, ('of', '</w>'): 22, ('O', 'z'): 23, ('Oz', '</w>'): 24, ('i', 's</w>'): 25, ('a', '</w>'): 26, ('c', 'h'): 27, ('ch', 'i'): 28, ('chi', 'l'): 29, ('chil', 'd'): 30, ('child', 'r'): 31, ('childr', 'en'): 32, ('children', \"'\"): 33, (\"children'\", 's</w>'): 34, ('n', 'o'): 35}\n",
            "bpe_codes_reverse: {'l</w>': ('l', '</w>'), 's</w>': ('s', '</w>'), 'en': ('e', 'n'), '.</w>': ('.', '</w>'), 'Th': ('T', 'h'), 'The': ('Th', 'e'), 'The</w>': ('The', '</w>'), 'Wo': ('W', 'o'), 'Won': ('Wo', 'n'), 'Wond': ('Won', 'd'), 'Wonde': ('Wond', 'e'), 'Wonder': ('Wonde', 'r'), 'Wonderf': ('Wonder', 'f'), 'Wonderfu': ('Wonderf', 'u'), 'Wonderful</w>': ('Wonderfu', 'l</w>'), 'Wi': ('W', 'i'), 'Wiz': ('Wi', 'z'), 'Wiza': ('Wiz', 'a'), 'Wizar': ('Wiza', 'r'), 'Wizard': ('Wizar', 'd'), 'Wizard</w>': ('Wizard', '</w>'), 'of': ('o', 'f'), 'of</w>': ('of', '</w>'), 'Oz': ('O', 'z'), 'Oz</w>': ('Oz', '</w>'), 'is</w>': ('i', 's</w>'), 'a</w>': ('a', '</w>'), 'ch': ('c', 'h'), 'chi': ('ch', 'i'), 'chil': ('chi', 'l'), 'child': ('chil', 'd'), 'childr': ('child', 'r'), 'children': ('childr', 'en'), \"children'\": ('children', \"'\"), \"children's</w>\": (\"children'\", 's</w>'), 'no': ('n', 'o')}\n",
            "pairing: defaultdict(<class 'int'>, {('Wiza', 'r'): 1, ('r', 'd'): 1, ('d', '</w>'): 1, ('o', 'f'): 1, ('f', '</w>'): 1, ('O', 'z'): 1, ('z', '</w>'): 1, ('i', 's</w>'): 1, ('a', '</w>'): 1, ('c', 'h'): 1, ('h', 'i'): 1, ('i', 'l'): 1, ('l', 'd'): 1, ('d', 'r'): 1, ('r', 'en'): 1, ('en', \"'\"): 1, (\"'\", 's</w>'): 1, ('n', 'o'): 1, ('o', 'v'): 1, ('v', 'e'): 1, ('e', 'l</w>'): 1, ('w', 'r'): 1, ('r', 'i'): 1, ('i', 't'): 1, ('t', 't'): 1, ('t', 'en'): 1, ('en', '</w>'): 1, ('b', 'y'): 1, ('y', '</w>'): 1, ('L', '.</w>'): 1, ('F', 'r'): 1, ('r', 'a'): 1, ('a', 'n'): 1, ('n', 'k'): 1, ('k', '</w>'): 1, ('B', 'a'): 1, ('a', 'u'): 1, ('u', 'm'): 1, ('m', '.</w>'): 1})\n",
            "best1: ('Wiza', 'r')\n",
            "token_count: {'The</w>': 1, 'Wonderful</w>': 1, 'Wizar d </w>': 1, 'o f </w>': 1, 'O z </w>': 1, 'i s</w>': 1, 'a </w>': 1, \"c h i l d r en ' s</w>\": 1, 'n o v e l</w>': 1, 'w r i t t en </w>': 1, 'b y </w>': 1, 'L .</w>': 1, 'F r a n k </w>': 1, 'B a u m .</w>': 1}\n",
            "bpe_codes: {('l', '</w>'): 0, ('s', '</w>'): 1, ('e', 'n'): 2, ('.', '</w>'): 3, ('T', 'h'): 4, ('Th', 'e'): 5, ('The', '</w>'): 6, ('W', 'o'): 7, ('Wo', 'n'): 8, ('Won', 'd'): 9, ('Wond', 'e'): 10, ('Wonde', 'r'): 11, ('Wonder', 'f'): 12, ('Wonderf', 'u'): 13, ('Wonderfu', 'l</w>'): 14, ('W', 'i'): 15, ('Wi', 'z'): 16, ('Wiz', 'a'): 17, ('Wiza', 'r'): 18, ('Wizar', 'd'): 19, ('Wizard', '</w>'): 20, ('o', 'f'): 21, ('of', '</w>'): 22, ('O', 'z'): 23, ('Oz', '</w>'): 24, ('i', 's</w>'): 25, ('a', '</w>'): 26, ('c', 'h'): 27, ('ch', 'i'): 28, ('chi', 'l'): 29, ('chil', 'd'): 30, ('child', 'r'): 31, ('childr', 'en'): 32, ('children', \"'\"): 33, (\"children'\", 's</w>'): 34, ('n', 'o'): 35}\n",
            "bpe_codes_reverse: {'l</w>': ('l', '</w>'), 's</w>': ('s', '</w>'), 'en': ('e', 'n'), '.</w>': ('.', '</w>'), 'Th': ('T', 'h'), 'The': ('Th', 'e'), 'The</w>': ('The', '</w>'), 'Wo': ('W', 'o'), 'Won': ('Wo', 'n'), 'Wond': ('Won', 'd'), 'Wonde': ('Wond', 'e'), 'Wonder': ('Wonde', 'r'), 'Wonderf': ('Wonder', 'f'), 'Wonderfu': ('Wonderf', 'u'), 'Wonderful</w>': ('Wonderfu', 'l</w>'), 'Wi': ('W', 'i'), 'Wiz': ('Wi', 'z'), 'Wiza': ('Wiz', 'a'), 'Wizar': ('Wiza', 'r'), 'Wizard': ('Wizar', 'd'), 'Wizard</w>': ('Wizard', '</w>'), 'of': ('o', 'f'), 'of</w>': ('of', '</w>'), 'Oz': ('O', 'z'), 'Oz</w>': ('Oz', '</w>'), 'is</w>': ('i', 's</w>'), 'a</w>': ('a', '</w>'), 'ch': ('c', 'h'), 'chi': ('ch', 'i'), 'chil': ('chi', 'l'), 'child': ('chil', 'd'), 'childr': ('child', 'r'), 'children': ('childr', 'en'), \"children'\": ('children', \"'\"), \"children's</w>\": (\"children'\", 's</w>'), 'no': ('n', 'o')}\n",
            "pairing: defaultdict(<class 'int'>, {('Wizar', 'd'): 1, ('d', '</w>'): 1, ('o', 'f'): 1, ('f', '</w>'): 1, ('O', 'z'): 1, ('z', '</w>'): 1, ('i', 's</w>'): 1, ('a', '</w>'): 1, ('c', 'h'): 1, ('h', 'i'): 1, ('i', 'l'): 1, ('l', 'd'): 1, ('d', 'r'): 1, ('r', 'en'): 1, ('en', \"'\"): 1, (\"'\", 's</w>'): 1, ('n', 'o'): 1, ('o', 'v'): 1, ('v', 'e'): 1, ('e', 'l</w>'): 1, ('w', 'r'): 1, ('r', 'i'): 1, ('i', 't'): 1, ('t', 't'): 1, ('t', 'en'): 1, ('en', '</w>'): 1, ('b', 'y'): 1, ('y', '</w>'): 1, ('L', '.</w>'): 1, ('F', 'r'): 1, ('r', 'a'): 1, ('a', 'n'): 1, ('n', 'k'): 1, ('k', '</w>'): 1, ('B', 'a'): 1, ('a', 'u'): 1, ('u', 'm'): 1, ('m', '.</w>'): 1})\n",
            "best1: ('Wizar', 'd')\n",
            "token_count: {'The</w>': 1, 'Wonderful</w>': 1, 'Wizard </w>': 1, 'o f </w>': 1, 'O z </w>': 1, 'i s</w>': 1, 'a </w>': 1, \"c h i l d r en ' s</w>\": 1, 'n o v e l</w>': 1, 'w r i t t en </w>': 1, 'b y </w>': 1, 'L .</w>': 1, 'F r a n k </w>': 1, 'B a u m .</w>': 1}\n",
            "bpe_codes: {('l', '</w>'): 0, ('s', '</w>'): 1, ('e', 'n'): 2, ('.', '</w>'): 3, ('T', 'h'): 4, ('Th', 'e'): 5, ('The', '</w>'): 6, ('W', 'o'): 7, ('Wo', 'n'): 8, ('Won', 'd'): 9, ('Wond', 'e'): 10, ('Wonde', 'r'): 11, ('Wonder', 'f'): 12, ('Wonderf', 'u'): 13, ('Wonderfu', 'l</w>'): 14, ('W', 'i'): 15, ('Wi', 'z'): 16, ('Wiz', 'a'): 17, ('Wiza', 'r'): 18, ('Wizar', 'd'): 19, ('Wizard', '</w>'): 20, ('o', 'f'): 21, ('of', '</w>'): 22, ('O', 'z'): 23, ('Oz', '</w>'): 24, ('i', 's</w>'): 25, ('a', '</w>'): 26, ('c', 'h'): 27, ('ch', 'i'): 28, ('chi', 'l'): 29, ('chil', 'd'): 30, ('child', 'r'): 31, ('childr', 'en'): 32, ('children', \"'\"): 33, (\"children'\", 's</w>'): 34, ('n', 'o'): 35}\n",
            "bpe_codes_reverse: {'l</w>': ('l', '</w>'), 's</w>': ('s', '</w>'), 'en': ('e', 'n'), '.</w>': ('.', '</w>'), 'Th': ('T', 'h'), 'The': ('Th', 'e'), 'The</w>': ('The', '</w>'), 'Wo': ('W', 'o'), 'Won': ('Wo', 'n'), 'Wond': ('Won', 'd'), 'Wonde': ('Wond', 'e'), 'Wonder': ('Wonde', 'r'), 'Wonderf': ('Wonder', 'f'), 'Wonderfu': ('Wonderf', 'u'), 'Wonderful</w>': ('Wonderfu', 'l</w>'), 'Wi': ('W', 'i'), 'Wiz': ('Wi', 'z'), 'Wiza': ('Wiz', 'a'), 'Wizar': ('Wiza', 'r'), 'Wizard': ('Wizar', 'd'), 'Wizard</w>': ('Wizard', '</w>'), 'of': ('o', 'f'), 'of</w>': ('of', '</w>'), 'Oz': ('O', 'z'), 'Oz</w>': ('Oz', '</w>'), 'is</w>': ('i', 's</w>'), 'a</w>': ('a', '</w>'), 'ch': ('c', 'h'), 'chi': ('ch', 'i'), 'chil': ('chi', 'l'), 'child': ('chil', 'd'), 'childr': ('child', 'r'), 'children': ('childr', 'en'), \"children'\": ('children', \"'\"), \"children's</w>\": (\"children'\", 's</w>'), 'no': ('n', 'o')}\n",
            "pairing: defaultdict(<class 'int'>, {('Wizard', '</w>'): 1, ('o', 'f'): 1, ('f', '</w>'): 1, ('O', 'z'): 1, ('z', '</w>'): 1, ('i', 's</w>'): 1, ('a', '</w>'): 1, ('c', 'h'): 1, ('h', 'i'): 1, ('i', 'l'): 1, ('l', 'd'): 1, ('d', 'r'): 1, ('r', 'en'): 1, ('en', \"'\"): 1, (\"'\", 's</w>'): 1, ('n', 'o'): 1, ('o', 'v'): 1, ('v', 'e'): 1, ('e', 'l</w>'): 1, ('w', 'r'): 1, ('r', 'i'): 1, ('i', 't'): 1, ('t', 't'): 1, ('t', 'en'): 1, ('en', '</w>'): 1, ('b', 'y'): 1, ('y', '</w>'): 1, ('L', '.</w>'): 1, ('F', 'r'): 1, ('r', 'a'): 1, ('a', 'n'): 1, ('n', 'k'): 1, ('k', '</w>'): 1, ('B', 'a'): 1, ('a', 'u'): 1, ('u', 'm'): 1, ('m', '.</w>'): 1})\n",
            "best1: ('Wizard', '</w>')\n",
            "token_count: {'The</w>': 1, 'Wonderful</w>': 1, 'Wizard</w>': 1, 'o f </w>': 1, 'O z </w>': 1, 'i s</w>': 1, 'a </w>': 1, \"c h i l d r en ' s</w>\": 1, 'n o v e l</w>': 1, 'w r i t t en </w>': 1, 'b y </w>': 1, 'L .</w>': 1, 'F r a n k </w>': 1, 'B a u m .</w>': 1}\n",
            "bpe_codes: {('l', '</w>'): 0, ('s', '</w>'): 1, ('e', 'n'): 2, ('.', '</w>'): 3, ('T', 'h'): 4, ('Th', 'e'): 5, ('The', '</w>'): 6, ('W', 'o'): 7, ('Wo', 'n'): 8, ('Won', 'd'): 9, ('Wond', 'e'): 10, ('Wonde', 'r'): 11, ('Wonder', 'f'): 12, ('Wonderf', 'u'): 13, ('Wonderfu', 'l</w>'): 14, ('W', 'i'): 15, ('Wi', 'z'): 16, ('Wiz', 'a'): 17, ('Wiza', 'r'): 18, ('Wizar', 'd'): 19, ('Wizard', '</w>'): 20, ('o', 'f'): 21, ('of', '</w>'): 22, ('O', 'z'): 23, ('Oz', '</w>'): 24, ('i', 's</w>'): 25, ('a', '</w>'): 26, ('c', 'h'): 27, ('ch', 'i'): 28, ('chi', 'l'): 29, ('chil', 'd'): 30, ('child', 'r'): 31, ('childr', 'en'): 32, ('children', \"'\"): 33, (\"children'\", 's</w>'): 34, ('n', 'o'): 35}\n",
            "bpe_codes_reverse: {'l</w>': ('l', '</w>'), 's</w>': ('s', '</w>'), 'en': ('e', 'n'), '.</w>': ('.', '</w>'), 'Th': ('T', 'h'), 'The': ('Th', 'e'), 'The</w>': ('The', '</w>'), 'Wo': ('W', 'o'), 'Won': ('Wo', 'n'), 'Wond': ('Won', 'd'), 'Wonde': ('Wond', 'e'), 'Wonder': ('Wonde', 'r'), 'Wonderf': ('Wonder', 'f'), 'Wonderfu': ('Wonderf', 'u'), 'Wonderful</w>': ('Wonderfu', 'l</w>'), 'Wi': ('W', 'i'), 'Wiz': ('Wi', 'z'), 'Wiza': ('Wiz', 'a'), 'Wizar': ('Wiza', 'r'), 'Wizard': ('Wizar', 'd'), 'Wizard</w>': ('Wizard', '</w>'), 'of': ('o', 'f'), 'of</w>': ('of', '</w>'), 'Oz': ('O', 'z'), 'Oz</w>': ('Oz', '</w>'), 'is</w>': ('i', 's</w>'), 'a</w>': ('a', '</w>'), 'ch': ('c', 'h'), 'chi': ('ch', 'i'), 'chil': ('chi', 'l'), 'child': ('chil', 'd'), 'childr': ('child', 'r'), 'children': ('childr', 'en'), \"children'\": ('children', \"'\"), \"children's</w>\": (\"children'\", 's</w>'), 'no': ('n', 'o')}\n",
            "pairing: defaultdict(<class 'int'>, {('o', 'f'): 1, ('f', '</w>'): 1, ('O', 'z'): 1, ('z', '</w>'): 1, ('i', 's</w>'): 1, ('a', '</w>'): 1, ('c', 'h'): 1, ('h', 'i'): 1, ('i', 'l'): 1, ('l', 'd'): 1, ('d', 'r'): 1, ('r', 'en'): 1, ('en', \"'\"): 1, (\"'\", 's</w>'): 1, ('n', 'o'): 1, ('o', 'v'): 1, ('v', 'e'): 1, ('e', 'l</w>'): 1, ('w', 'r'): 1, ('r', 'i'): 1, ('i', 't'): 1, ('t', 't'): 1, ('t', 'en'): 1, ('en', '</w>'): 1, ('b', 'y'): 1, ('y', '</w>'): 1, ('L', '.</w>'): 1, ('F', 'r'): 1, ('r', 'a'): 1, ('a', 'n'): 1, ('n', 'k'): 1, ('k', '</w>'): 1, ('B', 'a'): 1, ('a', 'u'): 1, ('u', 'm'): 1, ('m', '.</w>'): 1})\n",
            "best1: ('o', 'f')\n",
            "token_count: {'The</w>': 1, 'Wonderful</w>': 1, 'Wizard</w>': 1, 'of </w>': 1, 'O z </w>': 1, 'i s</w>': 1, 'a </w>': 1, \"c h i l d r en ' s</w>\": 1, 'n o v e l</w>': 1, 'w r i t t en </w>': 1, 'b y </w>': 1, 'L .</w>': 1, 'F r a n k </w>': 1, 'B a u m .</w>': 1}\n",
            "bpe_codes: {('l', '</w>'): 0, ('s', '</w>'): 1, ('e', 'n'): 2, ('.', '</w>'): 3, ('T', 'h'): 4, ('Th', 'e'): 5, ('The', '</w>'): 6, ('W', 'o'): 7, ('Wo', 'n'): 8, ('Won', 'd'): 9, ('Wond', 'e'): 10, ('Wonde', 'r'): 11, ('Wonder', 'f'): 12, ('Wonderf', 'u'): 13, ('Wonderfu', 'l</w>'): 14, ('W', 'i'): 15, ('Wi', 'z'): 16, ('Wiz', 'a'): 17, ('Wiza', 'r'): 18, ('Wizar', 'd'): 19, ('Wizard', '</w>'): 20, ('o', 'f'): 21, ('of', '</w>'): 22, ('O', 'z'): 23, ('Oz', '</w>'): 24, ('i', 's</w>'): 25, ('a', '</w>'): 26, ('c', 'h'): 27, ('ch', 'i'): 28, ('chi', 'l'): 29, ('chil', 'd'): 30, ('child', 'r'): 31, ('childr', 'en'): 32, ('children', \"'\"): 33, (\"children'\", 's</w>'): 34, ('n', 'o'): 35}\n",
            "bpe_codes_reverse: {'l</w>': ('l', '</w>'), 's</w>': ('s', '</w>'), 'en': ('e', 'n'), '.</w>': ('.', '</w>'), 'Th': ('T', 'h'), 'The': ('Th', 'e'), 'The</w>': ('The', '</w>'), 'Wo': ('W', 'o'), 'Won': ('Wo', 'n'), 'Wond': ('Won', 'd'), 'Wonde': ('Wond', 'e'), 'Wonder': ('Wonde', 'r'), 'Wonderf': ('Wonder', 'f'), 'Wonderfu': ('Wonderf', 'u'), 'Wonderful</w>': ('Wonderfu', 'l</w>'), 'Wi': ('W', 'i'), 'Wiz': ('Wi', 'z'), 'Wiza': ('Wiz', 'a'), 'Wizar': ('Wiza', 'r'), 'Wizard': ('Wizar', 'd'), 'Wizard</w>': ('Wizard', '</w>'), 'of': ('o', 'f'), 'of</w>': ('of', '</w>'), 'Oz': ('O', 'z'), 'Oz</w>': ('Oz', '</w>'), 'is</w>': ('i', 's</w>'), 'a</w>': ('a', '</w>'), 'ch': ('c', 'h'), 'chi': ('ch', 'i'), 'chil': ('chi', 'l'), 'child': ('chil', 'd'), 'childr': ('child', 'r'), 'children': ('childr', 'en'), \"children'\": ('children', \"'\"), \"children's</w>\": (\"children'\", 's</w>'), 'no': ('n', 'o')}\n",
            "pairing: defaultdict(<class 'int'>, {('of', '</w>'): 1, ('O', 'z'): 1, ('z', '</w>'): 1, ('i', 's</w>'): 1, ('a', '</w>'): 1, ('c', 'h'): 1, ('h', 'i'): 1, ('i', 'l'): 1, ('l', 'd'): 1, ('d', 'r'): 1, ('r', 'en'): 1, ('en', \"'\"): 1, (\"'\", 's</w>'): 1, ('n', 'o'): 1, ('o', 'v'): 1, ('v', 'e'): 1, ('e', 'l</w>'): 1, ('w', 'r'): 1, ('r', 'i'): 1, ('i', 't'): 1, ('t', 't'): 1, ('t', 'en'): 1, ('en', '</w>'): 1, ('b', 'y'): 1, ('y', '</w>'): 1, ('L', '.</w>'): 1, ('F', 'r'): 1, ('r', 'a'): 1, ('a', 'n'): 1, ('n', 'k'): 1, ('k', '</w>'): 1, ('B', 'a'): 1, ('a', 'u'): 1, ('u', 'm'): 1, ('m', '.</w>'): 1})\n",
            "best1: ('of', '</w>')\n",
            "token_count: {'The</w>': 1, 'Wonderful</w>': 1, 'Wizard</w>': 1, 'of</w>': 1, 'O z </w>': 1, 'i s</w>': 1, 'a </w>': 1, \"c h i l d r en ' s</w>\": 1, 'n o v e l</w>': 1, 'w r i t t en </w>': 1, 'b y </w>': 1, 'L .</w>': 1, 'F r a n k </w>': 1, 'B a u m .</w>': 1}\n",
            "bpe_codes: {('l', '</w>'): 0, ('s', '</w>'): 1, ('e', 'n'): 2, ('.', '</w>'): 3, ('T', 'h'): 4, ('Th', 'e'): 5, ('The', '</w>'): 6, ('W', 'o'): 7, ('Wo', 'n'): 8, ('Won', 'd'): 9, ('Wond', 'e'): 10, ('Wonde', 'r'): 11, ('Wonder', 'f'): 12, ('Wonderf', 'u'): 13, ('Wonderfu', 'l</w>'): 14, ('W', 'i'): 15, ('Wi', 'z'): 16, ('Wiz', 'a'): 17, ('Wiza', 'r'): 18, ('Wizar', 'd'): 19, ('Wizard', '</w>'): 20, ('o', 'f'): 21, ('of', '</w>'): 22, ('O', 'z'): 23, ('Oz', '</w>'): 24, ('i', 's</w>'): 25, ('a', '</w>'): 26, ('c', 'h'): 27, ('ch', 'i'): 28, ('chi', 'l'): 29, ('chil', 'd'): 30, ('child', 'r'): 31, ('childr', 'en'): 32, ('children', \"'\"): 33, (\"children'\", 's</w>'): 34, ('n', 'o'): 35}\n",
            "bpe_codes_reverse: {'l</w>': ('l', '</w>'), 's</w>': ('s', '</w>'), 'en': ('e', 'n'), '.</w>': ('.', '</w>'), 'Th': ('T', 'h'), 'The': ('Th', 'e'), 'The</w>': ('The', '</w>'), 'Wo': ('W', 'o'), 'Won': ('Wo', 'n'), 'Wond': ('Won', 'd'), 'Wonde': ('Wond', 'e'), 'Wonder': ('Wonde', 'r'), 'Wonderf': ('Wonder', 'f'), 'Wonderfu': ('Wonderf', 'u'), 'Wonderful</w>': ('Wonderfu', 'l</w>'), 'Wi': ('W', 'i'), 'Wiz': ('Wi', 'z'), 'Wiza': ('Wiz', 'a'), 'Wizar': ('Wiza', 'r'), 'Wizard': ('Wizar', 'd'), 'Wizard</w>': ('Wizard', '</w>'), 'of': ('o', 'f'), 'of</w>': ('of', '</w>'), 'Oz': ('O', 'z'), 'Oz</w>': ('Oz', '</w>'), 'is</w>': ('i', 's</w>'), 'a</w>': ('a', '</w>'), 'ch': ('c', 'h'), 'chi': ('ch', 'i'), 'chil': ('chi', 'l'), 'child': ('chil', 'd'), 'childr': ('child', 'r'), 'children': ('childr', 'en'), \"children'\": ('children', \"'\"), \"children's</w>\": (\"children'\", 's</w>'), 'no': ('n', 'o')}\n",
            "pairing: defaultdict(<class 'int'>, {('O', 'z'): 1, ('z', '</w>'): 1, ('i', 's</w>'): 1, ('a', '</w>'): 1, ('c', 'h'): 1, ('h', 'i'): 1, ('i', 'l'): 1, ('l', 'd'): 1, ('d', 'r'): 1, ('r', 'en'): 1, ('en', \"'\"): 1, (\"'\", 's</w>'): 1, ('n', 'o'): 1, ('o', 'v'): 1, ('v', 'e'): 1, ('e', 'l</w>'): 1, ('w', 'r'): 1, ('r', 'i'): 1, ('i', 't'): 1, ('t', 't'): 1, ('t', 'en'): 1, ('en', '</w>'): 1, ('b', 'y'): 1, ('y', '</w>'): 1, ('L', '.</w>'): 1, ('F', 'r'): 1, ('r', 'a'): 1, ('a', 'n'): 1, ('n', 'k'): 1, ('k', '</w>'): 1, ('B', 'a'): 1, ('a', 'u'): 1, ('u', 'm'): 1, ('m', '.</w>'): 1})\n",
            "best1: ('O', 'z')\n",
            "token_count: {'The</w>': 1, 'Wonderful</w>': 1, 'Wizard</w>': 1, 'of</w>': 1, 'Oz </w>': 1, 'i s</w>': 1, 'a </w>': 1, \"c h i l d r en ' s</w>\": 1, 'n o v e l</w>': 1, 'w r i t t en </w>': 1, 'b y </w>': 1, 'L .</w>': 1, 'F r a n k </w>': 1, 'B a u m .</w>': 1}\n",
            "bpe_codes: {('l', '</w>'): 0, ('s', '</w>'): 1, ('e', 'n'): 2, ('.', '</w>'): 3, ('T', 'h'): 4, ('Th', 'e'): 5, ('The', '</w>'): 6, ('W', 'o'): 7, ('Wo', 'n'): 8, ('Won', 'd'): 9, ('Wond', 'e'): 10, ('Wonde', 'r'): 11, ('Wonder', 'f'): 12, ('Wonderf', 'u'): 13, ('Wonderfu', 'l</w>'): 14, ('W', 'i'): 15, ('Wi', 'z'): 16, ('Wiz', 'a'): 17, ('Wiza', 'r'): 18, ('Wizar', 'd'): 19, ('Wizard', '</w>'): 20, ('o', 'f'): 21, ('of', '</w>'): 22, ('O', 'z'): 23, ('Oz', '</w>'): 24, ('i', 's</w>'): 25, ('a', '</w>'): 26, ('c', 'h'): 27, ('ch', 'i'): 28, ('chi', 'l'): 29, ('chil', 'd'): 30, ('child', 'r'): 31, ('childr', 'en'): 32, ('children', \"'\"): 33, (\"children'\", 's</w>'): 34, ('n', 'o'): 35}\n",
            "bpe_codes_reverse: {'l</w>': ('l', '</w>'), 's</w>': ('s', '</w>'), 'en': ('e', 'n'), '.</w>': ('.', '</w>'), 'Th': ('T', 'h'), 'The': ('Th', 'e'), 'The</w>': ('The', '</w>'), 'Wo': ('W', 'o'), 'Won': ('Wo', 'n'), 'Wond': ('Won', 'd'), 'Wonde': ('Wond', 'e'), 'Wonder': ('Wonde', 'r'), 'Wonderf': ('Wonder', 'f'), 'Wonderfu': ('Wonderf', 'u'), 'Wonderful</w>': ('Wonderfu', 'l</w>'), 'Wi': ('W', 'i'), 'Wiz': ('Wi', 'z'), 'Wiza': ('Wiz', 'a'), 'Wizar': ('Wiza', 'r'), 'Wizard': ('Wizar', 'd'), 'Wizard</w>': ('Wizard', '</w>'), 'of': ('o', 'f'), 'of</w>': ('of', '</w>'), 'Oz': ('O', 'z'), 'Oz</w>': ('Oz', '</w>'), 'is</w>': ('i', 's</w>'), 'a</w>': ('a', '</w>'), 'ch': ('c', 'h'), 'chi': ('ch', 'i'), 'chil': ('chi', 'l'), 'child': ('chil', 'd'), 'childr': ('child', 'r'), 'children': ('childr', 'en'), \"children'\": ('children', \"'\"), \"children's</w>\": (\"children'\", 's</w>'), 'no': ('n', 'o')}\n",
            "pairing: defaultdict(<class 'int'>, {('Oz', '</w>'): 1, ('i', 's</w>'): 1, ('a', '</w>'): 1, ('c', 'h'): 1, ('h', 'i'): 1, ('i', 'l'): 1, ('l', 'd'): 1, ('d', 'r'): 1, ('r', 'en'): 1, ('en', \"'\"): 1, (\"'\", 's</w>'): 1, ('n', 'o'): 1, ('o', 'v'): 1, ('v', 'e'): 1, ('e', 'l</w>'): 1, ('w', 'r'): 1, ('r', 'i'): 1, ('i', 't'): 1, ('t', 't'): 1, ('t', 'en'): 1, ('en', '</w>'): 1, ('b', 'y'): 1, ('y', '</w>'): 1, ('L', '.</w>'): 1, ('F', 'r'): 1, ('r', 'a'): 1, ('a', 'n'): 1, ('n', 'k'): 1, ('k', '</w>'): 1, ('B', 'a'): 1, ('a', 'u'): 1, ('u', 'm'): 1, ('m', '.</w>'): 1})\n",
            "best1: ('Oz', '</w>')\n",
            "token_count: {'The</w>': 1, 'Wonderful</w>': 1, 'Wizard</w>': 1, 'of</w>': 1, 'Oz</w>': 1, 'i s</w>': 1, 'a </w>': 1, \"c h i l d r en ' s</w>\": 1, 'n o v e l</w>': 1, 'w r i t t en </w>': 1, 'b y </w>': 1, 'L .</w>': 1, 'F r a n k </w>': 1, 'B a u m .</w>': 1}\n",
            "bpe_codes: {('l', '</w>'): 0, ('s', '</w>'): 1, ('e', 'n'): 2, ('.', '</w>'): 3, ('T', 'h'): 4, ('Th', 'e'): 5, ('The', '</w>'): 6, ('W', 'o'): 7, ('Wo', 'n'): 8, ('Won', 'd'): 9, ('Wond', 'e'): 10, ('Wonde', 'r'): 11, ('Wonder', 'f'): 12, ('Wonderf', 'u'): 13, ('Wonderfu', 'l</w>'): 14, ('W', 'i'): 15, ('Wi', 'z'): 16, ('Wiz', 'a'): 17, ('Wiza', 'r'): 18, ('Wizar', 'd'): 19, ('Wizard', '</w>'): 20, ('o', 'f'): 21, ('of', '</w>'): 22, ('O', 'z'): 23, ('Oz', '</w>'): 24, ('i', 's</w>'): 25, ('a', '</w>'): 26, ('c', 'h'): 27, ('ch', 'i'): 28, ('chi', 'l'): 29, ('chil', 'd'): 30, ('child', 'r'): 31, ('childr', 'en'): 32, ('children', \"'\"): 33, (\"children'\", 's</w>'): 34, ('n', 'o'): 35}\n",
            "bpe_codes_reverse: {'l</w>': ('l', '</w>'), 's</w>': ('s', '</w>'), 'en': ('e', 'n'), '.</w>': ('.', '</w>'), 'Th': ('T', 'h'), 'The': ('Th', 'e'), 'The</w>': ('The', '</w>'), 'Wo': ('W', 'o'), 'Won': ('Wo', 'n'), 'Wond': ('Won', 'd'), 'Wonde': ('Wond', 'e'), 'Wonder': ('Wonde', 'r'), 'Wonderf': ('Wonder', 'f'), 'Wonderfu': ('Wonderf', 'u'), 'Wonderful</w>': ('Wonderfu', 'l</w>'), 'Wi': ('W', 'i'), 'Wiz': ('Wi', 'z'), 'Wiza': ('Wiz', 'a'), 'Wizar': ('Wiza', 'r'), 'Wizard': ('Wizar', 'd'), 'Wizard</w>': ('Wizard', '</w>'), 'of': ('o', 'f'), 'of</w>': ('of', '</w>'), 'Oz': ('O', 'z'), 'Oz</w>': ('Oz', '</w>'), 'is</w>': ('i', 's</w>'), 'a</w>': ('a', '</w>'), 'ch': ('c', 'h'), 'chi': ('ch', 'i'), 'chil': ('chi', 'l'), 'child': ('chil', 'd'), 'childr': ('child', 'r'), 'children': ('childr', 'en'), \"children'\": ('children', \"'\"), \"children's</w>\": (\"children'\", 's</w>'), 'no': ('n', 'o')}\n",
            "pairing: defaultdict(<class 'int'>, {('i', 's</w>'): 1, ('a', '</w>'): 1, ('c', 'h'): 1, ('h', 'i'): 1, ('i', 'l'): 1, ('l', 'd'): 1, ('d', 'r'): 1, ('r', 'en'): 1, ('en', \"'\"): 1, (\"'\", 's</w>'): 1, ('n', 'o'): 1, ('o', 'v'): 1, ('v', 'e'): 1, ('e', 'l</w>'): 1, ('w', 'r'): 1, ('r', 'i'): 1, ('i', 't'): 1, ('t', 't'): 1, ('t', 'en'): 1, ('en', '</w>'): 1, ('b', 'y'): 1, ('y', '</w>'): 1, ('L', '.</w>'): 1, ('F', 'r'): 1, ('r', 'a'): 1, ('a', 'n'): 1, ('n', 'k'): 1, ('k', '</w>'): 1, ('B', 'a'): 1, ('a', 'u'): 1, ('u', 'm'): 1, ('m', '.</w>'): 1})\n",
            "best1: ('i', 's</w>')\n",
            "token_count: {'The</w>': 1, 'Wonderful</w>': 1, 'Wizard</w>': 1, 'of</w>': 1, 'Oz</w>': 1, 'is</w>': 1, 'a </w>': 1, \"c h i l d r en ' s</w>\": 1, 'n o v e l</w>': 1, 'w r i t t en </w>': 1, 'b y </w>': 1, 'L .</w>': 1, 'F r a n k </w>': 1, 'B a u m .</w>': 1}\n",
            "bpe_codes: {('l', '</w>'): 0, ('s', '</w>'): 1, ('e', 'n'): 2, ('.', '</w>'): 3, ('T', 'h'): 4, ('Th', 'e'): 5, ('The', '</w>'): 6, ('W', 'o'): 7, ('Wo', 'n'): 8, ('Won', 'd'): 9, ('Wond', 'e'): 10, ('Wonde', 'r'): 11, ('Wonder', 'f'): 12, ('Wonderf', 'u'): 13, ('Wonderfu', 'l</w>'): 14, ('W', 'i'): 15, ('Wi', 'z'): 16, ('Wiz', 'a'): 17, ('Wiza', 'r'): 18, ('Wizar', 'd'): 19, ('Wizard', '</w>'): 20, ('o', 'f'): 21, ('of', '</w>'): 22, ('O', 'z'): 23, ('Oz', '</w>'): 24, ('i', 's</w>'): 25, ('a', '</w>'): 26, ('c', 'h'): 27, ('ch', 'i'): 28, ('chi', 'l'): 29, ('chil', 'd'): 30, ('child', 'r'): 31, ('childr', 'en'): 32, ('children', \"'\"): 33, (\"children'\", 's</w>'): 34, ('n', 'o'): 35}\n",
            "bpe_codes_reverse: {'l</w>': ('l', '</w>'), 's</w>': ('s', '</w>'), 'en': ('e', 'n'), '.</w>': ('.', '</w>'), 'Th': ('T', 'h'), 'The': ('Th', 'e'), 'The</w>': ('The', '</w>'), 'Wo': ('W', 'o'), 'Won': ('Wo', 'n'), 'Wond': ('Won', 'd'), 'Wonde': ('Wond', 'e'), 'Wonder': ('Wonde', 'r'), 'Wonderf': ('Wonder', 'f'), 'Wonderfu': ('Wonderf', 'u'), 'Wonderful</w>': ('Wonderfu', 'l</w>'), 'Wi': ('W', 'i'), 'Wiz': ('Wi', 'z'), 'Wiza': ('Wiz', 'a'), 'Wizar': ('Wiza', 'r'), 'Wizard': ('Wizar', 'd'), 'Wizard</w>': ('Wizard', '</w>'), 'of': ('o', 'f'), 'of</w>': ('of', '</w>'), 'Oz': ('O', 'z'), 'Oz</w>': ('Oz', '</w>'), 'is</w>': ('i', 's</w>'), 'a</w>': ('a', '</w>'), 'ch': ('c', 'h'), 'chi': ('ch', 'i'), 'chil': ('chi', 'l'), 'child': ('chil', 'd'), 'childr': ('child', 'r'), 'children': ('childr', 'en'), \"children'\": ('children', \"'\"), \"children's</w>\": (\"children'\", 's</w>'), 'no': ('n', 'o')}\n",
            "pairing: defaultdict(<class 'int'>, {('a', '</w>'): 1, ('c', 'h'): 1, ('h', 'i'): 1, ('i', 'l'): 1, ('l', 'd'): 1, ('d', 'r'): 1, ('r', 'en'): 1, ('en', \"'\"): 1, (\"'\", 's</w>'): 1, ('n', 'o'): 1, ('o', 'v'): 1, ('v', 'e'): 1, ('e', 'l</w>'): 1, ('w', 'r'): 1, ('r', 'i'): 1, ('i', 't'): 1, ('t', 't'): 1, ('t', 'en'): 1, ('en', '</w>'): 1, ('b', 'y'): 1, ('y', '</w>'): 1, ('L', '.</w>'): 1, ('F', 'r'): 1, ('r', 'a'): 1, ('a', 'n'): 1, ('n', 'k'): 1, ('k', '</w>'): 1, ('B', 'a'): 1, ('a', 'u'): 1, ('u', 'm'): 1, ('m', '.</w>'): 1})\n",
            "best1: ('a', '</w>')\n",
            "token_count: {'The</w>': 1, 'Wonderful</w>': 1, 'Wizard</w>': 1, 'of</w>': 1, 'Oz</w>': 1, 'is</w>': 1, 'a</w>': 1, \"c h i l d r en ' s</w>\": 1, 'n o v e l</w>': 1, 'w r i t t en </w>': 1, 'b y </w>': 1, 'L .</w>': 1, 'F r a n k </w>': 1, 'B a u m .</w>': 1}\n",
            "bpe_codes: {('l', '</w>'): 0, ('s', '</w>'): 1, ('e', 'n'): 2, ('.', '</w>'): 3, ('T', 'h'): 4, ('Th', 'e'): 5, ('The', '</w>'): 6, ('W', 'o'): 7, ('Wo', 'n'): 8, ('Won', 'd'): 9, ('Wond', 'e'): 10, ('Wonde', 'r'): 11, ('Wonder', 'f'): 12, ('Wonderf', 'u'): 13, ('Wonderfu', 'l</w>'): 14, ('W', 'i'): 15, ('Wi', 'z'): 16, ('Wiz', 'a'): 17, ('Wiza', 'r'): 18, ('Wizar', 'd'): 19, ('Wizard', '</w>'): 20, ('o', 'f'): 21, ('of', '</w>'): 22, ('O', 'z'): 23, ('Oz', '</w>'): 24, ('i', 's</w>'): 25, ('a', '</w>'): 26, ('c', 'h'): 27, ('ch', 'i'): 28, ('chi', 'l'): 29, ('chil', 'd'): 30, ('child', 'r'): 31, ('childr', 'en'): 32, ('children', \"'\"): 33, (\"children'\", 's</w>'): 34, ('n', 'o'): 35}\n",
            "bpe_codes_reverse: {'l</w>': ('l', '</w>'), 's</w>': ('s', '</w>'), 'en': ('e', 'n'), '.</w>': ('.', '</w>'), 'Th': ('T', 'h'), 'The': ('Th', 'e'), 'The</w>': ('The', '</w>'), 'Wo': ('W', 'o'), 'Won': ('Wo', 'n'), 'Wond': ('Won', 'd'), 'Wonde': ('Wond', 'e'), 'Wonder': ('Wonde', 'r'), 'Wonderf': ('Wonder', 'f'), 'Wonderfu': ('Wonderf', 'u'), 'Wonderful</w>': ('Wonderfu', 'l</w>'), 'Wi': ('W', 'i'), 'Wiz': ('Wi', 'z'), 'Wiza': ('Wiz', 'a'), 'Wizar': ('Wiza', 'r'), 'Wizard': ('Wizar', 'd'), 'Wizard</w>': ('Wizard', '</w>'), 'of': ('o', 'f'), 'of</w>': ('of', '</w>'), 'Oz': ('O', 'z'), 'Oz</w>': ('Oz', '</w>'), 'is</w>': ('i', 's</w>'), 'a</w>': ('a', '</w>'), 'ch': ('c', 'h'), 'chi': ('ch', 'i'), 'chil': ('chi', 'l'), 'child': ('chil', 'd'), 'childr': ('child', 'r'), 'children': ('childr', 'en'), \"children'\": ('children', \"'\"), \"children's</w>\": (\"children'\", 's</w>'), 'no': ('n', 'o')}\n",
            "pairing: defaultdict(<class 'int'>, {('c', 'h'): 1, ('h', 'i'): 1, ('i', 'l'): 1, ('l', 'd'): 1, ('d', 'r'): 1, ('r', 'en'): 1, ('en', \"'\"): 1, (\"'\", 's</w>'): 1, ('n', 'o'): 1, ('o', 'v'): 1, ('v', 'e'): 1, ('e', 'l</w>'): 1, ('w', 'r'): 1, ('r', 'i'): 1, ('i', 't'): 1, ('t', 't'): 1, ('t', 'en'): 1, ('en', '</w>'): 1, ('b', 'y'): 1, ('y', '</w>'): 1, ('L', '.</w>'): 1, ('F', 'r'): 1, ('r', 'a'): 1, ('a', 'n'): 1, ('n', 'k'): 1, ('k', '</w>'): 1, ('B', 'a'): 1, ('a', 'u'): 1, ('u', 'm'): 1, ('m', '.</w>'): 1})\n",
            "best1: ('c', 'h')\n",
            "token_count: {'The</w>': 1, 'Wonderful</w>': 1, 'Wizard</w>': 1, 'of</w>': 1, 'Oz</w>': 1, 'is</w>': 1, 'a</w>': 1, \"ch i l d r en ' s</w>\": 1, 'n o v e l</w>': 1, 'w r i t t en </w>': 1, 'b y </w>': 1, 'L .</w>': 1, 'F r a n k </w>': 1, 'B a u m .</w>': 1}\n",
            "bpe_codes: {('l', '</w>'): 0, ('s', '</w>'): 1, ('e', 'n'): 2, ('.', '</w>'): 3, ('T', 'h'): 4, ('Th', 'e'): 5, ('The', '</w>'): 6, ('W', 'o'): 7, ('Wo', 'n'): 8, ('Won', 'd'): 9, ('Wond', 'e'): 10, ('Wonde', 'r'): 11, ('Wonder', 'f'): 12, ('Wonderf', 'u'): 13, ('Wonderfu', 'l</w>'): 14, ('W', 'i'): 15, ('Wi', 'z'): 16, ('Wiz', 'a'): 17, ('Wiza', 'r'): 18, ('Wizar', 'd'): 19, ('Wizard', '</w>'): 20, ('o', 'f'): 21, ('of', '</w>'): 22, ('O', 'z'): 23, ('Oz', '</w>'): 24, ('i', 's</w>'): 25, ('a', '</w>'): 26, ('c', 'h'): 27, ('ch', 'i'): 28, ('chi', 'l'): 29, ('chil', 'd'): 30, ('child', 'r'): 31, ('childr', 'en'): 32, ('children', \"'\"): 33, (\"children'\", 's</w>'): 34, ('n', 'o'): 35}\n",
            "bpe_codes_reverse: {'l</w>': ('l', '</w>'), 's</w>': ('s', '</w>'), 'en': ('e', 'n'), '.</w>': ('.', '</w>'), 'Th': ('T', 'h'), 'The': ('Th', 'e'), 'The</w>': ('The', '</w>'), 'Wo': ('W', 'o'), 'Won': ('Wo', 'n'), 'Wond': ('Won', 'd'), 'Wonde': ('Wond', 'e'), 'Wonder': ('Wonde', 'r'), 'Wonderf': ('Wonder', 'f'), 'Wonderfu': ('Wonderf', 'u'), 'Wonderful</w>': ('Wonderfu', 'l</w>'), 'Wi': ('W', 'i'), 'Wiz': ('Wi', 'z'), 'Wiza': ('Wiz', 'a'), 'Wizar': ('Wiza', 'r'), 'Wizard': ('Wizar', 'd'), 'Wizard</w>': ('Wizard', '</w>'), 'of': ('o', 'f'), 'of</w>': ('of', '</w>'), 'Oz': ('O', 'z'), 'Oz</w>': ('Oz', '</w>'), 'is</w>': ('i', 's</w>'), 'a</w>': ('a', '</w>'), 'ch': ('c', 'h'), 'chi': ('ch', 'i'), 'chil': ('chi', 'l'), 'child': ('chil', 'd'), 'childr': ('child', 'r'), 'children': ('childr', 'en'), \"children'\": ('children', \"'\"), \"children's</w>\": (\"children'\", 's</w>'), 'no': ('n', 'o')}\n",
            "pairing: defaultdict(<class 'int'>, {('ch', 'i'): 1, ('i', 'l'): 1, ('l', 'd'): 1, ('d', 'r'): 1, ('r', 'en'): 1, ('en', \"'\"): 1, (\"'\", 's</w>'): 1, ('n', 'o'): 1, ('o', 'v'): 1, ('v', 'e'): 1, ('e', 'l</w>'): 1, ('w', 'r'): 1, ('r', 'i'): 1, ('i', 't'): 1, ('t', 't'): 1, ('t', 'en'): 1, ('en', '</w>'): 1, ('b', 'y'): 1, ('y', '</w>'): 1, ('L', '.</w>'): 1, ('F', 'r'): 1, ('r', 'a'): 1, ('a', 'n'): 1, ('n', 'k'): 1, ('k', '</w>'): 1, ('B', 'a'): 1, ('a', 'u'): 1, ('u', 'm'): 1, ('m', '.</w>'): 1})\n",
            "best1: ('ch', 'i')\n",
            "token_count: {'The</w>': 1, 'Wonderful</w>': 1, 'Wizard</w>': 1, 'of</w>': 1, 'Oz</w>': 1, 'is</w>': 1, 'a</w>': 1, \"chi l d r en ' s</w>\": 1, 'n o v e l</w>': 1, 'w r i t t en </w>': 1, 'b y </w>': 1, 'L .</w>': 1, 'F r a n k </w>': 1, 'B a u m .</w>': 1}\n",
            "bpe_codes: {('l', '</w>'): 0, ('s', '</w>'): 1, ('e', 'n'): 2, ('.', '</w>'): 3, ('T', 'h'): 4, ('Th', 'e'): 5, ('The', '</w>'): 6, ('W', 'o'): 7, ('Wo', 'n'): 8, ('Won', 'd'): 9, ('Wond', 'e'): 10, ('Wonde', 'r'): 11, ('Wonder', 'f'): 12, ('Wonderf', 'u'): 13, ('Wonderfu', 'l</w>'): 14, ('W', 'i'): 15, ('Wi', 'z'): 16, ('Wiz', 'a'): 17, ('Wiza', 'r'): 18, ('Wizar', 'd'): 19, ('Wizard', '</w>'): 20, ('o', 'f'): 21, ('of', '</w>'): 22, ('O', 'z'): 23, ('Oz', '</w>'): 24, ('i', 's</w>'): 25, ('a', '</w>'): 26, ('c', 'h'): 27, ('ch', 'i'): 28, ('chi', 'l'): 29, ('chil', 'd'): 30, ('child', 'r'): 31, ('childr', 'en'): 32, ('children', \"'\"): 33, (\"children'\", 's</w>'): 34, ('n', 'o'): 35}\n",
            "bpe_codes_reverse: {'l</w>': ('l', '</w>'), 's</w>': ('s', '</w>'), 'en': ('e', 'n'), '.</w>': ('.', '</w>'), 'Th': ('T', 'h'), 'The': ('Th', 'e'), 'The</w>': ('The', '</w>'), 'Wo': ('W', 'o'), 'Won': ('Wo', 'n'), 'Wond': ('Won', 'd'), 'Wonde': ('Wond', 'e'), 'Wonder': ('Wonde', 'r'), 'Wonderf': ('Wonder', 'f'), 'Wonderfu': ('Wonderf', 'u'), 'Wonderful</w>': ('Wonderfu', 'l</w>'), 'Wi': ('W', 'i'), 'Wiz': ('Wi', 'z'), 'Wiza': ('Wiz', 'a'), 'Wizar': ('Wiza', 'r'), 'Wizard': ('Wizar', 'd'), 'Wizard</w>': ('Wizard', '</w>'), 'of': ('o', 'f'), 'of</w>': ('of', '</w>'), 'Oz': ('O', 'z'), 'Oz</w>': ('Oz', '</w>'), 'is</w>': ('i', 's</w>'), 'a</w>': ('a', '</w>'), 'ch': ('c', 'h'), 'chi': ('ch', 'i'), 'chil': ('chi', 'l'), 'child': ('chil', 'd'), 'childr': ('child', 'r'), 'children': ('childr', 'en'), \"children'\": ('children', \"'\"), \"children's</w>\": (\"children'\", 's</w>'), 'no': ('n', 'o')}\n",
            "pairing: defaultdict(<class 'int'>, {('chi', 'l'): 1, ('l', 'd'): 1, ('d', 'r'): 1, ('r', 'en'): 1, ('en', \"'\"): 1, (\"'\", 's</w>'): 1, ('n', 'o'): 1, ('o', 'v'): 1, ('v', 'e'): 1, ('e', 'l</w>'): 1, ('w', 'r'): 1, ('r', 'i'): 1, ('i', 't'): 1, ('t', 't'): 1, ('t', 'en'): 1, ('en', '</w>'): 1, ('b', 'y'): 1, ('y', '</w>'): 1, ('L', '.</w>'): 1, ('F', 'r'): 1, ('r', 'a'): 1, ('a', 'n'): 1, ('n', 'k'): 1, ('k', '</w>'): 1, ('B', 'a'): 1, ('a', 'u'): 1, ('u', 'm'): 1, ('m', '.</w>'): 1})\n",
            "best1: ('chi', 'l')\n",
            "token_count: {'The</w>': 1, 'Wonderful</w>': 1, 'Wizard</w>': 1, 'of</w>': 1, 'Oz</w>': 1, 'is</w>': 1, 'a</w>': 1, \"chil d r en ' s</w>\": 1, 'n o v e l</w>': 1, 'w r i t t en </w>': 1, 'b y </w>': 1, 'L .</w>': 1, 'F r a n k </w>': 1, 'B a u m .</w>': 1}\n",
            "bpe_codes: {('l', '</w>'): 0, ('s', '</w>'): 1, ('e', 'n'): 2, ('.', '</w>'): 3, ('T', 'h'): 4, ('Th', 'e'): 5, ('The', '</w>'): 6, ('W', 'o'): 7, ('Wo', 'n'): 8, ('Won', 'd'): 9, ('Wond', 'e'): 10, ('Wonde', 'r'): 11, ('Wonder', 'f'): 12, ('Wonderf', 'u'): 13, ('Wonderfu', 'l</w>'): 14, ('W', 'i'): 15, ('Wi', 'z'): 16, ('Wiz', 'a'): 17, ('Wiza', 'r'): 18, ('Wizar', 'd'): 19, ('Wizard', '</w>'): 20, ('o', 'f'): 21, ('of', '</w>'): 22, ('O', 'z'): 23, ('Oz', '</w>'): 24, ('i', 's</w>'): 25, ('a', '</w>'): 26, ('c', 'h'): 27, ('ch', 'i'): 28, ('chi', 'l'): 29, ('chil', 'd'): 30, ('child', 'r'): 31, ('childr', 'en'): 32, ('children', \"'\"): 33, (\"children'\", 's</w>'): 34, ('n', 'o'): 35}\n",
            "bpe_codes_reverse: {'l</w>': ('l', '</w>'), 's</w>': ('s', '</w>'), 'en': ('e', 'n'), '.</w>': ('.', '</w>'), 'Th': ('T', 'h'), 'The': ('Th', 'e'), 'The</w>': ('The', '</w>'), 'Wo': ('W', 'o'), 'Won': ('Wo', 'n'), 'Wond': ('Won', 'd'), 'Wonde': ('Wond', 'e'), 'Wonder': ('Wonde', 'r'), 'Wonderf': ('Wonder', 'f'), 'Wonderfu': ('Wonderf', 'u'), 'Wonderful</w>': ('Wonderfu', 'l</w>'), 'Wi': ('W', 'i'), 'Wiz': ('Wi', 'z'), 'Wiza': ('Wiz', 'a'), 'Wizar': ('Wiza', 'r'), 'Wizard': ('Wizar', 'd'), 'Wizard</w>': ('Wizard', '</w>'), 'of': ('o', 'f'), 'of</w>': ('of', '</w>'), 'Oz': ('O', 'z'), 'Oz</w>': ('Oz', '</w>'), 'is</w>': ('i', 's</w>'), 'a</w>': ('a', '</w>'), 'ch': ('c', 'h'), 'chi': ('ch', 'i'), 'chil': ('chi', 'l'), 'child': ('chil', 'd'), 'childr': ('child', 'r'), 'children': ('childr', 'en'), \"children'\": ('children', \"'\"), \"children's</w>\": (\"children'\", 's</w>'), 'no': ('n', 'o')}\n",
            "pairing: defaultdict(<class 'int'>, {('chil', 'd'): 1, ('d', 'r'): 1, ('r', 'en'): 1, ('en', \"'\"): 1, (\"'\", 's</w>'): 1, ('n', 'o'): 1, ('o', 'v'): 1, ('v', 'e'): 1, ('e', 'l</w>'): 1, ('w', 'r'): 1, ('r', 'i'): 1, ('i', 't'): 1, ('t', 't'): 1, ('t', 'en'): 1, ('en', '</w>'): 1, ('b', 'y'): 1, ('y', '</w>'): 1, ('L', '.</w>'): 1, ('F', 'r'): 1, ('r', 'a'): 1, ('a', 'n'): 1, ('n', 'k'): 1, ('k', '</w>'): 1, ('B', 'a'): 1, ('a', 'u'): 1, ('u', 'm'): 1, ('m', '.</w>'): 1})\n",
            "best1: ('chil', 'd')\n",
            "token_count: {'The</w>': 1, 'Wonderful</w>': 1, 'Wizard</w>': 1, 'of</w>': 1, 'Oz</w>': 1, 'is</w>': 1, 'a</w>': 1, \"child r en ' s</w>\": 1, 'n o v e l</w>': 1, 'w r i t t en </w>': 1, 'b y </w>': 1, 'L .</w>': 1, 'F r a n k </w>': 1, 'B a u m .</w>': 1}\n",
            "bpe_codes: {('l', '</w>'): 0, ('s', '</w>'): 1, ('e', 'n'): 2, ('.', '</w>'): 3, ('T', 'h'): 4, ('Th', 'e'): 5, ('The', '</w>'): 6, ('W', 'o'): 7, ('Wo', 'n'): 8, ('Won', 'd'): 9, ('Wond', 'e'): 10, ('Wonde', 'r'): 11, ('Wonder', 'f'): 12, ('Wonderf', 'u'): 13, ('Wonderfu', 'l</w>'): 14, ('W', 'i'): 15, ('Wi', 'z'): 16, ('Wiz', 'a'): 17, ('Wiza', 'r'): 18, ('Wizar', 'd'): 19, ('Wizard', '</w>'): 20, ('o', 'f'): 21, ('of', '</w>'): 22, ('O', 'z'): 23, ('Oz', '</w>'): 24, ('i', 's</w>'): 25, ('a', '</w>'): 26, ('c', 'h'): 27, ('ch', 'i'): 28, ('chi', 'l'): 29, ('chil', 'd'): 30, ('child', 'r'): 31, ('childr', 'en'): 32, ('children', \"'\"): 33, (\"children'\", 's</w>'): 34, ('n', 'o'): 35}\n",
            "bpe_codes_reverse: {'l</w>': ('l', '</w>'), 's</w>': ('s', '</w>'), 'en': ('e', 'n'), '.</w>': ('.', '</w>'), 'Th': ('T', 'h'), 'The': ('Th', 'e'), 'The</w>': ('The', '</w>'), 'Wo': ('W', 'o'), 'Won': ('Wo', 'n'), 'Wond': ('Won', 'd'), 'Wonde': ('Wond', 'e'), 'Wonder': ('Wonde', 'r'), 'Wonderf': ('Wonder', 'f'), 'Wonderfu': ('Wonderf', 'u'), 'Wonderful</w>': ('Wonderfu', 'l</w>'), 'Wi': ('W', 'i'), 'Wiz': ('Wi', 'z'), 'Wiza': ('Wiz', 'a'), 'Wizar': ('Wiza', 'r'), 'Wizard': ('Wizar', 'd'), 'Wizard</w>': ('Wizard', '</w>'), 'of': ('o', 'f'), 'of</w>': ('of', '</w>'), 'Oz': ('O', 'z'), 'Oz</w>': ('Oz', '</w>'), 'is</w>': ('i', 's</w>'), 'a</w>': ('a', '</w>'), 'ch': ('c', 'h'), 'chi': ('ch', 'i'), 'chil': ('chi', 'l'), 'child': ('chil', 'd'), 'childr': ('child', 'r'), 'children': ('childr', 'en'), \"children'\": ('children', \"'\"), \"children's</w>\": (\"children'\", 's</w>'), 'no': ('n', 'o')}\n",
            "pairing: defaultdict(<class 'int'>, {('child', 'r'): 1, ('r', 'en'): 1, ('en', \"'\"): 1, (\"'\", 's</w>'): 1, ('n', 'o'): 1, ('o', 'v'): 1, ('v', 'e'): 1, ('e', 'l</w>'): 1, ('w', 'r'): 1, ('r', 'i'): 1, ('i', 't'): 1, ('t', 't'): 1, ('t', 'en'): 1, ('en', '</w>'): 1, ('b', 'y'): 1, ('y', '</w>'): 1, ('L', '.</w>'): 1, ('F', 'r'): 1, ('r', 'a'): 1, ('a', 'n'): 1, ('n', 'k'): 1, ('k', '</w>'): 1, ('B', 'a'): 1, ('a', 'u'): 1, ('u', 'm'): 1, ('m', '.</w>'): 1})\n",
            "best1: ('child', 'r')\n",
            "token_count: {'The</w>': 1, 'Wonderful</w>': 1, 'Wizard</w>': 1, 'of</w>': 1, 'Oz</w>': 1, 'is</w>': 1, 'a</w>': 1, \"childr en ' s</w>\": 1, 'n o v e l</w>': 1, 'w r i t t en </w>': 1, 'b y </w>': 1, 'L .</w>': 1, 'F r a n k </w>': 1, 'B a u m .</w>': 1}\n",
            "bpe_codes: {('l', '</w>'): 0, ('s', '</w>'): 1, ('e', 'n'): 2, ('.', '</w>'): 3, ('T', 'h'): 4, ('Th', 'e'): 5, ('The', '</w>'): 6, ('W', 'o'): 7, ('Wo', 'n'): 8, ('Won', 'd'): 9, ('Wond', 'e'): 10, ('Wonde', 'r'): 11, ('Wonder', 'f'): 12, ('Wonderf', 'u'): 13, ('Wonderfu', 'l</w>'): 14, ('W', 'i'): 15, ('Wi', 'z'): 16, ('Wiz', 'a'): 17, ('Wiza', 'r'): 18, ('Wizar', 'd'): 19, ('Wizard', '</w>'): 20, ('o', 'f'): 21, ('of', '</w>'): 22, ('O', 'z'): 23, ('Oz', '</w>'): 24, ('i', 's</w>'): 25, ('a', '</w>'): 26, ('c', 'h'): 27, ('ch', 'i'): 28, ('chi', 'l'): 29, ('chil', 'd'): 30, ('child', 'r'): 31, ('childr', 'en'): 32, ('children', \"'\"): 33, (\"children'\", 's</w>'): 34, ('n', 'o'): 35}\n",
            "bpe_codes_reverse: {'l</w>': ('l', '</w>'), 's</w>': ('s', '</w>'), 'en': ('e', 'n'), '.</w>': ('.', '</w>'), 'Th': ('T', 'h'), 'The': ('Th', 'e'), 'The</w>': ('The', '</w>'), 'Wo': ('W', 'o'), 'Won': ('Wo', 'n'), 'Wond': ('Won', 'd'), 'Wonde': ('Wond', 'e'), 'Wonder': ('Wonde', 'r'), 'Wonderf': ('Wonder', 'f'), 'Wonderfu': ('Wonderf', 'u'), 'Wonderful</w>': ('Wonderfu', 'l</w>'), 'Wi': ('W', 'i'), 'Wiz': ('Wi', 'z'), 'Wiza': ('Wiz', 'a'), 'Wizar': ('Wiza', 'r'), 'Wizard': ('Wizar', 'd'), 'Wizard</w>': ('Wizard', '</w>'), 'of': ('o', 'f'), 'of</w>': ('of', '</w>'), 'Oz': ('O', 'z'), 'Oz</w>': ('Oz', '</w>'), 'is</w>': ('i', 's</w>'), 'a</w>': ('a', '</w>'), 'ch': ('c', 'h'), 'chi': ('ch', 'i'), 'chil': ('chi', 'l'), 'child': ('chil', 'd'), 'childr': ('child', 'r'), 'children': ('childr', 'en'), \"children'\": ('children', \"'\"), \"children's</w>\": (\"children'\", 's</w>'), 'no': ('n', 'o')}\n",
            "pairing: defaultdict(<class 'int'>, {('childr', 'en'): 1, ('en', \"'\"): 1, (\"'\", 's</w>'): 1, ('n', 'o'): 1, ('o', 'v'): 1, ('v', 'e'): 1, ('e', 'l</w>'): 1, ('w', 'r'): 1, ('r', 'i'): 1, ('i', 't'): 1, ('t', 't'): 1, ('t', 'en'): 1, ('en', '</w>'): 1, ('b', 'y'): 1, ('y', '</w>'): 1, ('L', '.</w>'): 1, ('F', 'r'): 1, ('r', 'a'): 1, ('a', 'n'): 1, ('n', 'k'): 1, ('k', '</w>'): 1, ('B', 'a'): 1, ('a', 'u'): 1, ('u', 'm'): 1, ('m', '.</w>'): 1})\n",
            "best1: ('childr', 'en')\n",
            "token_count: {'The</w>': 1, 'Wonderful</w>': 1, 'Wizard</w>': 1, 'of</w>': 1, 'Oz</w>': 1, 'is</w>': 1, 'a</w>': 1, \"children ' s</w>\": 1, 'n o v e l</w>': 1, 'w r i t t en </w>': 1, 'b y </w>': 1, 'L .</w>': 1, 'F r a n k </w>': 1, 'B a u m .</w>': 1}\n",
            "bpe_codes: {('l', '</w>'): 0, ('s', '</w>'): 1, ('e', 'n'): 2, ('.', '</w>'): 3, ('T', 'h'): 4, ('Th', 'e'): 5, ('The', '</w>'): 6, ('W', 'o'): 7, ('Wo', 'n'): 8, ('Won', 'd'): 9, ('Wond', 'e'): 10, ('Wonde', 'r'): 11, ('Wonder', 'f'): 12, ('Wonderf', 'u'): 13, ('Wonderfu', 'l</w>'): 14, ('W', 'i'): 15, ('Wi', 'z'): 16, ('Wiz', 'a'): 17, ('Wiza', 'r'): 18, ('Wizar', 'd'): 19, ('Wizard', '</w>'): 20, ('o', 'f'): 21, ('of', '</w>'): 22, ('O', 'z'): 23, ('Oz', '</w>'): 24, ('i', 's</w>'): 25, ('a', '</w>'): 26, ('c', 'h'): 27, ('ch', 'i'): 28, ('chi', 'l'): 29, ('chil', 'd'): 30, ('child', 'r'): 31, ('childr', 'en'): 32, ('children', \"'\"): 33, (\"children'\", 's</w>'): 34, ('n', 'o'): 35}\n",
            "bpe_codes_reverse: {'l</w>': ('l', '</w>'), 's</w>': ('s', '</w>'), 'en': ('e', 'n'), '.</w>': ('.', '</w>'), 'Th': ('T', 'h'), 'The': ('Th', 'e'), 'The</w>': ('The', '</w>'), 'Wo': ('W', 'o'), 'Won': ('Wo', 'n'), 'Wond': ('Won', 'd'), 'Wonde': ('Wond', 'e'), 'Wonder': ('Wonde', 'r'), 'Wonderf': ('Wonder', 'f'), 'Wonderfu': ('Wonderf', 'u'), 'Wonderful</w>': ('Wonderfu', 'l</w>'), 'Wi': ('W', 'i'), 'Wiz': ('Wi', 'z'), 'Wiza': ('Wiz', 'a'), 'Wizar': ('Wiza', 'r'), 'Wizard': ('Wizar', 'd'), 'Wizard</w>': ('Wizard', '</w>'), 'of': ('o', 'f'), 'of</w>': ('of', '</w>'), 'Oz': ('O', 'z'), 'Oz</w>': ('Oz', '</w>'), 'is</w>': ('i', 's</w>'), 'a</w>': ('a', '</w>'), 'ch': ('c', 'h'), 'chi': ('ch', 'i'), 'chil': ('chi', 'l'), 'child': ('chil', 'd'), 'childr': ('child', 'r'), 'children': ('childr', 'en'), \"children'\": ('children', \"'\"), \"children's</w>\": (\"children'\", 's</w>'), 'no': ('n', 'o')}\n",
            "pairing: defaultdict(<class 'int'>, {('children', \"'\"): 1, (\"'\", 's</w>'): 1, ('n', 'o'): 1, ('o', 'v'): 1, ('v', 'e'): 1, ('e', 'l</w>'): 1, ('w', 'r'): 1, ('r', 'i'): 1, ('i', 't'): 1, ('t', 't'): 1, ('t', 'en'): 1, ('en', '</w>'): 1, ('b', 'y'): 1, ('y', '</w>'): 1, ('L', '.</w>'): 1, ('F', 'r'): 1, ('r', 'a'): 1, ('a', 'n'): 1, ('n', 'k'): 1, ('k', '</w>'): 1, ('B', 'a'): 1, ('a', 'u'): 1, ('u', 'm'): 1, ('m', '.</w>'): 1})\n",
            "best1: ('children', \"'\")\n",
            "token_count: {'The</w>': 1, 'Wonderful</w>': 1, 'Wizard</w>': 1, 'of</w>': 1, 'Oz</w>': 1, 'is</w>': 1, 'a</w>': 1, \"children' s</w>\": 1, 'n o v e l</w>': 1, 'w r i t t en </w>': 1, 'b y </w>': 1, 'L .</w>': 1, 'F r a n k </w>': 1, 'B a u m .</w>': 1}\n",
            "bpe_codes: {('l', '</w>'): 0, ('s', '</w>'): 1, ('e', 'n'): 2, ('.', '</w>'): 3, ('T', 'h'): 4, ('Th', 'e'): 5, ('The', '</w>'): 6, ('W', 'o'): 7, ('Wo', 'n'): 8, ('Won', 'd'): 9, ('Wond', 'e'): 10, ('Wonde', 'r'): 11, ('Wonder', 'f'): 12, ('Wonderf', 'u'): 13, ('Wonderfu', 'l</w>'): 14, ('W', 'i'): 15, ('Wi', 'z'): 16, ('Wiz', 'a'): 17, ('Wiza', 'r'): 18, ('Wizar', 'd'): 19, ('Wizard', '</w>'): 20, ('o', 'f'): 21, ('of', '</w>'): 22, ('O', 'z'): 23, ('Oz', '</w>'): 24, ('i', 's</w>'): 25, ('a', '</w>'): 26, ('c', 'h'): 27, ('ch', 'i'): 28, ('chi', 'l'): 29, ('chil', 'd'): 30, ('child', 'r'): 31, ('childr', 'en'): 32, ('children', \"'\"): 33, (\"children'\", 's</w>'): 34, ('n', 'o'): 35}\n",
            "bpe_codes_reverse: {'l</w>': ('l', '</w>'), 's</w>': ('s', '</w>'), 'en': ('e', 'n'), '.</w>': ('.', '</w>'), 'Th': ('T', 'h'), 'The': ('Th', 'e'), 'The</w>': ('The', '</w>'), 'Wo': ('W', 'o'), 'Won': ('Wo', 'n'), 'Wond': ('Won', 'd'), 'Wonde': ('Wond', 'e'), 'Wonder': ('Wonde', 'r'), 'Wonderf': ('Wonder', 'f'), 'Wonderfu': ('Wonderf', 'u'), 'Wonderful</w>': ('Wonderfu', 'l</w>'), 'Wi': ('W', 'i'), 'Wiz': ('Wi', 'z'), 'Wiza': ('Wiz', 'a'), 'Wizar': ('Wiza', 'r'), 'Wizard': ('Wizar', 'd'), 'Wizard</w>': ('Wizard', '</w>'), 'of': ('o', 'f'), 'of</w>': ('of', '</w>'), 'Oz': ('O', 'z'), 'Oz</w>': ('Oz', '</w>'), 'is</w>': ('i', 's</w>'), 'a</w>': ('a', '</w>'), 'ch': ('c', 'h'), 'chi': ('ch', 'i'), 'chil': ('chi', 'l'), 'child': ('chil', 'd'), 'childr': ('child', 'r'), 'children': ('childr', 'en'), \"children'\": ('children', \"'\"), \"children's</w>\": (\"children'\", 's</w>'), 'no': ('n', 'o')}\n",
            "pairing: defaultdict(<class 'int'>, {(\"children'\", 's</w>'): 1, ('n', 'o'): 1, ('o', 'v'): 1, ('v', 'e'): 1, ('e', 'l</w>'): 1, ('w', 'r'): 1, ('r', 'i'): 1, ('i', 't'): 1, ('t', 't'): 1, ('t', 'en'): 1, ('en', '</w>'): 1, ('b', 'y'): 1, ('y', '</w>'): 1, ('L', '.</w>'): 1, ('F', 'r'): 1, ('r', 'a'): 1, ('a', 'n'): 1, ('n', 'k'): 1, ('k', '</w>'): 1, ('B', 'a'): 1, ('a', 'u'): 1, ('u', 'm'): 1, ('m', '.</w>'): 1})\n",
            "best1: (\"children'\", 's</w>')\n",
            "token_count: {'The</w>': 1, 'Wonderful</w>': 1, 'Wizard</w>': 1, 'of</w>': 1, 'Oz</w>': 1, 'is</w>': 1, 'a</w>': 1, \"children's</w>\": 1, 'n o v e l</w>': 1, 'w r i t t en </w>': 1, 'b y </w>': 1, 'L .</w>': 1, 'F r a n k </w>': 1, 'B a u m .</w>': 1}\n",
            "bpe_codes: {('l', '</w>'): 0, ('s', '</w>'): 1, ('e', 'n'): 2, ('.', '</w>'): 3, ('T', 'h'): 4, ('Th', 'e'): 5, ('The', '</w>'): 6, ('W', 'o'): 7, ('Wo', 'n'): 8, ('Won', 'd'): 9, ('Wond', 'e'): 10, ('Wonde', 'r'): 11, ('Wonder', 'f'): 12, ('Wonderf', 'u'): 13, ('Wonderfu', 'l</w>'): 14, ('W', 'i'): 15, ('Wi', 'z'): 16, ('Wiz', 'a'): 17, ('Wiza', 'r'): 18, ('Wizar', 'd'): 19, ('Wizard', '</w>'): 20, ('o', 'f'): 21, ('of', '</w>'): 22, ('O', 'z'): 23, ('Oz', '</w>'): 24, ('i', 's</w>'): 25, ('a', '</w>'): 26, ('c', 'h'): 27, ('ch', 'i'): 28, ('chi', 'l'): 29, ('chil', 'd'): 30, ('child', 'r'): 31, ('childr', 'en'): 32, ('children', \"'\"): 33, (\"children'\", 's</w>'): 34, ('n', 'o'): 35}\n",
            "bpe_codes_reverse: {'l</w>': ('l', '</w>'), 's</w>': ('s', '</w>'), 'en': ('e', 'n'), '.</w>': ('.', '</w>'), 'Th': ('T', 'h'), 'The': ('Th', 'e'), 'The</w>': ('The', '</w>'), 'Wo': ('W', 'o'), 'Won': ('Wo', 'n'), 'Wond': ('Won', 'd'), 'Wonde': ('Wond', 'e'), 'Wonder': ('Wonde', 'r'), 'Wonderf': ('Wonder', 'f'), 'Wonderfu': ('Wonderf', 'u'), 'Wonderful</w>': ('Wonderfu', 'l</w>'), 'Wi': ('W', 'i'), 'Wiz': ('Wi', 'z'), 'Wiza': ('Wiz', 'a'), 'Wizar': ('Wiza', 'r'), 'Wizard': ('Wizar', 'd'), 'Wizard</w>': ('Wizard', '</w>'), 'of': ('o', 'f'), 'of</w>': ('of', '</w>'), 'Oz': ('O', 'z'), 'Oz</w>': ('Oz', '</w>'), 'is</w>': ('i', 's</w>'), 'a</w>': ('a', '</w>'), 'ch': ('c', 'h'), 'chi': ('ch', 'i'), 'chil': ('chi', 'l'), 'child': ('chil', 'd'), 'childr': ('child', 'r'), 'children': ('childr', 'en'), \"children'\": ('children', \"'\"), \"children's</w>\": (\"children'\", 's</w>'), 'no': ('n', 'o')}\n",
            "pairing: defaultdict(<class 'int'>, {('n', 'o'): 1, ('o', 'v'): 1, ('v', 'e'): 1, ('e', 'l</w>'): 1, ('w', 'r'): 1, ('r', 'i'): 1, ('i', 't'): 1, ('t', 't'): 1, ('t', 'en'): 1, ('en', '</w>'): 1, ('b', 'y'): 1, ('y', '</w>'): 1, ('L', '.</w>'): 1, ('F', 'r'): 1, ('r', 'a'): 1, ('a', 'n'): 1, ('n', 'k'): 1, ('k', '</w>'): 1, ('B', 'a'): 1, ('a', 'u'): 1, ('u', 'm'): 1, ('m', '.</w>'): 1})\n",
            "best1: ('n', 'o')\n",
            "token_count: {'The</w>': 1, 'Wonderful</w>': 1, 'Wizard</w>': 1, 'of</w>': 1, 'Oz</w>': 1, 'is</w>': 1, 'a</w>': 1, \"children's</w>\": 1, 'no v e l</w>': 1, 'w r i t t en </w>': 1, 'b y </w>': 1, 'L .</w>': 1, 'F r a n k </w>': 1, 'B a u m .</w>': 1}\n",
            "bpe_codes: {('l', '</w>'): 0, ('s', '</w>'): 1, ('e', 'n'): 2, ('.', '</w>'): 3, ('T', 'h'): 4, ('Th', 'e'): 5, ('The', '</w>'): 6, ('W', 'o'): 7, ('Wo', 'n'): 8, ('Won', 'd'): 9, ('Wond', 'e'): 10, ('Wonde', 'r'): 11, ('Wonder', 'f'): 12, ('Wonderf', 'u'): 13, ('Wonderfu', 'l</w>'): 14, ('W', 'i'): 15, ('Wi', 'z'): 16, ('Wiz', 'a'): 17, ('Wiza', 'r'): 18, ('Wizar', 'd'): 19, ('Wizard', '</w>'): 20, ('o', 'f'): 21, ('of', '</w>'): 22, ('O', 'z'): 23, ('Oz', '</w>'): 24, ('i', 's</w>'): 25, ('a', '</w>'): 26, ('c', 'h'): 27, ('ch', 'i'): 28, ('chi', 'l'): 29, ('chil', 'd'): 30, ('child', 'r'): 31, ('childr', 'en'): 32, ('children', \"'\"): 33, (\"children'\", 's</w>'): 34, ('n', 'o'): 35}\n",
            "bpe_codes_reverse: {'l</w>': ('l', '</w>'), 's</w>': ('s', '</w>'), 'en': ('e', 'n'), '.</w>': ('.', '</w>'), 'Th': ('T', 'h'), 'The': ('Th', 'e'), 'The</w>': ('The', '</w>'), 'Wo': ('W', 'o'), 'Won': ('Wo', 'n'), 'Wond': ('Won', 'd'), 'Wonde': ('Wond', 'e'), 'Wonder': ('Wonde', 'r'), 'Wonderf': ('Wonder', 'f'), 'Wonderfu': ('Wonderf', 'u'), 'Wonderful</w>': ('Wonderfu', 'l</w>'), 'Wi': ('W', 'i'), 'Wiz': ('Wi', 'z'), 'Wiza': ('Wiz', 'a'), 'Wizar': ('Wiza', 'r'), 'Wizard': ('Wizar', 'd'), 'Wizard</w>': ('Wizard', '</w>'), 'of': ('o', 'f'), 'of</w>': ('of', '</w>'), 'Oz': ('O', 'z'), 'Oz</w>': ('Oz', '</w>'), 'is</w>': ('i', 's</w>'), 'a</w>': ('a', '</w>'), 'ch': ('c', 'h'), 'chi': ('ch', 'i'), 'chil': ('chi', 'l'), 'child': ('chil', 'd'), 'childr': ('child', 'r'), 'children': ('childr', 'en'), \"children'\": ('children', \"'\"), \"children's</w>\": (\"children'\", 's</w>'), 'no': ('n', 'o')}\n"
          ]
        }
      ]
    },
    {
      "cell_type": "code",
      "source": [
        "w = 'Wonderful'\n",
        "w = list(w) + ['</w>']\n",
        "print(w)"
      ],
      "metadata": {
        "colab": {
          "base_uri": "https://localhost:8080/"
        },
        "id": "SgVOeUyUOmZD",
        "outputId": "d1d12860-42de-4c33-eab2-6f23dc59a794"
      },
      "execution_count": null,
      "outputs": [
        {
          "output_type": "stream",
          "name": "stdout",
          "text": [
            "['W', 'o', 'n', 'd', 'e', 'r', 'f', 'u', 'l', '</w>']\n"
          ]
        }
      ]
    },
    {
      "cell_type": "code",
      "source": [
        " while len(w)>1:\n",
        "       twins = [(w[i],w[i+1]) for i in range(len(w)-1)]\n",
        "       maxpair = min(twins,key = lambda twin: bpe_codes.get(twin,float('inf')))\n",
        "       if maxpair not in bpe_codes:\n",
        "          break\n",
        "       first,second = maxpair\n",
        "       new_w = []\n",
        "       i = 0\n",
        "       while i < len(w):\n",
        "             if i < len(w)-1 and w[i] == first and w[i+1] == second:\n",
        "                new_w.append(first+second)\n",
        "                i+=2\n",
        "             else:\n",
        "                  new_w.append(w[i])\n",
        "                  i+=1\n",
        "       w = new_w\n",
        " print(w)"
      ],
      "metadata": {
        "colab": {
          "base_uri": "https://localhost:8080/"
        },
        "id": "PvuSqNP3b7II",
        "outputId": "10c3985c-d103-4c5b-9f8d-7ecba6ea558b"
      },
      "execution_count": null,
      "outputs": [
        {
          "output_type": "stream",
          "name": "stdout",
          "text": [
            "['Wonderful</w>']\n"
          ]
        }
      ]
    },
    {
      "cell_type": "code",
      "source": [
        "def encode_bpe(data,bpe_codes,bpe_codes_reverse):\n",
        "    if data in bpe_codes_reverse:\n",
        "      return data.split()\n",
        "    data = list(data) + ['</w>']\n",
        "    while len(data) > 1:\n",
        "          datapairs = [(data[i],data[i+1]) for i in range(len(data)-1)]\n",
        "          maxdata = min(datapairs,key = lambda datapair: bpe_codes.get(datapair,float('inf')))\n",
        "          if maxdata not in bpe_codes:\n",
        "             break\n",
        "          one, two = maxdata\n",
        "          i = 0\n",
        "          new_data = []\n",
        "          while i < len(data):\n",
        "                if i < len(data) - 1 and data[i] == one and data[i+1] == two:\n",
        "                   new_data.append(one+two)\n",
        "                   i+=2\n",
        "                else:\n",
        "                     new_data.append(data[i])\n",
        "                     i += 1\n",
        "          data = new_data\n",
        "    return data"
      ],
      "metadata": {
        "id": "nepCHSVpkxmA"
      },
      "execution_count": null,
      "outputs": []
    },
    {
      "cell_type": "code",
      "source": [
        "print(bpe_codes)"
      ],
      "metadata": {
        "colab": {
          "base_uri": "https://localhost:8080/"
        },
        "id": "fsRKjto5nJdk",
        "outputId": "edabd29f-e259-4dfc-e73e-bbd808972a05"
      },
      "execution_count": null,
      "outputs": [
        {
          "output_type": "stream",
          "name": "stdout",
          "text": [
            "{('l', '</w>'): 0, ('s', '</w>'): 1, ('e', 'n'): 2, ('.', '</w>'): 3, ('T', 'h'): 4, ('Th', 'e'): 5, ('The', '</w>'): 6, ('W', 'o'): 7, ('Wo', 'n'): 8, ('Won', 'd'): 9, ('Wond', 'e'): 10, ('Wonde', 'r'): 11, ('Wonder', 'f'): 12, ('Wonderf', 'u'): 13, ('Wonderfu', 'l</w>'): 14, ('W', 'i'): 15, ('Wi', 'z'): 16, ('Wiz', 'a'): 17, ('Wiza', 'r'): 18, ('Wizar', 'd'): 19, ('Wizard', '</w>'): 20, ('o', 'f'): 21, ('of', '</w>'): 22, ('O', 'z'): 23, ('Oz', '</w>'): 24, ('i', 's</w>'): 25, ('a', '</w>'): 26, ('c', 'h'): 27, ('ch', 'i'): 28, ('chi', 'l'): 29, ('chil', 'd'): 30, ('child', 'r'): 31, ('childr', 'en'): 32, ('children', \"'\"): 33, (\"children'\", 's</w>'): 34, ('n', 'o'): 35}\n"
          ]
        }
      ]
    },
    {
      "cell_type": "code",
      "source": [
        "print(bpe_codes_reverse)"
      ],
      "metadata": {
        "colab": {
          "base_uri": "https://localhost:8080/"
        },
        "id": "7qMEeOcbnZX3",
        "outputId": "5533c73b-3da3-447a-979d-e8d3a27dbd30"
      },
      "execution_count": null,
      "outputs": [
        {
          "output_type": "stream",
          "name": "stdout",
          "text": [
            "{'l</w>': ('l', '</w>'), 's</w>': ('s', '</w>'), 'en': ('e', 'n'), '.</w>': ('.', '</w>'), 'Th': ('T', 'h'), 'The': ('Th', 'e'), 'The</w>': ('The', '</w>'), 'Wo': ('W', 'o'), 'Won': ('Wo', 'n'), 'Wond': ('Won', 'd'), 'Wonde': ('Wond', 'e'), 'Wonder': ('Wonde', 'r'), 'Wonderf': ('Wonder', 'f'), 'Wonderfu': ('Wonderf', 'u'), 'Wonderful</w>': ('Wonderfu', 'l</w>'), 'Wi': ('W', 'i'), 'Wiz': ('Wi', 'z'), 'Wiza': ('Wiz', 'a'), 'Wizar': ('Wiza', 'r'), 'Wizard': ('Wizar', 'd'), 'Wizard</w>': ('Wizard', '</w>'), 'of': ('o', 'f'), 'of</w>': ('of', '</w>'), 'Oz': ('O', 'z'), 'Oz</w>': ('Oz', '</w>'), 'is</w>': ('i', 's</w>'), 'a</w>': ('a', '</w>'), 'ch': ('c', 'h'), 'chi': ('ch', 'i'), 'chil': ('chi', 'l'), 'child': ('chil', 'd'), 'childr': ('child', 'r'), 'children': ('childr', 'en'), \"children'\": ('children', \"'\"), \"children's</w>\": (\"children'\", 's</w>'), 'no': ('n', 'o')}\n"
          ]
        }
      ]
    },
    {
      "cell_type": "code",
      "source": [
        "print(corpus)"
      ],
      "metadata": {
        "colab": {
          "base_uri": "https://localhost:8080/"
        },
        "id": "z-nsfdY3ndl0",
        "outputId": "6a9eefc6-5863-4da4-da2f-ff2c2b452f52"
      },
      "execution_count": null,
      "outputs": [
        {
          "output_type": "stream",
          "name": "stdout",
          "text": [
            "The Wonderful Wizard of Oz is a children's novel written by L. Frank Baum.\n"
          ]
        }
      ]
    },
    {
      "cell_type": "code",
      "source": [
        "info = corpus.split()\n",
        "print(info)"
      ],
      "metadata": {
        "colab": {
          "base_uri": "https://localhost:8080/"
        },
        "id": "x8QAegIgoH3o",
        "outputId": "d336a889-feff-46a7-a03f-f962dd8bb848"
      },
      "execution_count": null,
      "outputs": [
        {
          "output_type": "stream",
          "name": "stdout",
          "text": [
            "['The', 'Wonderful', 'Wizard', 'of', 'Oz', 'is', 'a', \"children's\", 'novel', 'written', 'by', 'L.', 'Frank', 'Baum.']\n"
          ]
        }
      ]
    },
    {
      "cell_type": "code",
      "source": [
        "tokens = []\n",
        "for i in info:\n",
        "    tokens.extend(encode_bpe(i,bpe_codes,bpe_codes_reverse))\n",
        "print(tokens)"
      ],
      "metadata": {
        "colab": {
          "base_uri": "https://localhost:8080/"
        },
        "id": "96dmT-sDoLtu",
        "outputId": "ba3e8235-7c45-4e46-f24a-a1f284387455"
      },
      "execution_count": null,
      "outputs": [
        {
          "output_type": "stream",
          "name": "stdout",
          "text": [
            "['The', 'Wonderful</w>', 'Wizard', 'of', 'Oz', 'is</w>', 'a</w>', \"children's</w>\", 'no', 'v', 'e', 'l</w>', 'w', 'r', 'i', 't', 't', 'en', '</w>', 'b', 'y', '</w>', 'L', '.</w>', 'F', 'r', 'a', 'n', 'k', '</w>', 'B', 'a', 'u', 'm', '.</w>']\n"
          ]
        }
      ]
    },
    {
      "cell_type": "code",
      "source": [
        "print(len(tokens))"
      ],
      "metadata": {
        "colab": {
          "base_uri": "https://localhost:8080/"
        },
        "id": "oKnHw-yv4ezE",
        "outputId": "15f4846d-0d5d-446a-f36a-c9e43e21e8c6"
      },
      "execution_count": null,
      "outputs": [
        {
          "output_type": "stream",
          "name": "stdout",
          "text": [
            "35\n"
          ]
        }
      ]
    },
    {
      "cell_type": "code",
      "source": [
        "batch_size = 1\n",
        "block_size = 2\n",
        "n_batches = 35//(1*2)\n",
        "print(n_batches)"
      ],
      "metadata": {
        "colab": {
          "base_uri": "https://localhost:8080/"
        },
        "id": "uWaQFw2Q5Xi-",
        "outputId": "d9cdbed5-6415-4783-b3cf-9d9874f18c48"
      },
      "execution_count": null,
      "outputs": [
        {
          "output_type": "stream",
          "name": "stdout",
          "text": [
            "17\n"
          ]
        }
      ]
    },
    {
      "cell_type": "code",
      "source": [
        "tokens = tokens[:34]\n",
        "print(tokens)"
      ],
      "metadata": {
        "colab": {
          "base_uri": "https://localhost:8080/"
        },
        "id": "dPfAoF8-5mbd",
        "outputId": "2dafe8af-c5c2-411e-cf0b-9cc6caa21c4f"
      },
      "execution_count": null,
      "outputs": [
        {
          "output_type": "stream",
          "name": "stdout",
          "text": [
            "['The', 'Wonderful</w>', 'Wizard', 'of', 'Oz', 'is</w>', 'a</w>', \"children's</w>\", 'no', 'v', 'e', 'l</w>', 'w', 'r', 'i', 't', 't', 'en', '</w>', 'b', 'y', '</w>', 'L', '.</w>', 'F', 'r', 'a', 'n', 'k', '</w>', 'B', 'a', 'u', 'm']\n"
          ]
        }
      ]
    },
    {
      "cell_type": "code",
      "source": [
        "x = []\n",
        "y = []\n",
        "print(len(tokens))"
      ],
      "metadata": {
        "colab": {
          "base_uri": "https://localhost:8080/"
        },
        "id": "FFNgwwV56Ixa",
        "outputId": "58c80043-8492-4ff2-cd9a-963c0c0a674b"
      },
      "execution_count": null,
      "outputs": [
        {
          "output_type": "stream",
          "name": "stdout",
          "text": [
            "34\n"
          ]
        }
      ]
    },
    {
      "cell_type": "code",
      "source": [
        "for i in range(0,30,2):\n",
        "    x.append(tokens[i:i+2])\n",
        "    y.append(tokens[i+1:i+3])\n",
        "x = np.array(x)\n",
        "y = np.array(y)\n",
        "print(x)\n",
        "print(y)"
      ],
      "metadata": {
        "colab": {
          "base_uri": "https://localhost:8080/"
        },
        "id": "-1_GXY2k7dCU",
        "outputId": "24d7cce7-83c4-44d2-dc79-addea23d16cd"
      },
      "execution_count": null,
      "outputs": [
        {
          "output_type": "stream",
          "name": "stdout",
          "text": [
            "[['The' 'Wonderful</w>']\n",
            " ['Wizard' 'of']\n",
            " ['Oz' 'is</w>']\n",
            " ['a</w>' \"children's</w>\"]\n",
            " ['no' 'v']\n",
            " ['e' 'l</w>']\n",
            " ['w' 'r']\n",
            " ['i' 't']\n",
            " ['t' 'en']\n",
            " ['</w>' 'b']\n",
            " ['y' '</w>']\n",
            " ['L' '.</w>']\n",
            " ['F' 'r']\n",
            " ['a' 'n']\n",
            " ['k' '</w>']]\n",
            "[['Wonderful</w>' 'Wizard']\n",
            " ['of' 'Oz']\n",
            " ['is</w>' 'a</w>']\n",
            " [\"children's</w>\" 'no']\n",
            " ['v' 'e']\n",
            " ['l</w>' 'w']\n",
            " ['r' 'i']\n",
            " ['t' 't']\n",
            " ['en' '</w>']\n",
            " ['b' 'y']\n",
            " ['</w>' 'L']\n",
            " ['.</w>' 'F']\n",
            " ['r' 'a']\n",
            " ['n' 'k']\n",
            " ['</w>' 'B']]\n"
          ]
        }
      ]
    },
    {
      "cell_type": "code",
      "source": [
        "def create_batches(tokens,batch_size,block_size):\n",
        "    n_batches = len(tokens)//(batch_size * block_size)\n",
        "    tokens = tokens[:n_batches * batch_size * block_size]\n",
        "    x = []\n",
        "    y = []\n",
        "    for i in range(0,len(tokens) - block_size,block_size):\n",
        "        x.append(tokens[i:i+block_size])\n",
        "        y.append(tokens[i+1:i+block_size+1])\n",
        "    x = np.array(x)\n",
        "    y = np.array(y)\n",
        "    return x,y"
      ],
      "metadata": {
        "id": "iX38UvJb9FdV"
      },
      "execution_count": null,
      "outputs": []
    },
    {
      "cell_type": "code",
      "source": [
        "print(len(tokens))"
      ],
      "metadata": {
        "colab": {
          "base_uri": "https://localhost:8080/"
        },
        "id": "0W28MDxy-ZQU",
        "outputId": "7f719f23-bf19-41f1-c13e-8d09d3619536"
      },
      "execution_count": null,
      "outputs": [
        {
          "output_type": "stream",
          "name": "stdout",
          "text": [
            "34\n"
          ]
        }
      ]
    },
    {
      "cell_type": "code",
      "source": [
        "print(int((35*0.8)))\n"
      ],
      "metadata": {
        "colab": {
          "base_uri": "https://localhost:8080/"
        },
        "id": "2L01XDsgX98T",
        "outputId": "387eb1a9-9a09-416b-a13c-40b0d1c5edf8"
      },
      "execution_count": null,
      "outputs": [
        {
          "output_type": "stream",
          "name": "stdout",
          "text": [
            "28\n"
          ]
        }
      ]
    },
    {
      "cell_type": "code",
      "source": [
        "train_ratio = 0.8\n",
        "train_size = int(35*0.8)\n",
        "train_tokens = tokens[:train_size]\n",
        "test_tokens = tokens[train_size:]\n",
        "print(\"TRAIN TOKENS:\",train_tokens)\n",
        "print(\"TEST TOKENS:\",test_tokens)"
      ],
      "metadata": {
        "colab": {
          "base_uri": "https://localhost:8080/"
        },
        "id": "ix79yrMD-ndH",
        "outputId": "209a7238-be03-44a7-d6b2-949ec1993ae9"
      },
      "execution_count": null,
      "outputs": [
        {
          "output_type": "stream",
          "name": "stdout",
          "text": [
            "TRAIN TOKENS: ['The', 'Wonderful</w>', 'Wizard', 'of', 'Oz', 'is</w>', 'a</w>', \"children's</w>\", 'no', 'v', 'e', 'l</w>', 'w', 'r', 'i', 't', 't', 'en', '</w>', 'b', 'y', '</w>', 'L', '.</w>', 'F', 'r', 'a', 'n']\n",
            "TEST TOKENS: ['k', '</w>', 'B', 'a', 'u', 'm']\n"
          ]
        }
      ]
    },
    {
      "cell_type": "code",
      "source": [
        "train_x, train_y = create_batches(train_tokens,batch_size,block_size)\n",
        "test_x, test_y = create_batches(test_tokens,batch_size,block_size)\n",
        "print(\"TRAIN X:\",train_x)\n",
        "print(\"TRAIN Y:\",train_y)\n",
        "print(\"TEST X:\",test_x)\n",
        "print(\"TEST Y:\",test_y)"
      ],
      "metadata": {
        "colab": {
          "base_uri": "https://localhost:8080/"
        },
        "id": "XWiqUz9U_fjM",
        "outputId": "674f725e-0919-45d4-94c9-1fcd08427353"
      },
      "execution_count": null,
      "outputs": [
        {
          "output_type": "stream",
          "name": "stdout",
          "text": [
            "TRAIN X: [['The' 'Wonderful</w>']\n",
            " ['Wizard' 'of']\n",
            " ['Oz' 'is</w>']\n",
            " ['a</w>' \"children's</w>\"]\n",
            " ['no' 'v']\n",
            " ['e' 'l</w>']\n",
            " ['w' 'r']\n",
            " ['i' 't']\n",
            " ['t' 'en']\n",
            " ['</w>' 'b']\n",
            " ['y' '</w>']\n",
            " ['L' '.</w>']\n",
            " ['F' 'r']]\n",
            "TRAIN Y: [['Wonderful</w>' 'Wizard']\n",
            " ['of' 'Oz']\n",
            " ['is</w>' 'a</w>']\n",
            " [\"children's</w>\" 'no']\n",
            " ['v' 'e']\n",
            " ['l</w>' 'w']\n",
            " ['r' 'i']\n",
            " ['t' 't']\n",
            " ['en' '</w>']\n",
            " ['b' 'y']\n",
            " ['</w>' 'L']\n",
            " ['.</w>' 'F']\n",
            " ['r' 'a']]\n",
            "TEST X: [['k' '</w>']\n",
            " ['B' 'a']]\n",
            "TEST Y: [['</w>' 'B']\n",
            " ['a' 'u']]\n"
          ]
        }
      ]
    },
    {
      "cell_type": "code",
      "source": [
        "print(len(tokens))"
      ],
      "metadata": {
        "colab": {
          "base_uri": "https://localhost:8080/"
        },
        "id": "GLQzP4c5ZABf",
        "outputId": "a98511a2-1de7-459e-9218-14d434c7e0c4"
      },
      "execution_count": null,
      "outputs": [
        {
          "output_type": "stream",
          "name": "stdout",
          "text": [
            "34\n"
          ]
        }
      ]
    },
    {
      "cell_type": "code",
      "source": [
        "print(corpus)"
      ],
      "metadata": {
        "colab": {
          "base_uri": "https://localhost:8080/"
        },
        "id": "UirhwLhSzfpX",
        "outputId": "53e14dff-2b47-4d02-9bbf-af1088c9ae26"
      },
      "execution_count": null,
      "outputs": [
        {
          "output_type": "stream",
          "name": "stdout",
          "text": [
            "The Wonderful Wizard of Oz is a children's novel written by L. Frank Baum.\n"
          ]
        }
      ]
    },
    {
      "cell_type": "code",
      "source": [
        "tokenize = []\n",
        "for i in corpus.split():\n",
        "    tokenize.extend(encode_bpe(i,bpe_codes,bpe_codes_reverse))\n",
        "print(tokenize)\n",
        "print(len(tokenize))"
      ],
      "metadata": {
        "colab": {
          "base_uri": "https://localhost:8080/"
        },
        "id": "9YbMSeCxzk29",
        "outputId": "0f5adf49-ff43-469e-c5de-8932db32421e"
      },
      "execution_count": null,
      "outputs": [
        {
          "output_type": "stream",
          "name": "stdout",
          "text": [
            "['The', 'Wonderful</w>', 'Wizard', 'of', 'Oz', 'is</w>', 'a</w>', \"children's</w>\", 'no', 'v', 'e', 'l</w>', 'w', 'r', 'i', 't', 't', 'en', '</w>', 'b', 'y', '</w>', 'L', '.</w>', 'F', 'r', 'a', 'n', 'k', '</w>', 'B', 'a', 'u', 'm', '.</w>']\n",
            "35\n"
          ]
        }
      ]
    },
    {
      "cell_type": "code",
      "source": [
        "#  create a dictionary that maps tokens to indices:\n",
        "tokens_to_indices = {tok:idx for idx,tok in enumerate(tokenize)}\n",
        "print(tokens_to_indices)"
      ],
      "metadata": {
        "colab": {
          "base_uri": "https://localhost:8080/"
        },
        "id": "CaluYzz5zwY8",
        "outputId": "eaae5ad8-a015-462d-d4e2-1be09ee19204"
      },
      "execution_count": null,
      "outputs": [
        {
          "output_type": "stream",
          "name": "stdout",
          "text": [
            "{'The': 0, 'Wonderful</w>': 1, 'Wizard': 2, 'of': 3, 'Oz': 4, 'is</w>': 5, 'a</w>': 6, \"children's</w>\": 7, 'no': 8, 'v': 9, 'e': 10, 'l</w>': 11, 'w': 12, 'r': 25, 'i': 14, 't': 16, 'en': 17, '</w>': 29, 'b': 19, 'y': 20, 'L': 22, '.</w>': 34, 'F': 24, 'a': 31, 'n': 27, 'k': 28, 'B': 30, 'u': 32, 'm': 33}\n"
          ]
        }
      ]
    },
    {
      "cell_type": "code",
      "source": [
        "print(train_x)\n",
        "print(train_y)"
      ],
      "metadata": {
        "colab": {
          "base_uri": "https://localhost:8080/"
        },
        "id": "S0kcRk3T0HNT",
        "outputId": "51947334-41d5-4803-db46-fec9908a5e88"
      },
      "execution_count": null,
      "outputs": [
        {
          "output_type": "stream",
          "name": "stdout",
          "text": [
            "[['The' 'Wonderful</w>']\n",
            " ['Wizard' 'of']\n",
            " ['Oz' 'is</w>']\n",
            " ['a</w>' \"children's</w>\"]\n",
            " ['no' 'v']\n",
            " ['e' 'l</w>']\n",
            " ['w' 'r']\n",
            " ['i' 't']\n",
            " ['t' 'en']\n",
            " ['</w>' 'b']\n",
            " ['y' '</w>']\n",
            " ['L' '.</w>']\n",
            " ['F' 'r']]\n",
            "[['Wonderful</w>' 'Wizard']\n",
            " ['of' 'Oz']\n",
            " ['is</w>' 'a</w>']\n",
            " [\"children's</w>\" 'no']\n",
            " ['v' 'e']\n",
            " ['l</w>' 'w']\n",
            " ['r' 'i']\n",
            " ['t' 't']\n",
            " ['en' '</w>']\n",
            " ['b' 'y']\n",
            " ['</w>' 'L']\n",
            " ['.</w>' 'F']\n",
            " ['r' 'a']]\n"
          ]
        }
      ]
    },
    {
      "cell_type": "code",
      "source": [
        "train_x_indices = [[tokens_to_indices[word] for word in seq] for seq in train_x]\n",
        "train_y_indices = [[tokens_to_indices[word] for word in seq] for seq in train_y]\n",
        "print(train_x_indices)\n",
        "print(train_y_indices)"
      ],
      "metadata": {
        "colab": {
          "base_uri": "https://localhost:8080/"
        },
        "id": "iqZT5N8L0qRN",
        "outputId": "d6d88aeb-fa01-405b-af9c-2f9e25c25d5b"
      },
      "execution_count": null,
      "outputs": [
        {
          "output_type": "stream",
          "name": "stdout",
          "text": [
            "[[0, 1], [2, 3], [4, 5], [6, 7], [8, 9], [10, 11], [12, 25], [14, 16], [16, 17], [29, 19], [20, 29], [22, 34], [24, 25]]\n",
            "[[1, 2], [3, 4], [5, 6], [7, 8], [9, 10], [11, 12], [25, 14], [16, 16], [17, 29], [19, 20], [29, 22], [34, 24], [25, 31]]\n"
          ]
        }
      ]
    },
    {
      "cell_type": "code",
      "source": [
        "# convert the list to tensors for machine learning computation done in transformer model\n",
        "train_x_tensor = torch.tensor(train_x_indices, dtype = torch.long)\n",
        "train_y_tensor = torch.tensor(train_y_indices, dtype = torch.long)\n",
        "print(train_x_tensor)\n",
        "print(train_y_tensor)"
      ],
      "metadata": {
        "colab": {
          "base_uri": "https://localhost:8080/"
        },
        "id": "ZISibw1t1KJk",
        "outputId": "a09df78d-d2d3-49a3-a5e5-bfb2b6b1d9a1"
      },
      "execution_count": null,
      "outputs": [
        {
          "output_type": "stream",
          "name": "stdout",
          "text": [
            "tensor([[ 0,  1],\n",
            "        [ 2,  3],\n",
            "        [ 4,  5],\n",
            "        [ 6,  7],\n",
            "        [ 8,  9],\n",
            "        [10, 11],\n",
            "        [12, 25],\n",
            "        [14, 16],\n",
            "        [16, 17],\n",
            "        [29, 19],\n",
            "        [20, 29],\n",
            "        [22, 34],\n",
            "        [24, 25]])\n",
            "tensor([[ 1,  2],\n",
            "        [ 3,  4],\n",
            "        [ 5,  6],\n",
            "        [ 7,  8],\n",
            "        [ 9, 10],\n",
            "        [11, 12],\n",
            "        [25, 14],\n",
            "        [16, 16],\n",
            "        [17, 29],\n",
            "        [19, 20],\n",
            "        [29, 22],\n",
            "        [34, 24],\n",
            "        [25, 31]])\n"
          ]
        }
      ]
    },
    {
      "cell_type": "code",
      "source": [
        "vocab_size = len(tokenize)\n",
        "print(vocab_size)\n",
        "embedding_dims = 10"
      ],
      "metadata": {
        "colab": {
          "base_uri": "https://localhost:8080/"
        },
        "id": "5707SwfL2CCT",
        "outputId": "27c30217-9f75-4d14-bc23-3ef32559c67f"
      },
      "execution_count": null,
      "outputs": [
        {
          "output_type": "stream",
          "name": "stdout",
          "text": [
            "35\n"
          ]
        }
      ]
    },
    {
      "cell_type": "code",
      "source": [
        "# now add word embedding to this tensors:\n",
        "random_vec_values = torch.randn(vocab_size,embedding_dims)\n",
        "print(random_vec_values)\n",
        "print(len(random_vec_values))"
      ],
      "metadata": {
        "colab": {
          "base_uri": "https://localhost:8080/"
        },
        "id": "MPTjt-y-1zTP",
        "outputId": "d9c42bbd-a7f4-4ce3-a349-f7a39270a039"
      },
      "execution_count": null,
      "outputs": [
        {
          "output_type": "stream",
          "name": "stdout",
          "text": [
            "tensor([[ 0.7187,  1.4068, -0.6583,  0.7622,  0.4379, -2.0784, -0.0217,  0.1432,\n",
            "         -0.3182, -1.1090],\n",
            "        [-0.4033,  1.0490, -1.6980, -1.9063,  1.3688, -0.8977,  2.1744,  0.5706,\n",
            "          0.4220, -0.0890],\n",
            "        [ 2.0777,  0.6087, -1.4942, -0.0311,  2.0509, -1.2154, -0.7142,  0.8420,\n",
            "         -0.7005, -0.3382],\n",
            "        [ 0.2462,  0.1380,  0.4725, -0.9924, -0.9933, -1.2682,  0.2220,  0.5353,\n",
            "         -0.9140,  0.1898],\n",
            "        [-0.4602, -1.6276,  0.8910,  0.9869, -0.6221, -0.1432, -0.3742,  0.0123,\n",
            "         -0.9996,  1.6769],\n",
            "        [ 0.6027, -0.2724,  0.4748,  0.1289,  1.3817,  0.6484,  0.8079, -0.7395,\n",
            "         -0.1740, -0.4679],\n",
            "        [-0.7735,  0.9903, -1.9175,  1.5393,  1.6565, -0.3186,  0.6188, -0.3041,\n",
            "         -0.2364,  1.2293],\n",
            "        [-1.1083,  0.7324, -0.5007, -0.3090,  0.7680, -1.4513, -0.0730,  0.2963,\n",
            "         -0.1752,  0.0917],\n",
            "        [-0.3535, -1.8036, -0.5055, -0.9651,  0.2657,  0.5071,  0.0722, -0.3936,\n",
            "          0.5539,  0.2536],\n",
            "        [ 0.2096, -0.2684, -0.9555, -0.9067,  1.2174, -0.8604, -0.9016,  2.2274,\n",
            "          0.9252, -0.6335],\n",
            "        [-0.5344, -0.0393,  1.2074, -1.4129,  0.2634,  1.2322,  1.7100, -0.4157,\n",
            "         -0.4161,  0.1525],\n",
            "        [-1.9653, -1.2747,  1.7150, -0.2426,  1.2081,  0.4905,  1.1929,  0.4274,\n",
            "         -0.2197,  0.2895],\n",
            "        [ 0.6042, -1.7555,  0.8101, -1.1397,  0.4128, -0.3245, -0.1970,  0.4221,\n",
            "          1.7086,  1.1372],\n",
            "        [-2.1480, -1.9513,  0.7620, -0.7421, -0.7713,  0.6792,  0.7252,  0.1077,\n",
            "         -1.3160,  0.5872],\n",
            "        [-0.4974,  0.4640, -0.6697,  0.5893,  0.6876, -0.6081,  0.1270, -0.5549,\n",
            "         -0.6152,  0.0884],\n",
            "        [-0.7645, -0.9243,  2.1836, -0.2468, -1.8192,  0.4537,  1.6828, -0.3904,\n",
            "         -0.0116, -0.8185],\n",
            "        [-1.3966,  0.8560,  1.0054, -0.2553,  0.3103,  0.4906, -1.9473,  0.3273,\n",
            "          0.1114,  0.3919],\n",
            "        [-0.3992,  0.3057,  1.2721, -1.0908, -1.1461,  1.1163, -1.5229, -1.5393,\n",
            "         -1.2818, -0.6612],\n",
            "        [-1.1346, -0.3493,  1.4795, -0.9483,  0.1801,  0.4167, -0.3262, -0.1068,\n",
            "         -0.6585, -0.0199],\n",
            "        [-0.9195,  0.0777, -1.3495, -0.2208,  2.5297, -0.1101, -1.5717,  0.0882,\n",
            "          0.4986, -0.5480],\n",
            "        [ 0.4575, -1.0448, -0.6086,  0.1974, -0.2904,  1.6564, -1.7328,  1.3446,\n",
            "          0.1733, -0.2582],\n",
            "        [ 0.5496, -1.7675, -0.2886, -0.7480,  0.3530,  0.6979, -0.2020, -1.9301,\n",
            "          0.8743, -1.4063],\n",
            "        [-0.9864, -1.4369,  0.3168,  0.2579, -0.3166,  0.7442,  1.0653, -0.5461,\n",
            "         -0.0442, -0.1341],\n",
            "        [-0.3060, -1.9197, -0.3932,  0.0789,  0.7344, -0.8517,  0.5390, -0.6786,\n",
            "          0.4998, -1.2411],\n",
            "        [-1.7168, -0.7187,  0.4171, -0.7174,  0.7202, -0.6390, -1.0423,  1.9043,\n",
            "          0.3930, -0.7336],\n",
            "        [ 2.2393, -0.8875, -0.4339, -0.2753,  0.9599, -0.7908, -0.6557,  0.1335,\n",
            "          0.4555,  0.5931],\n",
            "        [-0.3394,  1.3720,  2.9650,  0.7557, -1.0424,  0.6692,  0.1092, -1.5390,\n",
            "         -1.7330, -1.2101],\n",
            "        [-1.1788, -0.7597, -0.0276,  0.5791, -0.0957, -0.9170, -0.1859, -1.6971,\n",
            "          0.2037, -0.1322],\n",
            "        [ 0.3827,  2.2541,  0.7973,  0.1415, -2.3051, -0.1494,  0.0740, -1.2718,\n",
            "         -1.9562, -0.2594],\n",
            "        [-0.0439, -0.8557, -2.2827,  1.8257,  1.5878, -0.2722, -0.4432, -0.4166,\n",
            "          1.3162, -0.9187],\n",
            "        [ 1.9489,  0.8210, -0.8026, -0.4889, -0.6143, -0.0055, -1.0848,  0.5506,\n",
            "         -0.7109, -0.8980],\n",
            "        [ 0.6243, -0.7059,  0.3934, -0.8265, -0.9779, -0.8915,  1.7425,  0.3632,\n",
            "         -0.0969, -0.7499],\n",
            "        [-0.7797,  0.8709,  0.2040, -0.9349,  1.1658, -0.4981, -0.7957, -0.0416,\n",
            "          0.1517, -2.2485],\n",
            "        [ 1.3911,  0.2372,  0.5292,  0.3156, -0.2650, -0.2029, -0.5768, -1.0963,\n",
            "          1.5060,  1.7578],\n",
            "        [ 0.0678, -0.1918,  0.9724, -0.4409, -1.1861,  0.7714, -0.6149,  0.3790,\n",
            "         -0.2362, -0.0972]])\n",
            "35\n"
          ]
        }
      ]
    },
    {
      "cell_type": "code",
      "source": [
        "Embeddings = nn.Parameter(random_vec_values)\n",
        "print(Embeddings)"
      ],
      "metadata": {
        "colab": {
          "base_uri": "https://localhost:8080/"
        },
        "id": "QTtp6wQB3cmc",
        "outputId": "398da921-6e8c-4efa-c693-183cef6d0b87"
      },
      "execution_count": null,
      "outputs": [
        {
          "output_type": "stream",
          "name": "stdout",
          "text": [
            "Parameter containing:\n",
            "tensor([[ 0.7187,  1.4068, -0.6583,  0.7622,  0.4379, -2.0784, -0.0217,  0.1432,\n",
            "         -0.3182, -1.1090],\n",
            "        [-0.4033,  1.0490, -1.6980, -1.9063,  1.3688, -0.8977,  2.1744,  0.5706,\n",
            "          0.4220, -0.0890],\n",
            "        [ 2.0777,  0.6087, -1.4942, -0.0311,  2.0509, -1.2154, -0.7142,  0.8420,\n",
            "         -0.7005, -0.3382],\n",
            "        [ 0.2462,  0.1380,  0.4725, -0.9924, -0.9933, -1.2682,  0.2220,  0.5353,\n",
            "         -0.9140,  0.1898],\n",
            "        [-0.4602, -1.6276,  0.8910,  0.9869, -0.6221, -0.1432, -0.3742,  0.0123,\n",
            "         -0.9996,  1.6769],\n",
            "        [ 0.6027, -0.2724,  0.4748,  0.1289,  1.3817,  0.6484,  0.8079, -0.7395,\n",
            "         -0.1740, -0.4679],\n",
            "        [-0.7735,  0.9903, -1.9175,  1.5393,  1.6565, -0.3186,  0.6188, -0.3041,\n",
            "         -0.2364,  1.2293],\n",
            "        [-1.1083,  0.7324, -0.5007, -0.3090,  0.7680, -1.4513, -0.0730,  0.2963,\n",
            "         -0.1752,  0.0917],\n",
            "        [-0.3535, -1.8036, -0.5055, -0.9651,  0.2657,  0.5071,  0.0722, -0.3936,\n",
            "          0.5539,  0.2536],\n",
            "        [ 0.2096, -0.2684, -0.9555, -0.9067,  1.2174, -0.8604, -0.9016,  2.2274,\n",
            "          0.9252, -0.6335],\n",
            "        [-0.5344, -0.0393,  1.2074, -1.4129,  0.2634,  1.2322,  1.7100, -0.4157,\n",
            "         -0.4161,  0.1525],\n",
            "        [-1.9653, -1.2747,  1.7150, -0.2426,  1.2081,  0.4905,  1.1929,  0.4274,\n",
            "         -0.2197,  0.2895],\n",
            "        [ 0.6042, -1.7555,  0.8101, -1.1397,  0.4128, -0.3245, -0.1970,  0.4221,\n",
            "          1.7086,  1.1372],\n",
            "        [-2.1480, -1.9513,  0.7620, -0.7421, -0.7713,  0.6792,  0.7252,  0.1077,\n",
            "         -1.3160,  0.5872],\n",
            "        [-0.4974,  0.4640, -0.6697,  0.5893,  0.6876, -0.6081,  0.1270, -0.5549,\n",
            "         -0.6152,  0.0884],\n",
            "        [-0.7645, -0.9243,  2.1836, -0.2468, -1.8192,  0.4537,  1.6828, -0.3904,\n",
            "         -0.0116, -0.8185],\n",
            "        [-1.3966,  0.8560,  1.0054, -0.2553,  0.3103,  0.4906, -1.9473,  0.3273,\n",
            "          0.1114,  0.3919],\n",
            "        [-0.3992,  0.3057,  1.2721, -1.0908, -1.1461,  1.1163, -1.5229, -1.5393,\n",
            "         -1.2818, -0.6612],\n",
            "        [-1.1346, -0.3493,  1.4795, -0.9483,  0.1801,  0.4167, -0.3262, -0.1068,\n",
            "         -0.6585, -0.0199],\n",
            "        [-0.9195,  0.0777, -1.3495, -0.2208,  2.5297, -0.1101, -1.5717,  0.0882,\n",
            "          0.4986, -0.5480],\n",
            "        [ 0.4575, -1.0448, -0.6086,  0.1974, -0.2904,  1.6564, -1.7328,  1.3446,\n",
            "          0.1733, -0.2582],\n",
            "        [ 0.5496, -1.7675, -0.2886, -0.7480,  0.3530,  0.6979, -0.2020, -1.9301,\n",
            "          0.8743, -1.4063],\n",
            "        [-0.9864, -1.4369,  0.3168,  0.2579, -0.3166,  0.7442,  1.0653, -0.5461,\n",
            "         -0.0442, -0.1341],\n",
            "        [-0.3060, -1.9197, -0.3932,  0.0789,  0.7344, -0.8517,  0.5390, -0.6786,\n",
            "          0.4998, -1.2411],\n",
            "        [-1.7168, -0.7187,  0.4171, -0.7174,  0.7202, -0.6390, -1.0423,  1.9043,\n",
            "          0.3930, -0.7336],\n",
            "        [ 2.2393, -0.8875, -0.4339, -0.2753,  0.9599, -0.7908, -0.6557,  0.1335,\n",
            "          0.4555,  0.5931],\n",
            "        [-0.3394,  1.3720,  2.9650,  0.7557, -1.0424,  0.6692,  0.1092, -1.5390,\n",
            "         -1.7330, -1.2101],\n",
            "        [-1.1788, -0.7597, -0.0276,  0.5791, -0.0957, -0.9170, -0.1859, -1.6971,\n",
            "          0.2037, -0.1322],\n",
            "        [ 0.3827,  2.2541,  0.7973,  0.1415, -2.3051, -0.1494,  0.0740, -1.2718,\n",
            "         -1.9562, -0.2594],\n",
            "        [-0.0439, -0.8557, -2.2827,  1.8257,  1.5878, -0.2722, -0.4432, -0.4166,\n",
            "          1.3162, -0.9187],\n",
            "        [ 1.9489,  0.8210, -0.8026, -0.4889, -0.6143, -0.0055, -1.0848,  0.5506,\n",
            "         -0.7109, -0.8980],\n",
            "        [ 0.6243, -0.7059,  0.3934, -0.8265, -0.9779, -0.8915,  1.7425,  0.3632,\n",
            "         -0.0969, -0.7499],\n",
            "        [-0.7797,  0.8709,  0.2040, -0.9349,  1.1658, -0.4981, -0.7957, -0.0416,\n",
            "          0.1517, -2.2485],\n",
            "        [ 1.3911,  0.2372,  0.5292,  0.3156, -0.2650, -0.2029, -0.5768, -1.0963,\n",
            "          1.5060,  1.7578],\n",
            "        [ 0.0678, -0.1918,  0.9724, -0.4409, -1.1861,  0.7714, -0.6149,  0.3790,\n",
            "         -0.2362, -0.0972]], requires_grad=True)\n"
          ]
        }
      ]
    },
    {
      "cell_type": "code",
      "source": [
        "embed = Embeddings[train_x_tensor]\n",
        "print(embed)"
      ],
      "metadata": {
        "colab": {
          "base_uri": "https://localhost:8080/"
        },
        "id": "m4PziO_g34O-",
        "outputId": "efdc6633-f24d-4116-e400-cbef36586f46"
      },
      "execution_count": null,
      "outputs": [
        {
          "output_type": "stream",
          "name": "stdout",
          "text": [
            "tensor([[[ 0.7187,  1.4068, -0.6583,  0.7622,  0.4379, -2.0784, -0.0217,\n",
            "           0.1432, -0.3182, -1.1090],\n",
            "         [-0.4033,  1.0490, -1.6980, -1.9063,  1.3688, -0.8977,  2.1744,\n",
            "           0.5706,  0.4220, -0.0890]],\n",
            "\n",
            "        [[ 2.0777,  0.6087, -1.4942, -0.0311,  2.0509, -1.2154, -0.7142,\n",
            "           0.8420, -0.7005, -0.3382],\n",
            "         [ 0.2462,  0.1380,  0.4725, -0.9924, -0.9933, -1.2682,  0.2220,\n",
            "           0.5353, -0.9140,  0.1898]],\n",
            "\n",
            "        [[-0.4602, -1.6276,  0.8910,  0.9869, -0.6221, -0.1432, -0.3742,\n",
            "           0.0123, -0.9996,  1.6769],\n",
            "         [ 0.6027, -0.2724,  0.4748,  0.1289,  1.3817,  0.6484,  0.8079,\n",
            "          -0.7395, -0.1740, -0.4679]],\n",
            "\n",
            "        [[-0.7735,  0.9903, -1.9175,  1.5393,  1.6565, -0.3186,  0.6188,\n",
            "          -0.3041, -0.2364,  1.2293],\n",
            "         [-1.1083,  0.7324, -0.5007, -0.3090,  0.7680, -1.4513, -0.0730,\n",
            "           0.2963, -0.1752,  0.0917]],\n",
            "\n",
            "        [[-0.3535, -1.8036, -0.5055, -0.9651,  0.2657,  0.5071,  0.0722,\n",
            "          -0.3936,  0.5539,  0.2536],\n",
            "         [ 0.2096, -0.2684, -0.9555, -0.9067,  1.2174, -0.8604, -0.9016,\n",
            "           2.2274,  0.9252, -0.6335]],\n",
            "\n",
            "        [[-0.5344, -0.0393,  1.2074, -1.4129,  0.2634,  1.2322,  1.7100,\n",
            "          -0.4157, -0.4161,  0.1525],\n",
            "         [-1.9653, -1.2747,  1.7150, -0.2426,  1.2081,  0.4905,  1.1929,\n",
            "           0.4274, -0.2197,  0.2895]],\n",
            "\n",
            "        [[ 0.6042, -1.7555,  0.8101, -1.1397,  0.4128, -0.3245, -0.1970,\n",
            "           0.4221,  1.7086,  1.1372],\n",
            "         [ 2.2393, -0.8875, -0.4339, -0.2753,  0.9599, -0.7908, -0.6557,\n",
            "           0.1335,  0.4555,  0.5931]],\n",
            "\n",
            "        [[-0.4974,  0.4640, -0.6697,  0.5893,  0.6876, -0.6081,  0.1270,\n",
            "          -0.5549, -0.6152,  0.0884],\n",
            "         [-1.3966,  0.8560,  1.0054, -0.2553,  0.3103,  0.4906, -1.9473,\n",
            "           0.3273,  0.1114,  0.3919]],\n",
            "\n",
            "        [[-1.3966,  0.8560,  1.0054, -0.2553,  0.3103,  0.4906, -1.9473,\n",
            "           0.3273,  0.1114,  0.3919],\n",
            "         [-0.3992,  0.3057,  1.2721, -1.0908, -1.1461,  1.1163, -1.5229,\n",
            "          -1.5393, -1.2818, -0.6612]],\n",
            "\n",
            "        [[-0.0439, -0.8557, -2.2827,  1.8257,  1.5878, -0.2722, -0.4432,\n",
            "          -0.4166,  1.3162, -0.9187],\n",
            "         [-0.9195,  0.0777, -1.3495, -0.2208,  2.5297, -0.1101, -1.5717,\n",
            "           0.0882,  0.4986, -0.5480]],\n",
            "\n",
            "        [[ 0.4575, -1.0448, -0.6086,  0.1974, -0.2904,  1.6564, -1.7328,\n",
            "           1.3446,  0.1733, -0.2582],\n",
            "         [-0.0439, -0.8557, -2.2827,  1.8257,  1.5878, -0.2722, -0.4432,\n",
            "          -0.4166,  1.3162, -0.9187]],\n",
            "\n",
            "        [[-0.9864, -1.4369,  0.3168,  0.2579, -0.3166,  0.7442,  1.0653,\n",
            "          -0.5461, -0.0442, -0.1341],\n",
            "         [ 0.0678, -0.1918,  0.9724, -0.4409, -1.1861,  0.7714, -0.6149,\n",
            "           0.3790, -0.2362, -0.0972]],\n",
            "\n",
            "        [[-1.7168, -0.7187,  0.4171, -0.7174,  0.7202, -0.6390, -1.0423,\n",
            "           1.9043,  0.3930, -0.7336],\n",
            "         [ 2.2393, -0.8875, -0.4339, -0.2753,  0.9599, -0.7908, -0.6557,\n",
            "           0.1335,  0.4555,  0.5931]]], grad_fn=<IndexBackward0>)\n"
          ]
        }
      ]
    },
    {
      "cell_type": "code",
      "source": [
        "from sklearn.decomposition import PCA\n",
        "pca = PCA(n_components=2)\n",
        "numpy_embed = embed.detach().numpy()\n",
        "print(numpy_embed)"
      ],
      "metadata": {
        "colab": {
          "base_uri": "https://localhost:8080/"
        },
        "id": "FPEUlUcM47AG",
        "outputId": "3778e538-5d16-4aa5-e60b-795419f3e4b1"
      },
      "execution_count": null,
      "outputs": [
        {
          "output_type": "stream",
          "name": "stdout",
          "text": [
            "[[[ 0.71873397  1.4068048  -0.6582655   0.762241    0.43785712\n",
            "   -2.0783796  -0.02169541  0.14324471 -0.31818375 -1.1090434 ]\n",
            "  [-0.40333363  1.0490296  -1.6979836  -1.9063487   1.3688462\n",
            "   -0.8976944   2.1743665   0.57056135  0.4219546  -0.08896628]]\n",
            "\n",
            " [[ 2.077672    0.6086921  -1.4942358  -0.03112063  2.050908\n",
            "   -1.2153926  -0.7142256   0.8419712  -0.70053494 -0.3382314 ]\n",
            "  [ 0.24624637  0.13802099  0.47253966 -0.9923574  -0.99331576\n",
            "   -1.2682188   0.22203512  0.5352697  -0.91402435  0.18982527]]\n",
            "\n",
            " [[-0.4602452  -1.6275713   0.8910456   0.9868976  -0.62214637\n",
            "   -0.14319518 -0.37417057  0.01229647 -0.99964964  1.6769004 ]\n",
            "  [ 0.6027219  -0.2723515   0.47477514  0.12891002  1.3816549\n",
            "    0.6483876   0.80785555 -0.7395077  -0.17401348 -0.46786287]]\n",
            "\n",
            " [[-0.7735015   0.9903455  -1.9174842   1.5393299   1.6564549\n",
            "   -0.31863436  0.6188243  -0.3041032  -0.23640354  1.2292943 ]\n",
            "  [-1.1082513   0.7324344  -0.5007007  -0.30897203  0.76796764\n",
            "   -1.4513313  -0.07302879  0.29631457 -0.175183    0.09172847]]\n",
            "\n",
            " [[-0.353537   -1.80364    -0.5054597  -0.96513927  0.26574492\n",
            "    0.5070688   0.07223664 -0.3935771   0.5538749   0.25362816]\n",
            "  [ 0.20959961 -0.2684229  -0.95554507 -0.90673274  1.2173872\n",
            "   -0.8604309  -0.9016321   2.2273664   0.9251996  -0.63352096]]\n",
            "\n",
            " [[-0.53439575 -0.03926715  1.20741    -1.4128522   0.26338398\n",
            "    1.2322059   1.7099972  -0.41568297 -0.41611147  0.15245856]\n",
            "  [-1.965339   -1.2747281   1.7149596  -0.24255607  1.2080557\n",
            "    0.4905349   1.1929054   0.42740285 -0.21971235  0.2894682 ]]\n",
            "\n",
            " [[ 0.6041936  -1.7555358   0.810102   -1.139677    0.41281018\n",
            "   -0.3244802  -0.19702624  0.4221328   1.708639    1.137234  ]\n",
            "  [ 2.2392662  -0.8874565  -0.4339422  -0.27529222  0.9599498\n",
            "   -0.79083574 -0.65573907  0.13350728  0.45551822  0.5930768 ]]\n",
            "\n",
            " [[-0.49735367  0.46395648 -0.6697071   0.58925325  0.6875971\n",
            "   -0.6080634   0.126993   -0.5549079  -0.615177    0.08836883]\n",
            "  [-1.3966035   0.8559579   1.0053673  -0.25527596  0.31030706\n",
            "    0.49060845 -1.9472607   0.32730517  0.11141341  0.3919358 ]]\n",
            "\n",
            " [[-1.3966035   0.8559579   1.0053673  -0.25527596  0.31030706\n",
            "    0.49060845 -1.9472607   0.32730517  0.11141341  0.3919358 ]\n",
            "  [-0.39915258  0.30569142  1.2721156  -1.0907817  -1.1461143\n",
            "    1.1162899  -1.5228626  -1.5392901  -1.2818176  -0.66121876]]\n",
            "\n",
            " [[-0.04392134 -0.85567284 -2.2827346   1.8257393   1.5878195\n",
            "   -0.27224436 -0.44324094 -0.4165923   1.3162004  -0.9186935 ]\n",
            "  [-0.9195303   0.07774873 -1.3495469  -0.22077413  2.5297089\n",
            "   -0.11007701 -1.5716666   0.08819669  0.49856815 -0.5479865 ]]\n",
            "\n",
            " [[ 0.457526   -1.0447649  -0.60864204  0.19740035 -0.29038355\n",
            "    1.6564368  -1.7328037   1.3446245   0.17326574 -0.25815332]\n",
            "  [-0.04392134 -0.85567284 -2.2827346   1.8257393   1.5878195\n",
            "   -0.27224436 -0.44324094 -0.4165923   1.3162004  -0.9186935 ]]\n",
            "\n",
            " [[-0.9864081  -1.436861    0.31681725  0.25794935 -0.31655237\n",
            "    0.7441596   1.0652975  -0.546068   -0.04424981 -0.13406937]\n",
            "  [ 0.06777085 -0.19181877  0.97242785 -0.44089362 -1.1861391\n",
            "    0.77138233 -0.6149413   0.37904754 -0.2362138  -0.09721113]]\n",
            "\n",
            " [[-1.7167808  -0.71870637  0.41708687 -0.717394    0.72016925\n",
            "   -0.639024   -1.0423405   1.9043287   0.39304307 -0.7336161 ]\n",
            "  [ 2.2392662  -0.8874565  -0.4339422  -0.27529222  0.9599498\n",
            "   -0.79083574 -0.65573907  0.13350728  0.45551822  0.5930768 ]]]\n"
          ]
        }
      ]
    },
    {
      "cell_type": "code",
      "source": [
        "print(numpy_embed.shape)\n",
        "numpy_embed_2d = numpy_embed.reshape(-1,embedding_dims)\n",
        "print(numpy_embed_2d.shape)"
      ],
      "metadata": {
        "colab": {
          "base_uri": "https://localhost:8080/"
        },
        "id": "NVzW4Qyw1IvJ",
        "outputId": "b0de7e82-77ac-4025-f2be-94d3f64df756"
      },
      "execution_count": null,
      "outputs": [
        {
          "output_type": "stream",
          "name": "stdout",
          "text": [
            "(13, 2, 10)\n",
            "(26, 10)\n"
          ]
        }
      ]
    },
    {
      "cell_type": "code",
      "source": [
        "# convert numpy to dataframe\n",
        "import pandas as pd\n",
        "df = pd.DataFrame(numpy_embed_2d, columns = [f\"embed_{i}\" for i in range(10)], index = [f\"word_{i}\" for i in range(26)])"
      ],
      "metadata": {
        "id": "Kl97fpTh4YFk"
      },
      "execution_count": null,
      "outputs": []
    },
    {
      "cell_type": "code",
      "source": [
        "# define the plotting using seaborn:\n",
        "import seaborn as sns\n",
        "def plotting(data,title):\n",
        "    plt.figure(figsize=(5,5))\n",
        "    sns.heatmap(data,cmap=\"cool\",annot=True,vmax=4,vmin=-4)\n",
        "    plt.ylabel(\"Word/token\")\n",
        "    plt.xlabel(\"Word embedding\")\n",
        "    plt.title(title)\n",
        "    plt.show()\n",
        "plottings = plotting(df,\"WORD VECTOR EMBEDDING\")"
      ],
      "metadata": {
        "colab": {
          "base_uri": "https://localhost:8080/",
          "height": 537
        },
        "id": "eBf0wb_LnOG4",
        "outputId": "2476c8d1-9746-461a-b1b2-ca79a4b671ba"
      },
      "execution_count": null,
      "outputs": [
        {
          "output_type": "display_data",
          "data": {
            "text/plain": [
              "<Figure size 500x500 with 2 Axes>"
            ],
            "image/png": "[encoded data removed]"
          },
          "metadata": {}
        }
      ]
    },
    {
      "cell_type": "code",
      "source": [
        "reduced_embeddings = pca.fit_transform(numpy_embed_2d)\n",
        "print(reduced_embeddings)"
      ],
      "metadata": {
        "colab": {
          "base_uri": "https://localhost:8080/"
        },
        "id": "LN1nUJcsvbia",
        "outputId": "5c76a5e5-23ba-4f68-e267-980588763c5b"
      },
      "execution_count": null,
      "outputs": [
        {
          "output_type": "stream",
          "name": "stdout",
          "text": [
            "[[-1.6663449   0.5252225 ]\n",
            " [-1.3100686   2.58393   ]\n",
            " [-2.6056695  -0.68551415]\n",
            " [ 1.0492053   0.20864092]\n",
            " [ 1.7083732  -0.47867006]\n",
            " [ 0.14288916  0.6975134 ]\n",
            " [-1.8264006   1.7584773 ]\n",
            " [-0.4558858   1.1006358 ]\n",
            " [ 0.66037065 -0.1714869 ]\n",
            " [-1.2948011  -0.97970694]\n",
            " [ 2.1632338   1.7125119 ]\n",
            " [ 2.006168    1.5468433 ]\n",
            " [ 0.7708935  -1.143407  ]\n",
            " [-1.1005024  -1.5210934 ]\n",
            " [-0.48212296  1.0205564 ]\n",
            " [ 1.4623624  -0.5369305 ]\n",
            " [ 1.4623624  -0.5369305 ]\n",
            " [ 2.773495   -0.53201884]\n",
            " [-2.6507268  -0.21036781]\n",
            " [-1.5433084  -0.15360901]\n",
            " [ 0.48178318 -2.2090273 ]\n",
            " [-2.6507268  -0.21036781]\n",
            " [ 1.434762    0.8981769 ]\n",
            " [ 1.9664078  -0.7921967 ]\n",
            " [ 0.6047527  -0.37008846]\n",
            " [-1.1005023  -1.5210934 ]]\n"
          ]
        }
      ]
    },
    {
      "cell_type": "code",
      "source": [
        "embedding_df = pd.DataFrame(reduced_embeddings, columns = ['PCA1','PCA2'])"
      ],
      "metadata": {
        "id": "S_7NAXpmwZgN"
      },
      "execution_count": null,
      "outputs": []
    },
    {
      "cell_type": "code",
      "source": [
        "trainvocab = []\n",
        "for seq in train_x:\n",
        "    for word in seq:\n",
        "        trainvocab.append(word)\n",
        "print(trainvocab)\n",
        "print(len(trainvocab))"
      ],
      "metadata": {
        "colab": {
          "base_uri": "https://localhost:8080/"
        },
        "id": "0cjC251Z_yk4",
        "outputId": "2c37410c-4077-4586-abdc-31055d3256cf"
      },
      "execution_count": null,
      "outputs": [
        {
          "output_type": "stream",
          "name": "stdout",
          "text": [
            "['The', 'Wonderful</w>', 'Wizard', 'of', 'Oz', 'is</w>', 'a</w>', \"children's</w>\", 'no', 'v', 'e', 'l</w>', 'w', 'r', 'i', 't', 't', 'en', '</w>', 'b', 'y', '</w>', 'L', '.</w>', 'F', 'r']\n",
            "26\n"
          ]
        }
      ]
    },
    {
      "cell_type": "code",
      "source": [
        "embedding_df['word'] = trainvocab\n",
        "print(embedding_df)"
      ],
      "metadata": {
        "colab": {
          "base_uri": "https://localhost:8080/"
        },
        "id": "14SEPN8kJ5u8",
        "outputId": "3bcde1e1-34e8-4ec6-b694-a3ae443dc4b5"
      },
      "execution_count": null,
      "outputs": [
        {
          "output_type": "stream",
          "name": "stdout",
          "text": [
            "        PCA1      PCA2            word\n",
            "0  -1.666345  0.525222             The\n",
            "1  -1.310069  2.583930   Wonderful</w>\n",
            "2  -2.605669 -0.685514          Wizard\n",
            "3   1.049205  0.208641              of\n",
            "4   1.708373 -0.478670              Oz\n",
            "5   0.142889  0.697513          is</w>\n",
            "6  -1.826401  1.758477           a</w>\n",
            "7  -0.455886  1.100636  children's</w>\n",
            "8   0.660371 -0.171487              no\n",
            "9  -1.294801 -0.979707               v\n",
            "10  2.163234  1.712512               e\n",
            "11  2.006168  1.546843           l</w>\n",
            "12  0.770894 -1.143407               w\n",
            "13 -1.100502 -1.521093               r\n",
            "14 -0.482123  1.020556               i\n",
            "15  1.462362 -0.536931               t\n",
            "16  1.462362 -0.536931               t\n",
            "17  2.773495 -0.532019              en\n",
            "18 -2.650727 -0.210368            </w>\n",
            "19 -1.543308 -0.153609               b\n",
            "20  0.481783 -2.209027               y\n",
            "21 -2.650727 -0.210368            </w>\n",
            "22  1.434762  0.898177               L\n",
            "23  1.966408 -0.792197           .</w>\n",
            "24  0.604753 -0.370088               F\n",
            "25 -1.100502 -1.521093               r\n"
          ]
        }
      ]
    },
    {
      "cell_type": "code",
      "source": [
        "# prepare data frame for heatmap\n",
        "heatmap_df = embedding_df.drop(columns = ['word']).set_index(embedding_df['word'])\n",
        "print(heatmap_df)"
      ],
      "metadata": {
        "colab": {
          "base_uri": "https://localhost:8080/"
        },
        "id": "a6vqhKCRJ9sp",
        "outputId": "290e12ff-aa0b-4306-c693-2bddae7d128b"
      },
      "execution_count": null,
      "outputs": [
        {
          "output_type": "stream",
          "name": "stdout",
          "text": [
            "                    PCA1      PCA2\n",
            "word                              \n",
            "The            -1.666345  0.525222\n",
            "Wonderful</w>  -1.310069  2.583930\n",
            "Wizard         -2.605669 -0.685514\n",
            "of              1.049205  0.208641\n",
            "Oz              1.708373 -0.478670\n",
            "is</w>          0.142889  0.697513\n",
            "a</w>          -1.826401  1.758477\n",
            "children's</w> -0.455886  1.100636\n",
            "no              0.660371 -0.171487\n",
            "v              -1.294801 -0.979707\n",
            "e               2.163234  1.712512\n",
            "l</w>           2.006168  1.546843\n",
            "w               0.770894 -1.143407\n",
            "r              -1.100502 -1.521093\n",
            "i              -0.482123  1.020556\n",
            "t               1.462362 -0.536931\n",
            "t               1.462362 -0.536931\n",
            "en              2.773495 -0.532019\n",
            "</w>           -2.650727 -0.210368\n",
            "b              -1.543308 -0.153609\n",
            "y               0.481783 -2.209027\n",
            "</w>           -2.650727 -0.210368\n",
            "L               1.434762  0.898177\n",
            ".</w>           1.966408 -0.792197\n",
            "F               0.604753 -0.370088\n",
            "r              -1.100502 -1.521093\n"
          ]
        }
      ]
    },
    {
      "cell_type": "code",
      "source": [
        "def pcaplotting(data,title):\n",
        "    plt.figure(figsize=(5,5))\n",
        "    sns.heatmap(data,cmap=\"cool\",annot=True,fmt='.2f',vmax=1,vmin=-1)\n",
        "    plt.ylabel(\"Word/token\")\n",
        "    plt.xlabel(\"Word embedding\")\n",
        "    plt.title(title)\n",
        "    plt.show()\n",
        "pcaplottings = pcaplotting(heatmap_df,\"WORD EMBEDDING WITH PCA\")"
      ],
      "metadata": {
        "colab": {
          "base_uri": "https://localhost:8080/",
          "height": 487
        },
        "id": "sqZAhgxfL-yf",
        "outputId": "ad06447a-6b41-4de3-ce21-d1b79f516e9a"
      },
      "execution_count": null,
      "outputs": [
        {
          "output_type": "display_data",
          "data": {
            "text/plain": [
              "<Figure size 500x500 with 2 Axes>"
            ],
            "image/png": "[encoded data removed]"
          },
          "metadata": {}
        }
      ]
    },
    {
      "cell_type": "code",
      "source": [
        "input_tensor = torch.tensor([[1.0,2.0,3.0,4.0], [5.0,6.0,7.0,8.0]])\n",
        "print(input_tensor)"
      ],
      "metadata": {
        "colab": {
          "base_uri": "https://localhost:8080/"
        },
        "id": "CEYtuUgSOGtM",
        "outputId": "3c2ac132-8b12-4cb7-ed4f-57072c3975cf"
      },
      "execution_count": null,
      "outputs": [
        {
          "output_type": "stream",
          "name": "stdout",
          "text": [
            "tensor([[1., 2., 3., 4.],\n",
            "        [5., 6., 7., 8.]])\n"
          ]
        }
      ]
    },
    {
      "cell_type": "code",
      "source": [
        "random_float_number = torch.rand(1)\n",
        "print(random_float_number)"
      ],
      "metadata": {
        "colab": {
          "base_uri": "https://localhost:8080/"
        },
        "id": "XpVjeokxEUiU",
        "outputId": "9f14ef65-add7-4cf5-eeb1-9fe6273c6d1e"
      },
      "execution_count": null,
      "outputs": [
        {
          "output_type": "stream",
          "name": "stdout",
          "text": [
            "tensor([0.5556])\n"
          ]
        }
      ]
    },
    {
      "cell_type": "code",
      "source": [
        "embedding_dims = 4\n",
        "lineartransform = nn.Linear(embedding_dims,embedding_dims)\n",
        "print(lineartransform)"
      ],
      "metadata": {
        "colab": {
          "base_uri": "https://localhost:8080/"
        },
        "id": "AaKd2QY_HSC8",
        "outputId": "1192f5a3-284f-40c1-9798-ed7f7b60938d"
      },
      "execution_count": null,
      "outputs": [
        {
          "output_type": "stream",
          "name": "stdout",
          "text": [
            "Linear(in_features=4, out_features=4, bias=True)\n"
          ]
        }
      ]
    },
    {
      "cell_type": "code",
      "source": [
        "linear_output = lineartransform(input_tensor)\n",
        "print(linear_output)"
      ],
      "metadata": {
        "colab": {
          "base_uri": "https://localhost:8080/"
        },
        "id": "qhufI7eMHhKo",
        "outputId": "40860440-8cef-43c5-8a18-55023a886de3"
      },
      "execution_count": null,
      "outputs": [
        {
          "output_type": "stream",
          "name": "stdout",
          "text": [
            "tensor([[-0.8105,  1.9850, -0.3686,  0.4542],\n",
            "        [-1.0376,  4.4728, -0.3174,  0.8774]], grad_fn=<AddmmBackward0>)\n"
          ]
        }
      ]
    },
    {
      "cell_type": "code",
      "source": [
        "import torch"
      ],
      "metadata": {
        "id": "51dfrRgcfFGZ"
      },
      "execution_count": null,
      "outputs": []
    },
    {
      "cell_type": "code",
      "source": [
        "embedding_dims = 4\n",
        "x = torch.ones(embedding_dims)\n",
        "print(x)"
      ],
      "metadata": {
        "colab": {
          "base_uri": "https://localhost:8080/"
        },
        "id": "5waKAm8JfRdD",
        "outputId": "18d2d88f-f178-452d-bd16-c6a6690d840d"
      },
      "execution_count": null,
      "outputs": [
        {
          "output_type": "stream",
          "name": "stdout",
          "text": [
            "tensor([1., 1., 1., 1.])\n"
          ]
        }
      ]
    },
    {
      "cell_type": "code",
      "source": [
        "print(embed)"
      ],
      "metadata": {
        "colab": {
          "base_uri": "https://localhost:8080/"
        },
        "id": "sIm6q7y2ogP1",
        "outputId": "1dd95508-3402-493e-dd7f-9721499cba13"
      },
      "execution_count": null,
      "outputs": [
        {
          "output_type": "stream",
          "name": "stdout",
          "text": [
            "tensor([[[ 0.7187,  1.4068, -0.6583,  0.7622,  0.4379, -2.0784, -0.0217,\n",
            "           0.1432, -0.3182, -1.1090],\n",
            "         [-0.4033,  1.0490, -1.6980, -1.9063,  1.3688, -0.8977,  2.1744,\n",
            "           0.5706,  0.4220, -0.0890]],\n",
            "\n",
            "        [[ 2.0777,  0.6087, -1.4942, -0.0311,  2.0509, -1.2154, -0.7142,\n",
            "           0.8420, -0.7005, -0.3382],\n",
            "         [ 0.2462,  0.1380,  0.4725, -0.9924, -0.9933, -1.2682,  0.2220,\n",
            "           0.5353, -0.9140,  0.1898]],\n",
            "\n",
            "        [[-0.4602, -1.6276,  0.8910,  0.9869, -0.6221, -0.1432, -0.3742,\n",
            "           0.0123, -0.9996,  1.6769],\n",
            "         [ 0.6027, -0.2724,  0.4748,  0.1289,  1.3817,  0.6484,  0.8079,\n",
            "          -0.7395, -0.1740, -0.4679]],\n",
            "\n",
            "        [[-0.7735,  0.9903, -1.9175,  1.5393,  1.6565, -0.3186,  0.6188,\n",
            "          -0.3041, -0.2364,  1.2293],\n",
            "         [-1.1083,  0.7324, -0.5007, -0.3090,  0.7680, -1.4513, -0.0730,\n",
            "           0.2963, -0.1752,  0.0917]],\n",
            "\n",
            "        [[-0.3535, -1.8036, -0.5055, -0.9651,  0.2657,  0.5071,  0.0722,\n",
            "          -0.3936,  0.5539,  0.2536],\n",
            "         [ 0.2096, -0.2684, -0.9555, -0.9067,  1.2174, -0.8604, -0.9016,\n",
            "           2.2274,  0.9252, -0.6335]],\n",
            "\n",
            "        [[-0.5344, -0.0393,  1.2074, -1.4129,  0.2634,  1.2322,  1.7100,\n",
            "          -0.4157, -0.4161,  0.1525],\n",
            "         [-1.9653, -1.2747,  1.7150, -0.2426,  1.2081,  0.4905,  1.1929,\n",
            "           0.4274, -0.2197,  0.2895]],\n",
            "\n",
            "        [[ 0.6042, -1.7555,  0.8101, -1.1397,  0.4128, -0.3245, -0.1970,\n",
            "           0.4221,  1.7086,  1.1372],\n",
            "         [ 2.2393, -0.8875, -0.4339, -0.2753,  0.9599, -0.7908, -0.6557,\n",
            "           0.1335,  0.4555,  0.5931]],\n",
            "\n",
            "        [[-0.4974,  0.4640, -0.6697,  0.5893,  0.6876, -0.6081,  0.1270,\n",
            "          -0.5549, -0.6152,  0.0884],\n",
            "         [-1.3966,  0.8560,  1.0054, -0.2553,  0.3103,  0.4906, -1.9473,\n",
            "           0.3273,  0.1114,  0.3919]],\n",
            "\n",
            "        [[-1.3966,  0.8560,  1.0054, -0.2553,  0.3103,  0.4906, -1.9473,\n",
            "           0.3273,  0.1114,  0.3919],\n",
            "         [-0.3992,  0.3057,  1.2721, -1.0908, -1.1461,  1.1163, -1.5229,\n",
            "          -1.5393, -1.2818, -0.6612]],\n",
            "\n",
            "        [[-0.0439, -0.8557, -2.2827,  1.8257,  1.5878, -0.2722, -0.4432,\n",
            "          -0.4166,  1.3162, -0.9187],\n",
            "         [-0.9195,  0.0777, -1.3495, -0.2208,  2.5297, -0.1101, -1.5717,\n",
            "           0.0882,  0.4986, -0.5480]],\n",
            "\n",
            "        [[ 0.4575, -1.0448, -0.6086,  0.1974, -0.2904,  1.6564, -1.7328,\n",
            "           1.3446,  0.1733, -0.2582],\n",
            "         [-0.0439, -0.8557, -2.2827,  1.8257,  1.5878, -0.2722, -0.4432,\n",
            "          -0.4166,  1.3162, -0.9187]],\n",
            "\n",
            "        [[-0.9864, -1.4369,  0.3168,  0.2579, -0.3166,  0.7442,  1.0653,\n",
            "          -0.5461, -0.0442, -0.1341],\n",
            "         [ 0.0678, -0.1918,  0.9724, -0.4409, -1.1861,  0.7714, -0.6149,\n",
            "           0.3790, -0.2362, -0.0972]],\n",
            "\n",
            "        [[-1.7168, -0.7187,  0.4171, -0.7174,  0.7202, -0.6390, -1.0423,\n",
            "           1.9043,  0.3930, -0.7336],\n",
            "         [ 2.2393, -0.8875, -0.4339, -0.2753,  0.9599, -0.7908, -0.6557,\n",
            "           0.1335,  0.4555,  0.5931]]], grad_fn=<IndexBackward0>)\n"
          ]
        }
      ]
    },
    {
      "cell_type": "code",
      "source": [
        "embedding_dims = 10\n",
        "maxlen = 10"
      ],
      "metadata": {
        "id": "lpAVYx4hptvu"
      },
      "execution_count": null,
      "outputs": []
    },
    {
      "cell_type": "code",
      "source": [
        "# positional encoding:\n",
        "pe = torch.zeros(maxlen,embedding_dims)\n",
        "print(pe)"
      ],
      "metadata": {
        "colab": {
          "base_uri": "https://localhost:8080/"
        },
        "id": "IoJpiY_ORfAJ",
        "outputId": "57e1a9f6-4de4-4f02-9b9c-d8aff863c90b"
      },
      "execution_count": null,
      "outputs": [
        {
          "output_type": "stream",
          "name": "stdout",
          "text": [
            "tensor([[0., 0., 0., 0., 0., 0., 0., 0., 0., 0.],\n",
            "        [0., 0., 0., 0., 0., 0., 0., 0., 0., 0.],\n",
            "        [0., 0., 0., 0., 0., 0., 0., 0., 0., 0.],\n",
            "        [0., 0., 0., 0., 0., 0., 0., 0., 0., 0.],\n",
            "        [0., 0., 0., 0., 0., 0., 0., 0., 0., 0.],\n",
            "        [0., 0., 0., 0., 0., 0., 0., 0., 0., 0.],\n",
            "        [0., 0., 0., 0., 0., 0., 0., 0., 0., 0.],\n",
            "        [0., 0., 0., 0., 0., 0., 0., 0., 0., 0.],\n",
            "        [0., 0., 0., 0., 0., 0., 0., 0., 0., 0.],\n",
            "        [0., 0., 0., 0., 0., 0., 0., 0., 0., 0.]])\n"
          ]
        }
      ]
    },
    {
      "cell_type": "code",
      "source": [
        "position = torch.arange(0,maxlen,dtype=torch.float)\n",
        "print(position)"
      ],
      "metadata": {
        "colab": {
          "base_uri": "https://localhost:8080/"
        },
        "id": "dntJcBq8WA1Z",
        "outputId": "8386a7cb-3061-4767-d273-6554b2e80000"
      },
      "execution_count": null,
      "outputs": [
        {
          "output_type": "stream",
          "name": "stdout",
          "text": [
            "tensor([0., 1., 2., 3., 4., 5., 6., 7., 8., 9.])\n"
          ]
        }
      ]
    },
    {
      "cell_type": "code",
      "source": [
        "position = position.unsqueeze(1)\n",
        "print(position)"
      ],
      "metadata": {
        "colab": {
          "base_uri": "https://localhost:8080/"
        },
        "id": "xNj8D-ksWQlD",
        "outputId": "18ff5703-de70-49c4-a8e0-51d1a95227d4"
      },
      "execution_count": null,
      "outputs": [
        {
          "output_type": "stream",
          "name": "stdout",
          "text": [
            "tensor([[0.],\n",
            "        [1.],\n",
            "        [2.],\n",
            "        [3.],\n",
            "        [4.],\n",
            "        [5.],\n",
            "        [6.],\n",
            "        [7.],\n",
            "        [8.],\n",
            "        [9.]])\n"
          ]
        }
      ]
    },
    {
      "cell_type": "code",
      "source": [
        "log_term = -(np.log(10000.0)/embedding_dims)\n",
        "print(log_term)"
      ],
      "metadata": {
        "colab": {
          "base_uri": "https://localhost:8080/"
        },
        "id": "H335guylWVRW",
        "outputId": "51d80740-e838-4086-8ed2-e0d3c98085d9"
      },
      "execution_count": null,
      "outputs": [
        {
          "output_type": "stream",
          "name": "stdout",
          "text": [
            "-0.9210340371976183\n"
          ]
        }
      ]
    },
    {
      "cell_type": "code",
      "source": [
        "pos = torch.arange(0,embedding_dims,2).float()\n",
        "print(pos)"
      ],
      "metadata": {
        "colab": {
          "base_uri": "https://localhost:8080/"
        },
        "id": "V8-Ep8qlWnWo",
        "outputId": "36744f42-e9b5-4388-87d5-46b4f3dfa764"
      },
      "execution_count": null,
      "outputs": [
        {
          "output_type": "stream",
          "name": "stdout",
          "text": [
            "tensor([0., 2., 4., 6., 8.])\n"
          ]
        }
      ]
    },
    {
      "cell_type": "code",
      "source": [
        "torchmul = (pos) * (log_term)\n",
        "print(torchmul)"
      ],
      "metadata": {
        "colab": {
          "base_uri": "https://localhost:8080/"
        },
        "id": "0l2pb89wW1hy",
        "outputId": "9e73d876-0701-437f-c820-a4cdca3d05db"
      },
      "execution_count": null,
      "outputs": [
        {
          "output_type": "stream",
          "name": "stdout",
          "text": [
            "tensor([-0.0000, -1.8421, -3.6841, -5.5262, -7.3683])\n"
          ]
        }
      ]
    },
    {
      "cell_type": "code",
      "source": [
        "div_term = torch.exp(torchmul)\n",
        "print(div_term)"
      ],
      "metadata": {
        "colab": {
          "base_uri": "https://localhost:8080/"
        },
        "id": "1Tr4IoyKW93J",
        "outputId": "5e6539b4-3fa7-41ba-8f0e-26bcf460aad9"
      },
      "execution_count": null,
      "outputs": [
        {
          "output_type": "stream",
          "name": "stdout",
          "text": [
            "tensor([1.0000e+00, 1.5849e-01, 2.5119e-02, 3.9811e-03, 6.3096e-04])\n"
          ]
        }
      ]
    },
    {
      "cell_type": "code",
      "source": [
        "ans = (position) * (div_term)\n",
        "print(ans)"
      ],
      "metadata": {
        "colab": {
          "base_uri": "https://localhost:8080/"
        },
        "id": "yb2sKv8VXCm8",
        "outputId": "9153d415-faac-4e61-d312-536deb513f43"
      },
      "execution_count": null,
      "outputs": [
        {
          "output_type": "stream",
          "name": "stdout",
          "text": [
            "tensor([[0.0000e+00, 0.0000e+00, 0.0000e+00, 0.0000e+00, 0.0000e+00],\n",
            "        [1.0000e+00, 1.5849e-01, 2.5119e-02, 3.9811e-03, 6.3096e-04],\n",
            "        [2.0000e+00, 3.1698e-01, 5.0238e-02, 7.9621e-03, 1.2619e-03],\n",
            "        [3.0000e+00, 4.7547e-01, 7.5357e-02, 1.1943e-02, 1.8929e-03],\n",
            "        [4.0000e+00, 6.3396e-01, 1.0048e-01, 1.5924e-02, 2.5238e-03],\n",
            "        [5.0000e+00, 7.9245e-01, 1.2559e-01, 1.9905e-02, 3.1548e-03],\n",
            "        [6.0000e+00, 9.5094e-01, 1.5071e-01, 2.3886e-02, 3.7857e-03],\n",
            "        [7.0000e+00, 1.1094e+00, 1.7583e-01, 2.7868e-02, 4.4167e-03],\n",
            "        [8.0000e+00, 1.2679e+00, 2.0095e-01, 3.1849e-02, 5.0477e-03],\n",
            "        [9.0000e+00, 1.4264e+00, 2.2607e-01, 3.5830e-02, 5.6786e-03]])\n"
          ]
        }
      ]
    },
    {
      "cell_type": "code",
      "source": [
        "pe[:,0::2] = torch.sin(ans)\n",
        "pe[:,1::2] = torch.cos(ans)\n",
        "print(pe)"
      ],
      "metadata": {
        "colab": {
          "base_uri": "https://localhost:8080/"
        },
        "id": "Ek1kVztlYSH9",
        "outputId": "299a48b3-85ca-4646-f810-a62addbc25c5"
      },
      "execution_count": null,
      "outputs": [
        {
          "output_type": "stream",
          "name": "stdout",
          "text": [
            "tensor([[ 0.0000e+00,  1.0000e+00,  0.0000e+00,  1.0000e+00,  0.0000e+00,\n",
            "          1.0000e+00,  0.0000e+00,  1.0000e+00,  0.0000e+00,  1.0000e+00],\n",
            "        [ 8.4147e-01,  5.4030e-01,  1.5783e-01,  9.8747e-01,  2.5116e-02,\n",
            "          9.9968e-01,  3.9811e-03,  9.9999e-01,  6.3096e-04,  1.0000e+00],\n",
            "        [ 9.0930e-01, -4.1615e-01,  3.1170e-01,  9.5018e-01,  5.0217e-02,\n",
            "          9.9874e-01,  7.9621e-03,  9.9997e-01,  1.2619e-03,  1.0000e+00],\n",
            "        [ 1.4112e-01, -9.8999e-01,  4.5775e-01,  8.8908e-01,  7.5285e-02,\n",
            "          9.9716e-01,  1.1943e-02,  9.9993e-01,  1.8929e-03,  1.0000e+00],\n",
            "        [-7.5680e-01, -6.5364e-01,  5.9234e-01,  8.0569e-01,  1.0031e-01,\n",
            "          9.9496e-01,  1.5924e-02,  9.9987e-01,  2.5238e-03,  1.0000e+00],\n",
            "        [-9.5892e-01,  2.8366e-01,  7.1207e-01,  7.0211e-01,  1.2526e-01,\n",
            "          9.9212e-01,  1.9904e-02,  9.9980e-01,  3.1548e-03,  1.0000e+00],\n",
            "        [-2.7942e-01,  9.6017e-01,  8.1396e-01,  5.8092e-01,  1.5014e-01,\n",
            "          9.8866e-01,  2.3884e-02,  9.9971e-01,  3.7857e-03,  9.9999e-01],\n",
            "        [ 6.5699e-01,  7.5390e-01,  8.9544e-01,  4.4518e-01,  1.7493e-01,\n",
            "          9.8458e-01,  2.7864e-02,  9.9961e-01,  4.4167e-03,  9.9999e-01],\n",
            "        [ 9.8936e-01, -1.4550e-01,  9.5448e-01,  2.9827e-01,  1.9960e-01,\n",
            "          9.7988e-01,  3.1843e-02,  9.9949e-01,  5.0476e-03,  9.9999e-01],\n",
            "        [ 4.1212e-01, -9.1113e-01,  9.8959e-01,  1.4389e-01,  2.2415e-01,\n",
            "          9.7455e-01,  3.5822e-02,  9.9936e-01,  5.6786e-03,  9.9998e-01]])\n"
          ]
        }
      ]
    },
    {
      "cell_type": "code",
      "source": [
        "pe = pe.unsqueeze(0)\n",
        "print(pe)"
      ],
      "metadata": {
        "colab": {
          "base_uri": "https://localhost:8080/"
        },
        "id": "8Nllb-YlYmQm",
        "outputId": "30e823a0-038e-4913-9865-09ddaf125000"
      },
      "execution_count": null,
      "outputs": [
        {
          "output_type": "stream",
          "name": "stdout",
          "text": [
            "tensor([[[ 0.0000e+00,  1.0000e+00,  0.0000e+00,  1.0000e+00,  0.0000e+00,\n",
            "           1.0000e+00,  0.0000e+00,  1.0000e+00,  0.0000e+00,  1.0000e+00],\n",
            "         [ 8.4147e-01,  5.4030e-01,  1.5783e-01,  9.8747e-01,  2.5116e-02,\n",
            "           9.9968e-01,  3.9811e-03,  9.9999e-01,  6.3096e-04,  1.0000e+00],\n",
            "         [ 9.0930e-01, -4.1615e-01,  3.1170e-01,  9.5018e-01,  5.0217e-02,\n",
            "           9.9874e-01,  7.9621e-03,  9.9997e-01,  1.2619e-03,  1.0000e+00],\n",
            "         [ 1.4112e-01, -9.8999e-01,  4.5775e-01,  8.8908e-01,  7.5285e-02,\n",
            "           9.9716e-01,  1.1943e-02,  9.9993e-01,  1.8929e-03,  1.0000e+00],\n",
            "         [-7.5680e-01, -6.5364e-01,  5.9234e-01,  8.0569e-01,  1.0031e-01,\n",
            "           9.9496e-01,  1.5924e-02,  9.9987e-01,  2.5238e-03,  1.0000e+00],\n",
            "         [-9.5892e-01,  2.8366e-01,  7.1207e-01,  7.0211e-01,  1.2526e-01,\n",
            "           9.9212e-01,  1.9904e-02,  9.9980e-01,  3.1548e-03,  1.0000e+00],\n",
            "         [-2.7942e-01,  9.6017e-01,  8.1396e-01,  5.8092e-01,  1.5014e-01,\n",
            "           9.8866e-01,  2.3884e-02,  9.9971e-01,  3.7857e-03,  9.9999e-01],\n",
            "         [ 6.5699e-01,  7.5390e-01,  8.9544e-01,  4.4518e-01,  1.7493e-01,\n",
            "           9.8458e-01,  2.7864e-02,  9.9961e-01,  4.4167e-03,  9.9999e-01],\n",
            "         [ 9.8936e-01, -1.4550e-01,  9.5448e-01,  2.9827e-01,  1.9960e-01,\n",
            "           9.7988e-01,  3.1843e-02,  9.9949e-01,  5.0476e-03,  9.9999e-01],\n",
            "         [ 4.1212e-01, -9.1113e-01,  9.8959e-01,  1.4389e-01,  2.2415e-01,\n",
            "           9.7455e-01,  3.5822e-02,  9.9936e-01,  5.6786e-03,  9.9998e-01]]])\n"
          ]
        }
      ]
    },
    {
      "cell_type": "code",
      "source": [
        "pe = pe.transpose(0,1)\n",
        "print(pe)"
      ],
      "metadata": {
        "colab": {
          "base_uri": "https://localhost:8080/"
        },
        "id": "HnPnnRXrYu9Z",
        "outputId": "bc2d8949-6676-4867-8f84-f7a41f02a31d"
      },
      "execution_count": null,
      "outputs": [
        {
          "output_type": "stream",
          "name": "stdout",
          "text": [
            "tensor([[[ 0.0000e+00,  1.0000e+00,  0.0000e+00,  1.0000e+00,  0.0000e+00,\n",
            "           1.0000e+00,  0.0000e+00,  1.0000e+00,  0.0000e+00,  1.0000e+00]],\n",
            "\n",
            "        [[ 8.4147e-01,  5.4030e-01,  1.5783e-01,  9.8747e-01,  2.5116e-02,\n",
            "           9.9968e-01,  3.9811e-03,  9.9999e-01,  6.3096e-04,  1.0000e+00]],\n",
            "\n",
            "        [[ 9.0930e-01, -4.1615e-01,  3.1170e-01,  9.5018e-01,  5.0217e-02,\n",
            "           9.9874e-01,  7.9621e-03,  9.9997e-01,  1.2619e-03,  1.0000e+00]],\n",
            "\n",
            "        [[ 1.4112e-01, -9.8999e-01,  4.5775e-01,  8.8908e-01,  7.5285e-02,\n",
            "           9.9716e-01,  1.1943e-02,  9.9993e-01,  1.8929e-03,  1.0000e+00]],\n",
            "\n",
            "        [[-7.5680e-01, -6.5364e-01,  5.9234e-01,  8.0569e-01,  1.0031e-01,\n",
            "           9.9496e-01,  1.5924e-02,  9.9987e-01,  2.5238e-03,  1.0000e+00]],\n",
            "\n",
            "        [[-9.5892e-01,  2.8366e-01,  7.1207e-01,  7.0211e-01,  1.2526e-01,\n",
            "           9.9212e-01,  1.9904e-02,  9.9980e-01,  3.1548e-03,  1.0000e+00]],\n",
            "\n",
            "        [[-2.7942e-01,  9.6017e-01,  8.1396e-01,  5.8092e-01,  1.5014e-01,\n",
            "           9.8866e-01,  2.3884e-02,  9.9971e-01,  3.7857e-03,  9.9999e-01]],\n",
            "\n",
            "        [[ 6.5699e-01,  7.5390e-01,  8.9544e-01,  4.4518e-01,  1.7493e-01,\n",
            "           9.8458e-01,  2.7864e-02,  9.9961e-01,  4.4167e-03,  9.9999e-01]],\n",
            "\n",
            "        [[ 9.8936e-01, -1.4550e-01,  9.5448e-01,  2.9827e-01,  1.9960e-01,\n",
            "           9.7988e-01,  3.1843e-02,  9.9949e-01,  5.0476e-03,  9.9999e-01]],\n",
            "\n",
            "        [[ 4.1212e-01, -9.1113e-01,  9.8959e-01,  1.4389e-01,  2.2415e-01,\n",
            "           9.7455e-01,  3.5822e-02,  9.9936e-01,  5.6786e-03,  9.9998e-01]]])\n"
          ]
        }
      ]
    },
    {
      "cell_type": "code",
      "source": [
        "print(pe.shape)"
      ],
      "metadata": {
        "colab": {
          "base_uri": "https://localhost:8080/"
        },
        "id": "j41PWmeqY6Nv",
        "outputId": "5340e413-e5d7-412f-b653-4479e6afe13f"
      },
      "execution_count": null,
      "outputs": [
        {
          "output_type": "stream",
          "name": "stdout",
          "text": [
            "torch.Size([10, 1, 10])\n"
          ]
        }
      ]
    },
    {
      "cell_type": "code",
      "source": [
        "print(embed.shape)"
      ],
      "metadata": {
        "colab": {
          "base_uri": "https://localhost:8080/"
        },
        "id": "VhqwejKTZA7u",
        "outputId": "678f8946-b4da-4b46-aaf8-c8808ccfcf55"
      },
      "execution_count": null,
      "outputs": [
        {
          "output_type": "stream",
          "name": "stdout",
          "text": [
            "torch.Size([13, 2, 10])\n"
          ]
        }
      ]
    },
    {
      "cell_type": "code",
      "source": [
        "pe2 = pe.unsqueeze(0)\n",
        "print(pe2.shape)"
      ],
      "metadata": {
        "colab": {
          "base_uri": "https://localhost:8080/"
        },
        "id": "G4f5BTB_dM9z",
        "outputId": "9067aeee-c297-43e8-b6e7-c7928e654469"
      },
      "execution_count": null,
      "outputs": [
        {
          "output_type": "stream",
          "name": "stdout",
          "text": [
            "torch.Size([1, 10, 1, 10])\n"
          ]
        }
      ]
    },
    {
      "cell_type": "code",
      "source": [
        "positional_encoding = pe2.repeat(13,2,1,1)\n",
        "print(positional_encoding.shape)"
      ],
      "metadata": {
        "colab": {
          "base_uri": "https://localhost:8080/"
        },
        "id": "SjQEg66maDZh",
        "outputId": "b62982e6-3fb2-4be3-f81a-1a0fd4d3143a"
      },
      "execution_count": null,
      "outputs": [
        {
          "output_type": "stream",
          "name": "stdout",
          "text": [
            "torch.Size([13, 20, 1, 10])\n"
          ]
        }
      ]
    },
    {
      "cell_type": "code",
      "source": [
        "positional_encoding = positional_encoding.reshape(13,2,10,10)\n",
        "print(positional_encoding.shape)"
      ],
      "metadata": {
        "colab": {
          "base_uri": "https://localhost:8080/"
        },
        "id": "_tdlGhD9dyxO",
        "outputId": "5dc91b93-1805-4a9f-8947-a4d3f8973446"
      },
      "execution_count": null,
      "outputs": [
        {
          "output_type": "stream",
          "name": "stdout",
          "text": [
            "torch.Size([13, 2, 10, 10])\n"
          ]
        }
      ]
    },
    {
      "cell_type": "code",
      "source": [],
      "metadata": {
        "id": "LHPV8b16e50S"
      },
      "execution_count": null,
      "outputs": []
    },
    {
      "cell_type": "code",
      "source": [
        "positional_encoding = positional_encoding[:,:,:,:10]\n",
        "print(positional_encoding.shape)"
      ],
      "metadata": {
        "colab": {
          "base_uri": "https://localhost:8080/"
        },
        "id": "ps5abWEFd-3e",
        "outputId": "f061c3b1-ccc1-4f61-c4a4-e621478279b2"
      },
      "execution_count": null,
      "outputs": [
        {
          "output_type": "stream",
          "name": "stdout",
          "text": [
            "torch.Size([13, 2, 10, 10])\n"
          ]
        }
      ]
    },
    {
      "cell_type": "code",
      "source": [],
      "metadata": {
        "colab": {
          "base_uri": "https://localhost:8080/"
        },
        "id": "gp0P7grwmDuf",
        "outputId": "38a2c11a-ad97-4bc8-c28f-4a458598d2fa"
      },
      "execution_count": null,
      "outputs": [
        {
          "output_type": "stream",
          "name": "stdout",
          "text": [
            "torch.Size([13, 2, 10, 10])\n"
          ]
        }
      ]
    },
    {
      "cell_type": "code",
      "source": [
        "print(pe.shape)"
      ],
      "metadata": {
        "colab": {
          "base_uri": "https://localhost:8080/"
        },
        "id": "wDqPiHR5hjst",
        "outputId": "d0692484-08ad-47ab-fac3-37eddc2f3e3f"
      },
      "execution_count": null,
      "outputs": [
        {
          "output_type": "stream",
          "name": "stdout",
          "text": [
            "torch.Size([10, 1, 10])\n"
          ]
        }
      ]
    },
    {
      "cell_type": "code",
      "source": [
        "pe3 = pe[:2,:,:].transpose(0,1)\n",
        "print(pe3.shape)"
      ],
      "metadata": {
        "colab": {
          "base_uri": "https://localhost:8080/"
        },
        "id": "q_HlmJvRh9PP",
        "outputId": "2e7e46f6-795c-4031-dc3b-393fbd4c2630"
      },
      "execution_count": null,
      "outputs": [
        {
          "output_type": "stream",
          "name": "stdout",
          "text": [
            "torch.Size([1, 2, 10])\n"
          ]
        }
      ]
    },
    {
      "cell_type": "code",
      "source": [
        "pe4 = pe3.repeat(13,1,1)\n",
        "print(pe4.shape)"
      ],
      "metadata": {
        "colab": {
          "base_uri": "https://localhost:8080/"
        },
        "id": "jHHs9l0AiHJk",
        "outputId": "db214e50-05b5-4202-83c8-958158861c2f"
      },
      "execution_count": null,
      "outputs": [
        {
          "output_type": "stream",
          "name": "stdout",
          "text": [
            "torch.Size([13, 2, 10])\n"
          ]
        }
      ]
    },
    {
      "cell_type": "code",
      "source": [
        "embedpos = embed + pe4\n",
        "print(embedpos.shape)"
      ],
      "metadata": {
        "colab": {
          "base_uri": "https://localhost:8080/"
        },
        "id": "AY-arQ0bn3Gg",
        "outputId": "8d82ace9-e2a6-4f9c-971b-abad2600f0f3"
      },
      "execution_count": null,
      "outputs": [
        {
          "output_type": "stream",
          "name": "stdout",
          "text": [
            "torch.Size([13, 2, 10])\n"
          ]
        }
      ]
    },
    {
      "cell_type": "code",
      "source": [
        "print(embedpos)"
      ],
      "metadata": {
        "colab": {
          "base_uri": "https://localhost:8080/"
        },
        "id": "ObtwfCBnucek",
        "outputId": "9af26916-e1b2-46c3-dadc-95bd9ae79e88"
      },
      "execution_count": null,
      "outputs": [
        {
          "output_type": "stream",
          "name": "stdout",
          "text": [
            "tensor([[[ 0.7187,  2.4068, -0.6583,  1.7622,  0.4379, -1.0784, -0.0217,\n",
            "           1.1432, -0.3182, -0.1090],\n",
            "         [ 0.4381,  1.5893, -1.5402, -0.9189,  1.3940,  0.1020,  2.1783,\n",
            "           1.5706,  0.4226,  0.9110]],\n",
            "\n",
            "        [[ 2.0777,  1.6087, -1.4942,  0.9689,  2.0509, -0.2154, -0.7142,\n",
            "           1.8420, -0.7005,  0.6618],\n",
            "         [ 1.0877,  0.6783,  0.6304, -0.0049, -0.9682, -0.2685,  0.2260,\n",
            "           1.5353, -0.9134,  1.1898]],\n",
            "\n",
            "        [[-0.4602, -0.6276,  0.8910,  1.9869, -0.6221,  0.8568, -0.3742,\n",
            "           1.0123, -0.9996,  2.6769],\n",
            "         [ 1.4442,  0.2680,  0.6326,  1.1164,  1.4068,  1.6481,  0.8118,\n",
            "           0.2605, -0.1734,  0.5321]],\n",
            "\n",
            "        [[-0.7735,  1.9903, -1.9175,  2.5393,  1.6565,  0.6814,  0.6188,\n",
            "           0.6959, -0.2364,  2.2293],\n",
            "         [-0.2668,  1.2727, -0.3429,  0.6785,  0.7931, -0.4516, -0.0690,\n",
            "           1.2963, -0.1746,  1.0917]],\n",
            "\n",
            "        [[-0.3535, -0.8036, -0.5055,  0.0349,  0.2657,  1.5071,  0.0722,\n",
            "           0.6064,  0.5539,  1.2536],\n",
            "         [ 1.0511,  0.2719, -0.7977,  0.0807,  1.2425,  0.1393, -0.8977,\n",
            "           3.2274,  0.9258,  0.3665]],\n",
            "\n",
            "        [[-0.5344,  0.9607,  1.2074, -0.4129,  0.2634,  2.2322,  1.7100,\n",
            "           0.5843, -0.4161,  1.1525],\n",
            "         [-1.1239, -0.7344,  1.8728,  0.7449,  1.2332,  1.4902,  1.1969,\n",
            "           1.4274, -0.2191,  1.2895]],\n",
            "\n",
            "        [[ 0.6042, -0.7555,  0.8101, -0.1397,  0.4128,  0.6755, -0.1970,\n",
            "           1.4221,  1.7086,  2.1372],\n",
            "         [ 3.0807, -0.3472, -0.2761,  0.7122,  0.9851,  0.2088, -0.6518,\n",
            "           1.1335,  0.4561,  1.5931]],\n",
            "\n",
            "        [[-0.4974,  1.4640, -0.6697,  1.5893,  0.6876,  0.3919,  0.1270,\n",
            "           0.4451, -0.6152,  1.0884],\n",
            "         [-0.5551,  1.3963,  1.1632,  0.7322,  0.3354,  1.4903, -1.9433,\n",
            "           1.3273,  0.1120,  1.3919]],\n",
            "\n",
            "        [[-1.3966,  1.8560,  1.0054,  0.7447,  0.3103,  1.4906, -1.9473,\n",
            "           1.3273,  0.1114,  1.3919],\n",
            "         [ 0.4423,  0.8460,  1.4299, -0.1033, -1.1210,  2.1160, -1.5189,\n",
            "          -0.5393, -1.2812,  0.3388]],\n",
            "\n",
            "        [[-0.0439,  0.1443, -2.2827,  2.8257,  1.5878,  0.7278, -0.4432,\n",
            "           0.5834,  1.3162,  0.0813],\n",
            "         [-0.0781,  0.6181, -1.1917,  0.7667,  2.5548,  0.8896, -1.5677,\n",
            "           1.0882,  0.4992,  0.4520]],\n",
            "\n",
            "        [[ 0.4575, -0.0448, -0.6086,  1.1974, -0.2904,  2.6564, -1.7328,\n",
            "           2.3446,  0.1733,  0.7418],\n",
            "         [ 0.7975, -0.3154, -2.1249,  2.8132,  1.6129,  0.7274, -0.4393,\n",
            "           0.5834,  1.3168,  0.0813]],\n",
            "\n",
            "        [[-0.9864, -0.4369,  0.3168,  1.2579, -0.3166,  1.7442,  1.0653,\n",
            "           0.4539, -0.0442,  0.8659],\n",
            "         [ 0.9092,  0.3485,  1.1303,  0.5466, -1.1610,  1.7711, -0.6110,\n",
            "           1.3790, -0.2356,  0.9028]],\n",
            "\n",
            "        [[-1.7168,  0.2813,  0.4171,  0.2826,  0.7202,  0.3610, -1.0423,\n",
            "           2.9043,  0.3930,  0.2664],\n",
            "         [ 3.0807, -0.3472, -0.2761,  0.7122,  0.9851,  0.2088, -0.6518,\n",
            "           1.1335,  0.4561,  1.5931]]], grad_fn=<AddBackward0>)\n"
          ]
        }
      ]
    },
    {
      "cell_type": "code",
      "source": [
        "embedposnp = embedpos.detach().numpy()\n",
        "print(embedposnp)"
      ],
      "metadata": {
        "colab": {
          "base_uri": "https://localhost:8080/"
        },
        "id": "dx2BWbamwen7",
        "outputId": "7138f313-46cb-4bff-ddf1-a56b76d32ee3"
      },
      "execution_count": null,
      "outputs": [
        {
          "output_type": "stream",
          "name": "stdout",
          "text": [
            "[[[ 0.71873397  2.4068048  -0.6582655   1.762241    0.43785712\n",
            "   -1.0783796  -0.02169541  1.1432447  -0.31818375 -0.10904336]\n",
            "  [ 0.43813732  1.5893319  -1.540157   -0.9188819   1.3939624\n",
            "    0.1019901   2.1783476   1.5705534   0.42258555  0.9110335 ]]\n",
            "\n",
            " [[ 2.077672    1.6086922  -1.4942358   0.96887934  2.050908\n",
            "   -0.21539259 -0.7142256   1.8419712  -0.70053494  0.66176856]\n",
            "  [ 1.0877173   0.6783233   0.6303663  -0.00489056 -0.96819955\n",
            "   -0.26853424  0.2260162   1.5352618  -0.9133934   1.189825  ]]\n",
            "\n",
            " [[-0.4602452  -0.62757134  0.8910456   1.9868976  -0.62214637\n",
            "    0.85680485 -0.37417057  1.0122964  -0.99964964  2.6769004 ]\n",
            "  [ 1.4441929   0.26795083  0.63260174  1.1163769   1.4067711\n",
            "    1.6480721   0.8118366   0.2604844  -0.17338252  0.5321369 ]]\n",
            "\n",
            " [[-0.7735015   1.9903455  -1.9174842   2.53933     1.6564549\n",
            "    0.6813656   0.6188243   0.6958968  -0.23640354  2.2292943 ]\n",
            "  [-0.26678038  1.2727368  -0.34287408  0.6784948   0.79308385\n",
            "   -0.45164675 -0.06904773  1.2963066  -0.17455204  1.0917283 ]]\n",
            "\n",
            " [[-0.353537   -0.80364    -0.5054597   0.03486073  0.26574492\n",
            "    1.5070689   0.07223664  0.6064229   0.5538749   1.2536281 ]\n",
            "  [ 1.0510706   0.27187943 -0.7977184   0.08073407  1.2425034\n",
            "    0.13925362 -0.897651    3.2273586   0.9258306   0.36647886]]\n",
            "\n",
            " [[-0.53439575  0.9607329   1.20741    -0.41285217  0.26338398\n",
            "    2.2322059   1.7099972   0.584317   -0.41611147  1.1524585 ]\n",
            "  [-1.123868   -0.7344257   1.8727863   0.7449107   1.2331719\n",
            "    1.4902194   1.1968865   1.4273949  -0.21908139  1.289468  ]]\n",
            "\n",
            " [[ 0.6041936  -0.75553584  0.810102   -0.13967705  0.41281018\n",
            "    0.6755198  -0.19702624  1.4221327   1.708639    2.137234  ]\n",
            "  [ 3.080737   -0.34715414 -0.27611557  0.7121746   0.985066\n",
            "    0.20884877 -0.651758    1.1334994   0.45614916  1.5930767 ]]\n",
            "\n",
            " [[-0.49735367  1.4639565  -0.6697071   1.5892532   0.6875971\n",
            "    0.3919366   0.126993    0.44509208 -0.615177    1.0883688 ]\n",
            "  [-0.5551325   1.3962603   1.163194    0.73219085  0.3354233\n",
            "    1.490293   -1.9432796   1.3272972   0.11204437  1.3919356 ]]\n",
            "\n",
            " [[-1.3966035   1.855958    1.0053673   0.74472404  0.31030706\n",
            "    1.4906085  -1.9472607   1.3273052   0.11141341  1.3919358 ]\n",
            "  [ 0.44231838  0.84599376  1.4299423  -0.10331488 -1.1209981\n",
            "    2.1159744  -1.5188814  -0.539298   -1.2811866   0.33878106]]\n",
            "\n",
            " [[-0.04392134  0.14432716 -2.2827346   2.8257394   1.5878195\n",
            "    0.72775567 -0.44324094  0.5834077   1.3162004   0.08130652]\n",
            "  [-0.07805932  0.61805105 -1.1917202   0.7666927   2.554825\n",
            "    0.8896075  -1.5676855   1.0881888   0.4991991   0.4520133 ]]\n",
            "\n",
            " [[ 0.457526   -0.04476488 -0.60864204  1.1974003  -0.29038355\n",
            "    2.656437   -1.7328037   2.3446245   0.17326574  0.7418467 ]\n",
            "  [ 0.7975496  -0.3153705  -2.124908    2.8132062   1.6129357\n",
            "    0.7274401  -0.4392599   0.5833998   1.3168314   0.08130634]]\n",
            "\n",
            " [[-0.9864081  -0.43686104  0.31681725  1.2579494  -0.31655237\n",
            "    1.7441596   1.0652975   0.453932   -0.04424981  0.8659306 ]\n",
            "  [ 0.9092418   0.34848356  1.1302545   0.54657316 -1.1610229\n",
            "    1.7710669  -0.61096025  1.3790396  -0.23558284  0.9027887 ]]\n",
            "\n",
            " [[-1.7167808   0.28129363  0.41708687  0.282606    0.72016925\n",
            "    0.36097598 -1.0423405   2.9043288   0.39304307  0.2663839 ]\n",
            "  [ 3.080737   -0.34715414 -0.27611557  0.7121746   0.985066\n",
            "    0.20884877 -0.651758    1.1334994   0.45614916  1.5930767 ]]]\n"
          ]
        }
      ]
    },
    {
      "cell_type": "code",
      "source": [
        "embedposnp2d = embedposnp.reshape(-1,embedding_dims)\n",
        "print(embedposnp2d.shape)"
      ],
      "metadata": {
        "colab": {
          "base_uri": "https://localhost:8080/"
        },
        "id": "7WD9qgGpxGUR",
        "outputId": "88d5b577-fe23-4dd3-f91c-152476a0c359"
      },
      "execution_count": null,
      "outputs": [
        {
          "output_type": "stream",
          "name": "stdout",
          "text": [
            "(26, 10)\n"
          ]
        }
      ]
    },
    {
      "cell_type": "code",
      "source": [
        "embedpospca = pca.fit_transform(embedposnp2d)\n",
        "print(embedpospca)"
      ],
      "metadata": {
        "colab": {
          "base_uri": "https://localhost:8080/"
        },
        "id": "HLOXkWHix4dq",
        "outputId": "70edfd0e-4cb5-477c-9559-f83df03fca5f"
      },
      "execution_count": null,
      "outputs": [
        {
          "output_type": "stream",
          "name": "stdout",
          "text": [
            "[[-1.611535   -0.50585055]\n",
            " [-1.3604428  -0.3785041 ]\n",
            " [-2.5859141   0.8781276 ]\n",
            " [ 0.9698478   1.2705306 ]\n",
            " [ 1.7715558  -0.23794433]\n",
            " [ 0.07328904  0.5278322 ]\n",
            " [-1.7153591  -2.516699  ]\n",
            " [-0.48934036 -0.61003476]\n",
            " [ 0.70991063 -0.05899425]\n",
            " [-1.3702164   1.2255398 ]\n",
            " [ 2.2170057  -0.732409  ]\n",
            " [ 1.9743093  -0.80973876]\n",
            " [ 0.786979    1.329763  ]\n",
            " [-1.2145239   2.7092261 ]\n",
            " [-0.40118304 -1.4369153 ]\n",
            " [ 1.4279217  -0.30102885]\n",
            " [ 1.5428063  -1.1615523 ]\n",
            " [ 2.7073774   0.7046249 ]\n",
            " [-2.5664713  -1.3214492 ]\n",
            " [-1.5778726  -0.538879  ]\n",
            " [ 0.526399    0.5643161 ]\n",
            " [-2.681356   -0.46092582]\n",
            " [ 1.5098096  -1.1258965 ]\n",
            " [ 1.8943851   1.1735818 ]\n",
            " [ 0.67714447 -0.89594656]\n",
            " [-1.214524    2.7092261 ]]\n"
          ]
        }
      ]
    },
    {
      "cell_type": "code",
      "source": [
        "df1 = pd.DataFrame(embedpospca,columns = ['PCA1','PCA2'])\n",
        "df1['word'] = trainvocab\n",
        "heatmap_df1 = df1.drop(columns = ['word']).set_index(df1['word'])\n",
        "print(heatmap_df1)"
      ],
      "metadata": {
        "colab": {
          "base_uri": "https://localhost:8080/"
        },
        "id": "2r51O4KkyAnD",
        "outputId": "d5a95d7f-8f7c-4a98-ce91-a29f542309d1"
      },
      "execution_count": null,
      "outputs": [
        {
          "output_type": "stream",
          "name": "stdout",
          "text": [
            "                    PCA1      PCA2\n",
            "word                              \n",
            "The            -1.611535 -0.505851\n",
            "Wonderful</w>  -1.360443 -0.378504\n",
            "Wizard         -2.585914  0.878128\n",
            "of              0.969848  1.270531\n",
            "Oz              1.771556 -0.237944\n",
            "is</w>          0.073289  0.527832\n",
            "a</w>          -1.715359 -2.516699\n",
            "children's</w> -0.489340 -0.610035\n",
            "no              0.709911 -0.058994\n",
            "v              -1.370216  1.225540\n",
            "e               2.217006 -0.732409\n",
            "l</w>           1.974309 -0.809739\n",
            "w               0.786979  1.329763\n",
            "r              -1.214524  2.709226\n",
            "i              -0.401183 -1.436915\n",
            "t               1.427922 -0.301029\n",
            "t               1.542806 -1.161552\n",
            "en              2.707377  0.704625\n",
            "</w>           -2.566471 -1.321449\n",
            "b              -1.577873 -0.538879\n",
            "y               0.526399  0.564316\n",
            "</w>           -2.681356 -0.460926\n",
            "L               1.509810 -1.125896\n",
            ".</w>           1.894385  1.173582\n",
            "F               0.677144 -0.895947\n",
            "r              -1.214524  2.709226\n"
          ]
        }
      ]
    },
    {
      "cell_type": "code",
      "source": [
        "def positionalplotting(data,title):\n",
        "    plt.figure(figsize=(5,5))\n",
        "    sns.heatmap(data,cmap=\"cool\",annot=True,fmt='.2f',vmax=4,vmin=-4)\n",
        "    plt.ylabel(\"Word/token\")\n",
        "    plt.xlabel(\"positional encoding\")\n",
        "    plt.title(title)\n",
        "    plt.show()\n",
        "positionalplotting = positionalplotting(heatmap_df1,\"POSITIONAL ENCODING\")\n",
        "pcaplottings = pcaplotting(heatmap_df,\"WORD EMBEDDING WITH PCA\")"
      ],
      "metadata": {
        "colab": {
          "base_uri": "https://localhost:8080/",
          "height": 957
        },
        "id": "ZEGMTfZ1y0iR",
        "outputId": "1067d597-79ea-4ae5-e6b6-6a1dd226caac"
      },
      "execution_count": null,
      "outputs": [
        {
          "output_type": "display_data",
          "data": {
            "text/plain": [
              "<Figure size 500x500 with 2 Axes>"
            ],
            "image/png": "[encoded data removed]"
          },
          "metadata": {}
        },
        {
          "output_type": "display_data",
          "data": {
            "text/plain": [
              "<Figure size 500x500 with 2 Axes>"
            ],
            "image/png": "[encoded data removed]"
          },
          "metadata": {}
        }
      ]
    },
    {
      "cell_type": "code",
      "source": [
        "query = nn.Linear(10,10)\n",
        "print(query)"
      ],
      "metadata": {
        "colab": {
          "base_uri": "https://localhost:8080/"
        },
        "id": "SO1XU7Iy1lWm",
        "outputId": "e91b206f-4441-43cd-b800-f3e415b01b70"
      },
      "execution_count": null,
      "outputs": [
        {
          "output_type": "stream",
          "name": "stdout",
          "text": [
            "Linear(in_features=10, out_features=10, bias=True)\n"
          ]
        }
      ]
    },
    {
      "cell_type": "code",
      "source": [
        "key = nn.Linear(10,10)\n",
        "print(key)"
      ],
      "metadata": {
        "colab": {
          "base_uri": "https://localhost:8080/"
        },
        "id": "fruwr8DP2fj8",
        "outputId": "55ea308b-6763-43b0-a4df-4985d5acb3b0"
      },
      "execution_count": null,
      "outputs": [
        {
          "output_type": "stream",
          "name": "stdout",
          "text": [
            "Linear(in_features=10, out_features=10, bias=True)\n"
          ]
        }
      ]
    },
    {
      "cell_type": "code",
      "source": [
        "value = nn.Linear(10,10)\n",
        "print(value)"
      ],
      "metadata": {
        "colab": {
          "base_uri": "https://localhost:8080/"
        },
        "id": "sluDDyE02jDA",
        "outputId": "2a7e4577-dd19-4d01-970d-01651d04b090"
      },
      "execution_count": null,
      "outputs": [
        {
          "output_type": "stream",
          "name": "stdout",
          "text": [
            "Linear(in_features=10, out_features=10, bias=True)\n"
          ]
        }
      ]
    },
    {
      "cell_type": "code",
      "source": [
        "# linear transformation  formula:  1/sqrt(embedding_dims) = a\n",
        "# no the values inside weights are in range between -a and a\n",
        "# input tensor = embedpos\n",
        "# default bias is set to 0\n",
        "# so linear transformation =  (input tensor * weights) +  bias"
      ],
      "metadata": {
        "id": "EBlxveNL2nVt"
      },
      "execution_count": null,
      "outputs": []
    },
    {
      "cell_type": "code",
      "source": [
        "batch_size, seq_len, embedding_dims = embedpos.shape"
      ],
      "metadata": {
        "id": "ILYFl1xq3Dm0"
      },
      "execution_count": null,
      "outputs": []
    },
    {
      "cell_type": "code",
      "source": [
        "print(batch_size)\n",
        "print(seq_len)\n",
        "print(embedding_dims)"
      ],
      "metadata": {
        "colab": {
          "base_uri": "https://localhost:8080/"
        },
        "id": "CHRY7yl23OZj",
        "outputId": "d734a1f1-1d0e-441a-f06a-4ecd2af3c9e8"
      },
      "execution_count": null,
      "outputs": [
        {
          "output_type": "stream",
          "name": "stdout",
          "text": [
            "13\n",
            "2\n",
            "10\n"
          ]
        }
      ]
    },
    {
      "cell_type": "code",
      "source": [
        "Query = query(embedpos)\n",
        "print(Query)"
      ],
      "metadata": {
        "colab": {
          "base_uri": "https://localhost:8080/"
        },
        "id": "ephi1Po53aiO",
        "outputId": "e512f567-8a60-4148-a3d7-b74093edfc84"
      },
      "execution_count": null,
      "outputs": [
        {
          "output_type": "stream",
          "name": "stdout",
          "text": [
            "tensor([[[ 0.0184, -0.0978,  0.5360, -0.1860,  0.8458,  1.0744,  0.6412,\n",
            "          -0.1986, -0.5018,  0.2858],\n",
            "         [ 1.4410, -1.2920,  0.3816, -1.1047,  0.3893,  0.8943, -1.0174,\n",
            "           0.4567,  0.3406, -0.9872]],\n",
            "\n",
            "        [[-0.0975, -1.3245,  0.3684,  0.0499,  0.4049,  0.8531,  0.2823,\n",
            "           0.1090, -0.1377,  0.6024],\n",
            "         [ 0.0431, -0.3570,  0.7098,  0.3152, -0.1340,  0.0939,  0.0266,\n",
            "           0.0118,  0.1734,  0.3207]],\n",
            "\n",
            "        [[-0.7266, -0.0778, -0.2015,  1.0362,  0.4035, -0.8052,  0.7323,\n",
            "          -0.8130,  0.7911,  0.5899],\n",
            "         [-0.7074, -0.4697, -0.7314,  0.1715,  0.3058,  1.2304, -1.0594,\n",
            "          -0.4556, -0.5929, -0.1273]],\n",
            "\n",
            "        [[ 0.4560, -0.6565, -0.1199, -0.1541,  1.6544,  0.4411,  0.7420,\n",
            "          -0.9812,  0.4664, -0.2534],\n",
            "         [ 0.2119, -0.6621,  0.2661, -0.2892,  0.4903,  0.2131,  0.3123,\n",
            "          -0.1075,  0.2616,  0.0110]],\n",
            "\n",
            "        [[-0.0086, -0.7371, -0.4512,  0.1620, -0.2434, -0.5635, -0.6337,\n",
            "          -0.3420,  0.6392, -0.4758],\n",
            "         [ 0.1189, -1.5532, -0.0103, -0.0614, -0.5256, -0.4270, -0.3411,\n",
            "           0.5168,  0.2071,  0.4120]],\n",
            "\n",
            "        [[ 0.2963, -0.3136, -0.5059, -0.7591, -0.0171,  0.6347, -1.4087,\n",
            "          -0.3780,  0.0848, -0.7190],\n",
            "         [-0.4845, -0.3611, -1.1304, -0.3875, -0.0373,  0.1061, -0.9130,\n",
            "           0.1173,  0.5037, -0.0756]],\n",
            "\n",
            "        [[-0.0725, -1.3933, -0.2088,  0.6313, -0.0286, -0.6393, -0.8497,\n",
            "          -0.5785, -0.0355, -0.4233],\n",
            "         [-0.6024, -1.4247,  0.1954,  1.2473,  0.1972,  0.3308, -0.3598,\n",
            "          -0.4733, -0.4833,  0.2940]],\n",
            "\n",
            "        [[-0.0121, -0.1926, -0.0196, -0.1634,  0.8188,  0.4616,  0.4495,\n",
            "          -0.5828,  0.2268, -0.0348],\n",
            "         [-0.5462, -0.7243, -0.2910,  0.0844, -0.0371, -0.5080,  0.0297,\n",
            "          -1.0488, -0.2117,  0.3439]],\n",
            "\n",
            "        [[-0.3157, -0.6215, -0.2880, -0.2484,  0.0680, -0.6253,  0.1946,\n",
            "          -1.0973, -0.0467,  0.2255],\n",
            "         [-0.9714,  0.1962, -0.0973,  0.3200, -0.6363,  0.1248, -0.4123,\n",
            "          -1.0223, -0.3775,  0.2252]],\n",
            "\n",
            "        [[-0.3843, -0.4819, -0.7539,  0.3429,  0.7995,  0.1439,  0.2999,\n",
            "          -0.6118,  0.0289, -0.1308],\n",
            "         [-0.3817, -1.3165, -0.5863, -0.2780,  0.0900,  0.0245, -0.0741,\n",
            "          -0.2271,  0.1394,  0.0929]],\n",
            "\n",
            "        [[-0.5380, -0.7381, -0.5582,  0.6222, -0.7584, -1.1411, -0.1426,\n",
            "          -0.5885,  0.3787,  0.6827],\n",
            "         [-0.6147, -0.5848, -0.7569,  0.6757,  0.6944,  0.2612,  0.1350,\n",
            "          -0.5633, -0.1361, -0.0124]],\n",
            "\n",
            "        [[-0.2370,  0.2194, -0.7478,  0.0281,  0.0981, -0.0963, -0.5006,\n",
            "          -0.4377,  0.5063, -0.3384],\n",
            "         [-0.5356, -0.2400, -0.1048,  0.6062, -0.4960, -0.3069, -0.4868,\n",
            "          -0.6859, -0.2035,  0.3535]],\n",
            "\n",
            "        [[-0.0383, -0.7198, -0.4503, -0.7028, -0.6212, -0.9547,  0.0356,\n",
            "           0.4928,  0.7671,  0.4043],\n",
            "         [-0.6024, -1.4247,  0.1954,  1.2473,  0.1972,  0.3308, -0.3598,\n",
            "          -0.4733, -0.4833,  0.2940]]], grad_fn=<ViewBackward0>)\n"
          ]
        }
      ]
    },
    {
      "cell_type": "code",
      "source": [
        "Key = key(embedpos)\n",
        "print(Key)"
      ],
      "metadata": {
        "colab": {
          "base_uri": "https://localhost:8080/"
        },
        "id": "b5dGsokW4doG",
        "outputId": "f52dd3a4-a5ab-488c-d451-c5542caefb67"
      },
      "execution_count": null,
      "outputs": [
        {
          "output_type": "stream",
          "name": "stdout",
          "text": [
            "tensor([[[ 0.5938,  0.5396, -0.3972, -0.0099,  0.3162,  0.2051,  0.1434,\n",
            "          -1.3767,  0.3306, -0.6207],\n",
            "         [ 0.8579,  1.1815, -1.5187, -0.3585,  0.4388, -0.3339,  0.4883,\n",
            "          -1.1032, -0.1117, -0.1253]],\n",
            "\n",
            "        [[ 0.8885,  0.3202, -0.9735, -0.3735,  1.5389,  0.2222,  0.0469,\n",
            "          -1.6395, -0.5260, -0.8582],\n",
            "         [ 1.4805,  0.1139,  0.3586, -0.3351,  0.2319, -0.2571, -0.5634,\n",
            "          -1.2229, -1.1735, -0.0703]],\n",
            "\n",
            "        [[ 0.7559, -1.4273,  0.6116, -0.6800,  0.1912, -0.1455, -0.2869,\n",
            "          -0.9175, -0.5796,  0.6531],\n",
            "         [ 0.5675,  0.0318, -0.4945, -0.7908, -0.1632,  0.5842, -0.0551,\n",
            "          -0.1819, -0.0838, -0.1245]],\n",
            "\n",
            "        [[ 0.0927, -0.4641, -1.0840, -0.6117,  0.3952,  0.1406,  1.0168,\n",
            "          -1.4161,  1.1649,  0.1397],\n",
            "         [ 0.7879,  0.2289, -0.3041, -0.0736,  0.5400, -0.0848,  0.1662,\n",
            "          -1.0296, -0.1983, -0.2202]],\n",
            "\n",
            "        [[ 0.3750, -0.3765, -0.3230, -0.4435,  0.3568, -0.7779, -0.0777,\n",
            "          -0.0433, -0.3648,  0.3598],\n",
            "         [ 1.1925,  0.4030, -1.1715, -0.2044,  1.5923, -0.8708, -0.5090,\n",
            "          -0.8475, -1.3371, -0.5747]],\n",
            "\n",
            "        [[ 1.3885,  0.4214, -0.2339, -0.7560, -1.2396, -0.1072,  0.0296,\n",
            "           0.0102, -0.1089,  0.2422],\n",
            "         [ 0.7869, -0.2747, -0.2965, -0.6381, -0.4232,  0.1147, -0.1448,\n",
            "           0.0712, -0.4152,  0.5003]],\n",
            "\n",
            "        [[ 1.1242, -0.1149, -0.2603, -0.3528,  0.8230, -0.3457, -0.3637,\n",
            "          -0.0575, -1.4302,  0.1704],\n",
            "         [ 0.8540, -0.2410, -0.3850, -0.5662,  1.5866,  0.2847, -0.4302,\n",
            "          -0.9587, -1.4076, -0.3439]],\n",
            "\n",
            "        [[ 0.3842, -0.1734, -0.2549, -0.3301,  0.0208,  0.0442,  0.4100,\n",
            "          -0.9491,  0.5846, -0.0468],\n",
            "         [ 1.7467, -0.1546,  0.3422, -0.2785, -0.0630, -0.3289, -0.3058,\n",
            "          -0.1158, -0.6839, -0.4722]],\n",
            "\n",
            "        [[ 1.7460, -0.0775,  0.3214, -0.1764, -0.2864, -0.4780, -0.1226,\n",
            "          -0.0936, -0.3607, -0.4544],\n",
            "         [ 1.5037, -0.1759,  1.3039, -0.4014, -0.9482, -0.2516, -0.6267,\n",
            "           0.1869, -0.5255, -0.3722]],\n",
            "\n",
            "        [[-0.8915, -0.5270, -1.2984, -0.3120,  0.9848, -0.4167,  0.4667,\n",
            "          -0.4357,  1.0441, -0.0480],\n",
            "         [ 0.3506,  0.0441, -0.8547, -0.1233,  1.2134, -0.2335,  0.2395,\n",
            "          -0.2932, -0.0442, -0.6205]],\n",
            "\n",
            "        [[ 1.2371, -0.7582, -0.5073, -0.7829,  0.5295, -1.4058, -0.7216,\n",
            "          -0.3547, -0.8068, -0.1761],\n",
            "         [-0.8908, -0.6041, -1.2776, -0.4142,  1.2081, -0.2675,  0.2835,\n",
            "          -0.4580,  0.7209, -0.0658]],\n",
            "\n",
            "        [[ 0.2083, -0.5530, -0.1772, -0.6448, -0.6756, -0.5115, -0.0359,\n",
            "          -0.0450,  0.3344,  0.6465],\n",
            "         [ 1.6266, -0.2803,  0.3447, -0.6624, -0.3310, -0.6156, -0.8087,\n",
            "          -0.3034, -1.0375, -0.0806]],\n",
            "\n",
            "        [[ 1.1361,  0.1485, -0.4504,  0.0565,  0.5339, -1.0675, -0.3943,\n",
            "          -0.2863, -0.7459, -0.2178],\n",
            "         [ 0.8540, -0.2410, -0.3850, -0.5662,  1.5866,  0.2847, -0.4302,\n",
            "          -0.9587, -1.4076, -0.3439]]], grad_fn=<ViewBackward0>)\n"
          ]
        }
      ]
    },
    {
      "cell_type": "code",
      "source": [
        "Value = value(embedpos)\n",
        "print(Value)"
      ],
      "metadata": {
        "colab": {
          "base_uri": "https://localhost:8080/"
        },
        "id": "JDgK1JEt4kSj",
        "outputId": "bd3543e9-b6f9-4cfe-e7f8-b6567d65b59a"
      },
      "execution_count": null,
      "outputs": [
        {
          "output_type": "stream",
          "name": "stdout",
          "text": [
            "tensor([[[-7.3554e-01,  8.3893e-01,  8.7685e-01,  7.4901e-01,  2.2329e-01,\n",
            "          -4.8690e-01,  3.4220e-01, -1.7140e-01, -6.4066e-01,  5.3894e-01],\n",
            "         [-1.4339e+00,  4.4258e-01,  1.1214e+00, -1.0191e+00, -1.0659e+00,\n",
            "           7.5435e-01, -4.2767e-01, -1.1927e-01, -9.6574e-01,  1.2553e+00]],\n",
            "\n",
            "        [[-9.2324e-01,  1.1258e+00,  3.0360e-01, -4.3813e-01, -8.8793e-01,\n",
            "           3.2754e-01,  3.2914e-01,  2.5137e-01,  5.9992e-02,  1.6036e-01],\n",
            "         [-4.7704e-01,  1.0959e+00,  1.8517e-01,  1.7956e-01,  1.4722e-01,\n",
            "          -1.6293e-01,  8.3138e-01, -1.4745e-01, -5.0486e-01,  3.3596e-01]],\n",
            "\n",
            "        [[ 4.1717e-01,  1.3528e+00, -6.5270e-01,  1.5171e-02,  6.0496e-01,\n",
            "           8.3918e-01,  7.4339e-01,  2.9053e-01, -1.2525e-01,  2.0028e-01],\n",
            "         [-1.3690e-01, -2.8841e-01, -8.0857e-01, -7.2272e-01, -1.1641e-01,\n",
            "           6.4974e-01, -2.0219e-01, -1.5306e-01,  7.5704e-01,  1.0269e-02]],\n",
            "\n",
            "        [[-8.1461e-01,  1.0263e+00,  7.3377e-01, -5.9099e-01, -1.6929e-01,\n",
            "           1.1071e+00, -5.1237e-01,  7.0448e-02, -9.4613e-01,  8.2662e-01],\n",
            "         [-4.5816e-01,  7.5270e-01,  5.9388e-01,  1.1724e-01, -1.8493e-01,\n",
            "           4.9121e-01,  3.3199e-01,  1.2858e-01, -6.3672e-01,  5.7919e-01]],\n",
            "\n",
            "        [[ 2.2469e-01,  2.7738e-01, -4.8525e-01, -1.1023e+00, -4.6403e-01,\n",
            "           1.3047e+00,  7.0582e-02,  1.0265e-01, -1.8588e-01,  4.5021e-01],\n",
            "         [-3.6311e-01,  1.0084e+00, -3.6975e-01, -1.9223e-01, -1.3883e+00,\n",
            "           8.1130e-01,  1.0978e+00,  7.6246e-01,  1.4696e-01,  6.0517e-01]],\n",
            "\n",
            "        [[ 6.3531e-03, -7.2149e-01, -6.7599e-02, -5.9032e-01, -1.5418e-01,\n",
            "           7.6708e-01, -4.1830e-01, -6.1923e-01, -5.4976e-01,  4.9610e-01],\n",
            "         [ 6.9341e-01, -1.8425e-01, -6.7295e-01, -5.7552e-02, -9.4841e-02,\n",
            "           1.2442e+00,  1.3513e-01,  2.9997e-01,  3.7911e-01,  6.2073e-01]],\n",
            "\n",
            "        [[-5.5471e-01,  5.5307e-01, -1.1554e+00, -7.3695e-01, -5.6563e-01,\n",
            "           1.4984e+00,  1.0142e+00,  7.2280e-01,  4.6410e-01,  3.0086e-01],\n",
            "         [-1.0109e+00,  1.1835e+00, -1.0944e+00, -9.9755e-01, -5.3226e-01,\n",
            "           7.7696e-01,  8.9067e-01,  5.7272e-01,  1.0084e+00, -2.0445e-01]],\n",
            "\n",
            "        [[-1.9546e-01,  5.3956e-01,  5.5298e-01, -8.8368e-02,  1.6585e-01,\n",
            "           4.5925e-01, -1.8110e-01, -2.1520e-01, -7.3373e-01,  4.6689e-01],\n",
            "         [ 3.7558e-01, -1.0521e-01, -6.8126e-01,  2.7510e-01, -2.5468e-01,\n",
            "           8.3802e-01,  8.1780e-01,  3.8154e-02, -2.7678e-01, -2.6936e-01]],\n",
            "\n",
            "        [[ 4.7298e-01, -2.2669e-01, -3.3082e-01,  4.4331e-01, -2.3662e-01,\n",
            "           8.7398e-01,  6.7549e-01, -5.8876e-02, -7.0691e-01, -1.1077e-01],\n",
            "         [ 8.6455e-01, -7.0004e-01, -6.2393e-01, -1.7650e-01,  4.5941e-01,\n",
            "          -3.5085e-02,  2.1158e-01, -9.7218e-01, -3.0418e-01, -8.0464e-01]],\n",
            "\n",
            "        [[ 1.2418e-02,  6.8366e-01, -2.9233e-01, -6.2667e-01, -3.8868e-01,\n",
            "           1.0441e+00, -1.2329e-01,  4.2787e-01,  1.3245e-01,  6.6094e-01],\n",
            "         [ 1.5513e-01,  6.0152e-02, -2.3229e-01, -6.8695e-01, -1.0421e+00,\n",
            "           1.3236e+00,  6.4293e-02,  4.0432e-01,  1.6193e-01,  8.4428e-02]],\n",
            "\n",
            "        [[ 7.3767e-01,  6.7674e-01, -1.2100e+00, -4.7119e-01, -8.6828e-01,\n",
            "           8.6742e-01,  8.6738e-01,  1.7856e-01, -6.3582e-02,  7.5083e-02],\n",
            "         [-8.4990e-02,  8.0514e-01, -6.4277e-01, -7.9488e-01, -4.0673e-01,\n",
            "           1.0082e+00,  1.9022e-02,  5.2490e-01,  5.6259e-01,  5.0235e-01]],\n",
            "\n",
            "        [[ 6.1096e-01,  1.0317e-01, -3.6147e-01, -3.7690e-01,  2.7239e-01,\n",
            "           7.8997e-01, -1.4791e-01, -2.1099e-01, -3.2300e-01,  6.8272e-01],\n",
            "         [ 2.7995e-01,  3.1564e-01, -9.6274e-01, -2.9458e-02,  3.0427e-03,\n",
            "           2.2114e-01,  8.6922e-01, -2.3528e-01, -6.4280e-02, -7.3954e-02]],\n",
            "\n",
            "        [[ 8.1094e-01,  3.8230e-01,  5.6271e-04,  6.8390e-01, -7.6501e-01,\n",
            "           8.6218e-01,  9.2195e-01,  5.2808e-01, -4.9703e-01,  7.6686e-01],\n",
            "         [-1.0109e+00,  1.1835e+00, -1.0944e+00, -9.9755e-01, -5.3226e-01,\n",
            "           7.7696e-01,  8.9067e-01,  5.7272e-01,  1.0084e+00, -2.0445e-01]]],\n",
            "       grad_fn=<ViewBackward0>)\n"
          ]
        }
      ]
    },
    {
      "cell_type": "code",
      "source": [
        "num_heads = 2\n",
        "Query = Query.view(batch_size,seq_len,num_heads,embedding_dims//num_heads).transpose(1,2)\n",
        "print(Query.shape)"
      ],
      "metadata": {
        "colab": {
          "base_uri": "https://localhost:8080/"
        },
        "id": "JX1HvMq84x4b",
        "outputId": "87013f91-5502-4200-9554-9e51f2a37893"
      },
      "execution_count": null,
      "outputs": [
        {
          "output_type": "stream",
          "name": "stdout",
          "text": [
            "torch.Size([13, 2, 2, 5])\n"
          ]
        }
      ]
    },
    {
      "cell_type": "code",
      "source": [
        "Key = Key.view(batch_size,seq_len,num_heads,embedding_dims//num_heads).transpose(1,2)\n",
        "print(Key.shape)"
      ],
      "metadata": {
        "colab": {
          "base_uri": "https://localhost:8080/"
        },
        "id": "oSyAZ1VB6FMs",
        "outputId": "ef7ceaff-c07e-425d-9127-12e982ffeeb1"
      },
      "execution_count": null,
      "outputs": [
        {
          "output_type": "stream",
          "name": "stdout",
          "text": [
            "torch.Size([13, 2, 2, 5])\n"
          ]
        }
      ]
    },
    {
      "cell_type": "code",
      "source": [
        "Value = Value.view(batch_size,seq_len,num_heads,embedding_dims//num_heads).transpose(1,2)\n",
        "print(Value.shape)"
      ],
      "metadata": {
        "colab": {
          "base_uri": "https://localhost:8080/"
        },
        "id": "2l1wSOfn6Qxl",
        "outputId": "7d769fbe-0516-4754-c589-d003b71dd713"
      },
      "execution_count": null,
      "outputs": [
        {
          "output_type": "stream",
          "name": "stdout",
          "text": [
            "torch.Size([13, 2, 2, 5])\n"
          ]
        }
      ]
    },
    {
      "cell_type": "code",
      "source": [
        "keys = Key.transpose(-2,-1)\n",
        "print(keys.shape)"
      ],
      "metadata": {
        "colab": {
          "base_uri": "https://localhost:8080/"
        },
        "id": "ISr36eur6VIj",
        "outputId": "eb78bc9a-617b-4900-f521-182d2db7f6d1"
      },
      "execution_count": null,
      "outputs": [
        {
          "output_type": "stream",
          "name": "stdout",
          "text": [
            "torch.Size([13, 2, 5, 2])\n"
          ]
        }
      ]
    },
    {
      "cell_type": "code",
      "source": [
        "attention_scores = torch.matmul(Query,keys)/math.sqrt(embedding_dims)\n",
        "print(attention_scores)"
      ],
      "metadata": {
        "colab": {
          "base_uri": "https://localhost:8080/"
        },
        "id": "mGKAOy--pP4d",
        "outputId": "d099a31c-a32f-4fdf-a176-1ec18c550a07"
      },
      "execution_count": null,
      "outputs": [
        {
          "output_type": "stream",
          "name": "stdout",
          "text": [
            "tensor([[[[ 0.0046, -0.1505],\n",
            "          [ 0.0446, -0.0958]],\n",
            "\n",
            "         [[ 0.0767,  0.0613],\n",
            "          [ 0.0424, -0.3838]]],\n",
            "\n",
            "\n",
            "        [[[-0.0838, -0.0272],\n",
            "          [-0.3450,  0.0446]],\n",
            "\n",
            "         [[-0.1330, -0.1241],\n",
            "          [-0.1150, -0.0884]]],\n",
            "\n",
            "\n",
            "        [[[-0.3760, -0.3796],\n",
            "          [-0.1170, -0.0760]],\n",
            "\n",
            "         [[ 0.1833, -0.1589],\n",
            "          [ 0.2541,  0.2927]]],\n",
            "\n",
            "\n",
            "        [[[ 0.3874,  0.3637],\n",
            "          [ 0.1294,  0.0697]],\n",
            "\n",
            "         [[ 0.8582,  0.3350],\n",
            "          [ 0.2549,  0.0285]]],\n",
            "\n",
            "\n",
            "        [[[ 0.0826, -0.0631],\n",
            "          [ 0.1494, -0.4100]],\n",
            "\n",
            "         [[ 0.0310,  0.1650],\n",
            "          [ 0.1293, -0.1284]]],\n",
            "\n",
            "\n",
            "        [[[ 0.3139,  0.3039],\n",
            "          [-0.0700,  0.1000]],\n",
            "\n",
            "         [[-0.0939, -0.0459],\n",
            "          [-0.0349, -0.0298]]],\n",
            "\n",
            "\n",
            "        [[[-0.0358, -0.0154],\n",
            "          [-0.2663, -0.2023]],\n",
            "\n",
            "         [[ 0.1714,  0.2953],\n",
            "          [ 0.2483,  0.4054]]],\n",
            "\n",
            "\n",
            "        [[[ 0.0331, -0.0013],\n",
            "          [-0.0122, -0.3045]],\n",
            "\n",
            "         [[ 0.2821, -0.1140],\n",
            "          [ 0.2673,  0.0828]]],\n",
            "\n",
            "\n",
            "        [[[-0.1807, -0.2232],\n",
            "          [-0.5113, -0.3628]],\n",
            "\n",
            "         [[ 0.0923, -0.0724],\n",
            "          [ 0.0380,  0.0476]]],\n",
            "\n",
            "\n",
            "        [[[ 0.7133,  0.4478],\n",
            "          [ 0.6232,  0.1432]],\n",
            "\n",
            "         [[ 0.1211,  0.0941],\n",
            "          [ 0.0617, -0.0065]]],\n",
            "\n",
            "\n",
            "        [[[-0.2249,  0.1468],\n",
            "          [-0.0299,  0.7675]],\n",
            "\n",
            "         [[ 0.4712,  0.2411],\n",
            "          [-0.0483,  0.0408]]],\n",
            "\n",
            "\n",
            "        [[[-0.0388, -0.2391],\n",
            "          [-0.0051, -0.3407]],\n",
            "\n",
            "         [[ 0.0119,  0.0313],\n",
            "          [ 0.1157,  0.3078]]],\n",
            "\n",
            "\n",
            "        [[[-0.1008, -0.0865],\n",
            "          [-0.2556, -0.2023]],\n",
            "\n",
            "         [[ 0.0644, -0.6256],\n",
            "          [ 0.0698,  0.4054]]]], grad_fn=<DivBackward0>)\n"
          ]
        }
      ]
    },
    {
      "cell_type": "code",
      "source": [
        "attention_probs = nn.Softmax(dim = -1)(attention_scores)\n",
        "print(attention_probs)"
      ],
      "metadata": {
        "colab": {
          "base_uri": "https://localhost:8080/"
        },
        "id": "eUOLG_NJq8A_",
        "outputId": "d7d12d3a-f014-45a5-b1c9-146a1e94d78f"
      },
      "execution_count": null,
      "outputs": [
        {
          "output_type": "stream",
          "name": "stdout",
          "text": [
            "tensor([[[[0.5387, 0.4613],\n",
            "          [0.5350, 0.4650]],\n",
            "\n",
            "         [[0.5039, 0.4961],\n",
            "          [0.6050, 0.3950]]],\n",
            "\n",
            "\n",
            "        [[[0.4859, 0.5141],\n",
            "          [0.4038, 0.5962]],\n",
            "\n",
            "         [[0.4978, 0.5022],\n",
            "          [0.4934, 0.5066]]],\n",
            "\n",
            "\n",
            "        [[[0.5009, 0.4991],\n",
            "          [0.4898, 0.5102]],\n",
            "\n",
            "         [[0.5847, 0.4153],\n",
            "          [0.4903, 0.5097]]],\n",
            "\n",
            "\n",
            "        [[[0.5059, 0.4941],\n",
            "          [0.5149, 0.4851]],\n",
            "\n",
            "         [[0.6279, 0.3721],\n",
            "          [0.5563, 0.4437]]],\n",
            "\n",
            "\n",
            "        [[[0.5364, 0.4636],\n",
            "          [0.6363, 0.3637]],\n",
            "\n",
            "         [[0.4665, 0.5335],\n",
            "          [0.5641, 0.4359]]],\n",
            "\n",
            "\n",
            "        [[[0.5025, 0.4975],\n",
            "          [0.4576, 0.5424]],\n",
            "\n",
            "         [[0.4880, 0.5120],\n",
            "          [0.4987, 0.5013]]],\n",
            "\n",
            "\n",
            "        [[[0.4949, 0.5051],\n",
            "          [0.4840, 0.5160]],\n",
            "\n",
            "         [[0.4691, 0.5309],\n",
            "          [0.4608, 0.5392]]],\n",
            "\n",
            "\n",
            "        [[[0.5086, 0.4914],\n",
            "          [0.5725, 0.4275]],\n",
            "\n",
            "         [[0.5977, 0.4023],\n",
            "          [0.5460, 0.4540]]],\n",
            "\n",
            "\n",
            "        [[[0.5106, 0.4894],\n",
            "          [0.4629, 0.5371]],\n",
            "\n",
            "         [[0.5411, 0.4589],\n",
            "          [0.4976, 0.5024]]],\n",
            "\n",
            "\n",
            "        [[[0.5660, 0.4340],\n",
            "          [0.6178, 0.3822]],\n",
            "\n",
            "         [[0.5068, 0.4932],\n",
            "          [0.5171, 0.4829]]],\n",
            "\n",
            "\n",
            "        [[[0.4081, 0.5919],\n",
            "          [0.3106, 0.6894]],\n",
            "\n",
            "         [[0.5573, 0.4427],\n",
            "          [0.4777, 0.5223]]],\n",
            "\n",
            "\n",
            "        [[[0.5499, 0.4501],\n",
            "          [0.5831, 0.4169]],\n",
            "\n",
            "         [[0.4951, 0.5049],\n",
            "          [0.4521, 0.5479]]],\n",
            "\n",
            "\n",
            "        [[[0.4964, 0.5036],\n",
            "          [0.4867, 0.5133]],\n",
            "\n",
            "         [[0.6660, 0.3340],\n",
            "          [0.4169, 0.5831]]]], grad_fn=<SoftmaxBackward0>)\n"
          ]
        }
      ]
    },
    {
      "cell_type": "code",
      "source": [
        "attention_output = torch.matmul(attention_probs,Value)\n",
        "print(attention_output)"
      ],
      "metadata": {
        "colab": {
          "base_uri": "https://localhost:8080/"
        },
        "id": "skBb-FPorZI-",
        "outputId": "0dbbfd79-eee2-4b07-d381-91fd7580e432"
      },
      "execution_count": null,
      "outputs": [
        {
          "output_type": "stream",
          "name": "stdout",
          "text": [
            "tensor([[[[-0.6208,  0.6098,  0.3933,  0.1080,  0.3689],\n",
            "          [-0.6199,  0.6080,  0.3895,  0.1029,  0.3701]],\n",
            "\n",
            "         [[-0.3482,  0.0108,  0.5058, -0.9926,  0.0858],\n",
            "          [-0.5695,  0.0988,  0.6313, -0.9980, -0.1489]]],\n",
            "\n",
            "\n",
            "        [[[-0.2802,  0.7162,  0.2767, -0.1820, -0.3490],\n",
            "          [-0.1775,  0.6508,  0.2725, -0.1412, -0.2629]],\n",
            "\n",
            "         [[-0.3193,  0.9630,  0.0181, -0.1642,  0.2420],\n",
            "          [-0.3179,  0.9619,  0.0167, -0.1672,  0.2428]]],\n",
            "\n",
            "\n",
            "        [[[ 0.6278,  1.0486, -0.1819, -0.0549,  0.4030],\n",
            "          [ 0.6325,  1.0418, -0.1714, -0.0565,  0.3985]],\n",
            "\n",
            "         [[ 0.1898, -0.2526, -0.5364, -0.1082, -0.0638],\n",
            "          [ 0.2640, -0.2445, -0.4745,  0.0314, -0.0518]]],\n",
            "\n",
            "\n",
            "        [[[ 0.1349,  0.2661,  0.4060, -0.7665,  0.3228],\n",
            "          [ 0.1176,  0.2799,  0.4120, -0.7633,  0.3138]],\n",
            "\n",
            "         [[-0.1049,  0.5962,  0.4207, -0.1633,  0.0994],\n",
            "          [-0.0370,  0.5661,  0.3875, -0.2173,  0.1541]]],\n",
            "\n",
            "\n",
            "        [[[ 0.7254,  0.1815, -0.2127, -0.6774, -0.0402],\n",
            "          [ 0.6175,  0.2022, -0.2714, -0.7690, -0.1315]],\n",
            "\n",
            "         [[ 0.2634,  1.0561,  0.2342, -0.0113, -0.3249],\n",
            "          [ 0.1488,  1.0474,  0.1238, -0.0444, -0.5193]]],\n",
            "\n",
            "\n",
            "        [[[ 0.3848, -0.5707, -0.3420, -0.5701,  0.1693],\n",
            "          [ 0.4190, -0.5570, -0.3668, -0.5683,  0.1985]],\n",
            "\n",
            "         [[ 0.9754, -0.0207, -0.1748,  0.1660,  0.2715],\n",
            "          [ 0.9695, -0.0241, -0.1852,  0.1613,  0.2639]]],\n",
            "\n",
            "\n",
            "        [[[ 0.4823,  0.7860, -0.2067, -0.1303, -0.1280],\n",
            "          [ 0.5047,  0.7910, -0.1862, -0.1172, -0.1185]],\n",
            "\n",
            "         [[-0.0617,  1.0280, -0.2093,  0.0674, -0.3582],\n",
            "          [-0.0469,  1.0256, -0.1955,  0.0840, -0.3555]]],\n",
            "\n",
            "\n",
            "        [[[ 0.1263,  0.1854,  0.1755, -0.4055,  0.3138],\n",
            "          [ 0.0844,  0.2315,  0.2246, -0.3642,  0.2945]],\n",
            "\n",
            "         [[ 0.5616,  0.2661, -0.3919,  0.0531, -0.2606],\n",
            "          [ 0.5855,  0.3139, -0.3546,  0.0245, -0.2613]]],\n",
            "\n",
            "\n",
            "        [[[ 0.6692,  0.2148, -0.1977, -0.1196, -0.1750],\n",
            "          [ 0.6883,  0.2578, -0.1848, -0.1744, -0.1690]],\n",
            "\n",
            "         [[ 0.4517, -0.2817, -0.7837, -0.2351, -0.1207],\n",
            "          [ 0.4126, -0.2421, -0.7989, -0.2406, -0.1756]]],\n",
            "\n",
            "\n",
            "        [[[ 0.4602,  0.3334,  0.0202, -0.2972,  0.0669],\n",
            "          [ 0.4068,  0.3752, -0.0170, -0.3365,  0.0125]],\n",
            "\n",
            "         [[ 0.7315,  0.0622,  0.0817, -0.2683, -0.4864],\n",
            "          [ 0.7194,  0.0622,  0.0751, -0.2770, -0.4980]]],\n",
            "\n",
            "\n",
            "        [[[ 0.8145,  0.7896, -0.3881, -0.2299, -0.3099],\n",
            "          [ 0.8271,  0.8082, -0.2527, -0.1902, -0.2179]],\n",
            "\n",
            "         [[ 0.3990,  0.4571, -0.1258, -0.1939, -0.0043],\n",
            "          [ 0.4859,  0.3946, -0.0329, -0.0859,  0.0680]]],\n",
            "\n",
            "\n",
            "        [[[ 0.6915, -0.0098, -0.2937, -0.3526,  0.4571],\n",
            "          [ 0.6856, -0.0015, -0.2987, -0.3544,  0.4434]],\n",
            "\n",
            "         [[ 0.2503,  0.5951, -0.5955, -0.0470, -0.0358],\n",
            "          [ 0.2477,  0.6189, -0.5642, -0.0485, -0.0391]]],\n",
            "\n",
            "\n",
            "        [[[ 0.8367,  0.6541,  0.2662,  0.0892,  0.0064],\n",
            "          [ 0.8372,  0.6593,  0.2713,  0.0777,  0.0213]],\n",
            "\n",
            "         [[-0.4137,  1.0857, -0.5375, -0.3275, -0.4228],\n",
            "          [ 0.0316,  1.0127, -0.1223,  0.1721, -0.3411]]]],\n",
            "       grad_fn=<UnsafeViewBackward0>)\n"
          ]
        }
      ]
    },
    {
      "cell_type": "code",
      "source": [
        "out = nn.Linear(embedding_dims,embedding_dims)"
      ],
      "metadata": {
        "id": "8uWW7eW4tVop"
      },
      "execution_count": null,
      "outputs": []
    },
    {
      "cell_type": "code",
      "source": [
        "print(attention_output.shape)"
      ],
      "metadata": {
        "colab": {
          "base_uri": "https://localhost:8080/"
        },
        "id": "gSIJ4hrGtef9",
        "outputId": "fd8ca8c5-15dc-422e-d190-898bfe4b4adf"
      },
      "execution_count": null,
      "outputs": [
        {
          "output_type": "stream",
          "name": "stdout",
          "text": [
            "torch.Size([13, 2, 2, 5])\n"
          ]
        }
      ]
    },
    {
      "cell_type": "code",
      "source": [
        "attention_output = attention_output.transpose(1,2)\n",
        "print(attention_output.shape)"
      ],
      "metadata": {
        "colab": {
          "base_uri": "https://localhost:8080/"
        },
        "id": "L1xJ0Kwztktx",
        "outputId": "c0c309e7-00e6-49ba-cf6e-16dd1152522e"
      },
      "execution_count": null,
      "outputs": [
        {
          "output_type": "stream",
          "name": "stdout",
          "text": [
            "torch.Size([13, 2, 2, 5])\n"
          ]
        }
      ]
    },
    {
      "cell_type": "code",
      "source": [
        "attention_output = attention_output.contiguous().view(batch_size,seq_len,embedding_dims)\n",
        "print(attention_output.shape)"
      ],
      "metadata": {
        "colab": {
          "base_uri": "https://localhost:8080/"
        },
        "id": "-G2jI9JKuX0V",
        "outputId": "16cd35d9-be38-4823-a3c1-24f7840a34fd"
      },
      "execution_count": null,
      "outputs": [
        {
          "output_type": "stream",
          "name": "stdout",
          "text": [
            "torch.Size([13, 2, 10])\n"
          ]
        }
      ]
    },
    {
      "cell_type": "code",
      "source": [
        "output = out(attention_output)\n",
        "print(output)"
      ],
      "metadata": {
        "colab": {
          "base_uri": "https://localhost:8080/"
        },
        "id": "RHAkINwsudUF",
        "outputId": "de04f9e3-8ba0-47ad-cffd-3f3f83cf932b"
      },
      "execution_count": null,
      "outputs": [
        {
          "output_type": "stream",
          "name": "stdout",
          "text": [
            "tensor([[[ 0.2770, -0.3724, -0.2015,  0.2981,  0.5481,  0.2110,  0.3156,\n",
            "          -0.0955, -0.3557, -0.1439],\n",
            "         [ 0.3578, -0.4293, -0.1163,  0.4709,  0.5876,  0.2046,  0.4244,\n",
            "          -0.1836, -0.2967, -0.1865]],\n",
            "\n",
            "        [[ 0.3541, -0.2868,  0.2289, -0.0073,  0.2257,  0.5655, -0.0317,\n",
            "          -0.0719, -0.3764, -0.3388],\n",
            "         [ 0.3566, -0.2560,  0.2317,  0.0471,  0.1968,  0.5455,  0.0023,\n",
            "          -0.0611, -0.3999, -0.3153]],\n",
            "\n",
            "        [[-0.1768, -0.0177,  0.4398, -0.1762,  0.4232,  0.0316, -0.2110,\n",
            "          -0.0034, -0.7643, -0.3337],\n",
            "         [-0.1675, -0.0236,  0.4538, -0.1937,  0.4083,  0.0689, -0.2031,\n",
            "          -0.0458, -0.7681, -0.3283]],\n",
            "\n",
            "        [[ 0.1064, -0.0757,  0.3175,  0.1002,  0.2057,  0.4786,  0.0867,\n",
            "          -0.1544, -0.1618, -0.2488],\n",
            "         [ 0.0760, -0.0658,  0.2758,  0.0495,  0.2048,  0.4729,  0.0517,\n",
            "          -0.1271, -0.1725, -0.2324]],\n",
            "\n",
            "        [[-0.0692,  0.0755,  0.4211,  0.1022, -0.0020,  0.5431, -0.0905,\n",
            "          -0.2791, -0.1647, -0.2299],\n",
            "         [-0.0701,  0.0337,  0.4633,  0.0908,  0.0626,  0.4989, -0.0864,\n",
            "          -0.2961, -0.0759, -0.2850]],\n",
            "\n",
            "        [[-0.3560,  0.2844, -0.1205, -0.4213, -0.0468,  0.3314, -0.0665,\n",
            "          -0.0610, -0.0974, -0.0606],\n",
            "         [-0.3643,  0.2947, -0.1071, -0.4102, -0.0466,  0.3225, -0.0739,\n",
            "          -0.0544, -0.1122, -0.0589]],\n",
            "\n",
            "        [[ 0.1761, -0.1466,  0.5048,  0.1373,  0.1737,  0.4263, -0.0823,\n",
            "          -0.1915, -0.4946, -0.3104],\n",
            "         [ 0.1795, -0.1476,  0.5101,  0.1420,  0.1702,  0.4282, -0.0754,\n",
            "          -0.1996, -0.5052, -0.3079]],\n",
            "\n",
            "        [[-0.0049, -0.1032,  0.1349, -0.1803,  0.2473,  0.2071,  0.1001,\n",
            "          -0.1161, -0.2355, -0.1087],\n",
            "         [ 0.0224, -0.1358,  0.1109, -0.1705,  0.2539,  0.2240,  0.1092,\n",
            "          -0.1291, -0.2465, -0.0919]],\n",
            "\n",
            "        [[-0.3183,  0.1163,  0.1711, -0.3849,  0.2081,  0.0109, -0.1302,\n",
            "          -0.0176, -0.3992, -0.3517],\n",
            "         [-0.3167,  0.1085,  0.2182, -0.3739,  0.2212,  0.0082, -0.1399,\n",
            "          -0.0221, -0.3883, -0.3674]],\n",
            "\n",
            "        [[-0.2206, -0.0679,  0.1088, -0.1227,  0.2844,  0.2049,  0.0378,\n",
            "          -0.3444, -0.2371, -0.1674],\n",
            "         [-0.2353, -0.0771,  0.1136, -0.1555,  0.3032,  0.2141,  0.0036,\n",
            "          -0.3471, -0.2193, -0.1864]],\n",
            "\n",
            "        [[-0.2682,  0.0892,  0.3696, -0.2299,  0.1349,  0.3869, -0.3948,\n",
            "          -0.1535, -0.5475, -0.3549],\n",
            "         [-0.2411,  0.0710,  0.3670, -0.2317,  0.1354,  0.4026, -0.3525,\n",
            "          -0.1829, -0.5914, -0.3292]],\n",
            "\n",
            "        [[-0.0570,  0.1773,  0.2669,  0.0182,  0.0119,  0.2228, -0.0328,\n",
            "           0.1056, -0.3909, -0.1103],\n",
            "         [-0.0530,  0.1729,  0.2671,  0.0259,  0.0102,  0.2364, -0.0347,\n",
            "           0.0954, -0.3875, -0.1104]],\n",
            "\n",
            "        [[ 0.3126, -0.1449,  0.5640,  0.3713,  0.1298,  0.2265,  0.1307,\n",
            "          -0.0506, -0.5693, -0.3295],\n",
            "         [ 0.2802, -0.1582,  0.5513,  0.2714,  0.0904,  0.3916,  0.1312,\n",
            "          -0.2599, -0.5873, -0.2725]]], grad_fn=<ViewBackward0>)\n"
          ]
        }
      ]
    },
    {
      "cell_type": "code",
      "source": [
        "# beta for scaling and gamma for shifting\n",
        "beta = torch.ones(embedding_dims)\n",
        "gamma = torch.zeros(embedding_dims)\n",
        "print(beta)\n",
        "print(gamma)"
      ],
      "metadata": {
        "colab": {
          "base_uri": "https://localhost:8080/"
        },
        "id": "cv-b2Pa8ujPL",
        "outputId": "2f9fcfad-5159-4efd-b526-56f49d421c51"
      },
      "execution_count": null,
      "outputs": [
        {
          "output_type": "stream",
          "name": "stdout",
          "text": [
            "tensor([1., 1., 1., 1., 1., 1., 1., 1., 1., 1.])\n",
            "tensor([0., 0., 0., 0., 0., 0., 0., 0., 0., 0.])\n"
          ]
        }
      ]
    },
    {
      "cell_type": "code",
      "source": [
        "mean = output.mean(dim=-1,keepdim=True)"
      ],
      "metadata": {
        "id": "_xOavUzsyOaM"
      },
      "execution_count": null,
      "outputs": []
    },
    {
      "cell_type": "code",
      "source": [
        "variance = output.var(dim=-1,keepdim=True,unbiased=False)"
      ],
      "metadata": {
        "id": "2OcBjcTWyePe"
      },
      "execution_count": null,
      "outputs": []
    },
    {
      "cell_type": "code",
      "source": [
        "eps = 1e-5"
      ],
      "metadata": {
        "id": "U_c5vo4xzJHw"
      },
      "execution_count": null,
      "outputs": []
    },
    {
      "cell_type": "code",
      "source": [
        "normalized = (output-mean)/torch.sqrt(variance + eps)"
      ],
      "metadata": {
        "id": "evzcdP-fzBkM"
      },
      "execution_count": null,
      "outputs": []
    },
    {
      "cell_type": "code",
      "source": [
        "output1 = (beta * normalized) + gamma\n",
        "print(output1)"
      ],
      "metadata": {
        "colab": {
          "base_uri": "https://localhost:8080/"
        },
        "id": "N5ZuD9BIzRFr",
        "outputId": "5feb4840-54c5-4174-d568-b070f20c0bcd"
      },
      "execution_count": null,
      "outputs": [
        {
          "output_type": "stream",
          "name": "stdout",
          "text": [
            "tensor([[[ 7.5347e-01, -1.3842e+00, -8.2153e-01,  8.2325e-01,  1.6460e+00,\n",
            "           5.3635e-01,  8.8067e-01, -4.7259e-01, -1.3294e+00, -6.3200e-01],\n",
            "         [ 7.9166e-01, -1.4784e+00, -5.7554e-01,  1.1181e+00,  1.4546e+00,\n",
            "           3.4986e-01,  9.8374e-01, -7.6974e-01, -1.0960e+00, -7.7823e-01]],\n",
            "\n",
            "        [[ 1.1015e+00, -1.0510e+00,  6.8099e-01, -1.1225e-01,  6.7020e-01,\n",
            "           1.8112e+00, -1.9430e-01, -3.2907e-01, -1.3518e+00, -1.2255e+00],\n",
            "         [ 1.1132e+00, -1.0058e+00,  6.8101e-01,  4.2626e-02,  5.6041e-01,\n",
            "           1.7663e+00, -1.1220e-01, -3.3153e-01, -1.5033e+00, -1.2108e+00]],\n",
            "\n",
            "        [[-2.9340e-01,  1.8322e-01,  1.5538e+00, -2.9166e-01,  1.5041e+00,\n",
            "           3.3081e-01, -3.9588e-01,  2.2617e-01, -2.0537e+00, -7.6342e-01],\n",
            "         [-2.6152e-01,  1.6829e-01,  1.5941e+00, -3.3975e-01,  1.4582e+00,\n",
            "           4.4446e-01, -3.6804e-01,  1.0180e-01, -2.0556e+00, -7.4200e-01]],\n",
            "\n",
            "        [[ 1.8776e-01, -6.4677e-01,  1.1552e+00,  1.5939e-01,  6.4295e-01,\n",
            "           1.8937e+00,  9.7595e-02, -1.0078e+00, -1.0416e+00, -1.4405e+00],\n",
            "         [ 1.0951e-01, -5.7548e-01,  1.0751e+00, -1.8151e-02,  7.3171e-01,\n",
            "           2.0271e+00, -7.5204e-03, -8.7129e-01, -1.0910e+00, -1.3800e+00]],\n",
            "\n",
            "        [[-3.9173e-01,  1.7608e-01,  1.5313e+00,  2.8048e-01, -1.2788e-01,\n",
            "           2.0101e+00, -4.7521e-01, -1.2151e+00, -7.6611e-01, -1.0219e+00],\n",
            "         [-4.0590e-01,  5.2099e-04,  1.6819e+00,  2.2401e-01,  1.1348e-01,\n",
            "           1.8215e+00, -4.6967e-01, -1.2905e+00, -4.2849e-01, -1.2468e+00]],\n",
            "\n",
            "        [[-1.3236e+00,  1.5538e+00, -2.6543e-01, -1.6171e+00,  6.5577e-02,\n",
            "           1.7651e+00, -2.2691e-02,  2.0708e-03, -1.6157e-01,  3.7482e-03],\n",
            "         [-1.3663e+00,  1.6026e+00, -2.0758e-01, -1.5727e+00,  6.5215e-02,\n",
            "           1.7276e+00, -5.8075e-02,  2.9964e-02, -2.3051e-01,  9.7564e-03]],\n",
            "\n",
            "        [[ 5.1740e-01, -5.4718e-01,  1.6016e+00,  3.8925e-01,  5.0948e-01,\n",
            "           1.3428e+00, -3.3506e-01, -6.9546e-01, -1.6952e+00, -1.0876e+00],\n",
            "         [ 5.2258e-01, -5.4523e-01,  1.6016e+00,  4.0013e-01,  4.9203e-01,\n",
            "           1.3343e+00, -3.0943e-01, -7.1511e-01, -1.7124e+00, -1.0684e+00]],\n",
            "\n",
            "        [[ 6.4907e-03, -6.0802e-01,  8.8033e-01, -1.0897e+00,  1.5826e+00,\n",
            "           1.3316e+00,  6.6285e-01, -6.8883e-01, -1.4352e+00, -6.4214e-01],\n",
            "         [ 1.6800e-01, -7.9037e-01,  7.0423e-01, -1.0000e+00,  1.5703e+00,\n",
            "           1.3892e+00,  6.9357e-01, -7.4972e-01, -1.4607e+00, -5.2450e-01]],\n",
            "\n",
            "        [[-9.1889e-01,  9.9412e-01,  1.2353e+00, -1.2121e+00,  1.3983e+00,\n",
            "           5.3031e-01, -9.0948e-02,  4.0481e-01, -1.2749e+00, -1.0659e+00],\n",
            "         [-9.0712e-01,  9.1679e-01,  1.3868e+00, -1.1521e+00,  1.4001e+00,\n",
            "           4.8633e-01, -1.4877e-01,  3.5633e-01, -1.2142e+00, -1.1242e+00]],\n",
            "\n",
            "        [[-8.6306e-01, -7.9245e-02,  8.2720e-01, -3.6049e-01,  1.7279e+00,\n",
            "           1.3202e+00,  4.6282e-01, -1.4978e+00, -9.4763e-01, -5.8987e-01],\n",
            "         [-8.7784e-01, -9.1628e-02,  8.5560e-01, -4.8133e-01,  1.7974e+00,\n",
            "           1.3547e+00,  3.0909e-01, -1.4330e+00, -7.9828e-01, -6.3474e-01]],\n",
            "\n",
            "        [[-5.5635e-01,  6.0388e-01,  1.5143e+00, -4.3213e-01,  7.5229e-01,\n",
            "           1.5705e+00, -9.6731e-01, -1.8414e-01, -1.4631e+00, -8.3791e-01],\n",
            "         [-4.7134e-01,  5.3747e-01,  1.4943e+00, -4.4092e-01,  7.4561e-01,\n",
            "           1.6093e+00, -8.3150e-01, -2.8315e-01, -1.6036e+00, -7.5616e-01]],\n",
            "\n",
            "        [[-4.3125e-01,  8.6103e-01,  1.3549e+00, -1.6385e-02, -5.0991e-02,\n",
            "           1.1118e+00, -2.9736e-01,  4.6568e-01, -2.2726e+00, -7.2477e-01],\n",
            "         [-4.1491e-01,  8.3145e-01,  1.3509e+00,  2.0161e-02, -6.6448e-02,\n",
            "           1.1817e+00, -3.1398e-01,  4.0351e-01, -2.2606e+00, -7.3183e-01]],\n",
            "\n",
            "        [[ 7.6565e-01, -6.4345e-01,  1.5398e+00,  9.4623e-01,  2.0234e-01,\n",
            "           5.0034e-01,  2.0520e-01, -3.5325e-01, -1.9507e+00, -1.2122e+00],\n",
            "         [ 7.0399e-01, -6.0176e-01,  1.5113e+00,  6.7777e-01,  1.3882e-01,\n",
            "           1.0358e+00,  2.6014e-01, -9.0461e-01, -1.8795e+00, -9.4202e-01]]],\n",
            "       grad_fn=<AddBackward0>)\n"
          ]
        }
      ]
    },
    {
      "cell_type": "code",
      "source": [
        "# transformer block:\n",
        "# 1. self attention mechanism\n",
        "# 2. layer normalization\n",
        "# 3. dropout\n",
        "# 4. feed forward network: -> linear transformation, relu activation and again linear transformation.\n",
        "# 5. layer normalization\n",
        "# 6. dropout"
      ],
      "metadata": {
        "id": "p2zFsvpXzgGg"
      },
      "execution_count": null,
      "outputs": []
    },
    {
      "cell_type": "code",
      "source": [
        "# custom entropy loss function process:\n",
        "1. calculate the log s0ftmax values\n",
        "suppose   matrix = [[1,2,3]\n",
        "                    [4,5,6]]\n",
        "targets = [0,1]      each row corresponds to each word.\n",
        "first row  = [1,2,3]\n",
        "second row = [4,5,6]\n",
        "log_softmax of row1 = row1 - log(row1)\n",
        "log_softmax of row2 = row2 - log(row2)\n",
        "sum = log_softmaxrow1[0] + log_softmax_row2[1]\n",
        "sum = -sum\n",
        "loss value = sum/batch_size   where batch_size = 2\n",
        "loss value = sum/2"
      ],
      "metadata": {
        "id": "MltztULS2_My"
      },
      "execution_count": null,
      "outputs": []
    },
    {
      "cell_type": "code",
      "source": [
        "predictions = torch.tensor([[2.0, 1.0, 0.5, 0.3, 0.2],\n",
        "                            [1.5, 2.1, 0.8, 0.6, 0.5],\n",
        "                            [0.5, 1.0, 1.5, 2.0, 0.5],\n",
        "                            [0.3, 0.5, 0.7, 1.0, 2.5]], dtype=torch.float32)"
      ],
      "metadata": {
        "id": "dN-_GDgD_mBY"
      },
      "execution_count": null,
      "outputs": []
    },
    {
      "cell_type": "code",
      "source": [
        "targets = torch.tensor([1, 2, 3, 4], dtype=torch.long)"
      ],
      "metadata": {
        "id": "oZlDrEx7AMXo"
      },
      "execution_count": null,
      "outputs": []
    },
    {
      "cell_type": "code",
      "source": [
        "log_softmax = torch.log_softmax(predictions, dim=-1)\n",
        "print(log_softmax)"
      ],
      "metadata": {
        "colab": {
          "base_uri": "https://localhost:8080/"
        },
        "id": "7wcPa4DrAP2z",
        "outputId": "8c00770f-e7c3-44d1-ba17-262d60e2ecba"
      },
      "execution_count": null,
      "outputs": [
        {
          "output_type": "stream",
          "name": "stdout",
          "text": [
            "tensor([[-0.6622, -1.6622, -2.1622, -2.3622, -2.4622],\n",
            "        [-1.4093, -0.8093, -2.1093, -2.3093, -2.4093],\n",
            "        [-2.3840, -1.8840, -1.3840, -0.8840, -2.3840],\n",
            "        [-2.6914, -2.4914, -2.2914, -1.9914, -0.4914]])\n"
          ]
        }
      ]
    },
    {
      "cell_type": "code",
      "source": [
        "selected_logsoftmax = log_softmax[range(4),targets]\n",
        "print(selected_logsoftmax)"
      ],
      "metadata": {
        "colab": {
          "base_uri": "https://localhost:8080/"
        },
        "id": "D55Ujwc_AWHH",
        "outputId": "cd248e63-7784-41a0-97b8-524143cd12ef"
      },
      "execution_count": null,
      "outputs": [
        {
          "output_type": "stream",
          "name": "stdout",
          "text": [
            "tensor([-1.6622, -2.1093, -0.8840, -0.4914])\n"
          ]
        }
      ]
    },
    {
      "cell_type": "code",
      "source": [
        "sum = sum(selected_logsoftmax)\n",
        "print(sum)"
      ],
      "metadata": {
        "colab": {
          "base_uri": "https://localhost:8080/"
        },
        "id": "BC1ylj-GA-9B",
        "outputId": "f64c5c67-88d7-48c7-e24b-90b7eef02700"
      },
      "execution_count": null,
      "outputs": [
        {
          "output_type": "stream",
          "name": "stdout",
          "text": [
            "tensor(-5.1469)\n"
          ]
        }
      ]
    },
    {
      "cell_type": "code",
      "source": [
        "sum = -sum\n",
        "print(sum)"
      ],
      "metadata": {
        "colab": {
          "base_uri": "https://localhost:8080/"
        },
        "id": "MwXmEOoaBJHv",
        "outputId": "1d65b075-01ee-4ca6-a732-7d371e4a3671"
      },
      "execution_count": null,
      "outputs": [
        {
          "output_type": "stream",
          "name": "stdout",
          "text": [
            "tensor(5.1469)\n"
          ]
        }
      ]
    },
    {
      "cell_type": "code",
      "source": [
        "loss = sum/4\n",
        "print(loss)"
      ],
      "metadata": {
        "colab": {
          "base_uri": "https://localhost:8080/"
        },
        "id": "iZa6LuyVBLec",
        "outputId": "1e7509e2-ce8a-4ca8-de2c-14acda6b9705"
      },
      "execution_count": null,
      "outputs": [
        {
          "output_type": "stream",
          "name": "stdout",
          "text": [
            "tensor(1.2867)\n"
          ]
        }
      ]
    },
    {
      "cell_type": "code",
      "source": [
        "# for matrix: to get the an element from each rows\n",
        "suppose x is a matrix\n",
        "targets = [1,2,3]   and x is a 3 x 4 matrix"
      ],
      "metadata": {
        "id": "V7QN4K4-B7dX"
      },
      "execution_count": null,
      "outputs": []
    },
    {
      "cell_type": "code",
      "source": [
        "to get list of 1st element from 1st row, and 2nd element from 2nd row and 3rd element from 3rd row.\n",
        "set range as 3 since u need 3 elements\n",
        "formula:    list = matrix[range(len(targets)),targets]"
      ],
      "metadata": {
        "id": "5ISh1Ft1CZ1T"
      },
      "execution_count": null,
      "outputs": []
    },
    {
      "cell_type": "code",
      "source": [
        "# learning rate scheduler:\n",
        "initial learning rate = 0.0001\n",
        "warmup steps are gradually increase the learning rate to the initial learing rate for  gradient stability.\n",
        "they gradually increase from 0 to 0.0001\n",
        "so lets say warm up steps =  5\n",
        "so till 5 epoch the learning rate does not reach 0.0001\n",
        "but between 0 to 0.0001\n",
        "-> if current epoch is less than warmup steps\n",
        "then lr = current epoch/warmup steps * initial learning rate\n",
        "else if current epoch is equal to or greater than warmup steps\n",
        "set gamma value as 0.5 or something\n",
        "lr = initial learning rate * gamma**((current epoch - warmup_Steps)//step_size)\n",
        "gamma determines how much u are going to reduce the learning rate.\n",
        "0.5 is the most common used value for most of the cases."
      ],
      "metadata": {
        "id": "J8EL6YxPDGMe"
      },
      "execution_count": null,
      "outputs": []
    },
    {
      "cell_type": "code",
      "source": [
        "import torch"
      ],
      "metadata": {
        "id": "RzTyIIUUs0Zb"
      },
      "execution_count": null,
      "outputs": []
    },
    {
      "cell_type": "code",
      "source": [
        "print(torch.rand(1).item())"
      ],
      "metadata": {
        "colab": {
          "base_uri": "https://localhost:8080/"
        },
        "id": "5676QChtuHWI",
        "outputId": "c9356179-1a53-4ba5-a306-67f3293a523e"
      },
      "execution_count": null,
      "outputs": [
        {
          "output_type": "stream",
          "name": "stdout",
          "text": [
            "0.4200630187988281\n"
          ]
        }
      ]
    },
    {
      "cell_type": "code",
      "source": [
        "# stocahstic depth:\n",
        "skips a layer if the random probability value is greater than p\n",
        "else applies the layer transformation to the input.\n",
        "also if not in training mode, it applies layer transformation."
      ],
      "metadata": {
        "id": "U6NXHc-JyOG0"
      },
      "execution_count": null,
      "outputs": []
    },
    {
      "cell_type": "code",
      "source": [
        "# custom adam optimizer:\n",
        "-> exponential avg refers to the smoothening of the gradient flow\n",
        "-> exponential avg square refers to how much the gradient torch.channel_shuffle\n",
        "-> first initialize the expavg and expavgsq to 0\n",
        "-> update the step count by 1\n",
        "-> calculate the exp avg  and expavgsq\n",
        "-> compute the bias correction estimate\n",
        "-> update the parameter p using rhe calculates step size\n",
        "                       example:\n",
        "parameter p = 0.5'\n",
        "gardient g = 0.1\n",
        "learning rate n = 0.01\n",
        "b1 = 0.9 (beta)\n",
        "b2 = 0.999 (beta)\n",
        "e = 1 * (10**-8)\n",
        "exp_avg = 0\n",
        "exp_avg_sq = 0\n",
        "t = 0\n",
        "-> update the step count by 1  ( t by 1)\n",
        "so t = 1\n",
        "-> calculate the first moment estimate(exp_avg):\n",
        "   (beta1  * first moment estimate) + (1-beta1) * gradient\n",
        "-> calculate the second moment estimate(exp_avg_sq):\n",
        "   (beta2 * second moment estimate) + (1- beta2)* gradient**2\n",
        "-> calculate the bias correction estimate:\n",
        "   bias1 = (first moment estimate) / (1 - beat1**t)\n",
        "   bias2 = (second moment estimate) / (1 - beta2**t)\n",
        "-> update the parameter p:\n",
        "   p1 = p -\n",
        "\n"
      ],
      "metadata": {
        "id": "afBKV9nl3o5k"
      },
      "execution_count": null,
      "outputs": []
    }
  ]
}