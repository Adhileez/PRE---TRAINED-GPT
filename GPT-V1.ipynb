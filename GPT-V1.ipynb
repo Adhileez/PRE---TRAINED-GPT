{
  "nbformat": 4,
  "nbformat_minor": 0,
  "metadata": {
    "colab": {
      "provenance": [],
      "machine_shape": "hm",
      "gpuType": "T4"
    },
    "kernelspec": {
      "name": "python3",
      "display_name": "Python 3"
    },
    "language_info": {
      "name": "python"
    },
    "accelerator": "GPU"
  },
  "cells": [
    {
      "cell_type": "code",
      "execution_count": 1,
      "metadata": {
        "id": "u3EJeyKWxi2R"
      },
      "outputs": [],
      "source": [
        "import math\n",
        "import urllib.request\n",
        "import torch\n",
        "import torch.nn as nn\n",
        "from torch.nn import functional as F"
      ]
    },
    {
      "cell_type": "code",
      "source": [
        "batch_size = 64\n",
        "block_size = 256\n",
        "max_iters = 5000\n",
        "eval_interval = 500\n",
        "learning_rate = 3e-4\n",
        "device = 'cuda' if torch.cuda.is_available() else 'cpu'\n",
        "eval_iters = 200\n",
        "n_embd = 384\n",
        "n_head = 6\n",
        "n_layer = 6\n",
        "dropout = 0.2"
      ],
      "metadata": {
        "id": "kVCqDhUyxp08"
      },
      "execution_count": 2,
      "outputs": []
    },
    {
      "cell_type": "code",
      "source": [
        "torch.manual_seed(1337)"
      ],
      "metadata": {
        "colab": {
          "base_uri": "https://localhost:8080/"
        },
        "id": "HLVcsnP7xvUY",
        "outputId": "fa08ee2d-4c85-4c03-d3ca-27fd316e10b5"
      },
      "execution_count": 3,
      "outputs": [
        {
          "output_type": "execute_result",
          "data": {
            "text/plain": [
              "<torch._C.Generator at 0x7b6ed9f84890>"
            ]
          },
          "metadata": {},
          "execution_count": 3
        }
      ]
    },
    {
      "cell_type": "code",
      "source": [
        "# Download the dataset\n",
        "url = \"https://raw.githubusercontent.com/karpathy/char-rnn/master/data/tinyshakespeare/input.txt\"\n",
        "response = urllib.request.urlopen(url)\n",
        "text = response.read().decode('utf-8')\n"
      ],
      "metadata": {
        "id": "_aiPbwwdx0s1"
      },
      "execution_count": 4,
      "outputs": []
    },
    {
      "cell_type": "code",
      "source": [
        "chars = sorted(list(set(text)))\n",
        "vocab_size = len(chars)\n",
        "stoi = { ch:i for i,ch in enumerate(chars) }\n",
        "itos = { i:ch for i,ch in enumerate(chars) }\n",
        "encode = lambda s: [stoi[c] for c in s]\n",
        "decode = lambda l: ''.join([itos[i] for i in l])"
      ],
      "metadata": {
        "id": "3espP4U8x4eR"
      },
      "execution_count": 5,
      "outputs": []
    },
    {
      "cell_type": "code",
      "source": [
        "data = torch.tensor(encode(text), dtype=torch.long)\n",
        "n = int(0.9*len(data))\n",
        "train_data = data[:n]\n",
        "val_data = data[n:]"
      ],
      "metadata": {
        "id": "t_SLhd_lx7ja"
      },
      "execution_count": 6,
      "outputs": []
    },
    {
      "cell_type": "code",
      "source": [
        "def get_batch(split):\n",
        "    data = train_data if split == 'train' else val_data\n",
        "    ix = torch.randint(len(data) - block_size, (batch_size,))\n",
        "    x = torch.stack([data[i:i+block_size] for i in ix])\n",
        "    y = torch.stack([data[i+1:i+block_size+1] for i in ix])\n",
        "    x, y = x.to(device), y.to(device)\n",
        "    return x, y\n"
      ],
      "metadata": {
        "id": "S2wHtibrx_Iu"
      },
      "execution_count": 7,
      "outputs": []
    },
    {
      "cell_type": "code",
      "source": [
        "@torch.no_grad()\n",
        "def estimate_loss():\n",
        "    out = {}\n",
        "    model.eval()\n",
        "    for split in ['train', 'val']:\n",
        "        losses = torch.zeros(eval_iters)\n",
        "        for k in range(eval_iters):\n",
        "            X, Y = get_batch(split)\n",
        "            logits, loss = model(X, Y)\n",
        "            losses[k] = loss.item()\n",
        "        out[split] = losses.mean()\n",
        "    model.train()\n",
        "    return out"
      ],
      "metadata": {
        "id": "wrFD3K4ZyCBQ"
      },
      "execution_count": 8,
      "outputs": []
    },
    {
      "cell_type": "code",
      "source": [
        "class MultiHeadAttention(nn.Module):\n",
        "    def __init__(self, n_embd, num_heads, dropout):\n",
        "        super().__init__()\n",
        "        self.num_heads = num_heads\n",
        "        self.head_size = n_embd // num_heads\n",
        "\n",
        "        self.key = nn.Linear(n_embd, n_embd, bias=False)\n",
        "        self.query = nn.Linear(n_embd, n_embd, bias=False)\n",
        "        self.value = nn.Linear(n_embd, n_embd, bias=False)\n",
        "        self.proj = nn.Linear(n_embd, n_embd)\n",
        "        self.dropout = nn.Dropout(dropout)\n",
        "        self.register_buffer('tril', torch.tril(torch.ones(block_size, block_size)))\n",
        "\n",
        "    def forward(self, x):\n",
        "        B, T, C = x.shape\n",
        "        H = self.num_heads\n",
        "        head_size = self.head_size\n",
        "\n",
        "        k = self.key(x).view(B, T, H, head_size).transpose(1, 2)   # (B, T, C) -> (B, H, T, head_size)\n",
        "        q = self.query(x).view(B, T, H, head_size).transpose(1, 2) # (B, T, C) -> (B, H, T, head_size)\n",
        "        v = self.value(x).view(B, T, H, head_size).transpose(1, 2) # (B, T, C) -> (B, H, T, head_size)\n",
        "\n",
        "        wei = q @ k.transpose(-2, -1) * head_size**-0.5  # (B, H, T, head_size) @ (B, H, head_size, T) -> (B, H, T, T)\n",
        "        wei = wei.masked_fill(self.tril[:T, :T] == 0, float('-inf'))\n",
        "        wei = F.softmax(wei, dim=-1)\n",
        "        wei = self.dropout(wei)\n",
        "\n",
        "        out = wei @ v  # (B, H, T, T) @ (B, H, T, head_size) -> (B, H, T, head_size)\n",
        "        out = out.transpose(1, 2).contiguous().view(B, T, H * head_size)  # (B, H, T, head_size) -> (B, T, C)\n",
        "\n",
        "        return self.dropout(self.proj(out))"
      ],
      "metadata": {
        "id": "g9ejRJgByFD_"
      },
      "execution_count": 9,
      "outputs": []
    },
    {
      "cell_type": "code",
      "source": [
        "class FeedForward(nn.Module):\n",
        "    def __init__(self, n_embd, dropout):\n",
        "        super().__init__()\n",
        "        self.net = nn.Sequential(\n",
        "            nn.Linear(n_embd, 4 * n_embd),\n",
        "            nn.ReLU(),\n",
        "            nn.Linear(4 * n_embd, n_embd),\n",
        "            nn.Dropout(dropout),\n",
        "        )\n",
        "\n",
        "    def forward(self, x):\n",
        "        return self.net(x)"
      ],
      "metadata": {
        "id": "uSr3UYGpyKRk"
      },
      "execution_count": 10,
      "outputs": []
    },
    {
      "cell_type": "code",
      "source": [
        "class Block(nn.Module):\n",
        "    def __init__(self, n_embd, n_head, dropout):\n",
        "        super().__init__()\n",
        "        self.sa = MultiHeadAttention(n_embd, n_head, dropout)\n",
        "        self.ffwd = FeedForward(n_embd, dropout)\n",
        "        self.ln1 = nn.LayerNorm(n_embd)\n",
        "        self.ln2 = nn.LayerNorm(n_embd)\n",
        "\n",
        "    def forward(self, x):\n",
        "        x = x + self.sa(self.ln1(x))\n",
        "        x = x + self.ffwd(self.ln2(x))\n",
        "        return x\n"
      ],
      "metadata": {
        "id": "FtLw3fpjyM_X"
      },
      "execution_count": 11,
      "outputs": []
    },
    {
      "cell_type": "code",
      "source": [
        "class GPTLanguageModel(nn.Module):\n",
        "    def __init__(self):\n",
        "        super().__init__()\n",
        "        self.token_embedding_table = nn.Embedding(vocab_size, n_embd)\n",
        "        self.position_embedding_table = nn.Embedding(block_size, n_embd)\n",
        "        self.blocks = nn.Sequential(*[Block(n_embd, n_head, dropout) for _ in range(n_layer)])\n",
        "        self.ln_f = nn.LayerNorm(n_embd)\n",
        "        self.lm_head = nn.Linear(n_embd, vocab_size)\n",
        "\n",
        "        self.apply(self._init_weights)\n",
        "\n",
        "    def _init_weights(self, module):\n",
        "        if isinstance(module, nn.Linear):\n",
        "            torch.nn.init.normal_(module.weight, mean=0.0, std=0.02)\n",
        "            if module.bias is not None:\n",
        "                torch.nn.init.zeros_(module.bias)\n",
        "        elif isinstance(module, nn.Embedding):\n",
        "            torch.nn.init.normal_(module.weight, mean=0.0, std=0.02)\n",
        "\n",
        "    def forward(self, idx, targets=None):\n",
        "        B, T = idx.shape\n",
        "        tok_emb = self.token_embedding_table(idx)\n",
        "        pos_emb = self.position_embedding_table(torch.arange(T, device=device))\n",
        "        x = tok_emb + pos_emb\n",
        "        x = self.blocks(x)\n",
        "        x = self.ln_f(x)\n",
        "        logits = self.lm_head(x)\n",
        "\n",
        "        if targets is None:\n",
        "            loss = None\n",
        "        else:\n",
        "            B, T, C = logits.shape\n",
        "            logits = logits.view(B*T, C)\n",
        "            targets = targets.view(B*T)\n",
        "            loss = F.cross_entropy(logits, targets)\n",
        "\n",
        "        return logits, loss\n",
        "\n",
        "    def generate(self, idx, max_new_tokens):\n",
        "        for _ in range(max_new_tokens):\n",
        "            idx_cond = idx[:, -block_size:]\n",
        "            logits, loss = self(idx_cond)\n",
        "            logits = logits[:, -1, :]\n",
        "            probs = F.softmax(logits, dim=-1)\n",
        "            idx_next = torch.multinomial(probs, num_samples=1)\n",
        "            idx = torch.cat((idx, idx_next), dim=1)\n",
        "        return idx\n"
      ],
      "metadata": {
        "id": "sN-SXt5byRGo"
      },
      "execution_count": 12,
      "outputs": []
    },
    {
      "cell_type": "code",
      "source": [
        "class CustomAdamW:\n",
        "    def __init__(self, params, lr=1e-3, betas=(0.9, 0.999), eps=1e-8, weight_decay=0.01):\n",
        "        if not isinstance(params, (list, tuple)):\n",
        "            params = [params]\n",
        "        self.param_groups = [{'params': p, 'lr': lr, 'betas': betas, 'eps': eps, 'weight_decay': weight_decay} for p in params]\n",
        "        self.state = {}\n",
        "\n",
        "        for group in self.param_groups:\n",
        "            for p in group['params']:\n",
        "                if p.requires_grad:\n",
        "                    self.state[p] = {'step': 0, 'exp_avg': torch.zeros_like(p), 'exp_avg_sq': torch.zeros_like(p)}\n",
        "\n",
        "    def step(self):\n",
        "        for group in self.param_groups:\n",
        "            for p in group['params']:\n",
        "                if p.grad is None:\n",
        "                    continue\n",
        "\n",
        "                state = self.state[p]\n",
        "                exp_avg, exp_avg_sq = state['exp_avg'], state['exp_avg_sq']\n",
        "                beta1, beta2 = group['betas']\n",
        "\n",
        "                state['step'] += 1\n",
        "                step = state['step']\n",
        "\n",
        "                # Apply weight decay\n",
        "                if group['weight_decay'] != 0:\n",
        "                    p.data = p.data - group['lr'] * group['weight_decay'] * p.data\n",
        "\n",
        "                # Compute first and second moment estimates\n",
        "                exp_avg.mul_(beta1).add_(1 - beta1, p.grad)\n",
        "                exp_avg_sq.mul_(beta2).addcmul_(1 - beta2, p.grad, p.grad)\n",
        "\n",
        "                # Bias correction\n",
        "                bias_correction1 = 1 - beta1 ** step\n",
        "                bias_correction2 = 1 - beta2 ** step\n",
        "                corrected_exp_avg = exp_avg / bias_correction1\n",
        "                corrected_exp_avg_sq = exp_avg_sq / bias_correction2\n",
        "\n",
        "                # Update parameters\n",
        "                denom = (corrected_exp_avg_sq.sqrt() + group['eps'])\n",
        "                step_size = group['lr'] / denom\n",
        "                p.data.addcdiv_(-step_size, corrected_exp_avg)\n",
        "\n",
        "    def zero_grad(self):\n",
        "        for group in self.param_groups:\n",
        "            for p in group['params']:\n",
        "                if p.grad is not None:\n",
        "                    p.grad.detach_()\n",
        "                    p.grad.zero_()\n"
      ],
      "metadata": {
        "id": "bKepQUg3yU1i"
      },
      "execution_count": 13,
      "outputs": []
    },
    {
      "cell_type": "code",
      "source": [
        "class CustomStepLR:\n",
        "    def __init__(self, optimizer, step_size, gamma=0.1):\n",
        "        self.optimizer = optimizer\n",
        "        self.step_size = step_size\n",
        "        self.gamma = gamma\n",
        "        self.last_epoch = -1\n",
        "\n",
        "    def step(self):\n",
        "        self.last_epoch += 1\n",
        "        if self.last_epoch % self.step_size == 0:\n",
        "            for param_group in self.optimizer.param_groups:\n",
        "                param_group['lr'] *= self.gamma\n"
      ],
      "metadata": {
        "id": "aGngzjK7ycn3"
      },
      "execution_count": 14,
      "outputs": []
    },
    {
      "cell_type": "code",
      "source": [
        "\n",
        "model = GPTLanguageModel()\n",
        "m = model.to(device)\n",
        "# print the number of parameters in the model\n",
        "print(sum(p.numel() for p in m.parameters())/1e6, 'M parameters')"
      ],
      "metadata": {
        "colab": {
          "base_uri": "https://localhost:8080/"
        },
        "id": "HbNqLWDmyx9h",
        "outputId": "c2e3a32d-bdba-4d95-bb33-f0d984c71720"
      },
      "execution_count": 16,
      "outputs": [
        {
          "output_type": "stream",
          "name": "stdout",
          "text": [
            "10.788929 M parameters\n"
          ]
        }
      ]
    },
    {
      "cell_type": "code",
      "source": [
        "optimizer = torch.optim.AdamW(model.parameters(), lr=learning_rate)\n",
        "scheduler = torch.optim.lr_scheduler.StepLR(optimizer, step_size=1000, gamma=0.1)"
      ],
      "metadata": {
        "id": "jXEYNn7kygE6"
      },
      "execution_count": 20,
      "outputs": []
    },
    {
      "cell_type": "code",
      "source": [
        "clip_value = 1.0"
      ],
      "metadata": {
        "id": "d0VUWnf4y0W4"
      },
      "execution_count": 18,
      "outputs": []
    },
    {
      "cell_type": "code",
      "source": [
        "for iter in range(max_iters):\n",
        "    if iter % eval_interval == 0 or iter == max_iters - 1:\n",
        "        losses = estimate_loss()\n",
        "        print(f\"step {iter}: train loss {losses['train']:.4f}, val loss {losses['val']:.4f}\")\n",
        "\n",
        "    xb, yb = get_batch('train')\n",
        "    logits, loss = model(xb, yb)\n",
        "    optimizer.zero_grad()\n",
        "    loss.backward()\n",
        "\n",
        "    # Clip gradients\n",
        "    torch.nn.utils.clip_grad_norm_(model.parameters(), clip_value)\n",
        "\n",
        "    optimizer.step()\n",
        "    scheduler.step()"
      ],
      "metadata": {
        "colab": {
          "base_uri": "https://localhost:8080/"
        },
        "id": "R7qhC017y587",
        "outputId": "05c623e7-ea39-467a-85f0-f26a560ddc53"
      },
      "execution_count": 21,
      "outputs": [
        {
          "output_type": "stream",
          "name": "stdout",
          "text": [
            "step 0: train loss 4.2985, val loss 4.3038\n",
            "step 500: train loss 1.6939, val loss 1.8474\n",
            "step 1000: train loss 1.3716, val loss 1.5926\n",
            "step 1500: train loss 1.3043, val loss 1.5437\n",
            "step 2000: train loss 1.2825, val loss 1.5307\n",
            "step 2500: train loss 1.2730, val loss 1.5252\n",
            "step 3000: train loss 1.2715, val loss 1.5250\n",
            "step 3500: train loss 1.2729, val loss 1.5260\n",
            "step 4000: train loss 1.2697, val loss 1.5258\n",
            "step 4500: train loss 1.2699, val loss 1.5283\n",
            "step 4999: train loss 1.2696, val loss 1.5251\n"
          ]
        }
      ]
    },
    {
      "cell_type": "code",
      "source": [
        "\n",
        "context = torch.zeros((1, 1), dtype=torch.long, device=device)\n",
        "print(decode(m.generate(context, max_new_tokens=500)[0].tolist()))"
      ],
      "metadata": {
        "colab": {
          "base_uri": "https://localhost:8080/"
        },
        "id": "FNcmLtaSHj5C",
        "outputId": "08c27381-7396-49db-a222-772fb982f8a8"
      },
      "execution_count": 22,
      "outputs": [
        {
          "output_type": "stream",
          "name": "stdout",
          "text": [
            "\n",
            "Murder:\n",
            "Let to our battle straiveful fall it\n",
            "In make dispisit us me with this surm,\n",
            "Bless to any upon of eyes. Your lad chekely, sleep,\n",
            "The gransfiers thy busicine,\n",
            "And would hear to aid, stirry understary,\n",
            "And suched sup to curse, her usury. Who your destricke\n",
            "And is beast, my sote; she hark dost shose us.\n",
            "An yet my trude hearting iT in thy hand mercum,\n",
            "Both gone! My tale remains iscenate;\n",
            "That acting friends the sting hardly et,\n",
            "As alous they broughtments Sheupts captuant.\n",
            "He turn else pass no\n"
          ]
        }
      ]
    }
  ]
}